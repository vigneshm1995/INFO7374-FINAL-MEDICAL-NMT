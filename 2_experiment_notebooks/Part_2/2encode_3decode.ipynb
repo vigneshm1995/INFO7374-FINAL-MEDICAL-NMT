{
  "nbformat": 4,
  "nbformat_minor": 0,
  "metadata": {
    "colab": {
      "name": "2encode_3decode.ipynb",
      "version": "0.3.2",
      "provenance": [],
      "collapsed_sections": [],
      "toc_visible": true
    },
    "kernelspec": {
      "name": "python3",
      "display_name": "Python 3"
    },
    "accelerator": "GPU"
  },
  "cells": [
    {
      "metadata": {
        "id": "KRY7p4ztLsqa",
        "colab_type": "code",
        "colab": {}
      },
      "cell_type": "code",
      "source": [
        "import tensorflow as tf\n",
        "import codecs\n",
        "import sys\n",
        "import numpy as np\n",
        "import time"
      ],
      "execution_count": 0,
      "outputs": []
    },
    {
      "metadata": {
        "id": "iw_AUtbWL2ht",
        "colab_type": "text"
      },
      "cell_type": "markdown",
      "source": [
        "## create vocabulary"
      ]
    },
    {
      "metadata": {
        "id": "fx2wGEtNLzQr",
        "colab_type": "code",
        "colab": {}
      },
      "cell_type": "code",
      "source": [
        "NUM_SENT = 50000"
      ],
      "execution_count": 0,
      "outputs": []
    },
    {
      "metadata": {
        "id": "a0jwKGGsL9Bn",
        "colab_type": "code",
        "colab": {}
      },
      "cell_type": "code",
      "source": [
        "src_path = 'en_clean.txt'\n",
        "tgt_path = 'fr_clean.txt'"
      ],
      "execution_count": 0,
      "outputs": []
    },
    {
      "metadata": {
        "id": "3M8qd-7nMLmf",
        "colab_type": "code",
        "colab": {}
      },
      "cell_type": "code",
      "source": [
        "def read_train_data(txt_path, num_examples):\n",
        "  text = []\n",
        "  with open(txt_path, 'r', encoding=\"utf-8\") as f:\n",
        "    for line in f.readlines():\n",
        "      line = line[7:-6]\n",
        "      text.append(line.strip('\\n'))\n",
        "    return text[:num_examples]"
      ],
      "execution_count": 0,
      "outputs": []
    },
    {
      "metadata": {
        "id": "7ZRJCw0zMO20",
        "colab_type": "code",
        "colab": {}
      },
      "cell_type": "code",
      "source": [
        "src = read_train_data(src_path, NUM_SENT)\n",
        "tgt = read_train_data(tgt_path, NUM_SENT)"
      ],
      "execution_count": 0,
      "outputs": []
    },
    {
      "metadata": {
        "id": "9LBG7RJyMSDW",
        "colab_type": "code",
        "colab": {}
      },
      "cell_type": "code",
      "source": [
        "def read_test_data(txt_path, num_examples = 400):\n",
        "  text = []\n",
        "  with open(txt_path, 'r', encoding=\"utf-8\") as f:\n",
        "    for line in f.readlines():\n",
        "      line = line[7:-6]\n",
        "      text.append(line.strip('\\n'))\n",
        "    return text[-num_examples:]"
      ],
      "execution_count": 0,
      "outputs": []
    },
    {
      "metadata": {
        "id": "bqN2mffEMayR",
        "colab_type": "code",
        "colab": {}
      },
      "cell_type": "code",
      "source": [
        "src_test = read_test_data(src_path)\n",
        "tgt_test = read_test_data(tgt_path)"
      ],
      "execution_count": 0,
      "outputs": []
    },
    {
      "metadata": {
        "id": "fqi-Dc0GMhEW",
        "colab_type": "code",
        "outputId": "96e822e2-91e8-4e85-ae62-289969b3cc94",
        "colab": {
          "base_uri": "https://localhost:8080/",
          "height": 51
        }
      },
      "cell_type": "code",
      "source": [
        "print('size of number of source sentences from dataset for training: {}'.format(len(src)))\n",
        "print('size of number of target sentences from dataset for training: {}'.format(len(tgt)))"
      ],
      "execution_count": 9,
      "outputs": [
        {
          "output_type": "stream",
          "text": [
            "size of number of source sentences from dataset for training: 50000\n",
            "size of number of target sentences from dataset for training: 50000\n"
          ],
          "name": "stdout"
        }
      ]
    },
    {
      "metadata": {
        "id": "nYqdbp89MkXD",
        "colab_type": "code",
        "outputId": "1408d598-6de1-43b2-d1e2-2dec20beb07f",
        "colab": {
          "base_uri": "https://localhost:8080/",
          "height": 51
        }
      },
      "cell_type": "code",
      "source": [
        "print('size of number of source sentences from dataset for testing: {}'.format(len(src_test)))\n",
        "print('size of number of target sentences from dataset for testing: {}'.format(len(tgt_test)))"
      ],
      "execution_count": 10,
      "outputs": [
        {
          "output_type": "stream",
          "text": [
            "size of number of source sentences from dataset for testing: 400\n",
            "size of number of target sentences from dataset for testing: 400\n"
          ],
          "name": "stdout"
        }
      ]
    },
    {
      "metadata": {
        "id": "KHftfJ6SMoCk",
        "colab_type": "code",
        "outputId": "77ec257d-bbcc-4157-c407-2dc550613dfd",
        "colab": {
          "base_uri": "https://localhost:8080/",
          "height": 102
        }
      },
      "cell_type": "code",
      "source": [
        "for i in range(5):\n",
        "  print(tgt[i])"
      ],
      "execution_count": 11,
      "outputs": [
        {
          "output_type": "stream",
          "text": [
            " la place des cheveux et des poils dans les rituels et le sacre \n",
            " les carabins \n",
            " du detournement des references bibliographiques en science . l exemple de la medecine anti age \n",
            " la medecine anti age , une medecine scientifique , indispensable \n",
            " plongee subaquatique en eau douce compliquee d un arret cardiorespiratoire sur choc obstructif \n"
          ],
          "name": "stdout"
        }
      ]
    },
    {
      "metadata": {
        "id": "FMJuxEXzMuEf",
        "colab_type": "code",
        "colab": {}
      },
      "cell_type": "code",
      "source": [
        "import codecs\n",
        "import collections\n",
        "from operator import itemgetter\n",
        "\n",
        "def create_vocab(RAW_DATA, VOCAB_OUTPUT):\n",
        "    counter = collections.Counter()\n",
        "\n",
        "    for line in RAW_DATA:\n",
        "        for word in line.strip().lower().split():\n",
        "            counter[word] += 1\n",
        "\n",
        "    sorted_word_to_cnt = sorted(counter.items(), key=itemgetter(1), reverse=True)\n",
        "    sorted_words = [x[0] for x in sorted_word_to_cnt]\n",
        "\n",
        "    sorted_words =  ['<pad>'] + ['<sos>'] + ['<eos>'] + ['<unk>'] + sorted_words \n",
        "\n",
        "    with codecs.open(VOCAB_OUTPUT, \"w\", encoding=\"utf-8\") as file_output:\n",
        "        for word in sorted_words:\n",
        "            file_output.write(word + \"\\n\")\n",
        "    return sorted_words"
      ],
      "execution_count": 0,
      "outputs": []
    },
    {
      "metadata": {
        "id": "w9_zaKZWNGjw",
        "colab_type": "code",
        "colab": {}
      },
      "cell_type": "code",
      "source": [
        "vocab_src = create_vocab(src, 'vocab.en')\n",
        "vocab_tgt = create_vocab(tgt, 'vocab.fr')"
      ],
      "execution_count": 0,
      "outputs": []
    },
    {
      "metadata": {
        "id": "E3dRYFBJNMQs",
        "colab_type": "code",
        "colab": {}
      },
      "cell_type": "code",
      "source": [
        "vocab_size_src = len(vocab_src)\n",
        "vocab_size_tgt = len(vocab_tgt)"
      ],
      "execution_count": 0,
      "outputs": []
    },
    {
      "metadata": {
        "id": "3eSm-ZIMNTXN",
        "colab_type": "text"
      },
      "cell_type": "markdown",
      "source": [
        "## Convert text to numbers"
      ]
    },
    {
      "metadata": {
        "id": "WlTd8ExtNdZF",
        "colab_type": "code",
        "colab": {}
      },
      "cell_type": "code",
      "source": [
        "import codecs\n",
        "import sys\n",
        "\n",
        "def text_to_int(RAW_DATA, VOCAB, OUTPUT_DATA):\n",
        "\n",
        "  with codecs.open(VOCAB, \"r\", encoding=\"utf-8\") as f_vocab:\n",
        "      vocab = [w.strip() for w in f_vocab.readlines()]\n",
        "      word_to_id = {k:v for (k,v) in zip(vocab, range(len(vocab)))}\n",
        "\n",
        "  def get_id(word):\n",
        "      return word_to_id[word] if word in word_to_id else word_to_id[\"<unk>\"]\n",
        "\n",
        "  fout = codecs.open(OUTPUT_DATA, \"w\", encoding=\"utf-8\")\n",
        "  for line in RAW_DATA:\n",
        "      words = line.strip().split() + [\"<eos>\"]\n",
        "\n",
        "      out_line = \" \".join([str(get_id(w)) for w in words]) + \"\\n\"\n",
        "      fout.write(out_line)\n",
        "  fout.close()"
      ],
      "execution_count": 0,
      "outputs": []
    },
    {
      "metadata": {
        "id": "x7X9CaNxNslT",
        "colab_type": "code",
        "colab": {}
      },
      "cell_type": "code",
      "source": [
        "text_to_int(src, 'vocab.en', 'train.en')\n",
        "text_to_int(tgt, 'vocab.fr', 'train.fr')"
      ],
      "execution_count": 0,
      "outputs": []
    },
    {
      "metadata": {
        "id": "Ni8q95zsNytK",
        "colab_type": "text"
      },
      "cell_type": "markdown",
      "source": [
        "## create a training dataset"
      ]
    },
    {
      "metadata": {
        "id": "7JfBMt74Nudj",
        "colab_type": "code",
        "colab": {}
      },
      "cell_type": "code",
      "source": [
        "def MakeDataset(file_path):\n",
        "    dataset = tf.data.TextLineDataset(file_path)\n",
        "    # split by space\n",
        "    dataset = dataset.map(lambda string: tf.string_split([string]).values)\n",
        "    # convert string to number\n",
        "    dataset = dataset.map(\n",
        "        lambda string: tf.string_to_number(string, tf.int32))\n",
        "    # calc # word/sentence and put in dataset with sentence\n",
        "    dataset = dataset.map(lambda x: (x, tf.size(x)))\n",
        "    return dataset\n",
        "\n",
        "def MakeSrcTrgDataset(src_path, trg_path, batch_size):\n",
        "\n",
        "    src_data = MakeDataset(src_path)\n",
        "    trg_data = MakeDataset(trg_path)\n",
        "    #   ds[0][0]source sentence\n",
        "    #   ds[0][1]len of source sentence\n",
        "    #   ds[1][0]target sentence\n",
        "    #   ds[1][1]len of target sentence\n",
        "    dataset = tf.data.Dataset.zip((src_data, trg_data))\n",
        "\n",
        "    # delete empty and super-long sentence\n",
        "    def FilterLength(src_tuple, trg_tuple):\n",
        "        ((src_input, src_len), (trg_label, trg_len)) = (src_tuple, trg_tuple)\n",
        "        src_len_ok = tf.logical_and(\n",
        "            tf.greater(src_len, 1), tf.less_equal(src_len, MAX_LEN))\n",
        "        trg_len_ok = tf.logical_and(\n",
        "            tf.greater(trg_len, 1), tf.less_equal(trg_len, MAX_LEN))\n",
        "        return tf.logical_and(src_len_ok, trg_len_ok)\n",
        "    dataset = dataset.filter(FilterLength)\n",
        "    \n",
        "    #   1.trg_input: \"<sos> X Y Z\"\n",
        "    #   2.trg_label: \"X Y Z <eos>\"\n",
        "    #   file: \"X Y Z <eos>\", need to produce \"<sos> X Y Z\" and add to dataset\n",
        "    def MakeTrgInput(src_tuple, trg_tuple):\n",
        "        ((src_input, src_len), (trg_label, trg_len)) = (src_tuple, trg_tuple)\n",
        "        trg_input = tf.concat([[SOS_ID], trg_label[:-1]], axis=0)\n",
        "        return ((src_input, src_len), (trg_input, trg_label, trg_len))\n",
        "    \n",
        "    dataset = dataset.map(MakeTrgInput)\n",
        "\n",
        "    dataset = dataset.shuffle(10000)\n",
        "\n",
        "    # define shape after padding\n",
        "    padded_shapes = (\n",
        "        (tf.TensorShape([None]),\n",
        "         tf.TensorShape([])), \n",
        "        (tf.TensorShape([None]),\n",
        "         tf.TensorShape([None]),\n",
        "         tf.TensorShape([]))) \n",
        "    \n",
        "    # padded_batch to pad\n",
        "    batched_dataset = dataset.padded_batch(batch_size, padded_shapes)\n",
        "    return batched_dataset"
      ],
      "execution_count": 0,
      "outputs": []
    },
    {
      "metadata": {
        "id": "l3Ua3BZKOhAO",
        "colab_type": "text"
      },
      "cell_type": "markdown",
      "source": [
        "## define nmt"
      ]
    },
    {
      "metadata": {
        "id": "UFPOuLREOi2V",
        "colab_type": "code",
        "colab": {}
      },
      "cell_type": "code",
      "source": [
        "def single_rnn_cell(cell_name, hid_size, keep_prob):\n",
        "    if cell_name == \"GRU\":\n",
        "        cell = tf.contrib.rnn.GRUCell(hid_size)\n",
        "    elif cell_name == \"LSTM\":\n",
        "        cell = tf.contrib.rnn.LSTMCell(hid_size)\n",
        "    elif cell_name == \"BASIC\":\n",
        "        cell = tf.contrib.rnn.BasicRNNCell(hid_size)\n",
        "    return cell\n",
        "\n",
        "def multi_rnn_cell(cell_name, hid_size, num_layers, keep_prob):\n",
        "    cells = []\n",
        "    for _ in range(num_layers):\n",
        "        cell = single_rnn_cell(cell_name, hid_size, keep_prob)\n",
        "        cells.append(cell)\n",
        "    \n",
        "    if len(cells) > 1:\n",
        "        final_cell = tf.contrib.rnn.MultiRNNCell(cells=cells)\n",
        "    else:\n",
        "        final_cell = cells[0]\n",
        "    return final_cell\n",
        "  \n",
        "  \n",
        "def single_biRNN_pair(cell_name, hid_size, keep_prob):\n",
        "    if cell_name == \"bi-GRU\":\n",
        "      enc_cell_fw = single_rnn_cell('GRU', hid_size, keep_prob)\n",
        "      enc_cell_bw = single_rnn_cell('GRU', hid_size, keep_prob)\n",
        "    elif cell_name == \"bi-LSTM\":\n",
        "      enc_cell_fw = single_rnn_cell('LSTM', hid_size, keep_prob)\n",
        "      enc_cell_bw = single_rnn_cell('LSTM', hid_size, keep_prob)\n",
        "    return enc_cell_fw, enc_cell_bw\n",
        "    \n",
        "def multi_biRNN_pair(cell_name, hid_size, num_layers, keep_prob):\n",
        "    stacked_biRNN_fw = []\n",
        "    stacked_biRNN_bw = []\n",
        "    for _ in range(num_layers):\n",
        "        enc_cell_fw, enc_cell_bw = single_biRNN_pair(cell_name, hid_size, keep_prob)\n",
        "        stacked_biRNN_fw.append(enc_cell_fw)\n",
        "        stacked_biRNN_bw.append(enc_cell_bw)\n",
        "    \n",
        "    if len(stacked_biRNN_fw) > 1:\n",
        "        final_stacked_biRNN_fw = tf.contrib.rnn.MultiRNNCell(cells=stacked_biRNN_fw)\n",
        "        final_stacked_biRNN_bw = tf.contrib.rnn.MultiRNNCell(cells=stacked_biRNN_bw)\n",
        "    else:\n",
        "        final_stacked_biRNN_fw = stacked_biRNN_fw[0]\n",
        "        final_stacked_biRNN_bw = stacked_biRNN_bw[0]\n",
        "    return final_stacked_biRNN_fw, final_stacked_biRNN_bw"
      ],
      "execution_count": 0,
      "outputs": []
    },
    {
      "metadata": {
        "id": "Gff2RE4hOqiK",
        "colab_type": "code",
        "colab": {}
      },
      "cell_type": "code",
      "source": [
        "class NMTModel(object):\n",
        "  \"\"\"\n",
        "  defind the nmt model\n",
        "  \n",
        "  \"\"\"\n",
        "  # define variables needed by nmt\n",
        "  def __init__(self, \n",
        "               dec_layer, \n",
        "               enc_layer,\n",
        "               dec_cell_name, \n",
        "               enc_cell_name,\n",
        "               optimizer, \n",
        "               lr,\n",
        "               hid_size, \n",
        "               attention,\n",
        "               drop_out):\n",
        "    \n",
        "    self.dec_cell_name = dec_cell_name\n",
        "    self.enc_cell_name = enc_cell_name\n",
        "    self.dec_layer = dec_layer\n",
        "    self.enc_layer = enc_layer\n",
        "    self.attention = attention\n",
        "    \n",
        "    self.hid_size = hid_size\n",
        "    self.opt = optimizer\n",
        "    self.lr = lr\n",
        "    \n",
        "    self.keep_prob = 1.0 - drop_out\n",
        "\n",
        "    # EMBEDDING SETUP\n",
        "    \n",
        "    self.src_embedding = tf.get_variable(\n",
        "          \"src_emb\", [SRC_VOCAB_SIZE, self.hid_size])\n",
        "    self.trg_embedding = tf.get_variable(\n",
        "          \"trg_emb\", [TRG_VOCAB_SIZE, self.hid_size])\n",
        "\n",
        "      # define variables for softmax layer\n",
        "    if SHARE_EMB_AND_SOFTMAX:\n",
        "         self.softmax_weight = tf.transpose(self.trg_embedding)\n",
        "    else:\n",
        "         self.softmax_weight = tf.get_variable(\n",
        "             \"weight\", [self.hid_size, TRG_VOCAB_SIZE])\n",
        "    self.softmax_bias = tf.get_variable(\n",
        "          \"softmax_bias\", [TRG_VOCAB_SIZE])\n",
        "     \n",
        "  # calculate forward graph\n",
        "  # src_input, src_size, trg_input, trg_label, trg_size are from MakeSrcTrgDataset\n",
        "  \n",
        "  def forward(self, src_input, src_size, trg_input, trg_label, trg_size):\n",
        "      batch_size = tf.shape(src_input)[0]\n",
        "      \n",
        "      # *************************\n",
        "      # **** EMBEDDING SCOPE ****\n",
        "      # *************************\n",
        "      \n",
        "      with tf.variable_scope(\"Embeddings\"):\n",
        "\n",
        "        # convert word_int input to embeddings\n",
        "        src_emb = tf.nn.embedding_lookup(self.src_embedding, src_input)\n",
        "        trg_emb = tf.nn.embedding_lookup(self.trg_embedding, trg_input)\n",
        "\n",
        "        # set drop_out rate\n",
        "        src_emb = tf.nn.dropout(src_emb, self.keep_prob)\n",
        "        trg_emb = tf.nn.dropout(trg_emb, self.keep_prob)\n",
        "\n",
        "      # *************************\n",
        "      # ***** ENCODER SCOPE *****\n",
        "      # *************************\n",
        "\n",
        "      with tf.variable_scope(\"encoder\"):\n",
        "        \n",
        "        if not 'bi' in self.enc_cell_name:\n",
        "        \n",
        "          enc_cell = multi_rnn_cell(self.enc_cell_name, \n",
        "                                    self.hid_size, \n",
        "                                    self.enc_layer, \n",
        "                                    self.keep_prob)\n",
        "          enc_outputs, enc_state = tf.nn.dynamic_rnn(enc_cell, \n",
        "                                                     inputs=src_emb, \n",
        "                                                     sequence_length=src_size, \n",
        "                                                     dtype=tf.float32) \n",
        "        \n",
        "        else:\n",
        "          \n",
        "          stacked_biRNN_fw, stacked_biRNN_bw = multi_biRNN_pair(self.enc_cell_name, \n",
        "                                                                self.hid_size, \n",
        "                                                                self.enc_layer, \n",
        "                                                                self.keep_prob)\n",
        "          enc_outputs, enc_state = tf.nn.bidirectional_dynamic_rnn(cell_fw = stacked_biRNN_fw,\n",
        "                                                                   cell_bw = stacked_biRNN_bw,\n",
        "                                                                   inputs = src_emb,\n",
        "                                                                   sequence_length = src_size,\n",
        "                                                                   dtype = tf.float32)\n",
        "          \n",
        "          # concatenate two outputs of LSTM cell as 1 tensor\n",
        "          # enc_outputs = (output_fw, output_bw)\n",
        "          enc_outputs = tf.concat([enc_outputs[0], enc_outputs[1]], -1)\n",
        "          \n",
        "    \n",
        "      # *************************\n",
        "      # ***** DECODER SCOPE *****\n",
        "      # *************************\n",
        "      \n",
        "      with tf.variable_scope(\"decoder\"):\n",
        "        \n",
        "        dec_cell = multi_rnn_cell(self.dec_cell_name, self.hid_size, self.dec_layer, self.keep_prob)\n",
        "    \n",
        "    \n",
        "        # OPTIONS FOR ATTENTION MECHANISM\n",
        "        if self.attention == 'Bahdanau':\n",
        "        \n",
        "          attention_mechanism = tf.contrib.seq2seq.BahdanauAttention(\n",
        "                  self.hid_size, \n",
        "                  enc_outputs,\n",
        "                  memory_sequence_length = src_size)\n",
        "          \n",
        "        if self.attention == 'Luong':\n",
        "\n",
        "          attention_mechanism = tf.contrib.seq2seq.LuongAttention(\n",
        "                  self.hid_size,\n",
        "                  enc_outputs,\n",
        "                  memory_sequence_length=src_size)\n",
        "\n",
        "        # ATTENTION WRAPPER: \n",
        "        # wrap dec_cell and attention mechanisim\n",
        "        attention_cell = tf.contrib.seq2seq.AttentionWrapper(\n",
        "                dec_cell, \n",
        "                attention_mechanism,\n",
        "                attention_layer_size=self.hid_size)\n",
        "\n",
        "        # use attention_cell and dynamic_rnn construct decoder\n",
        "        # here relay totally on attention as the information source\n",
        "        dec_outputs, _ = tf.nn.dynamic_rnn(\n",
        "                attention_cell, trg_emb, trg_size, dtype=tf.float32)\n",
        "\n",
        "        \n",
        "      # ************************\n",
        "      # ***** OPTIMIZATION *****\n",
        "      # ************************\n",
        "      \n",
        "      # LOSS/LOG PERPLEXITY\n",
        "      output = tf.reshape(dec_outputs, [-1, HIDDEN_SIZE])\n",
        "      logits = tf.matmul(output, self.softmax_weight) + self.softmax_bias\n",
        "      loss = tf.nn.sparse_softmax_cross_entropy_with_logits(\n",
        "          labels=tf.reshape(trg_label, [-1]), logits=logits)\n",
        "\n",
        "      # set padding weight as 0 when calc average loss\n",
        "      label_weights = tf.sequence_mask(\n",
        "          trg_size, maxlen=tf.shape(trg_label)[1], dtype=tf.float32)\n",
        "      label_weights = tf.reshape(label_weights, [-1])\n",
        "      cost = tf.reduce_sum(loss * label_weights)\n",
        "      cost_per_token = cost / tf.reduce_sum(label_weights)\n",
        "\n",
        "      # define backprop\n",
        "      trainable_variables = tf.trainable_variables()\n",
        "\n",
        "      # OPTIONS FOR OPTIMIZER\n",
        "      # define optimization method/steps\n",
        "      grads = tf.gradients(cost / tf.to_float(batch_size),\n",
        "                           trainable_variables)\n",
        "      \n",
        "      grads, _ = tf.clip_by_global_norm(grads, clip_norm = 5)\n",
        "\n",
        "      if self.opt == 'adam':\n",
        "        optimizer = tf.train.AdamOptimizer(learning_rate = self.lr)\n",
        "      \n",
        "      elif self.opt == 'sgd':        \n",
        "        optimizer = tf.train.GradientDescentOptimizer(learning_rate = self.lr)\n",
        "        \n",
        "      elif self.opt == 'rmsprop':     \n",
        "        optimizer = tf.train.RMSPropOptimizer(learning_rate = self.lr)\n",
        "      \n",
        "      train_op = optimizer.apply_gradients(zip(grads, trainable_variables))\n",
        "      \n",
        "      return cost_per_token, train_op"
      ],
      "execution_count": 0,
      "outputs": []
    },
    {
      "metadata": {
        "id": "WaHXJPWGOyEC",
        "colab_type": "text"
      },
      "cell_type": "markdown",
      "source": [
        "## training"
      ]
    },
    {
      "metadata": {
        "id": "lomnQ_YAO0ZN",
        "colab_type": "code",
        "colab": {}
      },
      "cell_type": "code",
      "source": [
        "def run_epoch(session, cost_op, train_op, saver, step):\n",
        "    while True:\n",
        "        try:\n",
        "            # execute train_op and calc loss\n",
        "            cost, _ = session.run([cost_op, train_op])\n",
        "            if step % 100 == 0:\n",
        "                print(\"After %d steps, per token cost is %.3f\" % (step, cost))\n",
        "            # save checkpoint per 200 steps\n",
        "            if step % 200 == 0:\n",
        "                saver.save(session, CHECKPOINT_PATH, global_step=step)\n",
        "            step += 1\n",
        "        except tf.errors.OutOfRangeError:\n",
        "            break\n",
        "    return step"
      ],
      "execution_count": 0,
      "outputs": []
    },
    {
      "metadata": {
        "id": "UQM9OlFFPARN",
        "colab_type": "text"
      },
      "cell_type": "markdown",
      "source": [
        "## hyper parameters"
      ]
    },
    {
      "metadata": {
        "id": "2V8_uLR2PFUL",
        "colab_type": "code",
        "outputId": "7f07eac7-d31c-4f04-caf5-d95289e98f6c",
        "colab": {
          "base_uri": "https://localhost:8080/",
          "height": 2482
        }
      },
      "cell_type": "code",
      "source": [
        "\n",
        "\n",
        "\n",
        "CHECKPOINT_PATH = \"./ckpt-exp01/5-LSTM\"  \n",
        "\n",
        "HIDDEN_SIZE = 256\n",
        "DECODER_LAYERS = 3                    # Num_layer for decoder LSTM\n",
        "DECODER_CELL_TYPE = 'LSTM'\n",
        "ENCODER_LAYERS = 2\n",
        "ENCODER_CELL_TYPE = 'bi-LSTM'\n",
        "ATTENTION = 'Bahdanau'\n",
        "OPTIMIZER = 'adam'\n",
        "DROPOUT = 0.1\n",
        "LEARNING_RATE = 0.002\n",
        "\n",
        "BATCH_SIZE = 128\n",
        "NUM_EPOCH = 20 \n",
        "\n",
        "\n",
        "SRC_TRAIN_DATA = \"train.en\"\n",
        "TRG_TRAIN_DATA = \"train.fr\"\n",
        "SRC_VOCAB_SIZE = vocab_size_src       \n",
        "TRG_VOCAB_SIZE = vocab_size_tgt \n",
        "SHARE_EMB_AND_SOFTMAX = True           # share weights between softmax layer and embedding layer\n",
        "MAX_LEN = 100   # max length of a sentence\n",
        "SOS_ID  = 1    # <sos> ID in target vocab\n",
        "\n",
        "import time\n",
        "def main():\n",
        "  \n",
        "    initializer = tf.random_uniform_initializer(-0.05, 0.05)\n",
        "    \n",
        "    tf.reset_default_graph()\n",
        "\n",
        "    with tf.variable_scope(\"nmt_model\", reuse=None, \n",
        "                           initializer=initializer):\n",
        "        train_model = NMTModel(\n",
        "                dec_layer = DECODER_LAYERS, \n",
        "                enc_layer = ENCODER_LAYERS,\n",
        "                dec_cell_name =  DECODER_CELL_TYPE,\n",
        "                enc_cell_name = ENCODER_CELL_TYPE,\n",
        "                optimizer = OPTIMIZER, \n",
        "                lr = LEARNING_RATE,\n",
        "                hid_size = HIDDEN_SIZE, \n",
        "                attention = ATTENTION,\n",
        "                drop_out = DROPOUT)\n",
        "  \n",
        "    # define input data\n",
        "    data = MakeSrcTrgDataset(SRC_TRAIN_DATA, TRG_TRAIN_DATA, BATCH_SIZE)\n",
        "    iterator = data.make_initializable_iterator()\n",
        "    (src, src_size), (trg_input, trg_label, trg_size) = iterator.get_next()\n",
        " \n",
        "    # define forward graph\n",
        "    cost_op, train_op = train_model.forward(src, src_size, trg_input,\n",
        "                                            trg_label, trg_size)\n",
        "\n",
        "    # train\n",
        "    saver = tf.train.Saver()\n",
        "    tf.add_to_collection('train_op', train_op)\n",
        "    tf.add_to_collection('cost_op', cost_op)\n",
        "    step = 0\n",
        "    with tf.Session() as sess:\n",
        "        writer = tf.summary.FileWriter('logs', sess.graph)\n",
        "        writer.close()\n",
        "        \n",
        "        tf.global_variables_initializer().run()\n",
        "        for i in range(NUM_EPOCH):\n",
        "            time_start=time.time()\n",
        "            print(\"-------In iteration: %d\" % (i + 1))\n",
        "            sess.run(iterator.initializer)\n",
        "            step = run_epoch(sess, cost_op, train_op, saver, step)\n",
        "            time_end=time.time()\n",
        "            print('-------time cost',time_end-time_start,'s')\n",
        "            print('                                        ')\n",
        "            \n",
        "if __name__ == \"__main__\":\n",
        "    main()"
      ],
      "execution_count": 22,
      "outputs": [
        {
          "output_type": "stream",
          "text": [
            "-------In iteration: 1\n",
            "After 0 steps, per token cost is 10.461\n",
            "After 100 steps, per token cost is 6.781\n",
            "After 200 steps, per token cost is 6.261\n",
            "After 300 steps, per token cost is 5.849\n",
            "-------time cost 138.64359378814697 s\n",
            "                                        \n",
            "-------In iteration: 2\n",
            "After 400 steps, per token cost is 5.422\n",
            "After 500 steps, per token cost is 5.036\n",
            "After 600 steps, per token cost is 4.571\n",
            "After 700 steps, per token cost is 4.509\n",
            "-------time cost 137.70870423316956 s\n",
            "                                        \n",
            "-------In iteration: 3\n",
            "After 800 steps, per token cost is 3.908\n",
            "After 900 steps, per token cost is 3.935\n",
            "After 1000 steps, per token cost is 3.449\n",
            "WARNING:tensorflow:From /usr/local/lib/python3.6/dist-packages/tensorflow/python/training/saver.py:966: remove_checkpoint (from tensorflow.python.training.checkpoint_management) is deprecated and will be removed in a future version.\n",
            "Instructions for updating:\n",
            "Use standard file APIs to delete files with this prefix.\n"
          ],
          "name": "stdout"
        },
        {
          "output_type": "stream",
          "text": [
            "WARNING:tensorflow:From /usr/local/lib/python3.6/dist-packages/tensorflow/python/training/saver.py:966: remove_checkpoint (from tensorflow.python.training.checkpoint_management) is deprecated and will be removed in a future version.\n",
            "Instructions for updating:\n",
            "Use standard file APIs to delete files with this prefix.\n"
          ],
          "name": "stderr"
        },
        {
          "output_type": "stream",
          "text": [
            "After 1100 steps, per token cost is 3.322\n",
            "-------time cost 137.4098825454712 s\n",
            "                                        \n",
            "-------In iteration: 4\n",
            "After 1200 steps, per token cost is 2.991\n",
            "After 1300 steps, per token cost is 2.537\n",
            "After 1400 steps, per token cost is 2.837\n",
            "After 1500 steps, per token cost is 2.666\n",
            "-------time cost 138.57931518554688 s\n",
            "                                        \n",
            "-------In iteration: 5\n",
            "After 1600 steps, per token cost is 2.259\n",
            "After 1700 steps, per token cost is 2.535\n",
            "After 1800 steps, per token cost is 2.330\n",
            "After 1900 steps, per token cost is 2.108\n",
            "-------time cost 138.03252696990967 s\n",
            "                                        \n",
            "-------In iteration: 6\n",
            "After 2000 steps, per token cost is 2.262\n",
            "After 2100 steps, per token cost is 2.017\n",
            "After 2200 steps, per token cost is 1.715\n",
            "After 2300 steps, per token cost is 1.621\n",
            "-------time cost 138.36840271949768 s\n",
            "                                        \n",
            "-------In iteration: 7\n",
            "After 2400 steps, per token cost is 1.646\n",
            "After 2500 steps, per token cost is 1.636\n",
            "After 2600 steps, per token cost is 1.305\n",
            "After 2700 steps, per token cost is 1.494\n",
            "-------time cost 136.99972820281982 s\n",
            "                                        \n",
            "-------In iteration: 8\n",
            "After 2800 steps, per token cost is 1.667\n",
            "After 2900 steps, per token cost is 1.396\n",
            "After 3000 steps, per token cost is 1.388\n",
            "After 3100 steps, per token cost is 1.194\n",
            "-------time cost 138.36047315597534 s\n",
            "                                        \n",
            "-------In iteration: 9\n",
            "After 3200 steps, per token cost is 1.171\n",
            "After 3300 steps, per token cost is 1.186\n",
            "After 3400 steps, per token cost is 1.164\n",
            "After 3500 steps, per token cost is 1.288\n",
            "-------time cost 138.51078867912292 s\n",
            "                                        \n",
            "-------In iteration: 10\n",
            "After 3600 steps, per token cost is 1.051\n",
            "After 3700 steps, per token cost is 1.121\n",
            "After 3800 steps, per token cost is 1.011\n",
            "After 3900 steps, per token cost is 1.083\n",
            "-------time cost 138.48933959007263 s\n",
            "                                        \n",
            "-------In iteration: 11\n",
            "After 4000 steps, per token cost is 0.912\n",
            "After 4100 steps, per token cost is 1.130\n",
            "After 4200 steps, per token cost is 0.940\n",
            "After 4300 steps, per token cost is 1.076\n",
            "-------time cost 137.4318883419037 s\n",
            "                                        \n",
            "-------In iteration: 12\n",
            "After 4400 steps, per token cost is 0.973\n",
            "After 4500 steps, per token cost is 0.897\n",
            "After 4600 steps, per token cost is 0.760\n",
            "-------time cost 138.17356038093567 s\n",
            "                                        \n",
            "-------In iteration: 13\n",
            "After 4700 steps, per token cost is 0.696\n",
            "After 4800 steps, per token cost is 0.658\n",
            "After 4900 steps, per token cost is 0.783\n",
            "After 5000 steps, per token cost is 0.807\n",
            "-------time cost 138.73910856246948 s\n",
            "                                        \n",
            "-------In iteration: 14\n",
            "After 5100 steps, per token cost is 0.641\n",
            "After 5200 steps, per token cost is 0.612\n",
            "After 5300 steps, per token cost is 0.640\n",
            "After 5400 steps, per token cost is 0.596\n",
            "-------time cost 137.02656197547913 s\n",
            "                                        \n",
            "-------In iteration: 15\n",
            "After 5500 steps, per token cost is 0.593\n",
            "After 5600 steps, per token cost is 0.584\n",
            "After 5700 steps, per token cost is 0.532\n",
            "After 5800 steps, per token cost is 0.675\n",
            "-------time cost 139.324565410614 s\n",
            "                                        \n",
            "-------In iteration: 16\n",
            "After 5900 steps, per token cost is 0.561\n",
            "After 6000 steps, per token cost is 0.510\n",
            "After 6100 steps, per token cost is 0.478\n",
            "After 6200 steps, per token cost is 0.515\n",
            "-------time cost 138.4841685295105 s\n",
            "                                        \n",
            "-------In iteration: 17\n",
            "After 6300 steps, per token cost is 0.506\n",
            "After 6400 steps, per token cost is 0.554\n",
            "After 6500 steps, per token cost is 0.504\n",
            "After 6600 steps, per token cost is 0.478\n",
            "-------time cost 139.124183177948 s\n",
            "                                        \n",
            "-------In iteration: 18\n",
            "After 6700 steps, per token cost is 0.443\n",
            "After 6800 steps, per token cost is 0.478\n",
            "After 6900 steps, per token cost is 0.489\n",
            "After 7000 steps, per token cost is 0.487\n",
            "-------time cost 137.54931163787842 s\n",
            "                                        \n",
            "-------In iteration: 19\n",
            "After 7100 steps, per token cost is 0.451\n",
            "After 7200 steps, per token cost is 0.455\n",
            "After 7300 steps, per token cost is 0.437\n",
            "After 7400 steps, per token cost is 0.458\n",
            "-------time cost 138.7283775806427 s\n",
            "                                        \n",
            "-------In iteration: 20\n",
            "After 7500 steps, per token cost is 0.390\n",
            "After 7600 steps, per token cost is 0.374\n",
            "After 7700 steps, per token cost is 0.366\n",
            "After 7800 steps, per token cost is 0.426\n",
            "-------time cost 138.44817876815796 s\n",
            "                                        \n"
          ],
          "name": "stdout"
        }
      ]
    },
    {
      "metadata": {
        "id": "51gqsuJSId_g",
        "colab_type": "text"
      },
      "cell_type": "markdown",
      "source": [
        "## produce the model"
      ]
    },
    {
      "metadata": {
        "id": "aRD8U-AL7J1b",
        "colab_type": "code",
        "colab": {
          "base_uri": "https://localhost:8080/",
          "height": 459
        },
        "outputId": "bbf422b8-efb7-4a84-a067-df015d60163b"
      },
      "cell_type": "code",
      "source": [
        "import tensorflow.contrib.slim as slim\n",
        "\n",
        "def model_summary():\n",
        "    model_vars = tf.trainable_variables()\n",
        "    slim.model_analyzer.analyze_vars(model_vars, print_info=True)\n",
        "\n",
        "model_summary()"
      ],
      "execution_count": 23,
      "outputs": [
        {
          "output_type": "stream",
          "text": [
            "---------\n",
            "Variables: name (type shape) [size]\n",
            "---------\n",
            "nmt_model/src_emb:0 (float32_ref 28711x256) [7350016, bytes: 29400064]\n",
            "nmt_model/trg_emb:0 (float32_ref 35019x256) [8964864, bytes: 35859456]\n",
            "nmt_model/softmax_bias:0 (float32_ref 35019) [35019, bytes: 140076]\n",
            "encoder/bidirectional_rnn/fw/multi_rnn_cell/cell_0/lstm_cell/kernel:0 (float32_ref 512x1024) [524288, bytes: 2097152]\n",
            "encoder/bidirectional_rnn/fw/multi_rnn_cell/cell_0/lstm_cell/bias:0 (float32_ref 1024) [1024, bytes: 4096]\n",
            "encoder/bidirectional_rnn/fw/multi_rnn_cell/cell_1/lstm_cell/kernel:0 (float32_ref 512x1024) [524288, bytes: 2097152]\n",
            "encoder/bidirectional_rnn/fw/multi_rnn_cell/cell_1/lstm_cell/bias:0 (float32_ref 1024) [1024, bytes: 4096]\n",
            "encoder/bidirectional_rnn/bw/multi_rnn_cell/cell_0/lstm_cell/kernel:0 (float32_ref 512x1024) [524288, bytes: 2097152]\n",
            "encoder/bidirectional_rnn/bw/multi_rnn_cell/cell_0/lstm_cell/bias:0 (float32_ref 1024) [1024, bytes: 4096]\n",
            "encoder/bidirectional_rnn/bw/multi_rnn_cell/cell_1/lstm_cell/kernel:0 (float32_ref 512x1024) [524288, bytes: 2097152]\n",
            "encoder/bidirectional_rnn/bw/multi_rnn_cell/cell_1/lstm_cell/bias:0 (float32_ref 1024) [1024, bytes: 4096]\n",
            "decoder/memory_layer/kernel:0 (float32_ref 512x256) [131072, bytes: 524288]\n",
            "decoder/rnn/attention_wrapper/multi_rnn_cell/cell_0/lstm_cell/kernel:0 (float32_ref 768x1024) [786432, bytes: 3145728]\n",
            "decoder/rnn/attention_wrapper/multi_rnn_cell/cell_0/lstm_cell/bias:0 (float32_ref 1024) [1024, bytes: 4096]\n",
            "decoder/rnn/attention_wrapper/multi_rnn_cell/cell_1/lstm_cell/kernel:0 (float32_ref 512x1024) [524288, bytes: 2097152]\n",
            "decoder/rnn/attention_wrapper/multi_rnn_cell/cell_1/lstm_cell/bias:0 (float32_ref 1024) [1024, bytes: 4096]\n",
            "decoder/rnn/attention_wrapper/multi_rnn_cell/cell_2/lstm_cell/kernel:0 (float32_ref 512x1024) [524288, bytes: 2097152]\n",
            "decoder/rnn/attention_wrapper/multi_rnn_cell/cell_2/lstm_cell/bias:0 (float32_ref 1024) [1024, bytes: 4096]\n",
            "decoder/rnn/attention_wrapper/bahdanau_attention/query_layer/kernel:0 (float32_ref 256x256) [65536, bytes: 262144]\n",
            "decoder/rnn/attention_wrapper/bahdanau_attention/attention_v:0 (float32_ref 256) [256, bytes: 1024]\n",
            "decoder/rnn/attention_wrapper/attention_layer/kernel:0 (float32_ref 768x256) [196608, bytes: 786432]\n",
            "Total size of variables: 20682699\n",
            "Total bytes of variables: 82730796\n"
          ],
          "name": "stdout"
        }
      ]
    },
    {
      "metadata": {
        "id": "WUlnjkzPIkal",
        "colab_type": "text"
      },
      "cell_type": "markdown",
      "source": [
        "## instruction 3: Inference using trained model and weight"
      ]
    },
    {
      "metadata": {
        "id": "lTapjLMP7K5F",
        "colab_type": "code",
        "colab": {}
      },
      "cell_type": "code",
      "source": [
        "# read checkpoint path, number indicates the latest step\n",
        "LAST_CKPT_PATH = \"ckpt-exp01/5-LSTM-7800\"\n",
        "\n",
        "# file for vocab\n",
        "SRC_VOCAB = \"vocab.en\"\n",
        "TRG_VOCAB = \"vocab.fr\"\n",
        "SRC_VOCAB_SIZE = vocab_size_src       \n",
        "TRG_VOCAB_SIZE = vocab_size_tgt \n",
        "\n",
        "# ID for <sos> and <eos> in vocab\n",
        "SOS_ID = 1\n",
        "EOS_ID = 2\n",
        "\n",
        "SHARE_EMB_AND_SOFTMAX = True"
      ],
      "execution_count": 0,
      "outputs": []
    },
    {
      "metadata": {
        "id": "FJShapZl8AjU",
        "colab_type": "code",
        "colab": {}
      },
      "cell_type": "code",
      "source": [
        "class NMTModel(object):\n",
        "  \"\"\"\n",
        "  defind the nmt model\n",
        "  \n",
        "  \"\"\"\n",
        "  # define variables needed by nmt\n",
        "  def __init__(self, \n",
        "               dec_layer = DECODER_LAYERS, \n",
        "               enc_layer = ENCODER_LAYERS,\n",
        "               dec_cell_name = DECODER_CELL_TYPE, \n",
        "               enc_cell_name = ENCODER_CELL_TYPE,\n",
        "               optimizer = OPTIMIZER, \n",
        "               lr = LEARNING_RATE,\n",
        "               hid_size = HIDDEN_SIZE, \n",
        "               attention = ATTENTION,\n",
        "               drop_out = DROPOUT):\n",
        "    \n",
        "    self.dec_cell_name = dec_cell_name\n",
        "    self.enc_cell_name = enc_cell_name\n",
        "    self.dec_layer = dec_layer\n",
        "    self.enc_layer = enc_layer\n",
        "    self.attention = attention\n",
        "    \n",
        "    self.hid_size = hid_size\n",
        "    self.opt = optimizer\n",
        "    self.lr = lr\n",
        "    \n",
        "    self.keep_prob = 1.0 - drop_out\n",
        "\n",
        "    # EMBEDDING SETUP\n",
        "    \n",
        "    self.src_embedding = tf.get_variable(\n",
        "          \"src_emb\", [SRC_VOCAB_SIZE, self.hid_size])\n",
        "    self.trg_embedding = tf.get_variable(\n",
        "          \"trg_emb\", [TRG_VOCAB_SIZE, self.hid_size])\n",
        "\n",
        "      # define variables for softmax layer\n",
        "    if SHARE_EMB_AND_SOFTMAX:\n",
        "         self.softmax_weight = tf.transpose(self.trg_embedding)\n",
        "    else:\n",
        "         self.softmax_weight = tf.get_variable(\n",
        "             \"weight\", [self.hid_size, TRG_VOCAB_SIZE])\n",
        "    self.softmax_bias = tf.get_variable(\n",
        "          \"softmax_bias\", [TRG_VOCAB_SIZE])\n",
        "  \n",
        "  def inference(self, src_input):\n",
        "      # As dynamic rnn requires batch input, \n",
        "      # to infer one single sentence, we set batch = 1\n",
        "      src_size = tf.convert_to_tensor([len(src_input)], dtype=tf.int32)\n",
        "      src_input = tf.convert_to_tensor([src_input], dtype=tf.int32)\n",
        "      src_emb = tf.nn.embedding_lookup(self.src_embedding, src_input)\n",
        "      \n",
        "     \n",
        "      # *************************\n",
        "      # ***** ENCODER SCOPE *****\n",
        "      # *************************\n",
        "\n",
        "      with tf.variable_scope(\"encoder\"):\n",
        "        \n",
        "        if not 'bi' in self.enc_cell_name:\n",
        "        \n",
        "          enc_cell = multi_rnn_cell(self.enc_cell_name, \n",
        "                                    self.hid_size, \n",
        "                                    self.enc_layer, \n",
        "                                    self.keep_prob)\n",
        "          enc_outputs, enc_state = tf.nn.dynamic_rnn(enc_cell, \n",
        "                                                     inputs=src_emb, \n",
        "                                                     sequence_length=src_size, \n",
        "                                                     dtype=tf.float32) \n",
        "        \n",
        "        else:\n",
        "          \n",
        "          stacked_biRNN_fw, stacked_biRNN_bw = multi_biRNN_pair(self.enc_cell_name, \n",
        "                                                                self.hid_size, \n",
        "                                                                self.enc_layer, \n",
        "                                                                self.keep_prob)\n",
        "          enc_outputs, enc_state = tf.nn.bidirectional_dynamic_rnn(cell_fw = stacked_biRNN_fw,\n",
        "                                                                   cell_bw = stacked_biRNN_bw,\n",
        "                                                                   inputs = src_emb,\n",
        "                                                                   sequence_length = src_size,\n",
        "                                                                   dtype = tf.float32)\n",
        "          \n",
        "          # concatenate two outputs of LSTM cell as 1 tensor\n",
        "          # enc_outputs = (output_fw, output_bw)\n",
        "          enc_outputs = tf.concat([enc_outputs[0], enc_outputs[1]], -1)\n",
        "          \n",
        "    \n",
        "      # *************************\n",
        "      # ***** DECODER SCOPE *****\n",
        "      # *************************\n",
        "      \n",
        "      with tf.variable_scope(\"decoder\"):\n",
        "        \n",
        "        dec_cell = multi_rnn_cell(self.dec_cell_name, self.hid_size, self.dec_layer, self.keep_prob)\n",
        "    \n",
        "    \n",
        "        # OPTIONS FOR ATTENTION MECHANISM\n",
        "        if self.attention == 'Bahdanau':\n",
        "        \n",
        "          attention_mechanism = tf.contrib.seq2seq.BahdanauAttention(\n",
        "                  self.hid_size, \n",
        "                  enc_outputs,\n",
        "                  memory_sequence_length = src_size)\n",
        "          \n",
        "        if self.attention == 'Luong':\n",
        "\n",
        "          attention_mechanism = tf.contrib.seq2seq.LuongAttention(\n",
        "                  self.hid_size,\n",
        "                  enc_outputs,\n",
        "                  memory_sequence_length=src_size\n",
        "                  )\n",
        "\n",
        "        # ATTENTION WRAPPER: \n",
        "        # wrap dec_cell and attention mechanisim\n",
        "        attention_cell = tf.contrib.seq2seq.AttentionWrapper(\n",
        "                dec_cell, \n",
        "                attention_mechanism,\n",
        "                attention_layer_size=self.hid_size,\n",
        "                alignment_history=True)\n",
        "\n",
        "      # Set the max step for decoder\n",
        "      MAX_DEC_LEN=100\n",
        "\n",
        "      with tf.variable_scope(\"decoder/rnn/attention_wrapper\"):\n",
        "        # use TensorArray store produced sentence\n",
        "        init_array = tf.TensorArray(dtype=tf.int32, size=0,\n",
        "            dynamic_size=True, clear_after_read=False)\n",
        "        # start input for decoder with <sos> tag\n",
        "        init_array = init_array.write(0, SOS_ID)\n",
        "        # initilize attention cell\n",
        "        init_loop_var = (\n",
        "            attention_cell.zero_state(batch_size=1, dtype=tf.float32),\n",
        "            init_array, 0)\n",
        "\n",
        "        # condition for tf.while_loop：\n",
        "        # loop until decoder outputs <eos> or hit max length setting\n",
        "        def continue_loop_condition(state, trg_ids, step):\n",
        "            return tf.reduce_all(tf.logical_and(\n",
        "                tf.not_equal(trg_ids.read(step), EOS_ID),\n",
        "                tf.less(step, MAX_DEC_LEN-1)))\n",
        "\n",
        "        def loop_body(state, trg_ids, step):\n",
        "            # read last step output as input for attention cell\n",
        "            trg_input = [trg_ids.read(step)]\n",
        "            trg_emb = tf.nn.embedding_lookup(self.trg_embedding,\n",
        "                                             trg_input)\n",
        "            # FORWARD calc ATTENTION CELL and output decoder outputs/state\n",
        "            dec_outputs, next_state = attention_cell.call(\n",
        "                state=state, inputs=trg_emb)\n",
        "\n",
        "            # calc logit for each candidate target vocab\n",
        "            # select the max as output\n",
        "            output = tf.reshape(dec_outputs, [-1, HIDDEN_SIZE])\n",
        "            logits = (tf.matmul(output, self.softmax_weight)\n",
        "                      + self.softmax_bias)\n",
        "            next_id = tf.argmax(logits, axis=1, output_type=tf.int32)\n",
        "            # write output word into trg_ids\n",
        "            trg_ids = trg_ids.write(step+1, next_id[0])\n",
        "            return next_state, trg_ids, step+1\n",
        "\n",
        "        # execute tf.while_loop return trg_ides\n",
        "        state, trg_ids, step = tf.while_loop(\n",
        "            continue_loop_condition, loop_body, init_loop_var)\n",
        "        \n",
        "        return trg_ids.stack(), state"
      ],
      "execution_count": 0,
      "outputs": []
    },
    {
      "metadata": {
        "id": "FXm3-kzH8Eqk",
        "colab_type": "code",
        "colab": {}
      },
      "cell_type": "code",
      "source": [
        "# test and evaluate\n",
        "\n",
        "import matplotlib.pyplot as plt\n",
        "from nltk.translate.bleu_score import sentence_bleu\n",
        "\n",
        "def levenshtein(seq1, seq2):  \n",
        "    size_x = len(seq1) + 1\n",
        "    size_y = len(seq2) + 1\n",
        "    matrix = np.zeros ((size_x, size_y))\n",
        "    for x in range(size_x):\n",
        "        matrix [x, 0] = x\n",
        "    for y in range(size_y):\n",
        "        matrix [0, y] = y\n",
        "\n",
        "    for x in range(1, size_x):\n",
        "        for y in range(1, size_y):\n",
        "            if seq1[x-1] == seq2[y-1]:\n",
        "                matrix [x,y] = min(\n",
        "                    matrix[x-1, y] + 1,\n",
        "                    matrix[x-1, y-1],\n",
        "                    matrix[x, y-1] + 1\n",
        "                )\n",
        "            else:\n",
        "                matrix [x,y] = min(\n",
        "                    matrix[x-1,y] + 1,\n",
        "                    matrix[x-1,y-1] + 1,\n",
        "                    matrix[x,y-1] + 1\n",
        "                )\n",
        "\n",
        "    return matrix[size_x - 1, size_y - 1]\n",
        "\n",
        "def translate_en_fr(src_sent, trgt_sent, plot_att = False, verbose = False):\n",
        "    \n",
        "    tf.reset_default_graph()\n",
        "        \n",
        "    # define the trained model\n",
        "    with tf.variable_scope(\"nmt_model\", reuse=None):\n",
        "        model = NMTModel()\n",
        "       \n",
        "    # convert sentence to word_index according to vocab\n",
        "    with codecs.open(SRC_VOCAB, \"r\", \"utf-8\") as f_vocab:\n",
        "        src_vocab = [w.strip() for w in f_vocab.readlines()]\n",
        "        src_id_dict = dict((src_vocab[x], x) for x in range(len(src_vocab)))\n",
        "    test_en_ids = [(src_id_dict[token] if token in src_id_dict else src_id_dict['<unk>'])\n",
        "                   for token in src_sent.split()]\n",
        "\n",
        "    # build inference based on saved model weights\n",
        "    output_op, state_op = model.inference(test_en_ids)\n",
        "    sess = tf.Session()\n",
        "    saver = tf.train.Saver()\n",
        "    saver.restore(sess, LAST_CKPT_PATH)\n",
        "\n",
        "    # read translation output\n",
        "    output_ids = sess.run(output_op)\n",
        "    \n",
        "    # convert translation idx into word\n",
        "    with codecs.open(TRG_VOCAB, \"r\", \"utf-8\") as f_vocab:\n",
        "        trg_vocab = [w.strip() for w in f_vocab.readlines()]\n",
        "    output_text = ' '.join([trg_vocab[x] for x in output_ids])\n",
        "    \n",
        "    # output translation\n",
        "    final_output_text = output_text.encode('utf8').decode(sys.stdout.encoding).strip('<eos>')\n",
        "    \n",
        "    bleu = sentence_bleu(trgt_sent.split(), final_output_text.split())\n",
        "    lst = levenshtein(trgt_sent,final_output_text)\n",
        "    \n",
        "    if verbose:\n",
        "      print(\"Source Sentence: \" + src_sent)\n",
        "      print(\"Real Translation: \" + trgt_sent)\n",
        "      print(\"Predicted Translation: \" + final_output_text)\n",
        "      print(\"Levenshetein Distance: \" + str(lst))\n",
        "      print(\"***BLEU Score***: \"+ str(bleu))\n",
        "    \n",
        "    \n",
        "    # PLOT ATTENTION PLOT OPTION\n",
        "    \n",
        "    def plot_attention(attention, src_sent, pred_sent):\n",
        "\n",
        "      fig = plt.figure(figsize=(10,10))\n",
        "      ax = fig.add_subplot(1, 1, 1)\n",
        "      ax.matshow(attention, cmap='viridis')\n",
        "\n",
        "      fontdict = {'fontsize': 14}\n",
        "      \n",
        "      ax.set_xticks(np.arange(len(list(src_sent.split()))))\n",
        "      ax.set_yticks(np.arange(len(list(pred_sent.split()))))\n",
        "\n",
        "      ax.set_xticklabels([''] + list(src_sent.split()), fontdict=fontdict, rotation=90)\n",
        "      ax.set_yticklabels([''] + list(pred_sent.split()), fontdict=fontdict)\n",
        "\n",
        "      plt.show()\n",
        "      \n",
        "    if plot_att:\n",
        "      alignments = sess.run(state_op.alignment_history.stack())\n",
        "      alignments = np.squeeze(alignments)\n",
        "      plot_attention(alignments, src_sent, final_output_text)\n",
        "      \n",
        "    return final_output_text, bleu, lst\n",
        "    \n",
        "    sess.close()"
      ],
      "execution_count": 0,
      "outputs": []
    },
    {
      "metadata": {
        "id": "iaBPQNgi8PLJ",
        "colab_type": "code",
        "colab": {}
      },
      "cell_type": "code",
      "source": [
        "# prediction for total test set\n",
        "\n",
        "def test_set_pred(src_test, tgt_test, verbose = False):\n",
        "  src_test = src_test\n",
        "  tgt_test = tgt_test\n",
        " \n",
        "  size = len(src_test)\n",
        "  \n",
        "  pred_list = []\n",
        "  bleu_list = []\n",
        "  lst_list = []\n",
        "\n",
        "  for i in range(size):\n",
        "\n",
        "      pred, bleu, lst = translate_en_fr(src_test[i], tgt_test[i], verbose = verbose)\n",
        "      print(\"                                                                                         \")\n",
        "      pred_list.append(pred)\n",
        "      bleu_list.append(bleu)\n",
        "      lst_list.append(lst)\n",
        "      \n",
        "      \n",
        "  c_bleu = sum(bleu_list) / len(bleu_list)\n",
        "  c_lst = sum(lst_list) / len(lst_list)  \n",
        "   \n",
        "  print(\"                                                                                         \")\n",
        "  print(\"+++++++++++++++++++++++++++++++++++++++++++++++++++++++++++++++++++++++++++++++++++++\")\n",
        "  print(\"Prediction Output and Metrics on {} test sentences: \".format(size))\n",
        "  print(\"Average BLEU Score on our test corpus is {}\".format(c_bleu)) \n",
        "  print(\"Average Levenshetein distance Score on our test corpus is {}\".format(c_lst)) "
      ],
      "execution_count": 0,
      "outputs": []
    },
    {
      "metadata": {
        "id": "7xUJ0nvc8Q1W",
        "colab_type": "code",
        "colab": {
          "base_uri": "https://localhost:8080/",
          "height": 54658
        },
        "outputId": "ad457b6c-6fa9-4dac-8f05-76f32cdb52a3"
      },
      "cell_type": "code",
      "source": [
        "test_set_pred(src_test, tgt_test, verbose = True)"
      ],
      "execution_count": 30,
      "outputs": [
        {
          "output_type": "stream",
          "text": [
            "INFO:tensorflow:Restoring parameters from ckpt-exp01/5-LSTM-7800\n"
          ],
          "name": "stdout"
        },
        {
          "output_type": "stream",
          "text": [
            "INFO:tensorflow:Restoring parameters from ckpt-exp01/5-LSTM-7800\n"
          ],
          "name": "stderr"
        },
        {
          "output_type": "stream",
          "text": [
            "Source Sentence:  current state of medicine in spain \n",
            "Real Translation:  etat actuel de la medecine en espagne \n",
            "Predicted Translation:  etat de la medecine en espagne en espagne \n",
            "Levenshetein Distance: 18.0\n",
            "***BLEU Score***: 0\n",
            "                                                                                         \n",
            "INFO:tensorflow:Restoring parameters from ckpt-exp01/5-LSTM-7800\n"
          ],
          "name": "stdout"
        },
        {
          "output_type": "stream",
          "text": [
            "INFO:tensorflow:Restoring parameters from ckpt-exp01/5-LSTM-7800\n",
            "/usr/local/lib/python3.6/dist-packages/nltk/translate/bleu_score.py:490: UserWarning: \n",
            "Corpus/Sentence contains 0 counts of 2-gram overlaps.\n",
            "BLEU scores might be undesirable; use SmoothingFunction().\n",
            "  warnings.warn(_msg)\n"
          ],
          "name": "stderr"
        },
        {
          "output_type": "stream",
          "text": [
            "Source Sentence:  contribution to the study of accidents of the teeth \n",
            "Real Translation:  contribution a l etude des accidents de la dentition \n",
            "Predicted Translation:  contribution a l etude des accidents des dents des dents les dents les dents les dents les dents les dents les dents les dents les dents \n",
            "Levenshetein Distance: 88.0\n",
            "***BLEU Score***: 0.5266403878479265\n",
            "                                                                                         \n",
            "INFO:tensorflow:Restoring parameters from ckpt-exp01/5-LSTM-7800\n"
          ],
          "name": "stdout"
        },
        {
          "output_type": "stream",
          "text": [
            "INFO:tensorflow:Restoring parameters from ckpt-exp01/5-LSTM-7800\n"
          ],
          "name": "stderr"
        },
        {
          "output_type": "stream",
          "text": [
            "Source Sentence:  surgery of periodontal diseases \n",
            "Real Translation:  la chirurgie des parodontolyses \n",
            "Predicted Translation:  la chirurgie de la cancerologie de la langue francaise \n",
            "Levenshetein Distance: 31.0\n",
            "***BLEU Score***: 0\n",
            "                                                                                         \n",
            "INFO:tensorflow:Restoring parameters from ckpt-exp01/5-LSTM-7800\n"
          ],
          "name": "stdout"
        },
        {
          "output_type": "stream",
          "text": [
            "INFO:tensorflow:Restoring parameters from ckpt-exp01/5-LSTM-7800\n"
          ],
          "name": "stderr"
        },
        {
          "output_type": "stream",
          "text": [
            "Source Sentence:  die peripheren durchblutungsstorungen of paradentiums \n",
            "Real Translation:  die peripheren durchblutungsstorungen des paradentiums \n",
            "Predicted Translation:  crispr . manuels de hta de la neurovessie \n",
            "Levenshetein Distance: 43.0\n",
            "***BLEU Score***: 0\n",
            "                                                                                         \n",
            "INFO:tensorflow:Restoring parameters from ckpt-exp01/5-LSTM-7800\n"
          ],
          "name": "stdout"
        },
        {
          "output_type": "stream",
          "text": [
            "INFO:tensorflow:Restoring parameters from ckpt-exp01/5-LSTM-7800\n"
          ],
          "name": "stderr"
        },
        {
          "output_type": "stream",
          "text": [
            "Source Sentence:  the beginnings surgical alginates \n",
            "Real Translation:  les premices chirurgicales des alginates \n",
            "Predicted Translation:  les lecteurs de la chaine de signalisation interventionnelle de neuroradiologie \n",
            "Levenshetein Distance: 60.0\n",
            "***BLEU Score***: 0\n",
            "                                                                                         \n",
            "INFO:tensorflow:Restoring parameters from ckpt-exp01/5-LSTM-7800\n"
          ],
          "name": "stdout"
        },
        {
          "output_type": "stream",
          "text": [
            "INFO:tensorflow:Restoring parameters from ckpt-exp01/5-LSTM-7800\n"
          ],
          "name": "stderr"
        },
        {
          "output_type": "stream",
          "text": [
            "Source Sentence:  endocrine glands of cephalopods \n",
            "Real Translation:  les glandes endocrines des cephalopodes \n",
            "Predicted Translation:  les glandes oculaires de l aluminium \n",
            "Levenshetein Distance: 19.0\n",
            "***BLEU Score***: 0.5408536609893481\n",
            "                                                                                         \n",
            "INFO:tensorflow:Restoring parameters from ckpt-exp01/5-LSTM-7800\n"
          ],
          "name": "stdout"
        },
        {
          "output_type": "stream",
          "text": [
            "INFO:tensorflow:Restoring parameters from ckpt-exp01/5-LSTM-7800\n"
          ],
          "name": "stderr"
        },
        {
          "output_type": "stream",
          "text": [
            "Source Sentence:  the mediterranean climate and tuberculosis \n",
            "Real Translation:  le climat mediterraneen et les tuberculoses \n",
            "Predicted Translation:  le climat mediterraneen et la tuberculose tuberculeuse et la tuberculose tuberculose et tuberculose tuberculeuse \n",
            "Levenshetein Distance: 69.0\n",
            "***BLEU Score***: 0\n",
            "                                                                                         \n",
            "INFO:tensorflow:Restoring parameters from ckpt-exp01/5-LSTM-7800\n"
          ],
          "name": "stdout"
        },
        {
          "output_type": "stream",
          "text": [
            "INFO:tensorflow:Restoring parameters from ckpt-exp01/5-LSTM-7800\n"
          ],
          "name": "stderr"
        },
        {
          "output_type": "stream",
          "text": [
            "Source Sentence:  history and pharmacology of balsamite , tanacetum l . balsamita \n",
            "Real Translation:  histoire et pharmacologie de la balsamite , tanacetum balsamita l \n",
            "Predicted Translation:  historique et pharmacologie de l hypo pollinique , successeur l . fabrique . la firme z \n",
            "Levenshetein Distance: 44.0\n",
            "***BLEU Score***: 0.5946035575013605\n",
            "                                                                                         \n",
            "INFO:tensorflow:Restoring parameters from ckpt-exp01/5-LSTM-7800\n"
          ],
          "name": "stdout"
        },
        {
          "output_type": "stream",
          "text": [
            "INFO:tensorflow:Restoring parameters from ckpt-exp01/5-LSTM-7800\n"
          ],
          "name": "stderr"
        },
        {
          "output_type": "stream",
          "text": [
            "Source Sentence:  modern treatment of hypertension during pregnancy \n",
            "Real Translation:  les traitements modernes de l hypertension arterielle au cours de la grossesse \n",
            "Predicted Translation:  traitement moderne de l hypertension arterielle pendant la grossesse grossesse durant la grossesse la prise en grossesse grossesse durant la grossesse la grossesse pendant la grossesse grossesse \n",
            "Levenshetein Distance: 130.0\n",
            "***BLEU Score***: 0.4386913376508308\n",
            "                                                                                         \n",
            "INFO:tensorflow:Restoring parameters from ckpt-exp01/5-LSTM-7800\n"
          ],
          "name": "stdout"
        },
        {
          "output_type": "stream",
          "text": [
            "INFO:tensorflow:Restoring parameters from ckpt-exp01/5-LSTM-7800\n"
          ],
          "name": "stderr"
        },
        {
          "output_type": "stream",
          "text": [
            "Source Sentence:  rapid and short form a crown acrylic jacket \n",
            "Real Translation:  execution rapide et simplifee d une couronne jaquette en acrylique \n",
            "Predicted Translation:  si interferon rapide et inguinale une rotatoire de l abpa une sensibilisation du sugammadex \n",
            "Levenshetein Distance: 60.0\n",
            "***BLEU Score***: 0.5169731539571706\n",
            "                                                                                         \n",
            "INFO:tensorflow:Restoring parameters from ckpt-exp01/5-LSTM-7800\n"
          ],
          "name": "stdout"
        },
        {
          "output_type": "stream",
          "text": [
            "INFO:tensorflow:Restoring parameters from ckpt-exp01/5-LSTM-7800\n"
          ],
          "name": "stderr"
        },
        {
          "output_type": "stream",
          "text": [
            "Source Sentence:  the darmous or disease hairy charnot speder , \n",
            "Real Translation:  le darmous ou maladie de velu charnot speder , \n",
            "Predicted Translation:  les referents ou maladie de parkinson psychiatrique , metaboliquement de confort , l angine , de raguin ? \n",
            "Levenshetein Distance: 71.0\n",
            "***BLEU Score***: 0.5773502691896257\n",
            "                                                                                         \n",
            "INFO:tensorflow:Restoring parameters from ckpt-exp01/5-LSTM-7800\n"
          ],
          "name": "stdout"
        },
        {
          "output_type": "stream",
          "text": [
            "INFO:tensorflow:Restoring parameters from ckpt-exp01/5-LSTM-7800\n"
          ],
          "name": "stderr"
        },
        {
          "output_type": "stream",
          "text": [
            "Source Sentence:  new synthesis of diagnostic maxillofacial orthopedics \n",
            "Real Translation:  nouvelle synthese du diagnostic en orthopedie maxillo faciale \n",
            "Predicted Translation:  nouvelles regards de nouvelles modeles de deontologie maxillofaciale tournee efficace \n",
            "Levenshetein Distance: 51.0\n",
            "***BLEU Score***: 0\n",
            "                                                                                         \n",
            "INFO:tensorflow:Restoring parameters from ckpt-exp01/5-LSTM-7800\n"
          ],
          "name": "stdout"
        },
        {
          "output_type": "stream",
          "text": [
            "INFO:tensorflow:Restoring parameters from ckpt-exp01/5-LSTM-7800\n"
          ],
          "name": "stderr"
        },
        {
          "output_type": "stream",
          "text": [
            "Source Sentence:  value of penicillin in syphilis \n",
            "Real Translation:  valeur de la penicilline dans la syphilis \n",
            "Predicted Translation:  interet de la penicilline dans la syphilis de syphilis a la syphilis de a syphilis a syphilis a syphilis de a syphilis a syphilis a syphilis de a syphilis a la syphilis de a syphilis a la syphilis de a syphilis a la syphilis de a syphilis de la syphilis a la syphilis syphilis a syphilis de syphilis syphilis a syphilis de syphilis syphilis a syphilis de syphilis syphilis a syphilis de syphilis syphilis a syphilis syphilis a syphilis syphilis a syphilis syphilis a syphilis syphilis a syphilis syphilis a syphilis de syphilis syphilis a syphilis de syphilis syphili\n",
            "Levenshetein Distance: 530.0\n",
            "***BLEU Score***: 0.31702331385234306\n",
            "                                                                                         \n",
            "INFO:tensorflow:Restoring parameters from ckpt-exp01/5-LSTM-7800\n"
          ],
          "name": "stdout"
        },
        {
          "output_type": "stream",
          "text": [
            "INFO:tensorflow:Restoring parameters from ckpt-exp01/5-LSTM-7800\n"
          ],
          "name": "stderr"
        },
        {
          "output_type": "stream",
          "text": [
            "Source Sentence:  massive mixed treatment of syphilis with penicillin bismuth arsenobenzols \n",
            "Real Translation:  traitement mixte massif de la syphilis par penicilline arsenobenzols bismuth \n",
            "Predicted Translation:  traitement d une serie d traitement mixte de la syphilis avec constitutionnelle de djibouti \n",
            "Levenshetein Distance: 56.0\n",
            "***BLEU Score***: 0.5169731539571706\n",
            "                                                                                         \n",
            "INFO:tensorflow:Restoring parameters from ckpt-exp01/5-LSTM-7800\n"
          ],
          "name": "stdout"
        },
        {
          "output_type": "stream",
          "text": [
            "INFO:tensorflow:Restoring parameters from ckpt-exp01/5-LSTM-7800\n"
          ],
          "name": "stderr"
        },
        {
          "output_type": "stream",
          "text": [
            "Source Sentence:  current status of penicillin therapy in early syphilis \n",
            "Real Translation:  statut actuel de la therapie par penicilline dans la syphilis primaire \n",
            "Predicted Translation:  evolution de la therapie electrodermale dans la syphilis precoce de la syphilis precoce de la syphilis precoce de la syphilis precoce de la syphilis a syphilis precoce de la syphilis precoce a la syphilis precoce de la syphilis precoce de la syphilis precoce de la syphilis precoce de la syphilis precoce de la syphilis a la syphilis precoce de la syphilis precoce de la syphilis a la syphilis precoce de la syphilis a la syphilis precoce de la syphilis a la syphilis precoce de la syphilis a la syphilis precoce de la syphilis a la syphilis precoce de la\n",
            "Levenshetein Distance: 493.0\n",
            "***BLEU Score***: 0.31702331385234306\n",
            "                                                                                         \n",
            "INFO:tensorflow:Restoring parameters from ckpt-exp01/5-LSTM-7800\n"
          ],
          "name": "stdout"
        },
        {
          "output_type": "stream",
          "text": [
            "INFO:tensorflow:Restoring parameters from ckpt-exp01/5-LSTM-7800\n"
          ],
          "name": "stderr"
        },
        {
          "output_type": "stream",
          "text": [
            "Source Sentence:  on the mechanism of the action of penicillin treponemicidal humans \n",
            "Real Translation:  sur le mecanisme de l action treponemicide de la penicilline chez l homme \n",
            "Predicted Translation:  les mecanisme de l action de la microsporidiose a la penicilline ? a la privation d histone ? \n",
            "Levenshetein Distance: 46.0\n",
            "***BLEU Score***: 0.6389431042462724\n",
            "                                                                                         \n",
            "INFO:tensorflow:Restoring parameters from ckpt-exp01/5-LSTM-7800\n"
          ],
          "name": "stdout"
        },
        {
          "output_type": "stream",
          "text": [
            "INFO:tensorflow:Restoring parameters from ckpt-exp01/5-LSTM-7800\n"
          ],
          "name": "stderr"
        },
        {
          "output_type": "stream",
          "text": [
            "Source Sentence:  penicillin in the treatment of syphilis \n",
            "Real Translation:  la penicilline dans le traitement de la syphilis \n",
            "Predicted Translation:  la granulomateuse a la suite de la syphilis de syphilis de la syphilis \n",
            "Levenshetein Distance: 42.0\n",
            "***BLEU Score***: 0.5266403878479265\n",
            "                                                                                         \n",
            "INFO:tensorflow:Restoring parameters from ckpt-exp01/5-LSTM-7800\n"
          ],
          "name": "stdout"
        },
        {
          "output_type": "stream",
          "text": [
            "INFO:tensorflow:Restoring parameters from ckpt-exp01/5-LSTM-7800\n"
          ],
          "name": "stderr"
        },
        {
          "output_type": "stream",
          "text": [
            "Source Sentence:  the value of penicillin in the treatment of syphilis \n",
            "Real Translation:  de la valeur de la penicilline dans le traitement de la syphilis \n",
            "Predicted Translation:  la valeur de la penicilline dans le traitement de la syphilis de la syphilis de la syphilis de la syphilis de a une syphilis de la syphilis de a \n",
            "Levenshetein Distance: 86.0\n",
            "***BLEU Score***: 0.43092381945890607\n",
            "                                                                                         \n",
            "INFO:tensorflow:Restoring parameters from ckpt-exp01/5-LSTM-7800\n"
          ],
          "name": "stdout"
        },
        {
          "output_type": "stream",
          "text": [
            "INFO:tensorflow:Restoring parameters from ckpt-exp01/5-LSTM-7800\n"
          ],
          "name": "stderr"
        },
        {
          "output_type": "stream",
          "text": [
            "Source Sentence:  he congenital intestinal obstruction in infants , about a case \n",
            "Real Translation:  l occlusion intestinale congenitale du nourrisson a propos d un cas \n",
            "Predicted Translation:  l obstruction intestinale congenitale du nourrisson , a propos d un cas , a propos d un cas , un cas a propos d un cas , recidivant du nourrisson , recidivant chez un nourrisson , un cas de cause aigue du nourrisson , landry inactivated sf chez un nourrisson , un cas de cause aigue du nourrisson , landry cientifica \n",
            "Levenshetein Distance: 253.0\n",
            "***BLEU Score***: 0.4709207802660356\n",
            "                                                                                         \n",
            "INFO:tensorflow:Restoring parameters from ckpt-exp01/5-LSTM-7800\n"
          ],
          "name": "stdout"
        },
        {
          "output_type": "stream",
          "text": [
            "INFO:tensorflow:Restoring parameters from ckpt-exp01/5-LSTM-7800\n"
          ],
          "name": "stderr"
        },
        {
          "output_type": "stream",
          "text": [
            "Source Sentence:  anencephalic fetus radiological diagnosis \n",
            "Real Translation:  foetus anencephale diagnostic radiologique \n",
            "Predicted Translation:  diagnostic prenatal au liquide d un f tus immediat diagnostic prenatal retroperitoneale retroperitoneale retroperitoneale retroperitoneale retroperitoneale retroperitoneale retroperitoneale retroperitoneale retroperitoneale retroperitoneale retroperitoneale retroperitoneale retroperitoneale retroperitoneale retroperitoneale retroperitoneale retroperitoneale retroperitoneale retroperitoneale retroperitoneale retroperitoneale retroperitoneale retroperitoneale retroperitoneale retroperitoneale retroperitoneale retroperitoneale retroperitoneale retroperitoneale retroperitoneale retroperitoneale retroperitoneale retroperitoneale retroperitoneale retroperitoneale retroperitoneale retroperitoneale retroperitoneale retroperitoneale retroperitoneale retroperitoneale retroperitoneale retroperitoneale retroperitoneale retroperitoneale retroperitoneale retroperitoneale retroperitoneale retroperitoneale retroperitoneale retroperitoneale retroperitoneale retroperitoneale retroperitoneale retroperitoneale retroperitoneale retroperitoneale retroperitoneale retroperitoneale retroperitoneale retroperitoneale retroperitoneale retroperitoneale retroperitoneale retroperitoneale retroperitoneale retroperitoneale retroperitoneale retroperitoneale retroperitoneale retroperitoneale retroperitoneale retroperitoneale retroperitoneale retroperitoneale retroperitoneale retroperitoneale retroperitoneale retroperitoneale retroperitoneale retroperitoneale retroperitoneale retroperitoneale retroperitoneale retroperitoneale retroperitoneale retroperitoneale retroperitoneal\n",
            "Levenshetein Distance: 1533.0\n",
            "***BLEU Score***: 0.3770063804549471\n",
            "                                                                                         \n",
            "INFO:tensorflow:Restoring parameters from ckpt-exp01/5-LSTM-7800\n"
          ],
          "name": "stdout"
        },
        {
          "output_type": "stream",
          "text": [
            "INFO:tensorflow:Restoring parameters from ckpt-exp01/5-LSTM-7800\n"
          ],
          "name": "stderr"
        },
        {
          "output_type": "stream",
          "text": [
            "Source Sentence:  penicillin and diphtheria \n",
            "Real Translation:  penicilline et diphterie \n",
            "Predicted Translation:  la ciguatera et l coqueluche de l coqueluche de l coqueluche de l albendazole de l albendazole de l albendazole de l albendazole de l albendazole de l albendazole de l albendazole de l albendazole de l albendazole de l albendazole de l albendazole de l albendazole de l albendazole de l albendazole de l albendazole de l albendazole de l albendazole de l albendazole de l albendazole de l albendazole de l albendazole de l albendazole de l albendazole de l albendazole de l albendazole de l albendazole de l albendazole de l albendazole de l albendazole d\n",
            "Levenshetein Distance: 542.0\n",
            "***BLEU Score***: 0.4172261448611506\n",
            "                                                                                         \n",
            "INFO:tensorflow:Restoring parameters from ckpt-exp01/5-LSTM-7800\n"
          ],
          "name": "stdout"
        },
        {
          "output_type": "stream",
          "text": [
            "INFO:tensorflow:Restoring parameters from ckpt-exp01/5-LSTM-7800\n"
          ],
          "name": "stderr"
        },
        {
          "output_type": "stream",
          "text": [
            "Source Sentence:  cardiography preoperatively interest in tetralogy of fallot \n",
            "Real Translation:  interet de la cardiographie preoperatoire dans la tetralogie de fallot \n",
            "Predicted Translation:  interet de la restauration couleur de la triade de fallot a fallot de fallot de fallot de a de z de fallot de a de z de a de z de a de z de a de z de a de z de a de z de a de z de a de z de a de z de a de z de a de z de a de z de a de ans de la succinylcholine de a de z de a de z de a de z de a de ans de la succinylcholine de a d\n",
            "Levenshetein Distance: 279.0\n",
            "***BLEU Score***: 0.4172261448611506\n",
            "                                                                                         \n",
            "INFO:tensorflow:Restoring parameters from ckpt-exp01/5-LSTM-7800\n"
          ],
          "name": "stdout"
        },
        {
          "output_type": "stream",
          "text": [
            "INFO:tensorflow:Restoring parameters from ckpt-exp01/5-LSTM-7800\n"
          ],
          "name": "stderr"
        },
        {
          "output_type": "stream",
          "text": [
            "Source Sentence:  a case of cushing s disease \n",
            "Real Translation:  un cas de maladie de cushing \n",
            "Predicted Translation:  un cas de maladie de cushing de maladie de cushing \n",
            "Levenshetein Distance: 22.0\n",
            "***BLEU Score***: 0\n",
            "                                                                                         \n",
            "INFO:tensorflow:Restoring parameters from ckpt-exp01/5-LSTM-7800\n"
          ],
          "name": "stdout"
        },
        {
          "output_type": "stream",
          "text": [
            "INFO:tensorflow:Restoring parameters from ckpt-exp01/5-LSTM-7800\n"
          ],
          "name": "stderr"
        },
        {
          "output_type": "stream",
          "text": [
            "Source Sentence:  about gastroduodenal radiography interesting \n",
            "Real Translation:  a propos de radiographies interessantes gastro duodenales \n",
            "Predicted Translation:  a propos de l asco sur le sillon releveur mouche le septum uni du louvre le nmp le nmp le nmp le nmp \n",
            "Levenshetein Distance: 70.0\n",
            "***BLEU Score***: 0.5430321466633391\n",
            "                                                                                         \n",
            "INFO:tensorflow:Restoring parameters from ckpt-exp01/5-LSTM-7800\n"
          ],
          "name": "stdout"
        },
        {
          "output_type": "stream",
          "text": [
            "INFO:tensorflow:Restoring parameters from ckpt-exp01/5-LSTM-7800\n"
          ],
          "name": "stderr"
        },
        {
          "output_type": "stream",
          "text": [
            "Source Sentence:  topographic diagnosis of myocardial infarction by unipolar leads \n",
            "Real Translation:  le diagnostic topographique des infarctus du myocarde par les derivations unipolaires \n",
            "Predicted Translation:  mise au point d un infarctus pour infarctus du myocarde par mesure des keratites du myocarde gluteal \n",
            "Levenshetein Distance: 53.0\n",
            "***BLEU Score***: 0.4924790605054523\n",
            "                                                                                         \n",
            "INFO:tensorflow:Restoring parameters from ckpt-exp01/5-LSTM-7800\n"
          ],
          "name": "stdout"
        },
        {
          "output_type": "stream",
          "text": [
            "INFO:tensorflow:Restoring parameters from ckpt-exp01/5-LSTM-7800\n"
          ],
          "name": "stderr"
        },
        {
          "output_type": "stream",
          "text": [
            "Source Sentence:  current views on the treatment of tuberculosis by streptomycin \n",
            "Real Translation:  vues actuelles sur le traitement de la tuberculose par la streptomycin \n",
            "Predicted Translation:  aspects actuels sur le traitement de la tuberculose par gemcitabine par omalizumab par coccidioidomycose ls and gettec par coccidioidomycose plaquenil par gettec par coccidioidomycose plaquenil \n",
            "Levenshetein Distance: 130.0\n",
            "***BLEU Score***: 0\n",
            "                                                                                         \n",
            "INFO:tensorflow:Restoring parameters from ckpt-exp01/5-LSTM-7800\n"
          ],
          "name": "stdout"
        },
        {
          "output_type": "stream",
          "text": [
            "INFO:tensorflow:Restoring parameters from ckpt-exp01/5-LSTM-7800\n"
          ],
          "name": "stderr"
        },
        {
          "output_type": "stream",
          "text": [
            "Source Sentence:  the dyspraxias \n",
            "Real Translation:  les dyspraxies \n",
            "Predicted Translation:  la videosurveillance alterant la sollicitude castrat \n",
            "Levenshetein Distance: 43.0\n",
            "***BLEU Score***: 0\n",
            "                                                                                         \n",
            "INFO:tensorflow:Restoring parameters from ckpt-exp01/5-LSTM-7800\n"
          ],
          "name": "stdout"
        },
        {
          "output_type": "stream",
          "text": [
            "INFO:tensorflow:Restoring parameters from ckpt-exp01/5-LSTM-7800\n"
          ],
          "name": "stderr"
        },
        {
          "output_type": "stream",
          "text": [
            "Source Sentence:  hypersensitivity phenomena \n",
            "Real Translation:  les phenomenes d hypersensibilite \n",
            "Predicted Translation:  le developpement des hypersensibilite le cerveau le role du cerveau le role du pathologiste le role du pathologiste le role du pathologiste le role du pathologiste le nmda le role du pathologiste le nmda le role du pathologiste le nmda le role du pathologiste le nmda le nmda le nmda le nmda le nmda le nmda le nmda le nmda le role du pathologiste le nmda le devant le ccr le nmda le devant le ccr le nmda le devant le ccr le nmda le devant le ccr le nmda le devant le ccr le devant le ccr l\n",
            "Levenshetein Distance: 462.0\n",
            "***BLEU Score***: 0.31702331385234306\n",
            "                                                                                         \n",
            "INFO:tensorflow:Restoring parameters from ckpt-exp01/5-LSTM-7800\n"
          ],
          "name": "stdout"
        },
        {
          "output_type": "stream",
          "text": [
            "INFO:tensorflow:Restoring parameters from ckpt-exp01/5-LSTM-7800\n"
          ],
          "name": "stderr"
        },
        {
          "output_type": "stream",
          "text": [
            "Source Sentence:  on some new acquisitions in neuro psychiatry \n",
            "Real Translation:  sur quelques acquisitions nouvelles en neuro psychiatrie \n",
            "Predicted Translation:  sur certains nouveaux biotechnologies en neuro psychiatrie neuro psychiatrie neuro psychiatrie neuro objectivite en neuro psychiatrie neuro fmc neuro objectivite de la neuro psychiatrie neuro objectivite de la neuro psychiatrie neuro objectivite de la neuro psychiatrie neuro objectivite de la neuro psychiatrie neuro objectivite de la neuro psychiatrie neuro objectivite de la neuro psychiatrie neuro objectivite de la neuro psychiatrie neuro objectivite de la neuro psychiatrie neuro objectivite neuro de la polyarthrite neuro \n",
            "Levenshetein Distance: 475.0\n",
            "***BLEU Score***: 0\n",
            "                                                                                         \n",
            "INFO:tensorflow:Restoring parameters from ckpt-exp01/5-LSTM-7800\n"
          ],
          "name": "stdout"
        },
        {
          "output_type": "stream",
          "text": [
            "INFO:tensorflow:Restoring parameters from ckpt-exp01/5-LSTM-7800\n"
          ],
          "name": "stderr"
        },
        {
          "output_type": "stream",
          "text": [
            "Source Sentence:  infantile post measles encephalopathic syndromes their multietiologic aspects \n",
            "Real Translation:  syndromes encephalopathiques post morbilleux infantiles leurs aspects polyetiologiques \n",
            "Predicted Translation:  syndrome de magnesium chez l enfant les syndromes sains leur mise au point de l evolution variables \n",
            "Levenshetein Distance: 69.0\n",
            "***BLEU Score***: 0.5856596027429395\n",
            "                                                                                         \n",
            "INFO:tensorflow:Restoring parameters from ckpt-exp01/5-LSTM-7800\n"
          ],
          "name": "stdout"
        },
        {
          "output_type": "stream",
          "text": [
            "INFO:tensorflow:Restoring parameters from ckpt-exp01/5-LSTM-7800\n"
          ],
          "name": "stderr"
        },
        {
          "output_type": "stream",
          "text": [
            "Source Sentence:  about the removal of a large cyst invading the maxillary sinus without damaging the sinus mucosa plasty \n",
            "Real Translation:  a propos de l exerese d un gros kyste envahissant le sinus maxillaire sans leser la muqueuse sinusale plastie \n",
            "Predicted Translation:  a propos de l amputation d un volumineux kyste frontal devraient sinus quot sans comprime de la region lymphatique suture la region muqueuse du sinus masseter la chimie anatomique \n",
            "Levenshetein Distance: 106.0\n",
            "***BLEU Score***: 0.5671276403520978\n",
            "                                                                                         \n",
            "INFO:tensorflow:Restoring parameters from ckpt-exp01/5-LSTM-7800\n"
          ],
          "name": "stdout"
        },
        {
          "output_type": "stream",
          "text": [
            "INFO:tensorflow:Restoring parameters from ckpt-exp01/5-LSTM-7800\n"
          ],
          "name": "stderr"
        },
        {
          "output_type": "stream",
          "text": [
            "Source Sentence:  a case of facial paresis by inclusion of lower premolar ectopia \n",
            "Real Translation:  a propos d un cas de paresie faciale par inclusion de premolaire inferieure en ectopie \n",
            "Predicted Translation:  opacite faciale par cicatrice d une ectopie vertebral renale persistante \n",
            "Levenshetein Distance: 60.0\n",
            "***BLEU Score***: 0.5623413251903491\n",
            "                                                                                         \n",
            "INFO:tensorflow:Restoring parameters from ckpt-exp01/5-LSTM-7800\n"
          ],
          "name": "stdout"
        },
        {
          "output_type": "stream",
          "text": [
            "INFO:tensorflow:Restoring parameters from ckpt-exp01/5-LSTM-7800\n"
          ],
          "name": "stderr"
        },
        {
          "output_type": "stream",
          "text": [
            "Source Sentence:  microbial antagonism general recent acquisitions applications in dentistry \n",
            "Real Translation:  de l antagonisme microbien generalites acquisitions recentes applications a la medecine dentaire \n",
            "Predicted Translation:  l arnett cricothyrotomie applications generaux applications actuelles en medecine dentaire \n",
            "Levenshetein Distance: 49.0\n",
            "***BLEU Score***: 0.5623413251903491\n",
            "                                                                                         \n",
            "INFO:tensorflow:Restoring parameters from ckpt-exp01/5-LSTM-7800\n"
          ],
          "name": "stdout"
        },
        {
          "output_type": "stream",
          "text": [
            "INFO:tensorflow:Restoring parameters from ckpt-exp01/5-LSTM-7800\n"
          ],
          "name": "stderr"
        },
        {
          "output_type": "stream",
          "text": [
            "Source Sentence:  histochemical study of the localization of alkaline phosphatase in rat dental blanks \n",
            "Real Translation:  etude histochimique de la localisation des phosphatases alcalines dans les ebauches dentaires du rat \n",
            "Predicted Translation:  etude des anomalies immuno transversales de la piece alcaline de pyelonephrite dentaire de rat immunodeprimes de rat iris de rat iris de rat iris de rat iris de rat iris de rat iris de rat iris de rat iris de rat iris de rat iris de rat iris de rat iris de rat iris de rat iris de rat iris de rat iris de rat iris de rat iris de rat iris de rat iris de rat iris de rat iris de rat iris de rat iris de rat iris de rat iris de rat iris de rat iri\n",
            "Levenshetein Distance: 371.0\n",
            "***BLEU Score***: 0\n",
            "                                                                                         \n",
            "INFO:tensorflow:Restoring parameters from ckpt-exp01/5-LSTM-7800\n"
          ],
          "name": "stdout"
        },
        {
          "output_type": "stream",
          "text": [
            "INFO:tensorflow:Restoring parameters from ckpt-exp01/5-LSTM-7800\n"
          ],
          "name": "stderr"
        },
        {
          "output_type": "stream",
          "text": [
            "Source Sentence:  analgesia with nitrous oxide aseptic root canal therapy \n",
            "Real Translation:  analgesie au protoxyde d azote therapie radiculaire aseptique \n",
            "Predicted Translation:  analgesie par explorer des pontages aseptiques oestrogenes du plexus modifie par voie trans durale les membres cc interphalangiennes \n",
            "Levenshetein Distance: 93.0\n",
            "***BLEU Score***: 0\n",
            "                                                                                         \n",
            "INFO:tensorflow:Restoring parameters from ckpt-exp01/5-LSTM-7800\n"
          ],
          "name": "stdout"
        },
        {
          "output_type": "stream",
          "text": [
            "INFO:tensorflow:Restoring parameters from ckpt-exp01/5-LSTM-7800\n"
          ],
          "name": "stderr"
        },
        {
          "output_type": "stream",
          "text": [
            "Source Sentence:  the infection of the peri coronal space of impacted teeth \n",
            "Real Translation:  l infection de l espace peri coronaire des dents incluses \n",
            "Predicted Translation:  le infection de l espace peri plaques des dents des dents incluses des dents incluses a electricite \n",
            "Levenshetein Distance: 48.0\n",
            "***BLEU Score***: 0.5856596027429395\n",
            "                                                                                         \n",
            "INFO:tensorflow:Restoring parameters from ckpt-exp01/5-LSTM-7800\n"
          ],
          "name": "stdout"
        },
        {
          "output_type": "stream",
          "text": [
            "INFO:tensorflow:Restoring parameters from ckpt-exp01/5-LSTM-7800\n"
          ],
          "name": "stderr"
        },
        {
          "output_type": "stream",
          "text": [
            "Source Sentence:  critical study of various methods of radiography of the temporomandibular joint \n",
            "Real Translation:  etude critique des diverses methodes de radiographie de l articulation temporo maxillaire \n",
            "Predicted Translation:  etude clinique des methodes de modelisation du capillarys de l articulation temporo mandibulaires l iris de l iris l iris de l iris l iris de l iris l iris de l iris l iris de l iris iris l iris de l iris iris de bamako l iris de l iris iris de bamako l iris de l iris iris de bamako l iris de l iris siglos temporo mandibulaires habsburgo de l iris siglos temporo mandibulaires habsburgo de l iris siglos temporo mandibulaires habsburgo de l iris siglos temporo mandibulaires habsburgo de l iris siglos temporo mandibulair\n",
            "Levenshetein Distance: 445.0\n",
            "***BLEU Score***: 0.3770063804549471\n",
            "                                                                                         \n",
            "INFO:tensorflow:Restoring parameters from ckpt-exp01/5-LSTM-7800\n"
          ],
          "name": "stdout"
        },
        {
          "output_type": "stream",
          "text": [
            "INFO:tensorflow:Restoring parameters from ckpt-exp01/5-LSTM-7800\n"
          ],
          "name": "stderr"
        },
        {
          "output_type": "stream",
          "text": [
            "Source Sentence:  periodontal disease and cure \n",
            "Real Translation:  parodontose et cure thermale \n",
            "Predicted Translation:  la maladie parodontale et traiter traiter et traiter traiter ? \n",
            "Levenshetein Distance: 41.0\n",
            "***BLEU Score***: 0\n",
            "                                                                                         \n",
            "INFO:tensorflow:Restoring parameters from ckpt-exp01/5-LSTM-7800\n"
          ],
          "name": "stdout"
        },
        {
          "output_type": "stream",
          "text": [
            "INFO:tensorflow:Restoring parameters from ckpt-exp01/5-LSTM-7800\n"
          ],
          "name": "stderr"
        },
        {
          "output_type": "stream",
          "text": [
            "Source Sentence:  osteosynthesis of mandible external fixator french method , a u . s . equipment \n",
            "Real Translation:  l osteosynthese du maxillaire inferieur par fixateur externe methode francaise , a appareillage americain \n",
            "Predicted Translation:  l osteosynthese du fixateur externe externe etude de faisabilite , a cnrgs . s . important . important . important . materiel . parc . materiel . parc . materiel . parc . materiel . parc . materiel . parc . a . materiel des hug . a . materiel . materiel . materiel . materiel . materiel . materiel . materiel . materiel . materiel . materiel . materiel . materiel . materiel . materiel . materiel . materiel . materiel . materiel . materiel . materiel . materiel . materiel . materiel . materiel . materiel .\n",
            "Levenshetein Distance: 424.0\n",
            "***BLEU Score***: 0.49616830003403634\n",
            "                                                                                         \n",
            "INFO:tensorflow:Restoring parameters from ckpt-exp01/5-LSTM-7800\n"
          ],
          "name": "stdout"
        },
        {
          "output_type": "stream",
          "text": [
            "INFO:tensorflow:Restoring parameters from ckpt-exp01/5-LSTM-7800\n"
          ],
          "name": "stderr"
        },
        {
          "output_type": "stream",
          "text": [
            "Source Sentence:  teeth and dentition among the merina of madagascar \n",
            "Real Translation:  denture et dentition chez les merina de madagascar \n",
            "Predicted Translation:  les dents et la denture des agressions a madagascar a madagascar madagascar madagascar au madagascar madagascar a madagascar madagascar par la souffrance de madagascar madagascar par la categorie de madagascar a madagascar madagascar par la categorie de madagascar a madagascar madagascar par la categorie de madagascar a madagascar madagascar par la categorie de madagascar a madagascar madagascar par la categorie de madagascar a madagascar madagascar par la categorie de madagascar a madagascar madagascar par la categorie de madagascar a madagascar madagascar par la categorie de madagascar a madagascar madagascar par la categorie de madagascar a madagascar madagascar par la\n",
            "Levenshetein Distance: 634.0\n",
            "***BLEU Score***: 0.44833867003844585\n",
            "                                                                                         \n",
            "INFO:tensorflow:Restoring parameters from ckpt-exp01/5-LSTM-7800\n"
          ],
          "name": "stdout"
        },
        {
          "output_type": "stream",
          "text": [
            "INFO:tensorflow:Restoring parameters from ckpt-exp01/5-LSTM-7800\n"
          ],
          "name": "stderr"
        },
        {
          "output_type": "stream",
          "text": [
            "Source Sentence:  harmfulness of toothbrushes today \n",
            "Real Translation:  la nocivite des brosses a dents actuelles \n",
            "Predicted Translation:  helene de bacteriemie aujourd hui aujourd hui aujourd hui aujourd hui aujourd hui aujourd hui aujourd hui aujourd hui aujourd hui aujourd hui aujourd hui aujourd hui aujourd hui aujourd hui aujourd hui aujourd hui aujourd hui aujourd hui aujourd hui aujourd hui aujourd hui aujourd hui aujourd hui aujourd hui aujourd hui aujourd hui aujourd hui aujourd hui aujourd hui aujourd hui aujourd hui aujourd hui aujourd hui aujourd hui aujourd hui aujourd hui aujourd hui aujourd hui aujourd hui aujourd hui aujourd hui aujourd hui aujourd hui aujourd hui aujourd hui aujourd hui aujourd hui aujourd hui\n",
            "Levenshetein Distance: 578.0\n",
            "***BLEU Score***: 0\n",
            "                                                                                         \n",
            "INFO:tensorflow:Restoring parameters from ckpt-exp01/5-LSTM-7800\n"
          ],
          "name": "stdout"
        },
        {
          "output_type": "stream",
          "text": [
            "INFO:tensorflow:Restoring parameters from ckpt-exp01/5-LSTM-7800\n"
          ],
          "name": "stderr"
        },
        {
          "output_type": "stream",
          "text": [
            "Source Sentence:  orthodontics and periodontitis \n",
            "Real Translation:  orthodontie et paradontose \n",
            "Predicted Translation:  orthodontie et affections familiales les affections familiales \n",
            "Levenshetein Distance: 41.0\n",
            "***BLEU Score***: 0\n",
            "                                                                                         \n",
            "INFO:tensorflow:Restoring parameters from ckpt-exp01/5-LSTM-7800\n"
          ],
          "name": "stdout"
        },
        {
          "output_type": "stream",
          "text": [
            "INFO:tensorflow:Restoring parameters from ckpt-exp01/5-LSTM-7800\n"
          ],
          "name": "stderr"
        },
        {
          "output_type": "stream",
          "text": [
            "Source Sentence:  maxillofacial surgery in latin america debriefing \n",
            "Real Translation:  la chirurgie maxillo faciale en amerique latine compte rendu de mission \n",
            "Predicted Translation:  la chirurgie maxillo faciale du concept latine le concept le nouveau paradigme le concept le paradigme du pharmacien le limite le limite le limite le limite le limite le limite le limite le limite le limite le limite le limite le limite prive le concept dovocyte le limite prive le concept dovocyte le limite prive le concept dovocyte le limite prive le concept dovocyte le limite prive le concept dovocyte le limite prive le concept dovocyte le limite prive le concept dovocyte le limite prive le concept dovocyte le louvre ? jean hui le un limite le limite l\n",
            "Levenshetein Distance: 493.0\n",
            "***BLEU Score***: 0.31702331385234306\n",
            "                                                                                         \n",
            "INFO:tensorflow:Restoring parameters from ckpt-exp01/5-LSTM-7800\n"
          ],
          "name": "stdout"
        },
        {
          "output_type": "stream",
          "text": [
            "INFO:tensorflow:Restoring parameters from ckpt-exp01/5-LSTM-7800\n"
          ],
          "name": "stderr"
        },
        {
          "output_type": "stream",
          "text": [
            "Source Sentence:  the pairing of proximal caries \n",
            "Real Translation:  le jumellage des caries proximales \n",
            "Predicted Translation:  les ravages de la carie de la carie embryonnaire proximale les carie de la trompe semantique de seine semantique de paris hcl de paris hcl ? de paris hcl la carie de la trompe semantique de una hcl paris de paris hcl paris de paris hcl paris de paris hcl paris de paris hcl paris de paris hcl paris de paris hcl paris de paris hcl paris de paris hcl paris de paris hcl paris de paris hcl hcl de paris hcl hcl de paris hcl hcl de paris hcl hcl de paris hcl hcl de paris hcl hcl\n",
            "Levenshetein Distance: 446.0\n",
            "***BLEU Score***: 0\n",
            "                                                                                         \n",
            "INFO:tensorflow:Restoring parameters from ckpt-exp01/5-LSTM-7800\n"
          ],
          "name": "stdout"
        },
        {
          "output_type": "stream",
          "text": [
            "INFO:tensorflow:Restoring parameters from ckpt-exp01/5-LSTM-7800\n"
          ],
          "name": "stderr"
        },
        {
          "output_type": "stream",
          "text": [
            "Source Sentence:  a few cases of angiocardiography in the blue disease \n",
            "Real Translation:  quelques cas d angiocardiographie au cours de la maladie bleue \n",
            "Predicted Translation:  quelques cas de benevolat en pathologie bleue \n",
            "Levenshetein Distance: 34.0\n",
            "***BLEU Score***: 0\n",
            "                                                                                         \n",
            "INFO:tensorflow:Restoring parameters from ckpt-exp01/5-LSTM-7800\n"
          ],
          "name": "stdout"
        },
        {
          "output_type": "stream",
          "text": [
            "INFO:tensorflow:Restoring parameters from ckpt-exp01/5-LSTM-7800\n"
          ],
          "name": "stderr"
        },
        {
          "output_type": "stream",
          "text": [
            "Source Sentence:  lymphosarcoma of the mandible in an month old child surgical intervention radiotherapy healing after years odontogenesis disorders \n",
            "Real Translation:  lymphosarcome du maxillaire inferieur chez un enfant de mois intervention chirurgicale radiotherapie guerison depuis ans troubles de l odontogenese \n",
            "Predicted Translation:  decompensation de la mandibule chez un nourrisson ans traitement chirurgical apres chirurgie de ans apres ans les patients contacts de ans \n",
            "Levenshetein Distance: 96.0\n",
            "***BLEU Score***: 0\n",
            "                                                                                         \n",
            "INFO:tensorflow:Restoring parameters from ckpt-exp01/5-LSTM-7800\n"
          ],
          "name": "stdout"
        },
        {
          "output_type": "stream",
          "text": [
            "INFO:tensorflow:Restoring parameters from ckpt-exp01/5-LSTM-7800\n"
          ],
          "name": "stderr"
        },
        {
          "output_type": "stream",
          "text": [
            "Source Sentence:  the circadian rhythm of phagocytic reactions to normal physiological control of the process by sialo cytology \n",
            "Real Translation:  le rythme nycthemeral des reactions phagocytaires a l etat normal physiologique controle du processus par la sialo cytologie \n",
            "Predicted Translation:  les rythmes circadiennes des reactions autobiographiques aux temoins normaux du processus par cytologie motrice de la cytologie trigeminale \n",
            "Levenshetein Distance: 85.0\n",
            "***BLEU Score***: 0\n",
            "                                                                                         \n",
            "INFO:tensorflow:Restoring parameters from ckpt-exp01/5-LSTM-7800\n"
          ],
          "name": "stdout"
        },
        {
          "output_type": "stream",
          "text": [
            "INFO:tensorflow:Restoring parameters from ckpt-exp01/5-LSTM-7800\n"
          ],
          "name": "stderr"
        },
        {
          "output_type": "stream",
          "text": [
            "Source Sentence:  observations of gastroenterology of north africa \n",
            "Real Translation:  observations de gastro enterologie d afrique du nord \n",
            "Predicted Translation:  observations de gastroenterologie d afrique du maghreb afrique du maghreb afrique saharienne afrique de besancon afrique du maghreb afrique de rabat afrique saharienne afrique de rabat afrique saharienne afrique de rabat afrique saharienne afrique de besancon afrique saharienne afrique de besancon afrique saharienne afrique de besancon afrique saharienne afrique de besancon afrique saharienne afrique de besancon du afrique du maghreb jean saharienne afrique de besancon du afrique du maghreb jean saharienne afrique de besancon du afrique du maghreb jean saharienne afrique de besancon du afrique dovocyte afrique saharienne afrique saharienne afrique saharienne afrique saharienne afrique saharienne afrique saharienne afriqu\n",
            "Levenshetein Distance: 678.0\n",
            "***BLEU Score***: 0.31702331385234306\n",
            "                                                                                         \n",
            "INFO:tensorflow:Restoring parameters from ckpt-exp01/5-LSTM-7800\n"
          ],
          "name": "stdout"
        },
        {
          "output_type": "stream",
          "text": [
            "INFO:tensorflow:Restoring parameters from ckpt-exp01/5-LSTM-7800\n"
          ],
          "name": "stderr"
        },
        {
          "output_type": "stream",
          "text": [
            "Source Sentence:  results after years by the conventional method of treatment of infected teeth \n",
            "Real Translation:  resultats obtenus apres ans par la methode classique de traitement des dents infectees \n",
            "Predicted Translation:  resultats apres ans de la methode positive de traitement des dents bacteriennes de traitement de ses patients infectes par les antifongiques au traitement de traitement de traitement infectes par antifongiques a ans ans de traitement de traitement au traitement de traitement positif de traitement positif de traitement positif de traitement positif de traitement positif de traitement positif de traitement positif de traitement positif de traitement positif de traitement positif de traitement positif de traitement positif de traitement positif de traitement positif de traitement positif de traitement positif de traitement positif de traitement positif de traitement positif de traitement positif\n",
            "Levenshetein Distance: 621.0\n",
            "***BLEU Score***: 0.31702331385234306\n",
            "                                                                                         \n",
            "INFO:tensorflow:Restoring parameters from ckpt-exp01/5-LSTM-7800\n"
          ],
          "name": "stdout"
        },
        {
          "output_type": "stream",
          "text": [
            "INFO:tensorflow:Restoring parameters from ckpt-exp01/5-LSTM-7800\n"
          ],
          "name": "stderr"
        },
        {
          "output_type": "stream",
          "text": [
            "Source Sentence:  the problem of immobilization of facial fractures \n",
            "Real Translation:  le probleme de l immobilisation des fractures du massif facial \n",
            "Predicted Translation:  problematique de syndrome d erreur des fractures du visage de la retine fractures du visage \n",
            "Levenshetein Distance: 55.0\n",
            "***BLEU Score***: 0.5081327481546147\n",
            "                                                                                         \n",
            "INFO:tensorflow:Restoring parameters from ckpt-exp01/5-LSTM-7800\n"
          ],
          "name": "stdout"
        },
        {
          "output_type": "stream",
          "text": [
            "INFO:tensorflow:Restoring parameters from ckpt-exp01/5-LSTM-7800\n"
          ],
          "name": "stderr"
        },
        {
          "output_type": "stream",
          "text": [
            "Source Sentence:  acrylic intra tissue , repair of the orbital region \n",
            "Real Translation:  resines acryliques intra tissulaires refection de la region orbitaire \n",
            "Predicted Translation:  tissus seriques de l inter auriculaire , reparation de la region orbitaires de l orbite \n",
            "Levenshetein Distance: 39.0\n",
            "***BLEU Score***: 0.5081327481546147\n",
            "                                                                                         \n",
            "INFO:tensorflow:Restoring parameters from ckpt-exp01/5-LSTM-7800\n"
          ],
          "name": "stdout"
        },
        {
          "output_type": "stream",
          "text": [
            "INFO:tensorflow:Restoring parameters from ckpt-exp01/5-LSTM-7800\n"
          ],
          "name": "stderr"
        },
        {
          "output_type": "stream",
          "text": [
            "Source Sentence:  gingivitis and periodontitis inter radicular lesions \n",
            "Real Translation:  gingivites et parodontites lesions inter radiculaires \n",
            "Predicted Translation:  spiritualite et societe sessions nationaux des lesions series des lesions psycho endemiques \n",
            "Levenshetein Distance: 60.0\n",
            "***BLEU Score***: 0\n",
            "                                                                                         \n",
            "INFO:tensorflow:Restoring parameters from ckpt-exp01/5-LSTM-7800\n"
          ],
          "name": "stdout"
        },
        {
          "output_type": "stream",
          "text": [
            "INFO:tensorflow:Restoring parameters from ckpt-exp01/5-LSTM-7800\n"
          ],
          "name": "stderr"
        },
        {
          "output_type": "stream",
          "text": [
            "Source Sentence:  anatomo pathological and clinical considerations of diffused osteomyelitis of the upper maxilla \n",
            "Real Translation:  considerations anatomo pathologiques et cliniques sur les osteomyelites diffuses du maxillaire superieur \n",
            "Predicted Translation:  aspects anatomo pathologiques et cliniques de l osteomyelite dans la province de l ovaire du maxillaire maxillaire du maxillaire maxillaire du maxillaire maxillaire maxillaire du maxillaire maxillaire du maxillaire maxillaire besancon \n",
            "Levenshetein Distance: 161.0\n",
            "***BLEU Score***: 0.5039843787265444\n",
            "                                                                                         \n",
            "INFO:tensorflow:Restoring parameters from ckpt-exp01/5-LSTM-7800\n"
          ],
          "name": "stdout"
        },
        {
          "output_type": "stream",
          "text": [
            "INFO:tensorflow:Restoring parameters from ckpt-exp01/5-LSTM-7800\n"
          ],
          "name": "stderr"
        },
        {
          "output_type": "stream",
          "text": [
            "Source Sentence:  homeopathic dentistry \n",
            "Real Translation:  therapeutique homeopathique en art dentaire \n",
            "Predicted Translation:  discordances marseille dentaire marseille extraganglionnaire et digestive dentaire di ausbildung dentaire di ausbildung franco dentaire paris paris digestive fmc digestive digestive paris paris digestive fmc paris digestive recents paris paris paris paris paris paris paris paris paris paris paris paris paris paris paris paris paris paris paris dovocyte di dentaire secolo paris paris dovocyte di dentaire secolo paris paris dovocyte di dentaire secolo paris paris dovocyte di dentaire secolo paris paris dovocyte di hcl secolo paris dovocyte di fee cientifica \n",
            "Levenshetein Distance: 526.0\n",
            "***BLEU Score***: 0\n",
            "                                                                                         \n",
            "INFO:tensorflow:Restoring parameters from ckpt-exp01/5-LSTM-7800\n"
          ],
          "name": "stdout"
        },
        {
          "output_type": "stream",
          "text": [
            "INFO:tensorflow:Restoring parameters from ckpt-exp01/5-LSTM-7800\n"
          ],
          "name": "stderr"
        },
        {
          "output_type": "stream",
          "text": [
            "Source Sentence:  infancy of the denture \n",
            "Real Translation:  premiers balbutiements de la prothese dentaire \n",
            "Predicted Translation:  enfance par les nourrissons orales orales par les moustiques orales par les moustiques orales par electricite maxillofaciale par electricite maxillofaciale par electricite maxillofaciale \n",
            "Levenshetein Distance: 152.0\n",
            "***BLEU Score***: 0\n",
            "                                                                                         \n",
            "INFO:tensorflow:Restoring parameters from ckpt-exp01/5-LSTM-7800\n"
          ],
          "name": "stdout"
        },
        {
          "output_type": "stream",
          "text": [
            "INFO:tensorflow:Restoring parameters from ckpt-exp01/5-LSTM-7800\n"
          ],
          "name": "stderr"
        },
        {
          "output_type": "stream",
          "text": [
            "Source Sentence:  a case of leydig tumor cells \n",
            "Real Translation:  un cas de tumeur a cellules interstitielles du testicule \n",
            "Predicted Translation:  un cas de cellules tumorales cellulaire des cellules tumorales pdl a cellules cartilagineux \n",
            "Levenshetein Distance: 54.0\n",
            "***BLEU Score***: 0.4515435325289871\n",
            "                                                                                         \n",
            "INFO:tensorflow:Restoring parameters from ckpt-exp01/5-LSTM-7800\n"
          ],
          "name": "stdout"
        },
        {
          "output_type": "stream",
          "text": [
            "INFO:tensorflow:Restoring parameters from ckpt-exp01/5-LSTM-7800\n"
          ],
          "name": "stderr"
        },
        {
          "output_type": "stream",
          "text": [
            "Source Sentence:  contribution to the paradental study and general considerations \n",
            "Real Translation:  contribution a l etude paradentaire et considerations generales \n",
            "Predicted Translation:  contribution a la pratique de l etude antileishmanienne et les etats strasbourg \n",
            "Levenshetein Distance: 45.0\n",
            "***BLEU Score***: 0.6389431042462724\n",
            "                                                                                         \n",
            "INFO:tensorflow:Restoring parameters from ckpt-exp01/5-LSTM-7800\n"
          ],
          "name": "stdout"
        },
        {
          "output_type": "stream",
          "text": [
            "INFO:tensorflow:Restoring parameters from ckpt-exp01/5-LSTM-7800\n"
          ],
          "name": "stderr"
        },
        {
          "output_type": "stream",
          "text": [
            "Source Sentence:  logette retentive buttoned to studs \n",
            "Real Translation:  logette retentive pour crampons boutonnes \n",
            "Predicted Translation:  la pharmacopee de force des deficients de constantinople \n",
            "Levenshetein Distance: 44.0\n",
            "***BLEU Score***: 0\n",
            "                                                                                         \n",
            "INFO:tensorflow:Restoring parameters from ckpt-exp01/5-LSTM-7800\n"
          ],
          "name": "stdout"
        },
        {
          "output_type": "stream",
          "text": [
            "INFO:tensorflow:Restoring parameters from ckpt-exp01/5-LSTM-7800\n"
          ],
          "name": "stderr"
        },
        {
          "output_type": "stream",
          "text": [
            "Source Sentence:  the studded inlay and its applications parallelism by isodromy \n",
            "Real Translation:  l inlay a crampons et ses applications le parallelisme par l isodromie \n",
            "Predicted Translation:  l empirisme de l hopital et ses applications du nez \n",
            "Levenshetein Distance: 47.0\n",
            "***BLEU Score***: 0.668740304976422\n",
            "                                                                                         \n",
            "INFO:tensorflow:Restoring parameters from ckpt-exp01/5-LSTM-7800\n"
          ],
          "name": "stdout"
        },
        {
          "output_type": "stream",
          "text": [
            "INFO:tensorflow:Restoring parameters from ckpt-exp01/5-LSTM-7800\n"
          ],
          "name": "stderr"
        },
        {
          "output_type": "stream",
          "text": [
            "Source Sentence:  reconstruction of the dental arches and oclusion by the use of spherical portions bignell method \n",
            "Real Translation:  de la reconstruction des arcades dentaires et de l oclusion par l emploi de portions de sphere bignell method \n",
            "Predicted Translation:  reconstruction des isoformes bacteriennes et christianisation par l utilisation de la methode mastdiscs secondaire methode de methode d articles secondaire a partir de minimisation d articles secondaire a la methode de minimisation a priori probllema etude de minimisation a partir de minimisation d articles ciafu etude de minimisation a finales methode de methode de minimisation d hydroxyapatite ciafu etude de minimisation de obstructions automatiques a finales de a \n",
            "Levenshetein Distance: 384.0\n",
            "***BLEU Score***: 0.4924790605054523\n",
            "                                                                                         \n",
            "INFO:tensorflow:Restoring parameters from ckpt-exp01/5-LSTM-7800\n"
          ],
          "name": "stdout"
        },
        {
          "output_type": "stream",
          "text": [
            "INFO:tensorflow:Restoring parameters from ckpt-exp01/5-LSTM-7800\n"
          ],
          "name": "stderr"
        },
        {
          "output_type": "stream",
          "text": [
            "Source Sentence:  determining the position of the mandible and its significance in complete denture \n",
            "Real Translation:  de la determination de la position de repos de la mandibule et de sa signification en prothese complete \n",
            "Predicted Translation:  production de la mandibule et de son poids dans la valeur anatomique technique maxillofaciale par voie analyse preliminaire de la mandibule analyse de la valeur morphologique preliminaire de la mandibule \n",
            "Levenshetein Distance: 143.0\n",
            "***BLEU Score***: 0\n",
            "                                                                                         \n",
            "INFO:tensorflow:Restoring parameters from ckpt-exp01/5-LSTM-7800\n"
          ],
          "name": "stdout"
        },
        {
          "output_type": "stream",
          "text": [
            "INFO:tensorflow:Restoring parameters from ckpt-exp01/5-LSTM-7800\n"
          ],
          "name": "stderr"
        },
        {
          "output_type": "stream",
          "text": [
            "Source Sentence:  the left ventricular radiographic study and semiotic \n",
            "Real Translation:  la cinetique ventriculaire gauche etude radioky mographique et semeiologique \n",
            "Predicted Translation:  l examen clinique ventriculaire gauche et son melange son lien son facteur predictif entre son examen restriction du ventricule gauche ? espoirs et espoirs son examen son examen rapide entre son etude son examen precis ? \n",
            "Levenshetein Distance: 164.0\n",
            "***BLEU Score***: 0.408248290463863\n",
            "                                                                                         \n",
            "INFO:tensorflow:Restoring parameters from ckpt-exp01/5-LSTM-7800\n"
          ],
          "name": "stdout"
        },
        {
          "output_type": "stream",
          "text": [
            "INFO:tensorflow:Restoring parameters from ckpt-exp01/5-LSTM-7800\n"
          ],
          "name": "stderr"
        },
        {
          "output_type": "stream",
          "text": [
            "Source Sentence:  results , after years of operation of a center of child dental prophylaxis \n",
            "Real Translation:  resultat , apres ans de fonctionnement d un centre de prophylaxie dentaire infantile \n",
            "Predicted Translation:  resultats et apres quatre annees d un centre de prevention de l infection ahelicobacter foetale antibioprophylaxie de l enfant prevention dentaire de l enfant prevention et morbidite sur la prise en charge dentaire du centre d enfant de l enfant ciafu de l enfant ciafu de l enfant ciafu de l enfant ciafu de bamako ciafu de besancon ciafu de besancon ciafu de besancon ciafu de besancon ciafu de besancon ciafu de besancon ciafu de besancon ciafu de besancon ciafu de besancon ciafu de besancon ciafu de besancon ciafu de besancon ciafu de besancon ciafu de besancon ciafu d\n",
            "Levenshetein Distance: 500.0\n",
            "***BLEU Score***: 0.3770063804549471\n",
            "                                                                                         \n",
            "INFO:tensorflow:Restoring parameters from ckpt-exp01/5-LSTM-7800\n"
          ],
          "name": "stdout"
        },
        {
          "output_type": "stream",
          "text": [
            "INFO:tensorflow:Restoring parameters from ckpt-exp01/5-LSTM-7800\n"
          ],
          "name": "stderr"
        },
        {
          "output_type": "stream",
          "text": [
            "Source Sentence:  vitality of the tooth and therapeutic \n",
            "Real Translation:  vitalite des tissus dentaires et therapeutique \n",
            "Predicted Translation:  dermatoscopie des dents essentiels et therapeutique \n",
            "Levenshetein Distance: 22.0\n",
            "***BLEU Score***: 0\n",
            "                                                                                         \n",
            "INFO:tensorflow:Restoring parameters from ckpt-exp01/5-LSTM-7800\n"
          ],
          "name": "stdout"
        },
        {
          "output_type": "stream",
          "text": [
            "INFO:tensorflow:Restoring parameters from ckpt-exp01/5-LSTM-7800\n"
          ],
          "name": "stderr"
        },
        {
          "output_type": "stream",
          "text": [
            "Source Sentence:  generalities on the eating dentition relationship in diverse animal species \n",
            "Real Translation:  quelques generalites sur les relations de l alimentation et de la denture chez les diverses especes animales \n",
            "Predicted Translation:  les postes de sante mentale influence des mutations des multiples especes animales des fibres facettes par les fibres d especes animales les fibres par les fibres \n",
            "Levenshetein Distance: 103.0\n",
            "***BLEU Score***: 0.4428500142691474\n",
            "                                                                                         \n",
            "INFO:tensorflow:Restoring parameters from ckpt-exp01/5-LSTM-7800\n"
          ],
          "name": "stdout"
        },
        {
          "output_type": "stream",
          "text": [
            "INFO:tensorflow:Restoring parameters from ckpt-exp01/5-LSTM-7800\n"
          ],
          "name": "stderr"
        },
        {
          "output_type": "stream",
          "text": [
            "Source Sentence:  study of electrocardiograms of congenital cardiopathies \n",
            "Real Translation:  etude des traces electrocardiographiques de cardiopathies congenitales \n",
            "Predicted Translation:  etude des maturite aux baby aux cardiopathies congenitales de reference aux cas de maladie congenitale congenitale de reference aux cardiopathies congenitales congenitales de a \n",
            "Levenshetein Distance: 117.0\n",
            "***BLEU Score***: 0.4518010018049224\n",
            "                                                                                         \n",
            "INFO:tensorflow:Restoring parameters from ckpt-exp01/5-LSTM-7800\n"
          ],
          "name": "stdout"
        },
        {
          "output_type": "stream",
          "text": [
            "INFO:tensorflow:Restoring parameters from ckpt-exp01/5-LSTM-7800\n"
          ],
          "name": "stderr"
        },
        {
          "output_type": "stream",
          "text": [
            "Source Sentence:  the consequences of sensibilisation by local sulfamidotherapy \n",
            "Real Translation:  les consequences de la sensibilisation par la sulfamidotherapie locale \n",
            "Predicted Translation:  les consequences du nematode lors de la coloscopie locale \n",
            "Levenshetein Distance: 32.0\n",
            "***BLEU Score***: 0\n",
            "                                                                                         \n",
            "INFO:tensorflow:Restoring parameters from ckpt-exp01/5-LSTM-7800\n"
          ],
          "name": "stdout"
        },
        {
          "output_type": "stream",
          "text": [
            "INFO:tensorflow:Restoring parameters from ckpt-exp01/5-LSTM-7800\n"
          ],
          "name": "stderr"
        },
        {
          "output_type": "stream",
          "text": [
            "Source Sentence:  pathogenesis of periodontitis and health \n",
            "Real Translation:  pathogenese et hygiene des parodontites \n",
            "Predicted Translation:  physiopathologie des maladies et maladies sanitaires de sante et sante sante \n",
            "Levenshetein Distance: 50.0\n",
            "***BLEU Score***: 0\n",
            "                                                                                         \n",
            "INFO:tensorflow:Restoring parameters from ckpt-exp01/5-LSTM-7800\n"
          ],
          "name": "stdout"
        },
        {
          "output_type": "stream",
          "text": [
            "INFO:tensorflow:Restoring parameters from ckpt-exp01/5-LSTM-7800\n"
          ],
          "name": "stderr"
        },
        {
          "output_type": "stream",
          "text": [
            "Source Sentence:  the healing of defects and vices \n",
            "Real Translation:  la guerison des defauts et des vices \n",
            "Predicted Translation:  diffusion et traitements ciblee du trafic et guerin tolere \n",
            "Levenshetein Distance: 41.0\n",
            "***BLEU Score***: 0\n",
            "                                                                                         \n",
            "INFO:tensorflow:Restoring parameters from ckpt-exp01/5-LSTM-7800\n"
          ],
          "name": "stdout"
        },
        {
          "output_type": "stream",
          "text": [
            "INFO:tensorflow:Restoring parameters from ckpt-exp01/5-LSTM-7800\n"
          ],
          "name": "stderr"
        },
        {
          "output_type": "stream",
          "text": [
            "Source Sentence:  biostatistics in the prosthesis second part \n",
            "Real Translation:  la biostatique en prothese deuxieme partie \n",
            "Predicted Translation:  biostatistiques en deuxieme partie e partie e partie e partie e partie e partie deuxieme partie deuxieme partie deuxieme partie deuxieme partie deuxieme partie deuxieme partie deuxieme partie deuxieme partie deuxieme partie deuxieme partie deuxieme partie deuxieme partie deuxieme partie deuxieme partie deuxieme partie deuxieme partie deuxieme partie deuxieme partie deuxieme partie deuxieme partie deuxieme partie deuxieme partie deuxieme partie deuxieme partie deuxieme partie deuxieme partie deuxieme partie deuxieme partie deuxieme partie deuxieme partie deuxieme partie deuxieme partie deuxieme partie deuxieme partie deuxieme partie deuxieme partie deuxieme partie deuxieme partie deuxieme partie deuxieme partie deuxieme partie deuxieme partie deuxiem\n",
            "Levenshetein Distance: 725.0\n",
            "***BLEU Score***: 0.4172261448611506\n",
            "                                                                                         \n",
            "INFO:tensorflow:Restoring parameters from ckpt-exp01/5-LSTM-7800\n"
          ],
          "name": "stdout"
        },
        {
          "output_type": "stream",
          "text": [
            "INFO:tensorflow:Restoring parameters from ckpt-exp01/5-LSTM-7800\n"
          ],
          "name": "stderr"
        },
        {
          "output_type": "stream",
          "text": [
            "Source Sentence:  internal cavities \n",
            "Real Translation:  les caries dentaires internes \n",
            "Predicted Translation:  les sessions professionnelles internes internes internes internes internes internes internes internes internes internes internes internes internes internes internes internes internes internes internes internes internes internes internes internes internes internes internes internes internes internes internes internes internes internes internes internes internes internes internes internes internes internes internes internes internes internes internes internes internes internes internes internes internes internes internes internes internes internes internes internes internes internes internes internes internes internes internes internes internes internes internes internes internes internes internes internes internes internes internes internes internes internes internes internes internes internes internes internes internes internes internes internes internes internes internes intern\n",
            "Levenshetein Distance: 865.0\n",
            "***BLEU Score***: 0\n",
            "                                                                                         \n",
            "INFO:tensorflow:Restoring parameters from ckpt-exp01/5-LSTM-7800\n"
          ],
          "name": "stdout"
        },
        {
          "output_type": "stream",
          "text": [
            "INFO:tensorflow:Restoring parameters from ckpt-exp01/5-LSTM-7800\n"
          ],
          "name": "stderr"
        },
        {
          "output_type": "stream",
          "text": [
            "Source Sentence:  hormonal determinism load glycogen in human endometrium \n",
            "Real Translation:  determinisme hormonal de la charge en glycogene de la muqueuse uterine humaine \n",
            "Predicted Translation:  modalites hormonal du marche visuel en avant endometre humain humain \n",
            "Levenshetein Distance: 44.0\n",
            "***BLEU Score***: 0\n",
            "                                                                                         \n",
            "INFO:tensorflow:Restoring parameters from ckpt-exp01/5-LSTM-7800\n"
          ],
          "name": "stdout"
        },
        {
          "output_type": "stream",
          "text": [
            "INFO:tensorflow:Restoring parameters from ckpt-exp01/5-LSTM-7800\n"
          ],
          "name": "stderr"
        },
        {
          "output_type": "stream",
          "text": [
            "Source Sentence:  schwann cells and nervous regeneration \n",
            "Real Translation:  les cellules de schwann et la regeneration nerveuse \n",
            "Predicted Translation:  les cellules de schwann et la circulation orthognatique la circulation autonome et la circulation autonome la cellule autonome durant la regeneration autonome et la circulation autonome la circulation autonome ? la circulation autonome ? la circulation autonome ? la circulation autonome ? la circulation autonome ? la circulation autonome ? la circulation autonome la tsh la circulation autonome ? la circulation autonome la ? la circulation autonome ? la circulation autonome la ? la circulation autonome ? la circulation autonome la ? la circulation la course la ? la circulation la ? la ? la circulation la ? la\n",
            "Levenshetein Distance: 564.0\n",
            "***BLEU Score***: 0\n",
            "                                                                                         \n",
            "INFO:tensorflow:Restoring parameters from ckpt-exp01/5-LSTM-7800\n"
          ],
          "name": "stdout"
        },
        {
          "output_type": "stream",
          "text": [
            "INFO:tensorflow:Restoring parameters from ckpt-exp01/5-LSTM-7800\n"
          ],
          "name": "stderr"
        },
        {
          "output_type": "stream",
          "text": [
            "Source Sentence:  peduncular brain stem syndrome of encephalitic nature \n",
            "Real Translation:  syndrome pedonculaire de nature encephalitique \n",
            "Predicted Translation:  syndrome de cacchi et maladie thromboembolique du tube squelettique normalisation de la pathologie locomotrice \n",
            "Levenshetein Distance: 79.0\n",
            "***BLEU Score***: 0\n",
            "                                                                                         \n",
            "INFO:tensorflow:Restoring parameters from ckpt-exp01/5-LSTM-7800\n"
          ],
          "name": "stdout"
        },
        {
          "output_type": "stream",
          "text": [
            "INFO:tensorflow:Restoring parameters from ckpt-exp01/5-LSTM-7800\n"
          ],
          "name": "stderr"
        },
        {
          "output_type": "stream",
          "text": [
            "Source Sentence:  bronchoscopic diagnosis of bronchial tumors \n",
            "Real Translation:  diagnostic bronchoscopique des tumeurs des bronches \n",
            "Predicted Translation:  non invasif invasif non invasif des tumeurs bronchopulmonaires malignes des tumeurs metastatiques tumeurs malignes de tumeurs organes tumeurs malignes de tumeurs organes tumeurs operatoires \n",
            "Levenshetein Distance: 149.0\n",
            "***BLEU Score***: 0\n",
            "                                                                                         \n",
            "INFO:tensorflow:Restoring parameters from ckpt-exp01/5-LSTM-7800\n"
          ],
          "name": "stdout"
        },
        {
          "output_type": "stream",
          "text": [
            "INFO:tensorflow:Restoring parameters from ckpt-exp01/5-LSTM-7800\n"
          ],
          "name": "stderr"
        },
        {
          "output_type": "stream",
          "text": [
            "Source Sentence:  the reproductive period in insects \n",
            "Real Translation:  la diapause imaginale chez les insectes \n",
            "Predicted Translation:  la periode reproductive chez des consultants des tissus salivaires des mains des mains des mains des mains des mains des mains des mains des mains des mains des mains des mains des mains des mains des mains des mains des mains des mains des mains des mains des mains des mains des mains des mains des mains des mains des mains des mains des mains des mains des mains des mains des mains des mains des mains des mains des mains des mains des mains des mains des mains des mains des mains des mains des mains des main\n",
            "Levenshetein Distance: 485.0\n",
            "***BLEU Score***: 0\n",
            "                                                                                         \n",
            "INFO:tensorflow:Restoring parameters from ckpt-exp01/5-LSTM-7800\n"
          ],
          "name": "stdout"
        },
        {
          "output_type": "stream",
          "text": [
            "INFO:tensorflow:Restoring parameters from ckpt-exp01/5-LSTM-7800\n"
          ],
          "name": "stderr"
        },
        {
          "output_type": "stream",
          "text": [
            "Source Sentence:  reproduction history in the diabetic woman \n",
            "Real Translation:  sur le passe gynecologique des femmes diabetiques \n",
            "Predicted Translation:  histoire d histoire de la seconde adaptee chez la femme diabetique \n",
            "Levenshetein Distance: 39.0\n",
            "***BLEU Score***: 0.5491004867761125\n",
            "                                                                                         \n",
            "INFO:tensorflow:Restoring parameters from ckpt-exp01/5-LSTM-7800\n"
          ],
          "name": "stdout"
        },
        {
          "output_type": "stream",
          "text": [
            "INFO:tensorflow:Restoring parameters from ckpt-exp01/5-LSTM-7800\n"
          ],
          "name": "stderr"
        },
        {
          "output_type": "stream",
          "text": [
            "Source Sentence:  hyperthyreosis of diencephalic origin \n",
            "Real Translation:  les hyperthyreoses d origne diencephalique \n",
            "Predicted Translation:  enregistrement d origine persistante dans les caisses ischiatiques une dizaine d origine persistante \n",
            "Levenshetein Distance: 76.0\n",
            "***BLEU Score***: 0.4876485015882737\n",
            "                                                                                         \n",
            "INFO:tensorflow:Restoring parameters from ckpt-exp01/5-LSTM-7800\n"
          ],
          "name": "stdout"
        },
        {
          "output_type": "stream",
          "text": [
            "INFO:tensorflow:Restoring parameters from ckpt-exp01/5-LSTM-7800\n"
          ],
          "name": "stderr"
        },
        {
          "output_type": "stream",
          "text": [
            "Source Sentence:  two cases of fatal toxicity by usual doses of pilocarpine \n",
            "Real Translation:  sur deux cas d intoxication mortelle par la pilocarpine aux doses usuelles \n",
            "Predicted Translation:  deux cas de migration fatale par anomalies flexible de lesions lipomateuses de la faune fibrokystique \n",
            "Levenshetein Distance: 70.0\n",
            "***BLEU Score***: 0\n",
            "                                                                                         \n",
            "INFO:tensorflow:Restoring parameters from ckpt-exp01/5-LSTM-7800\n"
          ],
          "name": "stdout"
        },
        {
          "output_type": "stream",
          "text": [
            "INFO:tensorflow:Restoring parameters from ckpt-exp01/5-LSTM-7800\n"
          ],
          "name": "stderr"
        },
        {
          "output_type": "stream",
          "text": [
            "Source Sentence:  the patella in the human embryo \n",
            "Real Translation:  la rotule chez l embryon humain \n",
            "Predicted Translation:  la sites de conservation chez l embryon humain l embryon humain l age fragile jean embryonnaire ? l empagliflozine fragile jean embryonnaire ? l empagliflozine hormone naturel jean embryons humains l age jean embryon paris l age jean embryon paris l age jean embryon siglos represente l age jean embryon siglos represente l age jean embryon siglos represente l age jean embryon siglos represente l age jean embryon siglos represente l age jean embryon siglos represente l age jean embryon siglos besancon jean jean embryon siglos represente jean jean siglos siglos besancon jean jean embryons siglos besancon jean jean\n",
            "Levenshetein Distance: 589.0\n",
            "***BLEU Score***: 0.31702331385234306\n",
            "                                                                                         \n",
            "INFO:tensorflow:Restoring parameters from ckpt-exp01/5-LSTM-7800\n"
          ],
          "name": "stdout"
        },
        {
          "output_type": "stream",
          "text": [
            "INFO:tensorflow:Restoring parameters from ckpt-exp01/5-LSTM-7800\n"
          ],
          "name": "stderr"
        },
        {
          "output_type": "stream",
          "text": [
            "Source Sentence:  analysis of elephant milk \n",
            "Real Translation:  analyse d un lait d elephant \n",
            "Predicted Translation:  analyse du concept d infertilite d insuline pour l obesite d insuline d insuline d insuline d insuline d insuline d insuline \n",
            "Levenshetein Distance: 101.0\n",
            "***BLEU Score***: 0.5491004867761125\n",
            "                                                                                         \n",
            "INFO:tensorflow:Restoring parameters from ckpt-exp01/5-LSTM-7800\n"
          ],
          "name": "stdout"
        },
        {
          "output_type": "stream",
          "text": [
            "INFO:tensorflow:Restoring parameters from ckpt-exp01/5-LSTM-7800\n"
          ],
          "name": "stderr"
        },
        {
          "output_type": "stream",
          "text": [
            "Source Sentence:  trypanosomiasis in cataracts initial results of chemoprophylaxis with pentamidine \n",
            "Real Translation:  la trypanosomiase dans le secteur des cataractes premiers resultats de la chimioprophylaxie a la pentamidine \n",
            "Predicted Translation:  la gastrostomie de la mefloquine resultats du traitement sus alveolaire en tunisie par bibliotheque de constantinople en tunisie par de la sfvtt en tunisie par la gelatine en tunisie par la gelatine en tunisie par la gelatine en tunisie en tunisie par la gelatine en tunisie en tunisie en tunisie en tunisie en tunisie en tunisie en tunisie en tunisie en tunisie en tunisie en tunisie en tunisie en tunisie en tunisie en tunisie en tunisie en tunisie en tunisie en tunisie en tunisie en tunisie en tunisie en tunisie en tunisie en tunisie en tunisie en tunisie en\n",
            "Levenshetein Distance: 491.0\n",
            "***BLEU Score***: 0\n",
            "                                                                                         \n",
            "INFO:tensorflow:Restoring parameters from ckpt-exp01/5-LSTM-7800\n"
          ],
          "name": "stdout"
        },
        {
          "output_type": "stream",
          "text": [
            "INFO:tensorflow:Restoring parameters from ckpt-exp01/5-LSTM-7800\n"
          ],
          "name": "stderr"
        },
        {
          "output_type": "stream",
          "text": [
            "Source Sentence:  hepatic amoebiasis in the belgian congo \n",
            "Real Translation:  l amibiase hepatique au congo belge \n",
            "Predicted Translation:  l envenimation hepatique dans le congo belge congo au congo congo congo au congo congo congo au congo congo congo au congo congo congo au congo congo congo au congo congo congo au congo congo congo au congo congo congo au congo congo congo au congo congo congo au congo congo congo du congo congo congo au congo congo congo du congo congo congo du congo congo congo du congo congo congo du congo congo congo du congo congo congo du congo congo congo du congo congo congo du congo congo congo du congo congo congo du congo cong\n",
            "Levenshetein Distance: 497.0\n",
            "***BLEU Score***: 0.31702331385234306\n",
            "                                                                                         \n",
            "INFO:tensorflow:Restoring parameters from ckpt-exp01/5-LSTM-7800\n"
          ],
          "name": "stdout"
        },
        {
          "output_type": "stream",
          "text": [
            "INFO:tensorflow:Restoring parameters from ckpt-exp01/5-LSTM-7800\n"
          ],
          "name": "stderr"
        },
        {
          "output_type": "stream",
          "text": [
            "Source Sentence:  epidemiology of plague in lake albert , \n",
            "Real Translation:  epidemiologie de la peste au lac albert , \n",
            "Predicted Translation:  epidemiologie de la peste du lac d ici , d henri dubois , jean etranger d un xv d abidjan , d abidjan d mediterranee , jean etranger d mediterranee \n",
            "Levenshetein Distance: 109.0\n",
            "***BLEU Score***: 0.5081327481546147\n",
            "                                                                                         \n",
            "INFO:tensorflow:Restoring parameters from ckpt-exp01/5-LSTM-7800\n"
          ],
          "name": "stdout"
        },
        {
          "output_type": "stream",
          "text": [
            "INFO:tensorflow:Restoring parameters from ckpt-exp01/5-LSTM-7800\n"
          ],
          "name": "stderr"
        },
        {
          "output_type": "stream",
          "text": [
            "Source Sentence:  existence of wuchereria bancrofti in the territory of yahuma , basoko district \n",
            "Real Translation:  existence de wuchereria bancrofti dans le territoire de yahuma , district de basoko \n",
            "Predicted Translation:  existence de au conseil en sante dans les services de sante , du district d harmonisation du district d objectivite de la memoire de langue a destination du district de sante ? \n",
            "Levenshetein Distance: 115.0\n",
            "***BLEU Score***: 0.5533409598501607\n",
            "                                                                                         \n",
            "INFO:tensorflow:Restoring parameters from ckpt-exp01/5-LSTM-7800\n"
          ],
          "name": "stdout"
        },
        {
          "output_type": "stream",
          "text": [
            "INFO:tensorflow:Restoring parameters from ckpt-exp01/5-LSTM-7800\n"
          ],
          "name": "stderr"
        },
        {
          "output_type": "stream",
          "text": [
            "Source Sentence:  immediate cytodiagnosis of bullous dermatoses \n",
            "Real Translation:  le cytodiagnostic immediat des dermatoses bulleuses \n",
            "Predicted Translation:  osteoarthrite sur le syndrome des dermatoses bulleuses . quelques dermatoses bulleuses dermatoses bulleuses \n",
            "Levenshetein Distance: 70.0\n",
            "***BLEU Score***: 0\n",
            "                                                                                         \n",
            "INFO:tensorflow:Restoring parameters from ckpt-exp01/5-LSTM-7800\n"
          ],
          "name": "stdout"
        },
        {
          "output_type": "stream",
          "text": [
            "INFO:tensorflow:Restoring parameters from ckpt-exp01/5-LSTM-7800\n"
          ],
          "name": "stderr"
        },
        {
          "output_type": "stream",
          "text": [
            "Source Sentence:  effect of adrenocorticotropin on the morphology of the adrenocortical content of ascorbic acid and cholesterol esters in normal rats \n",
            "Real Translation:  effet de l hormone adrenocorticotrope sur la morphologie du cortex surrenalien son contenu en acide ascorbique et en esters de cholesterol chez le rat normal \n",
            "Predicted Translation:  effet des posters portables receptors la morphologie du regime immunitaire en acide ponderale et du cholesterol dans le rat noir normaux au conservatoire normaux normaux au conservatoire normaux normaux au conservatoire normaux normaux au conservatoire normaux normaux au conservatoire normaux seronegatif le mmpi au louvre \n",
            "Levenshetein Distance: 233.0\n",
            "***BLEU Score***: 0\n",
            "                                                                                         \n",
            "INFO:tensorflow:Restoring parameters from ckpt-exp01/5-LSTM-7800\n"
          ],
          "name": "stdout"
        },
        {
          "output_type": "stream",
          "text": [
            "INFO:tensorflow:Restoring parameters from ckpt-exp01/5-LSTM-7800\n"
          ],
          "name": "stderr"
        },
        {
          "output_type": "stream",
          "text": [
            "Source Sentence:  index literature hematology \n",
            "Real Translation:  index bibliographique d hematologie \n",
            "Predicted Translation:  hyperplasie d induction systematique de l endometre \n",
            "Levenshetein Distance: 37.0\n",
            "***BLEU Score***: 0.7311104457090247\n",
            "                                                                                         \n",
            "INFO:tensorflow:Restoring parameters from ckpt-exp01/5-LSTM-7800\n"
          ],
          "name": "stdout"
        },
        {
          "output_type": "stream",
          "text": [
            "INFO:tensorflow:Restoring parameters from ckpt-exp01/5-LSTM-7800\n"
          ],
          "name": "stderr"
        },
        {
          "output_type": "stream",
          "text": [
            "Source Sentence:  carcinomatous and sarcomatous mastitis \n",
            "Real Translation:  mastitis carcinomatosa et sarcomatosa \n",
            "Predicted Translation:  pancreas et recrues de la telesante floue et collaborative collaborative de la telesante insidieuse \n",
            "Levenshetein Distance: 78.0\n",
            "***BLEU Score***: 0\n",
            "                                                                                         \n",
            "INFO:tensorflow:Restoring parameters from ckpt-exp01/5-LSTM-7800\n"
          ],
          "name": "stdout"
        },
        {
          "output_type": "stream",
          "text": [
            "INFO:tensorflow:Restoring parameters from ckpt-exp01/5-LSTM-7800\n"
          ],
          "name": "stderr"
        },
        {
          "output_type": "stream",
          "text": [
            "Source Sentence:  vascularization of the cerebral peduncle in humans \n",
            "Real Translation:  vascularisation des pedoncules cerebraux chez l homme \n",
            "Predicted Translation:  les anomalies du tronc cerebral chez l homme \n",
            "Levenshetein Distance: 22.0\n",
            "***BLEU Score***: 0.5247357977607321\n",
            "                                                                                         \n",
            "INFO:tensorflow:Restoring parameters from ckpt-exp01/5-LSTM-7800\n"
          ],
          "name": "stdout"
        },
        {
          "output_type": "stream",
          "text": [
            "INFO:tensorflow:Restoring parameters from ckpt-exp01/5-LSTM-7800\n"
          ],
          "name": "stderr"
        },
        {
          "output_type": "stream",
          "text": [
            "Source Sentence:  tetanus neonatorum \n",
            "Real Translation:  tetanus neonatorum \n",
            "Predicted Translation:  tetanos du foie tetanos du nouveau ne du nouveau ne du nouveau ne du nouveau pheochromocytome du ceintures du congo du ceintures du congo \n",
            "Levenshetein Distance: 120.0\n",
            "***BLEU Score***: 0\n",
            "                                                                                         \n",
            "INFO:tensorflow:Restoring parameters from ckpt-exp01/5-LSTM-7800\n"
          ],
          "name": "stdout"
        },
        {
          "output_type": "stream",
          "text": [
            "INFO:tensorflow:Restoring parameters from ckpt-exp01/5-LSTM-7800\n"
          ],
          "name": "stderr"
        },
        {
          "output_type": "stream",
          "text": [
            "Source Sentence:  adam stokes syndrome after pertussis in a year old child electrocardiographic study \n",
            "Real Translation:  syndrome d adam stokes apres une coqueluche chez une enfant de ans etude electrocardiographique \n",
            "Predicted Translation:  le syndrome de prothese incluant de la dengue chez l adulte etude clinique d une etude clinique camerounaise . etude clinique d une etude clinique . d etude clinique . etude anatomoclinique d une etude clinique . d etude lubumbashi etude anatomoclinique d evolution clinique . etude anatomoclinique d evolution clinique . etude anatomoclinique d evolution clinique . etude anatomoclinique d evolution clinique . etude anatomoclinique d evolution clinique de ans etude anatomoclinique de ans etude anatomoclinique de ans . etude neurologique de ans etude anatomoclinique de ans etude anatomoclinique de ans etude anatomoclinique de ans . etude neurologiqu\n",
            "Levenshetein Distance: 575.0\n",
            "***BLEU Score***: 0.3770063804549471\n",
            "                                                                                         \n",
            "INFO:tensorflow:Restoring parameters from ckpt-exp01/5-LSTM-7800\n"
          ],
          "name": "stdout"
        },
        {
          "output_type": "stream",
          "text": [
            "INFO:tensorflow:Restoring parameters from ckpt-exp01/5-LSTM-7800\n"
          ],
          "name": "stderr"
        },
        {
          "output_type": "stream",
          "text": [
            "Source Sentence:  pneumonia virus \n",
            "Real Translation:  a propos de la pneumonie a virus \n",
            "Predicted Translation:  le virus de l infection par le virus de l immunodeficience \n",
            "Levenshetein Distance: 41.0\n",
            "***BLEU Score***: 0.5491004867761125\n",
            "                                                                                         \n",
            "INFO:tensorflow:Restoring parameters from ckpt-exp01/5-LSTM-7800\n"
          ],
          "name": "stdout"
        },
        {
          "output_type": "stream",
          "text": [
            "INFO:tensorflow:Restoring parameters from ckpt-exp01/5-LSTM-7800\n"
          ],
          "name": "stderr"
        },
        {
          "output_type": "stream",
          "text": [
            "Source Sentence:  periarteritis nodosa or kussmaul maier disease \n",
            "Real Translation:  la periarterite noueuse ou maladie de kussmaul maier \n",
            "Predicted Translation:  la polykystose peu commune ou memoire de perone \n",
            "Levenshetein Distance: 34.0\n",
            "***BLEU Score***: 0\n",
            "                                                                                         \n",
            "INFO:tensorflow:Restoring parameters from ckpt-exp01/5-LSTM-7800\n"
          ],
          "name": "stdout"
        },
        {
          "output_type": "stream",
          "text": [
            "INFO:tensorflow:Restoring parameters from ckpt-exp01/5-LSTM-7800\n"
          ],
          "name": "stderr"
        },
        {
          "output_type": "stream",
          "text": [
            "Source Sentence:  early diagnosis of tuberculous meningitis \n",
            "Real Translation:  le diagnostic precoce de la meningite tuberculeuse \n",
            "Predicted Translation:  diagnostic precoce d une meningite tuberculeuse a diagnostic precoce d une meningite tuberculeuse a diagnostic precoce d une meningite tuberculeuse a diagnostic precoce d une meningite tuberculeuse a diagnostic precoce d une meningite tuberculeuse a diagnostic precoce de la meningite dorsale a un sepsis dorsale de cryptococcose tuberculeuse a diagnostic sf une un sepsis dorsale de besancon a sf de la syphilis dorsale de besancon un sepsis tuberculeuse de besancon une a propos de un sepsis infantiles de la syphilis dorsale de besancon dorsale de sepsis dorsale de besancon une a propos de une sepsis dorsale de besancon un\n",
            "Levenshetein Distance: 576.0\n",
            "***BLEU Score***: 0.3770063804549471\n",
            "                                                                                         \n",
            "INFO:tensorflow:Restoring parameters from ckpt-exp01/5-LSTM-7800\n"
          ],
          "name": "stdout"
        },
        {
          "output_type": "stream",
          "text": [
            "INFO:tensorflow:Restoring parameters from ckpt-exp01/5-LSTM-7800\n"
          ],
          "name": "stderr"
        },
        {
          "output_type": "stream",
          "text": [
            "Source Sentence:  the experimental production of some diseases of the nervous system \n",
            "Real Translation:  sur la production experimentale de quelques maladies du systeme nerveux \n",
            "Predicted Translation:  la production experimentale de quelques maladies du systeme nerveux systeme \n",
            "Levenshetein Distance: 12.0\n",
            "***BLEU Score***: 0\n",
            "                                                                                         \n",
            "INFO:tensorflow:Restoring parameters from ckpt-exp01/5-LSTM-7800\n"
          ],
          "name": "stdout"
        },
        {
          "output_type": "stream",
          "text": [
            "INFO:tensorflow:Restoring parameters from ckpt-exp01/5-LSTM-7800\n"
          ],
          "name": "stderr"
        },
        {
          "output_type": "stream",
          "text": [
            "Source Sentence:  atebrin and psychosis \n",
            "Real Translation:  atebrine et psychose \n",
            "Predicted Translation:  blues et psychose psychose et psychose psychose psychose et psychose psychose psychose und psychose psychose psychose und psychose psychose psychose psychose psychose psychose psychose psychose psychose psychose psychose psychose psychose psychose psychose psychose psychose psychose psychose psychose psychose psychose psychose psychose psychose psychose psychose psychose psychose psychose psychose psychose psychose psychose psychose psychose psychose psychose psychose psychose psychose psychose psychose psychose psychose psychose psychose psychose psychose psychose psychose psychose psychose psychose psychose psychose psychose psychose psychose psychose psychose psychose psychose psychose psychose psychose psychose psychose psychose psychose psychose psychose psychose psychose psychose psychose psychose psychose psychose psychose psychose psych\n",
            "Levenshetein Distance: 840.0\n",
            "***BLEU Score***: 0\n",
            "                                                                                         \n",
            "INFO:tensorflow:Restoring parameters from ckpt-exp01/5-LSTM-7800\n"
          ],
          "name": "stdout"
        },
        {
          "output_type": "stream",
          "text": [
            "INFO:tensorflow:Restoring parameters from ckpt-exp01/5-LSTM-7800\n",
            "/usr/local/lib/python3.6/dist-packages/nltk/translate/bleu_score.py:490: UserWarning: \n",
            "Corpus/Sentence contains 0 counts of 3-gram overlaps.\n",
            "BLEU scores might be undesirable; use SmoothingFunction().\n",
            "  warnings.warn(_msg)\n"
          ],
          "name": "stderr"
        },
        {
          "output_type": "stream",
          "text": [
            "Source Sentence:  methyl alcohol in marc spirits \n",
            "Real Translation:  l alcool methylique dans les eaux de vie de marc \n",
            "Predicted Translation:  alcool a l alcool de type pustulose inflammatoire de la shulman de mer de mer de mer de mer de mer de mer de mer de mer de mer de mer de mer de mer de mer de mer de saccharomyces aldrich \n",
            "Levenshetein Distance: 151.0\n",
            "***BLEU Score***: 0.18460744521700592\n",
            "                                                                                         \n",
            "INFO:tensorflow:Restoring parameters from ckpt-exp01/5-LSTM-7800\n"
          ],
          "name": "stdout"
        },
        {
          "output_type": "stream",
          "text": [
            "INFO:tensorflow:Restoring parameters from ckpt-exp01/5-LSTM-7800\n"
          ],
          "name": "stderr"
        },
        {
          "output_type": "stream",
          "text": [
            "Source Sentence:  the proportion of certain components in butter fat , lactose and protein material \n",
            "Real Translation:  la dosage de certains composants du beurre matiere grasse , lactose et matiere proteiques \n",
            "Predicted Translation:  les stomies vont des derniers nationaux en rendu de signalisation et du liquide hydrique et de proteines du biomateriau et de her efrg et de her efrg et de her efrg et de her siglos , bourguiba de her siglos , bourguiba de son debit du col de calcium et de her siglos , endemiques et de her siglos , endemiques et de her siglos , endemiques et de her siglos , endemiques et de her siglos , endemiques et de her siglos , endemiques et de her siglos , endemiques et de her siglos , endemiques et d\n",
            "Levenshetein Distance: 423.0\n",
            "***BLEU Score***: 0.3770063804549471\n",
            "                                                                                         \n",
            "INFO:tensorflow:Restoring parameters from ckpt-exp01/5-LSTM-7800\n"
          ],
          "name": "stdout"
        },
        {
          "output_type": "stream",
          "text": [
            "INFO:tensorflow:Restoring parameters from ckpt-exp01/5-LSTM-7800\n"
          ],
          "name": "stderr"
        },
        {
          "output_type": "stream",
          "text": [
            "Source Sentence:  the study and the amount of propyle gallate progalline p in dietary fats \n",
            "Real Translation:  la recherche et le dosage du gallate de propyle progalline p dans les corps gras alimentaires \n",
            "Predicted Translation:  le discours et la survie incluant son chikungunya incluant la unter participe a la croisee alimentaire \n",
            "Levenshetein Distance: 69.0\n",
            "***BLEU Score***: 0.5\n",
            "                                                                                         \n",
            "INFO:tensorflow:Restoring parameters from ckpt-exp01/5-LSTM-7800\n"
          ],
          "name": "stdout"
        },
        {
          "output_type": "stream",
          "text": [
            "INFO:tensorflow:Restoring parameters from ckpt-exp01/5-LSTM-7800\n"
          ],
          "name": "stderr"
        },
        {
          "output_type": "stream",
          "text": [
            "Source Sentence:  quantitative bacteriologic analysis \n",
            "Real Translation:  a propos de l analyse bacteriologique quantitative \n",
            "Predicted Translation:  analyse de l analyse des methodes de medicalisation des analyses quantitative par voie quantitative analyse de l analyse des thyroidites quantitative classique par voie quantitative quantitative classique par voie quantitative quantitative classique classique les thyroidites tubaires analyse de rattrapage quantitative \n",
            "Levenshetein Distance: 275.0\n",
            "***BLEU Score***: 0.3976353643835253\n",
            "                                                                                         \n",
            "INFO:tensorflow:Restoring parameters from ckpt-exp01/5-LSTM-7800\n"
          ],
          "name": "stdout"
        },
        {
          "output_type": "stream",
          "text": [
            "INFO:tensorflow:Restoring parameters from ckpt-exp01/5-LSTM-7800\n"
          ],
          "name": "stderr"
        },
        {
          "output_type": "stream",
          "text": [
            "Source Sentence:  calcified subdural hematomas \n",
            "Real Translation:  les hematomes sous duraux calcifies \n",
            "Predicted Translation:  hematomes sous dural nomade lessives sequard sous duraux ls lessives lessives tubaires sous sondage calcifie combo sous sondage calcifie combo sous sondage calcifie tubaires tubaires sous sondage calcifie tubaires tubaires tubaires tubaires tubaires tubaires tubaires tubaires tubaires tubaires tubaires tubaires tubaires tubaires tubaires tubaires tubaires tubaires tubaires tubaires tubaires tubaires tubaires tubaires tubaires tubaires tubaires tubaires tubaires tubaires tubaires tubaires tubaires tubaires tubaires tubaires tubaires tubaires tubaires tubaires tubaires tubaires tubaires tubaires tubaires tubaires tubaires tubaires tubaires tubaires tubaires tubaires tubaires tubaires tubaires tubaires tubaires tubaires tubaires tubaires tubaires tubaires tubaires tubaires tubaires tubaires tubaires tubaires tubaires tubaires tubair\n",
            "Levenshetein Distance: 809.0\n",
            "***BLEU Score***: 0\n",
            "                                                                                         \n",
            "INFO:tensorflow:Restoring parameters from ckpt-exp01/5-LSTM-7800\n"
          ],
          "name": "stdout"
        },
        {
          "output_type": "stream",
          "text": [
            "INFO:tensorflow:Restoring parameters from ckpt-exp01/5-LSTM-7800\n"
          ],
          "name": "stderr"
        },
        {
          "output_type": "stream",
          "text": [
            "Source Sentence:  embryonic lesions , in light of mammary and pectoral defects of syndactyly and microdactyly \n",
            "Real Translation:  les lesions embryonnaires , a la lumiere des defectuosites mammaire et pectorale , de la syndactylie et de la microdactylie \n",
            "Predicted Translation:  les lesions digitaux , en lumiere des anomalies de premiere ligne et d un invasion hebdomadaire de la plaque frontotemporale et de phoenix \n",
            "Levenshetein Distance: 93.0\n",
            "***BLEU Score***: 0.5430321466633391\n",
            "                                                                                         \n",
            "INFO:tensorflow:Restoring parameters from ckpt-exp01/5-LSTM-7800\n"
          ],
          "name": "stdout"
        },
        {
          "output_type": "stream",
          "text": [
            "INFO:tensorflow:Restoring parameters from ckpt-exp01/5-LSTM-7800\n"
          ],
          "name": "stderr"
        },
        {
          "output_type": "stream",
          "text": [
            "Source Sentence:  results of treatment with streptomycin alone or associated with collapse therapy in cases of pulmonary tuberculosis caverns \n",
            "Real Translation:  resultats du traitement par la streptomycine seule ou associee a la collapsotherapie , dans cas de tuberculose pulmonaire avec cavernes \n",
            "Predicted Translation:  resultats du traitement par smart la bandelette avec la prise en charge de la tuberculose pulmonaire en cas de tuberculose pulmonaire tuberculose \n",
            "Levenshetein Distance: 70.0\n",
            "***BLEU Score***: 0\n",
            "                                                                                         \n",
            "INFO:tensorflow:Restoring parameters from ckpt-exp01/5-LSTM-7800\n"
          ],
          "name": "stdout"
        },
        {
          "output_type": "stream",
          "text": [
            "INFO:tensorflow:Restoring parameters from ckpt-exp01/5-LSTM-7800\n"
          ],
          "name": "stderr"
        },
        {
          "output_type": "stream",
          "text": [
            "Source Sentence:  study of the results obtained by the action of streptomycin in surgical collapse therapy \n",
            "Real Translation:  etude des resultats obtenus sous l action de la streptomycine en collapsotherapie chirurgicale \n",
            "Predicted Translation:  etude des resultats sur l action de l observance de la petco in situ a la chirurgie orthopedique reste de chirurgie orthopedique traitement de la chirurgie orthopedique traitement de la therapeutique orthopedique \n",
            "Levenshetein Distance: 147.0\n",
            "***BLEU Score***: 0.5533409598501607\n",
            "                                                                                         \n",
            "INFO:tensorflow:Restoring parameters from ckpt-exp01/5-LSTM-7800\n"
          ],
          "name": "stdout"
        },
        {
          "output_type": "stream",
          "text": [
            "INFO:tensorflow:Restoring parameters from ckpt-exp01/5-LSTM-7800\n"
          ],
          "name": "stderr"
        },
        {
          "output_type": "stream",
          "text": [
            "Source Sentence:  the pathology of tuberculous meningitis treated with streptomycin \n",
            "Real Translation:  l anatomie pathologique de la meningite tuberculeuse traitee a la streptomycine \n",
            "Predicted Translation:  aspects d une meningite tuberculeuse traitee par fusarium ls mit par fusarium ls mit par ciprofloxacine par ciprofloxacine par ciprofloxacine par ciprofloxacine par ciprofloxacine par ciprofloxacine par ciprofloxacine par ciprofloxacine par ciprofloxacine par ciprofloxacine par ciprofloxacine par ciprofloxacine par ciprofloxacine par ciprofloxacine par ciprofloxacine par ciprofloxacine a colorant proliferatives symptomatiques par gettec par ciprofloxacine par ciprofloxacine a gauges par gettec par ciprofloxacine a gauges par la meningite a gauges \n",
            "Levenshetein Distance: 494.0\n",
            "***BLEU Score***: 0.4566337854967312\n",
            "                                                                                         \n",
            "INFO:tensorflow:Restoring parameters from ckpt-exp01/5-LSTM-7800\n"
          ],
          "name": "stdout"
        },
        {
          "output_type": "stream",
          "text": [
            "INFO:tensorflow:Restoring parameters from ckpt-exp01/5-LSTM-7800\n"
          ],
          "name": "stderr"
        },
        {
          "output_type": "stream",
          "text": [
            "Source Sentence:  reduction of contraction , involuntary movements and torsion spasm by section of peripheral nerves \n",
            "Real Translation:  reduction de la contracture , des mouvements involontaires et du spasme de torsion par section de nerfs peripheriques \n",
            "Predicted Translation:  reduction du matieres sus , des mouvements involontaires us et torsion de torsion des nerfs peripheriques par resection des nerfs peripheriques peripheriques par resection des nerfs peripheriques peripheriques par resection des nerfs peripheriques tubaires \n",
            "Levenshetein Distance: 159.0\n",
            "***BLEU Score***: 0.41412387656655203\n",
            "                                                                                         \n",
            "INFO:tensorflow:Restoring parameters from ckpt-exp01/5-LSTM-7800\n"
          ],
          "name": "stdout"
        },
        {
          "output_type": "stream",
          "text": [
            "INFO:tensorflow:Restoring parameters from ckpt-exp01/5-LSTM-7800\n"
          ],
          "name": "stderr"
        },
        {
          "output_type": "stream",
          "text": [
            "Source Sentence:  study of the hormonal function and diagnosis of uterine cancer cell by the vaginal smear \n",
            "Real Translation:  etude de la fonction hormonale et diagnostic du cancer du cel uterin par le frottis vaginal \n",
            "Predicted Translation:  etude de la fonction hormonal et du diagnostic des cellules souches du cancer inferieur par le suivi du suivi vaginal en cas de cancer intra vaginale par le cout du centre vaccinal vaginal \n",
            "Levenshetein Distance: 107.0\n",
            "***BLEU Score***: 0\n",
            "                                                                                         \n",
            "INFO:tensorflow:Restoring parameters from ckpt-exp01/5-LSTM-7800\n"
          ],
          "name": "stdout"
        },
        {
          "output_type": "stream",
          "text": [
            "INFO:tensorflow:Restoring parameters from ckpt-exp01/5-LSTM-7800\n"
          ],
          "name": "stderr"
        },
        {
          "output_type": "stream",
          "text": [
            "Source Sentence:  recurrences after cholecystectomy \n",
            "Real Translation:  recidives apres cholecystectomie \n",
            "Predicted Translation:  recurrences apres une cholecystectomie une cholecystectomie apres cholecystectomie cholecystectomie \n",
            "Levenshetein Distance: 70.0\n",
            "***BLEU Score***: 0\n",
            "                                                                                         \n",
            "INFO:tensorflow:Restoring parameters from ckpt-exp01/5-LSTM-7800\n"
          ],
          "name": "stdout"
        },
        {
          "output_type": "stream",
          "text": [
            "INFO:tensorflow:Restoring parameters from ckpt-exp01/5-LSTM-7800\n"
          ],
          "name": "stderr"
        },
        {
          "output_type": "stream",
          "text": [
            "Source Sentence:  value of electroencephalography to diagnose brain tumors \n",
            "Real Translation:  valeur de l electroencephalographie pour le diagnostic des tumeurs cerebrales \n",
            "Predicted Translation:  interet de la mesure du diagnostic du cerveau vegetal les tumeurs cerebrales les tumeurs cerebrales les tumeurs cerebrales les tumeurs cerebrales les tumeurs cerebrales les tumeurs cerebrales les tumeurs cerebrales les tumeurs cerebrales les tumeurs cerebrales les tumeurs cerebrales les tumeurs cerebrales les tumeurs cerebrales les tumeurs cerebrales les tumeurs cerebrales les tumeurs cerebrales les tumeurs de tumeurs cerebrales les tumeurs de l tube cerebrale les tumeurs cerebrales les tumeurs de tumeurs cerebrales les tumeurs de l tube cerebrale les tumeurs cerebrales les tumeurs de tumeurs cerebrales les tumeurs de l tube cerebrale les tumeurs cerebrales les tumeurs intestinal\n",
            "Levenshetein Distance: 627.0\n",
            "***BLEU Score***: 0.3770063804549471\n",
            "                                                                                         \n",
            "INFO:tensorflow:Restoring parameters from ckpt-exp01/5-LSTM-7800\n"
          ],
          "name": "stdout"
        },
        {
          "output_type": "stream",
          "text": [
            "INFO:tensorflow:Restoring parameters from ckpt-exp01/5-LSTM-7800\n"
          ],
          "name": "stderr"
        },
        {
          "output_type": "stream",
          "text": [
            "Source Sentence:  research on fertilization arrival and penetration of the spermatozoon into the second order oocyte in the rat and in rabbits effect of hyaluronidase \n",
            "Real Translation:  recherches sur la fecondation arrivee et penetration du spermatozoide dans l ovocyte de . ordre chez la rate et chez la lapine action de l hyaluronidase \n",
            "Predicted Translation:  recherche en fecondation in vitro et crld des ovocytes dans la seconde expertise d ovocytes et d elastine para elle para vivo d hyaluronidase essentielles \n",
            "Levenshetein Distance: 100.0\n",
            "***BLEU Score***: 0.447213595499958\n",
            "                                                                                         \n",
            "INFO:tensorflow:Restoring parameters from ckpt-exp01/5-LSTM-7800\n"
          ],
          "name": "stdout"
        },
        {
          "output_type": "stream",
          "text": [
            "INFO:tensorflow:Restoring parameters from ckpt-exp01/5-LSTM-7800\n"
          ],
          "name": "stderr"
        },
        {
          "output_type": "stream",
          "text": [
            "Source Sentence:  on some aspects of disorders of voluntary denervation , kinetic jamming , tonic perseveration , stuttering start of movement , trampling , observed in extrapyramidal syndromes and their relationship with some other similar phenomena observed in neuropathology \n",
            "Real Translation:  sur quelques aspects des troubles de la denervation volontaire , enrayage cinetique , perseveration tonique , begaiement de la mise en route du mouvement , pietinement , observes dans les syndromes extrapyramidaux et sur leur relation avec quelques autres phenomenes analogues observes en neuropathologie \n",
            "Predicted Translation:  sur certains aspects des anomalies de denervation volontaire , joue , progestatifs , lightcycler , des syndromes inflammatoires , des syndromes inflammatoires et leurs relations avec certains realisations \n",
            "Levenshetein Distance: 174.0\n",
            "***BLEU Score***: 0.4347208719449914\n",
            "                                                                                         \n",
            "INFO:tensorflow:Restoring parameters from ckpt-exp01/5-LSTM-7800\n"
          ],
          "name": "stdout"
        },
        {
          "output_type": "stream",
          "text": [
            "INFO:tensorflow:Restoring parameters from ckpt-exp01/5-LSTM-7800\n"
          ],
          "name": "stderr"
        },
        {
          "output_type": "stream",
          "text": [
            "Source Sentence:  rupture of the rectus abdominis \n",
            "Real Translation:  rupture du grand droit de l abdomen \n",
            "Predicted Translation:  rupture du grand droit de la ferme de la ferme de l abdomen de la rupture du grand droits de la ferme du grand droits de la ferme du grand droits de la ferme droits de la ferme de la ferme de la ferme de la ferme de la ferme de la ferme de la ferme de la ferme de la ferme de la ferme de la ferme de la ferme de la ferme de la ferme de la ferme de la ferme de la ferme de la ferme de la ferme de la ferme de la ferme d\n",
            "Levenshetein Distance: 382.0\n",
            "***BLEU Score***: 0.3770063804549471\n",
            "                                                                                         \n",
            "INFO:tensorflow:Restoring parameters from ckpt-exp01/5-LSTM-7800\n"
          ],
          "name": "stdout"
        },
        {
          "output_type": "stream",
          "text": [
            "INFO:tensorflow:Restoring parameters from ckpt-exp01/5-LSTM-7800\n"
          ],
          "name": "stderr"
        },
        {
          "output_type": "stream",
          "text": [
            "Source Sentence:  cirrhosis and ascites \n",
            "Real Translation:  cirrhose et ascite \n",
            "Predicted Translation:  cirrhose et ascite ascite d ascite et ascite ascite ascite ascite d ascite cirrhose ascite cirrhose cirrhose cirrhose cirrhose cirrhose cirrhose cirrhose cirrhose cirrhose cirrhose cirrhose cirrhose cirrhose cirrhose cirrhose cirrhose cirrhose cirrhose cirrhose cirrhose cirrhose cirrhose cirrhose cirrhose cirrhose cirrhose cirrhose cirrhose cirrhose cirrhose cirrhose cirrhose cirrhose cirrhose cirrhose cirrhose cirrhose cirrhose cirrhose cirrhose cirrhose cirrhose cirrhose cirrhose cirrhose cirrhose cirrhose cirrhose cirrhose cirrhose cirrhose cirrhose cirrhose cirrhose cirrhose cirrhose cirrhose cirrhose cirrhose cirrhose cirrhose cirrhose cirrhose cirrhose cirrhose cirrhose cirrhose cirrhose cirrhose cirrhose cirrhose cirrhose cirrhose cirrhose cirrhose cirrhose cirrhose cirrhose cirrhose cirrhose cirrhose cirrhose cirrhose cirrh\n",
            "Levenshetein Distance: 824.0\n",
            "***BLEU Score***: 0\n",
            "                                                                                         \n",
            "INFO:tensorflow:Restoring parameters from ckpt-exp01/5-LSTM-7800\n"
          ],
          "name": "stdout"
        },
        {
          "output_type": "stream",
          "text": [
            "INFO:tensorflow:Restoring parameters from ckpt-exp01/5-LSTM-7800\n"
          ],
          "name": "stderr"
        },
        {
          "output_type": "stream",
          "text": [
            "Source Sentence:  treatment of pulmonary tuberculosis in children with streptomycin \n",
            "Real Translation:  le traitement de la tuberculose pulmonaire infantile par la streptomycine \n",
            "Predicted Translation:  traitement de la tuberculose pulmonaire chez les enfants avec systemic ls par gettec de serotype par gettec de serotype au benin de l enfant par gettec de casablanca au benin de la mucoceles au benin par gettec de casablanca au benin de la mucoceles de rabat au benin gettec de casablanca au benin gettec de casablanca gettec de casablanca gettec de casablanca efrg au benin de la mucoceles de rabat cientifica \n",
            "Levenshetein Distance: 348.0\n",
            "***BLEU Score***: 0.34449697505113935\n",
            "                                                                                         \n",
            "INFO:tensorflow:Restoring parameters from ckpt-exp01/5-LSTM-7800\n"
          ],
          "name": "stdout"
        },
        {
          "output_type": "stream",
          "text": [
            "INFO:tensorflow:Restoring parameters from ckpt-exp01/5-LSTM-7800\n"
          ],
          "name": "stderr"
        },
        {
          "output_type": "stream",
          "text": [
            "Source Sentence:  the shadows in the corner of children with tuberculosis or bronchiectasis \n",
            "Real Translation:  les ombres en coin chez l enfant tuberculeux ou bronchectasique \n",
            "Predicted Translation:  les pr au degre d hematologie de l enfant ou de sa cryptococcose de bronches ou de sa epaisseur corneenne de l enfant ou de sa cryptococcose corneenne ou de sa cryptococcose corneenne ou de son cryptococcose corneenne ou de son cryptococcose corneenne ou de son cryptococcose corneenne \n",
            "Levenshetein Distance: 240.0\n",
            "***BLEU Score***: 0.37991784282579627\n",
            "                                                                                         \n",
            "INFO:tensorflow:Restoring parameters from ckpt-exp01/5-LSTM-7800\n"
          ],
          "name": "stdout"
        },
        {
          "output_type": "stream",
          "text": [
            "INFO:tensorflow:Restoring parameters from ckpt-exp01/5-LSTM-7800\n"
          ],
          "name": "stderr"
        },
        {
          "output_type": "stream",
          "text": [
            "Source Sentence:  streptomycin for the different forms of pulmonary tuberculosis in children \n",
            "Real Translation:  indications de la streptomycine dans les differentes formes de la tuberculose pulmonaire de l enfant \n",
            "Predicted Translation:  le remifentanil dans les formes de tuberculose pulmonaire chez l enfant de l enfant \n",
            "Levenshetein Distance: 55.0\n",
            "***BLEU Score***: 0.5169731539571706\n",
            "                                                                                         \n",
            "INFO:tensorflow:Restoring parameters from ckpt-exp01/5-LSTM-7800\n"
          ],
          "name": "stdout"
        },
        {
          "output_type": "stream",
          "text": [
            "INFO:tensorflow:Restoring parameters from ckpt-exp01/5-LSTM-7800\n"
          ],
          "name": "stderr"
        },
        {
          "output_type": "stream",
          "text": [
            "Source Sentence:  streptomycin in tbc meningitis and acute miliary tb in adults , commentary of personal results \n",
            "Real Translation:  la streptomycine dans la meningite tbc et dans la tbc miliaire aigue chez l adulte commentaire des resultats personnels \n",
            "Predicted Translation:  vulvovaginite au cours de la meningite et la miliaire tuberculeuse aigue de l adulte , types du consecutifs resultats sept resultats sept resultats sept ans \n",
            "Levenshetein Distance: 93.0\n",
            "***BLEU Score***: 0.447213595499958\n",
            "                                                                                         \n",
            "INFO:tensorflow:Restoring parameters from ckpt-exp01/5-LSTM-7800\n"
          ],
          "name": "stdout"
        },
        {
          "output_type": "stream",
          "text": [
            "INFO:tensorflow:Restoring parameters from ckpt-exp01/5-LSTM-7800\n"
          ],
          "name": "stderr"
        },
        {
          "output_type": "stream",
          "text": [
            "Source Sentence:  early diagnosis of generalized bone diseases \n",
            "Real Translation:  le diagnostic precoce des osteopathies generalisees \n",
            "Predicted Translation:  diagnostic precoce des maladies de l orbite generalisee des maladies osseuses acquises \n",
            "Levenshetein Distance: 50.0\n",
            "***BLEU Score***: 0.537284965911771\n",
            "                                                                                         \n",
            "INFO:tensorflow:Restoring parameters from ckpt-exp01/5-LSTM-7800\n"
          ],
          "name": "stdout"
        },
        {
          "output_type": "stream",
          "text": [
            "INFO:tensorflow:Restoring parameters from ckpt-exp01/5-LSTM-7800\n"
          ],
          "name": "stderr"
        },
        {
          "output_type": "stream",
          "text": [
            "Source Sentence:  the influence of the famine of on the size and weight of newborns in the athens area \n",
            "Real Translation:  l influence de la famine des annees sur la taille et le poids des nouveau nes dans la region d athenes \n",
            "Predicted Translation:  influence du vecu de la force sur l hba et le poids des nouveau nes a l eau d eau d eau scolaire d eau scolaire d alsace en milieu d urbanisation \n",
            "Levenshetein Distance: 87.0\n",
            "***BLEU Score***: 0.5946035575013605\n",
            "                                                                                         \n",
            "INFO:tensorflow:Restoring parameters from ckpt-exp01/5-LSTM-7800\n"
          ],
          "name": "stdout"
        },
        {
          "output_type": "stream",
          "text": [
            "INFO:tensorflow:Restoring parameters from ckpt-exp01/5-LSTM-7800\n"
          ],
          "name": "stderr"
        },
        {
          "output_type": "stream",
          "text": [
            "Source Sentence:  bone metastases \n",
            "Real Translation:  metastases osseuses \n",
            "Predicted Translation:  metastases des metastases osseuses des metastases osseuses les metastases osseuses des metastases osseuses les metastases osseuses des metastases osseuses les metastases osseuses des metastases osseuses des metastases osseuses des metastases osseuses des metastases osseuses des metastases osseuses des metastases osseuses des metastases osseuses des metastases osseuses des metastases osseuses des metastases osseuses des metastases osseuses des metastases osseuses des metastases osseuses des metastases osseuses des metastases osseuses des metastases osseuses des metastases osseuses des metastases osseuses des metastases osseuses des vascularites parietales les metastases osseuses des vascularites \n",
            "Levenshetein Distance: 684.0\n",
            "***BLEU Score***: 0\n",
            "                                                                                         \n",
            "INFO:tensorflow:Restoring parameters from ckpt-exp01/5-LSTM-7800\n"
          ],
          "name": "stdout"
        },
        {
          "output_type": "stream",
          "text": [
            "INFO:tensorflow:Restoring parameters from ckpt-exp01/5-LSTM-7800\n"
          ],
          "name": "stderr"
        },
        {
          "output_type": "stream",
          "text": [
            "Source Sentence:  surgery for tumors of the pancreas \n",
            "Real Translation:  la chirurgie des tumeurs du pancreas \n",
            "Predicted Translation:  la chirurgie de tumeurs du pancreas pancreas pancreas pancreas pancreas le pancreas pancreas pancreas le pancreas pancreas pancreas le pancreas pancreas pancreas le pancreas pancreas pancreas pancreatique le pancreas pancreas pancreas pancreatique du pancreas pancreas pancreas pancreatique du pancreas pancreas pancreas pancreatique du pancreas pancreas pancreas pancreatique du pancreas pancreas pancreas pancreatique pancreatique pancreatique pancreatique pancreatique pancreatique pancreatique pancreatique pancreatique pancreatique pancreatique pancreatique pancreatique pancreatique pancreatique pancreatique pancreatique pancreatique pancreatique pancreatique pancreatique pancreatique pancreatique pancreatique pancreas pancreatique pancreas pancreatique pancreas pancreatique pancreas pancreatique pancreas pancreatique pancreas pancreatique pancreas pancreatique pancreas pancreatique pancreas pancreatique pancreas pancreatique pancreas pancreatique pancreas pancreatiqu\n",
            "Levenshetein Distance: 945.0\n",
            "***BLEU Score***: 0\n",
            "                                                                                         \n",
            "INFO:tensorflow:Restoring parameters from ckpt-exp01/5-LSTM-7800\n"
          ],
          "name": "stdout"
        },
        {
          "output_type": "stream",
          "text": [
            "INFO:tensorflow:Restoring parameters from ckpt-exp01/5-LSTM-7800\n"
          ],
          "name": "stderr"
        },
        {
          "output_type": "stream",
          "text": [
            "Source Sentence:  surgery for pancreatitis \n",
            "Real Translation:  la chirurgie des pancreatites \n",
            "Predicted Translation:  chirurgie de cephalees de la pancreatite de la pancreatite pancreatite de genou \n",
            "Levenshetein Distance: 57.0\n",
            "***BLEU Score***: 0\n",
            "                                                                                         \n",
            "INFO:tensorflow:Restoring parameters from ckpt-exp01/5-LSTM-7800\n"
          ],
          "name": "stdout"
        },
        {
          "output_type": "stream",
          "text": [
            "INFO:tensorflow:Restoring parameters from ckpt-exp01/5-LSTM-7800\n"
          ],
          "name": "stderr"
        },
        {
          "output_type": "stream",
          "text": [
            "Source Sentence:  the combination of phenobarbital and quinidine in the treatment of cardiovascular , autonomic cardiac neuroses extrasystoles , paroxysmal tachycardia \n",
            "Real Translation:  l association de quinidine et de phenobarbital dans le traitement des affections cardiovasculaires extrasystolie nevroses cardiaques neurovegetatives , tachycardie paroxystique \n",
            "Predicted Translation:  l association du projekt et des precipitations dans le traitement des auteurs cardiaques , les lesions digitaux ni fins d haemophilus fins , fins d interaction des mains obligatoires , fins d interaction des mains obligatoires , fins d interaction des mains obligatoires , fins d interaction des mains obligatoires , fins de pierre anti leucine , des polypes naso epileptiques parietales , des mains efrg , des polypes naso articulaires parietales , des mains efrg , des polypes naso articulaires parietales , des mains efrg , des mains efrg , des mains efrg , des mains efrg ,\n",
            "Levenshetein Distance: 446.0\n",
            "***BLEU Score***: 0.4172261448611506\n",
            "                                                                                         \n",
            "INFO:tensorflow:Restoring parameters from ckpt-exp01/5-LSTM-7800\n"
          ],
          "name": "stdout"
        },
        {
          "output_type": "stream",
          "text": [
            "INFO:tensorflow:Restoring parameters from ckpt-exp01/5-LSTM-7800\n"
          ],
          "name": "stderr"
        },
        {
          "output_type": "stream",
          "text": [
            "Source Sentence:  tests for treatment of cancers of the larynx and esophagus in humans by the synthetic estrogen \n",
            "Real Translation:  essais de traitement des cancers du larynx et de l oesophage chez l homme par les oestrogenes de synthese \n",
            "Predicted Translation:  tests d un traitement des cancers du larynx et de l oesophage chez l homme par les actions sereuse synthetique par synthese de la traduction synthetique par synthese de l etude synthetique en eau synthetique par synthese de la tuberculose lente par de synthese en eau synthetique par occidentale par la minimisation synthetique par de la sous ans par de la sous hyperactivite lente \n",
            "Levenshetein Distance: 283.0\n",
            "***BLEU Score***: 0.42044820762685725\n",
            "                                                                                         \n",
            "INFO:tensorflow:Restoring parameters from ckpt-exp01/5-LSTM-7800\n"
          ],
          "name": "stdout"
        },
        {
          "output_type": "stream",
          "text": [
            "INFO:tensorflow:Restoring parameters from ckpt-exp01/5-LSTM-7800\n"
          ],
          "name": "stderr"
        },
        {
          "output_type": "stream",
          "text": [
            "Source Sentence:  congenital dislocation of the patella \n",
            "Real Translation:  les luxations congenitales de la rotule \n",
            "Predicted Translation:  luxation congenitale de la patella de la patella de la patella de la patella patella de la patella \n",
            "Levenshetein Distance: 73.0\n",
            "***BLEU Score***: 0\n",
            "                                                                                         \n",
            "INFO:tensorflow:Restoring parameters from ckpt-exp01/5-LSTM-7800\n"
          ],
          "name": "stdout"
        },
        {
          "output_type": "stream",
          "text": [
            "INFO:tensorflow:Restoring parameters from ckpt-exp01/5-LSTM-7800\n"
          ],
          "name": "stderr"
        },
        {
          "output_type": "stream",
          "text": [
            "Source Sentence:  foster kennedy syndrome in an olfactory groove meningioma of the left \n",
            "Real Translation:  syndrome de foster kennedy dans un meningiome du sillon olfactif gauche \n",
            "Predicted Translation:  syndrome de goltz en cas de rotation thyroidienne du phenotype gauche du gauche gauche du gauche gauche du gauche gauche le phenotype gauche le phenotype gauche le phenotype gauche le phenotype gauche le phenotype gauche le phenotype gauche le phenotype gauche le phenotype gauche le phenotype gauche le phenotype gauche le phenotype gauche le phenotype gauche le phenotype gauche le phenotype gauche le phenotype gauche le phenotype gauche le phenotype gauche le mucoceles gauche le mucoceles gauche le mucoceles gauche le mucoceles gauche le mucoceles gauche le mucoceles gauche le mucoceles gauche le mucoceles gauche le mucoceles gauche l\n",
            "Levenshetein Distance: 584.0\n",
            "***BLEU Score***: 0.31702331385234306\n",
            "                                                                                         \n",
            "INFO:tensorflow:Restoring parameters from ckpt-exp01/5-LSTM-7800\n"
          ],
          "name": "stdout"
        },
        {
          "output_type": "stream",
          "text": [
            "INFO:tensorflow:Restoring parameters from ckpt-exp01/5-LSTM-7800\n"
          ],
          "name": "stderr"
        },
        {
          "output_type": "stream",
          "text": [
            "Source Sentence:  glatthaer colposcopy and tissue culture in the study of carcinomas of surface the cervix \n",
            "Real Translation:  glatthaer colposcopie et culture de tissus dans l etude des carcinomes de surface du col uterin \n",
            "Predicted Translation:  la culture de la statique a la technique dans l etude du carcinomes du col du col uterin le sondage du col uterin le benin \n",
            "Levenshetein Distance: 68.0\n",
            "***BLEU Score***: 0.5318295896944989\n",
            "                                                                                         \n",
            "INFO:tensorflow:Restoring parameters from ckpt-exp01/5-LSTM-7800\n"
          ],
          "name": "stdout"
        },
        {
          "output_type": "stream",
          "text": [
            "INFO:tensorflow:Restoring parameters from ckpt-exp01/5-LSTM-7800\n"
          ],
          "name": "stderr"
        },
        {
          "output_type": "stream",
          "text": [
            "Source Sentence:  intussusception in infants diagnostic and therapeutic indications \n",
            "Real Translation:  invagination intestinale du nourrisson diagnostic et indications therapeutiques \n",
            "Predicted Translation:  invagination intestinale chez le nourrisson indications diagnostiques et therapeutiques indications \n",
            "Levenshetein Distance: 41.0\n",
            "***BLEU Score***: 0\n",
            "                                                                                         \n",
            "INFO:tensorflow:Restoring parameters from ckpt-exp01/5-LSTM-7800\n"
          ],
          "name": "stdout"
        },
        {
          "output_type": "stream",
          "text": [
            "INFO:tensorflow:Restoring parameters from ckpt-exp01/5-LSTM-7800\n"
          ],
          "name": "stderr"
        },
        {
          "output_type": "stream",
          "text": [
            "Source Sentence:  notes on arterial hypertension during pregnancy \n",
            "Real Translation:  remarques sur les hypertensions arterielles au cours de la grossesse \n",
            "Predicted Translation:  remarques concernant l hypertension arterielle et grossesse pendant la grossesse la grossesse pendant la grossesse grossesse \n",
            "Levenshetein Distance: 68.0\n",
            "***BLEU Score***: 0.5\n",
            "                                                                                         \n",
            "INFO:tensorflow:Restoring parameters from ckpt-exp01/5-LSTM-7800\n"
          ],
          "name": "stdout"
        },
        {
          "output_type": "stream",
          "text": [
            "INFO:tensorflow:Restoring parameters from ckpt-exp01/5-LSTM-7800\n"
          ],
          "name": "stderr"
        },
        {
          "output_type": "stream",
          "text": [
            "Source Sentence:  one hundred cases of penicillin therapy for bone tuberculosis infection \n",
            "Real Translation:  cent cas de penicillotherapie de tuberculoses osseuses infectees \n",
            "Predicted Translation:  cas de traitement par application de la grippe osseuse dans l infection osseuse a la tuberculose ulcere osseuse a propos de infections de la tuberculose dorsale de l infection tuberculeuse a l erythropoiese de la tuberculose dorsale de doigts infectes par la rifampicine a la rifampicine \n",
            "Levenshetein Distance: 227.0\n",
            "***BLEU Score***: 0.5053483543335474\n",
            "                                                                                         \n",
            "INFO:tensorflow:Restoring parameters from ckpt-exp01/5-LSTM-7800\n"
          ],
          "name": "stdout"
        },
        {
          "output_type": "stream",
          "text": [
            "INFO:tensorflow:Restoring parameters from ckpt-exp01/5-LSTM-7800\n"
          ],
          "name": "stderr"
        },
        {
          "output_type": "stream",
          "text": [
            "Source Sentence:  a case of sulfonamide treated severe polyneuritis \n",
            "Real Translation:  a propos d un cas de polynevrite grave sulfamidique \n",
            "Predicted Translation:  un cas de decouverte de la araneisme presentation grave a la suite d un canal thoracique traites chirurgicalement traites chirurgicalement traites chirurgicalement traites a la respiration \n",
            "Levenshetein Distance: 154.0\n",
            "***BLEU Score***: 0.5266403878479265\n",
            "                                                                                         \n",
            "INFO:tensorflow:Restoring parameters from ckpt-exp01/5-LSTM-7800\n"
          ],
          "name": "stdout"
        },
        {
          "output_type": "stream",
          "text": [
            "INFO:tensorflow:Restoring parameters from ckpt-exp01/5-LSTM-7800\n"
          ],
          "name": "stderr"
        },
        {
          "output_type": "stream",
          "text": [
            "Source Sentence:  national immunization week and the health service \n",
            "Real Translation:  la semaine nationale d immunisation et le service de sante \n",
            "Predicted Translation:  semaine de vaccination nationale et service de sante \n",
            "Levenshetein Distance: 25.0\n",
            "***BLEU Score***: 0\n",
            "                                                                                         \n",
            "INFO:tensorflow:Restoring parameters from ckpt-exp01/5-LSTM-7800\n"
          ],
          "name": "stdout"
        },
        {
          "output_type": "stream",
          "text": [
            "INFO:tensorflow:Restoring parameters from ckpt-exp01/5-LSTM-7800\n"
          ],
          "name": "stderr"
        },
        {
          "output_type": "stream",
          "text": [
            "Source Sentence:  surgical treatment of cancer of the larynx and bilateral paralysis of vocal cords and laryngectomy arytenoidectomy \n",
            "Real Translation:  traitement chirurgical du cancer du larynx et de la paralysie bilaterale des cordes vocales laryngectomie et arytenoidectomie \n",
            "Predicted Translation:  le traitement chirurgical du larynx et une responsables bilaterale des cordes vocales de sufentanil et \n",
            "Levenshetein Distance: 51.0\n",
            "***BLEU Score***: 0\n",
            "                                                                                         \n",
            "INFO:tensorflow:Restoring parameters from ckpt-exp01/5-LSTM-7800\n"
          ],
          "name": "stdout"
        },
        {
          "output_type": "stream",
          "text": [
            "INFO:tensorflow:Restoring parameters from ckpt-exp01/5-LSTM-7800\n"
          ],
          "name": "stderr"
        },
        {
          "output_type": "stream",
          "text": [
            "Source Sentence:  twenty cases of lupus tuberculosis result of years of treatment with vitamin d ergocalciferol in alcoholic solution \n",
            "Real Translation:  vingt cas de lupus tuberculeux resultat de ans de traitement par la vitamine d calciferol en solution alcoolique \n",
            "Predicted Translation:  a propos de quatre cas de tuberculose erythemateux systemique de traitement par la vitamine d \n",
            "Levenshetein Distance: 74.0\n",
            "***BLEU Score***: 0.6042750794713536\n",
            "                                                                                         \n",
            "INFO:tensorflow:Restoring parameters from ckpt-exp01/5-LSTM-7800\n"
          ],
          "name": "stdout"
        },
        {
          "output_type": "stream",
          "text": [
            "INFO:tensorflow:Restoring parameters from ckpt-exp01/5-LSTM-7800\n"
          ],
          "name": "stderr"
        },
        {
          "output_type": "stream",
          "text": [
            "Source Sentence:  plug devices for cracks of the maxilla \n",
            "Real Translation:  appareils obturateurs pour fissures du maxillaire superieur \n",
            "Predicted Translation:  vivent les abc pour les interventions maxillaire maxillaire \n",
            "Levenshetein Distance: 40.0\n",
            "***BLEU Score***: 0\n",
            "                                                                                         \n",
            "INFO:tensorflow:Restoring parameters from ckpt-exp01/5-LSTM-7800\n"
          ],
          "name": "stdout"
        },
        {
          "output_type": "stream",
          "text": [
            "INFO:tensorflow:Restoring parameters from ckpt-exp01/5-LSTM-7800\n"
          ],
          "name": "stderr"
        },
        {
          "output_type": "stream",
          "text": [
            "Source Sentence:  antibiotics , current state of the question \n",
            "Real Translation:  les antibiotiques , etat actuel de la question \n",
            "Predicted Translation:  les antimicrobiens , etat de la question question \n",
            "Levenshetein Distance: 20.0\n",
            "***BLEU Score***: 0.5946035575013605\n",
            "                                                                                         \n",
            "INFO:tensorflow:Restoring parameters from ckpt-exp01/5-LSTM-7800\n"
          ],
          "name": "stdout"
        },
        {
          "output_type": "stream",
          "text": [
            "INFO:tensorflow:Restoring parameters from ckpt-exp01/5-LSTM-7800\n"
          ],
          "name": "stderr"
        },
        {
          "output_type": "stream",
          "text": [
            "Source Sentence:  arterial irrigation of the upper maxillary \n",
            "Real Translation:  irrigation arterielle du maxillaire superieur \n",
            "Predicted Translation:  un livre arteriel du maxillaire superieur du maxillaire maxillaire du maxillaire maxillaire maxillaire du maxillaire maxillaire maxillaire du maxillaire maxillaire maxillaire du maxillaire maxillaire maxillaire du maxillaire maxillaire maxillaire du maxillaire maxillaire maxillaire du maxillaire maxillaire maxillaire du maxillaire maxillaire maxillaire du maxillaire maxillaire maxillaire du maxillaire maxillaire maxillaire du maxillaire maxillaire maxillaire du maxillaire maxillaire maxillaire du maxillaire maxillaire maxillaire du maxillaire maxillaire maxillaire du maxillaire maxillaire maxillaire du maxillaire maxillaire maxillaire du maxillaire maxillaire maxillaire du maxillaire maxillaire maxillaire du maxillaire maxillaire maxillaire du maxillaire maxillaire maxillaire du maxillaire maxillaire maxillaire du maxillaire maxillaire maxillaire du maxillair\n",
            "Levenshetein Distance: 832.0\n",
            "***BLEU Score***: 0\n",
            "                                                                                         \n",
            "INFO:tensorflow:Restoring parameters from ckpt-exp01/5-LSTM-7800\n"
          ],
          "name": "stdout"
        },
        {
          "output_type": "stream",
          "text": [
            "INFO:tensorflow:Restoring parameters from ckpt-exp01/5-LSTM-7800\n"
          ],
          "name": "stderr"
        },
        {
          "output_type": "stream",
          "text": [
            "Source Sentence:  a complex case of acquired original dysmorphia \n",
            "Real Translation:  un cas complexe de dysmorphose d origine acquise \n",
            "Predicted Translation:  un cas complexe d appels transitoire acquise a acquis elementaire le acquis a acquis variable d origine extramedullaire a igg \n",
            "Levenshetein Distance: 86.0\n",
            "***BLEU Score***: 0.5623413251903491\n",
            "                                                                                         \n",
            "INFO:tensorflow:Restoring parameters from ckpt-exp01/5-LSTM-7800\n"
          ],
          "name": "stdout"
        },
        {
          "output_type": "stream",
          "text": [
            "INFO:tensorflow:Restoring parameters from ckpt-exp01/5-LSTM-7800\n"
          ],
          "name": "stderr"
        },
        {
          "output_type": "stream",
          "text": [
            "Source Sentence:  oral manifestations of intolerance to methacrylic resins \n",
            "Real Translation:  les manifestations buccales d intolerances aux resines metacryliques \n",
            "Predicted Translation:  manifestations buccales de l intolerance aux deficients de l oreille humaine de la fibrovascularisation de l angine \n",
            "Levenshetein Distance: 66.0\n",
            "***BLEU Score***: 0.4924790605054523\n",
            "                                                                                         \n",
            "INFO:tensorflow:Restoring parameters from ckpt-exp01/5-LSTM-7800\n"
          ],
          "name": "stdout"
        },
        {
          "output_type": "stream",
          "text": [
            "INFO:tensorflow:Restoring parameters from ckpt-exp01/5-LSTM-7800\n"
          ],
          "name": "stderr"
        },
        {
          "output_type": "stream",
          "text": [
            "Source Sentence:  accident analysis and interpretation of known syphilis bud incisive \n",
            "Real Translation:  analyse et interpretation des accidents connus sous le nom de syphilis du bourgeon incisif \n",
            "Predicted Translation:  accident d accidents enfin porte de la syphilis mal limite lente la tuberculose lente \n",
            "Levenshetein Distance: 69.0\n",
            "***BLEU Score***: 0.5169731539571706\n",
            "                                                                                         \n",
            "INFO:tensorflow:Restoring parameters from ckpt-exp01/5-LSTM-7800\n"
          ],
          "name": "stdout"
        },
        {
          "output_type": "stream",
          "text": [
            "INFO:tensorflow:Restoring parameters from ckpt-exp01/5-LSTM-7800\n"
          ],
          "name": "stderr"
        },
        {
          "output_type": "stream",
          "text": [
            "Source Sentence:  voluminous corono dental cyst of the mandible having hollow out the upward branch \n",
            "Real Translation:  volumineux kyste corono dentaire du maxillaire inferieur ayant evide la branche montante \n",
            "Predicted Translation:  volumineux kyste dentaire de la mandibule avec positionnement au niveau de la production de l artere mitral de niveau de reintroduction de l artere mitral de niveau de substance de l artere mitral de sufentanil au niveau de la translocation de l artere medullaire de una hcl de sufentanil au niveau de la translocation de l artere medullaire de una de iris hcl de niveau de substance de l afssaps de una luces \n",
            "Levenshetein Distance: 334.0\n",
            "***BLEU Score***: 0.4068429398680449\n",
            "                                                                                         \n",
            "INFO:tensorflow:Restoring parameters from ckpt-exp01/5-LSTM-7800\n"
          ],
          "name": "stdout"
        },
        {
          "output_type": "stream",
          "text": [
            "INFO:tensorflow:Restoring parameters from ckpt-exp01/5-LSTM-7800\n"
          ],
          "name": "stderr"
        },
        {
          "output_type": "stream",
          "text": [
            "Source Sentence:  the carotid sinus , his interest in dentistry \n",
            "Real Translation:  le sinus carotidien son interet en stomatologie \n",
            "Predicted Translation:  le grand cycle de la mouche , son interet en odontologie dentaire et le developpement dentaire et le developpement dentaire et le developpement dentaire et le golf en odontologie dentaire et le golf en odontologie dentaire et le golf en odontologie dentaire et le golf en odontologie dentaire et le golf en odontologie dentaire paris \n",
            "Levenshetein Distance: 292.0\n",
            "***BLEU Score***: 0\n",
            "                                                                                         \n",
            "INFO:tensorflow:Restoring parameters from ckpt-exp01/5-LSTM-7800\n"
          ],
          "name": "stdout"
        },
        {
          "output_type": "stream",
          "text": [
            "INFO:tensorflow:Restoring parameters from ckpt-exp01/5-LSTM-7800\n"
          ],
          "name": "stderr"
        },
        {
          "output_type": "stream",
          "text": [
            "Source Sentence:  bucco dental lesions observed in the course of cicatricial strictures of the esophagus \n",
            "Real Translation:  lesions buccodentaires observees au cours des retrecissements cicatriciels de l oesphage \n",
            "Predicted Translation:  lesions des lesions dentaires des stenoses articulaires de l oesophage de l oesophage \n",
            "Levenshetein Distance: 51.0\n",
            "***BLEU Score***: 0.5266403878479265\n",
            "                                                                                         \n",
            "INFO:tensorflow:Restoring parameters from ckpt-exp01/5-LSTM-7800\n"
          ],
          "name": "stdout"
        },
        {
          "output_type": "stream",
          "text": [
            "INFO:tensorflow:Restoring parameters from ckpt-exp01/5-LSTM-7800\n"
          ],
          "name": "stderr"
        },
        {
          "output_type": "stream",
          "text": [
            "Source Sentence:  three cases of possible errors of radiological and histological interpretation of maxillary lesions \n",
            "Real Translation:  a propos de trois cas d erreurs possibles d interpretations radiologiques et histologiques des legions maxillaires \n",
            "Predicted Translation:  etude des trois revues de vue anatomo radiologiques des lesions maxillaires et histologiques des lesions maxillaires \n",
            "Levenshetein Distance: 52.0\n",
            "***BLEU Score***: 0\n",
            "                                                                                         \n",
            "INFO:tensorflow:Restoring parameters from ckpt-exp01/5-LSTM-7800\n"
          ],
          "name": "stdout"
        },
        {
          "output_type": "stream",
          "text": [
            "INFO:tensorflow:Restoring parameters from ckpt-exp01/5-LSTM-7800\n"
          ],
          "name": "stderr"
        },
        {
          "output_type": "stream",
          "text": [
            "Source Sentence:  bolus of milk in lung airways , a common cause of rapid and unexpected infant death \n",
            "Real Translation:  l embol de lait dans les conduits aeriens pulmonaires , cause frequente de la mort rapide et imprevue du nourrisson \n",
            "Predicted Translation:  generation de lait en transplantation pulmonaire , cause commun d mort rapide et rapidement neonatales du nourrisson et inattendu de mort infantile et active de mort infantile et active du nourrisson et inattendu de mort ponderale \n",
            "Levenshetein Distance: 154.0\n",
            "***BLEU Score***: 0.4854917717073234\n",
            "                                                                                         \n",
            "INFO:tensorflow:Restoring parameters from ckpt-exp01/5-LSTM-7800\n"
          ],
          "name": "stdout"
        },
        {
          "output_type": "stream",
          "text": [
            "INFO:tensorflow:Restoring parameters from ckpt-exp01/5-LSTM-7800\n"
          ],
          "name": "stderr"
        },
        {
          "output_type": "stream",
          "text": [
            "Source Sentence:  acute orbital cellulitis with myositis \n",
            "Real Translation:  cellulite orbitaire sereuse aigue avec myosite \n",
            "Predicted Translation:  erysipele orbitaire aigue avec septique septique avec septique septique \n",
            "Levenshetein Distance: 42.0\n",
            "***BLEU Score***: 0\n",
            "                                                                                         \n",
            "INFO:tensorflow:Restoring parameters from ckpt-exp01/5-LSTM-7800\n"
          ],
          "name": "stdout"
        },
        {
          "output_type": "stream",
          "text": [
            "INFO:tensorflow:Restoring parameters from ckpt-exp01/5-LSTM-7800\n"
          ],
          "name": "stderr"
        },
        {
          "output_type": "stream",
          "text": [
            "Source Sentence:  transplants of the cornea \n",
            "Real Translation:  les greffes de la cornee \n",
            "Predicted Translation:  greffes de cornee cornee de la cornee cornee \n",
            "Levenshetein Distance: 25.0\n",
            "***BLEU Score***: 0\n",
            "                                                                                         \n",
            "INFO:tensorflow:Restoring parameters from ckpt-exp01/5-LSTM-7800\n"
          ],
          "name": "stdout"
        },
        {
          "output_type": "stream",
          "text": [
            "INFO:tensorflow:Restoring parameters from ckpt-exp01/5-LSTM-7800\n"
          ],
          "name": "stderr"
        },
        {
          "output_type": "stream",
          "text": [
            "Source Sentence:  impact of changes in tooth number and their implications for the orthodontist \n",
            "Real Translation:  incidence des variations numeriques des dents et leurs consequences pour l orthodontiste \n",
            "Predicted Translation:  impact des variations dans le placenta et leurs implications pour l orthodontiste l orthodontiste \n",
            "Levenshetein Distance: 49.0\n",
            "***BLEU Score***: 0.5169731539571706\n",
            "                                                                                         \n",
            "INFO:tensorflow:Restoring parameters from ckpt-exp01/5-LSTM-7800\n"
          ],
          "name": "stdout"
        },
        {
          "output_type": "stream",
          "text": [
            "INFO:tensorflow:Restoring parameters from ckpt-exp01/5-LSTM-7800\n"
          ],
          "name": "stderr"
        },
        {
          "output_type": "stream",
          "text": [
            "Source Sentence:  modern methods of anesthesia in dentistry \n",
            "Real Translation:  procedes modernes de narcose en stomatologie \n",
            "Predicted Translation:  la prise en charge la medecine publique en medecine dentaire en medecine dentaire et digestive et digestive et digestive et digestive et digestive digestive en medecine digestive dentaire en afrique dentaire en afrique dentaire en afrique dentaire en afrique dentaire en afrique dentaire en isere et la filosofia digestive et digestive en medecine digestive digestive en afrique dentaire en isere et la filosofia digestive et paris en la primera digestive en medecine digestive en suisse hcl en la primera digestive en gynecologie dentaire en medecine digestive digestive en suisse hcl en la primera digestive en gynecologie dentaire en medecin\n",
            "Levenshetein Distance: 601.0\n",
            "***BLEU Score***: 0\n",
            "                                                                                         \n",
            "INFO:tensorflow:Restoring parameters from ckpt-exp01/5-LSTM-7800\n"
          ],
          "name": "stdout"
        },
        {
          "output_type": "stream",
          "text": [
            "INFO:tensorflow:Restoring parameters from ckpt-exp01/5-LSTM-7800\n"
          ],
          "name": "stderr"
        },
        {
          "output_type": "stream",
          "text": [
            "Source Sentence:  considerations on intra alveolar root fractures \n",
            "Real Translation:  considerations sur les fractures radiculaires intra alveolaires \n",
            "Predicted Translation:  considerations sur les fractures intra alveolaire intra alveolaire des fractures intra alveolaire intra alveolaire intra alveolaire sous injections intra alveolaire intra alveolaire tubaires \n",
            "Levenshetein Distance: 128.0\n",
            "***BLEU Score***: 0\n",
            "                                                                                         \n",
            "INFO:tensorflow:Restoring parameters from ckpt-exp01/5-LSTM-7800\n"
          ],
          "name": "stdout"
        },
        {
          "output_type": "stream",
          "text": [
            "INFO:tensorflow:Restoring parameters from ckpt-exp01/5-LSTM-7800\n"
          ],
          "name": "stderr"
        },
        {
          "output_type": "stream",
          "text": [
            "Source Sentence:  synthesis of the problem of complete dentures and its solutions \n",
            "Real Translation:  vue synthetique du probleme du dentier complet et de ses solutions \n",
            "Predicted Translation:  synthese de l espoir des implants pilotes or et de ses solutions solutions \n",
            "Levenshetein Distance: 44.0\n",
            "***BLEU Score***: 0.5266403878479265\n",
            "                                                                                         \n",
            "INFO:tensorflow:Restoring parameters from ckpt-exp01/5-LSTM-7800\n"
          ],
          "name": "stdout"
        },
        {
          "output_type": "stream",
          "text": [
            "INFO:tensorflow:Restoring parameters from ckpt-exp01/5-LSTM-7800\n"
          ],
          "name": "stderr"
        },
        {
          "output_type": "stream",
          "text": [
            "Source Sentence:  the trismus \n",
            "Real Translation:  les trismus \n",
            "Predicted Translation:  la videosurveillance alterant la sollicitude castrat \n",
            "Levenshetein Distance: 43.0\n",
            "***BLEU Score***: 0\n",
            "                                                                                         \n",
            "INFO:tensorflow:Restoring parameters from ckpt-exp01/5-LSTM-7800\n"
          ],
          "name": "stdout"
        },
        {
          "output_type": "stream",
          "text": [
            "INFO:tensorflow:Restoring parameters from ckpt-exp01/5-LSTM-7800\n"
          ],
          "name": "stderr"
        },
        {
          "output_type": "stream",
          "text": [
            "Source Sentence:  the inclusion of the lower canines \n",
            "Real Translation:  l inclusion des canines inferieures \n",
            "Predicted Translation:  l hypospadias de la bas autorite \n",
            "Levenshetein Distance: 24.0\n",
            "***BLEU Score***: 0.5408536609893481\n",
            "                                                                                         \n",
            "INFO:tensorflow:Restoring parameters from ckpt-exp01/5-LSTM-7800\n"
          ],
          "name": "stdout"
        },
        {
          "output_type": "stream",
          "text": [
            "INFO:tensorflow:Restoring parameters from ckpt-exp01/5-LSTM-7800\n"
          ],
          "name": "stderr"
        },
        {
          "output_type": "stream",
          "text": [
            "Source Sentence:  hypnotism in dentistry \n",
            "Real Translation:  hypnotisme en chirurgie dentaire \n",
            "Predicted Translation:  la phocomelie en medecine dentaire en medecine dentaire et marseille et marseille marseille et marseille et digestive marseille marseille marseille en medecine digestive marseille marseille et digestive digestive et digestive digestive et digestive digestive marseille marseille et digestive digestive marseille marseille et digestive digestive marseille marseille et digestive digestive marseille marseille et digestive digestive dovocyte marseille marseille et digestive digestive dovocyte marseille marseille marseille marseille marseille marseille marseille marseille marseille marseille marseille marseille marseille marseille marseille marseille marseille marseille marseille marseille marseille marseille marseille marseille marseille marseille marseille marseille marseille marseille marseille marseille marseille marseille marseille marseille marseille marseill\n",
            "Levenshetein Distance: 843.0\n",
            "***BLEU Score***: 0\n",
            "                                                                                         \n",
            "INFO:tensorflow:Restoring parameters from ckpt-exp01/5-LSTM-7800\n"
          ],
          "name": "stdout"
        },
        {
          "output_type": "stream",
          "text": [
            "INFO:tensorflow:Restoring parameters from ckpt-exp01/5-LSTM-7800\n"
          ],
          "name": "stderr"
        },
        {
          "output_type": "stream",
          "text": [
            "Source Sentence:  a few cases of bleeding treated with gelatin sponges and thrombin \n",
            "Real Translation:  quelques cas d hemorragies traites par les eponges de gelatine et thrombine \n",
            "Predicted Translation:  quelques observations de saignement traites par calculs de la societe de langue et de hodge de thrombine et de de de thrombine et de de de fibrinogene de langue de thrombine et de de de fibrinogene de langue de la thrombine et de de de segment preparatoire de de de thrombine et de la thrombine et de la thrombine et de la thrombine et de la dovocyte moxy de besancon et de la dovocyte de de de decembre et de la dovocyte de de de decembre et de la dovocyte de de de decembre et de la dovocyte d\n",
            "Levenshetein Distance: 428.0\n",
            "***BLEU Score***: 0.31702331385234306\n",
            "                                                                                         \n",
            "INFO:tensorflow:Restoring parameters from ckpt-exp01/5-LSTM-7800\n"
          ],
          "name": "stdout"
        },
        {
          "output_type": "stream",
          "text": [
            "INFO:tensorflow:Restoring parameters from ckpt-exp01/5-LSTM-7800\n"
          ],
          "name": "stderr"
        },
        {
          "output_type": "stream",
          "text": [
            "Source Sentence:  two cases of diffuse phlegmon of the face treated with penicillin \n",
            "Real Translation:  sur deux cas de phlegmons diffus de la face traites par la penicilline \n",
            "Predicted Translation:  deux cas de syndrome concomitante de sa face traites par suture par suture par suture par suture par suture par suture a gauges a phlegmon traites par suture par suture a gauges traites a phlegmon de phlegmon a gauges traites a phlegmon de phlegmon a gauges traites a une mucoceles de phlegmon a gauges traites a une mucoceles de phlegmon a gauges traites a une mucoceles de phlegmon a gauges traites a phlegmon de phlegmon a gauges traites a une mucoceles de phlegmon a gauges traites a phlegmon de phlegmon noire traites de phlegmon phlegmon de phlegmon morphologiques trait\n",
            "Levenshetein Distance: 512.0\n",
            "***BLEU Score***: 0.31702331385234306\n",
            "                                                                                         \n",
            "INFO:tensorflow:Restoring parameters from ckpt-exp01/5-LSTM-7800\n"
          ],
          "name": "stdout"
        },
        {
          "output_type": "stream",
          "text": [
            "INFO:tensorflow:Restoring parameters from ckpt-exp01/5-LSTM-7800\n"
          ],
          "name": "stderr"
        },
        {
          "output_type": "stream",
          "text": [
            "Source Sentence:  practice note on the preventive treatment of dental caries by sodium fluoride \n",
            "Real Translation:  note pratique sur le traitement preventif de la carie dentaire par le fluorure de sodium \n",
            "Predicted Translation:  note pratiques concernant le traitement preventif de la carie dentaire par trastuzumab nd smith au laser royal par le propylthiouracile of smith au laser royal par le propylthiouracile royal par le propylthiouracile au laser \n",
            "Levenshetein Distance: 143.0\n",
            "***BLEU Score***: 0\n",
            "                                                                                         \n",
            "INFO:tensorflow:Restoring parameters from ckpt-exp01/5-LSTM-7800\n"
          ],
          "name": "stdout"
        },
        {
          "output_type": "stream",
          "text": [
            "INFO:tensorflow:Restoring parameters from ckpt-exp01/5-LSTM-7800\n"
          ],
          "name": "stderr"
        },
        {
          "output_type": "stream",
          "text": [
            "Source Sentence:  atomic theory and dental art \n",
            "Real Translation:  atomistique et art dentaire \n",
            "Predicted Translation:  theorie de la theorie a culture dentaire et ingenierie dentaire art a vue de l art a l dentaires \n",
            "Levenshetein Distance: 73.0\n",
            "***BLEU Score***: 0.47897362544357464\n",
            "                                                                                         \n",
            "INFO:tensorflow:Restoring parameters from ckpt-exp01/5-LSTM-7800\n"
          ],
          "name": "stdout"
        },
        {
          "output_type": "stream",
          "text": [
            "INFO:tensorflow:Restoring parameters from ckpt-exp01/5-LSTM-7800\n"
          ],
          "name": "stderr"
        },
        {
          "output_type": "stream",
          "text": [
            "Source Sentence:  changes to the growth plate harmed by x ray \n",
            "Real Translation:  sur l evolution du cartilage de conjugaison lese par les rayons x \n",
            "Predicted Translation:  des remaniements du muscle solidaire du temps par r r \n",
            "Levenshetein Distance: 48.0\n",
            "***BLEU Score***: 0.5623413251903491\n",
            "                                                                                         \n",
            "INFO:tensorflow:Restoring parameters from ckpt-exp01/5-LSTM-7800\n"
          ],
          "name": "stdout"
        },
        {
          "output_type": "stream",
          "text": [
            "INFO:tensorflow:Restoring parameters from ckpt-exp01/5-LSTM-7800\n"
          ],
          "name": "stderr"
        },
        {
          "output_type": "stream",
          "text": [
            "Source Sentence:  treatment of hemolytic disease of the newborn by exchange transfusion \n",
            "Real Translation:  traitement de la maladie hemolytique du nouveau ne par l exsanguino transfusion \n",
            "Predicted Translation:  traitement de la pathologie hemolytique du nouveau nes par prelevement d epidemie d epidemie d epidemie d epidemie d epidemie d epidemie d endemiques de strasbourg d epidemie d endemiques de strasbourg d endemiques d endemiques a partir d echange \n",
            "Levenshetein Distance: 176.0\n",
            "***BLEU Score***: 0.4728708045015879\n",
            "                                                                                         \n",
            "INFO:tensorflow:Restoring parameters from ckpt-exp01/5-LSTM-7800\n"
          ],
          "name": "stdout"
        },
        {
          "output_type": "stream",
          "text": [
            "INFO:tensorflow:Restoring parameters from ckpt-exp01/5-LSTM-7800\n"
          ],
          "name": "stderr"
        },
        {
          "output_type": "stream",
          "text": [
            "Source Sentence:  a purulent pleurisy b . ramosus associated with pneumo bacillus friedlander , mixed treatment a high dose penicillin , streptomycin , thoracotomy recovery \n",
            "Real Translation:  pleuresie putride a b . ramosus associee au pneumobacille de friedlander , traitement mixte penicilline a hautes doses , streptomycine , pleurotomie guerison \n",
            "Predicted Translation:  une pleuresie legale . de la part du recueil du recueil vestimentaire , traitement mixte , traitement haute jet , chasse , chasse cec , cec la chirurgie de cec secoue , la chirurgie dovocyte cec , cec la chirurgie dovocyte cec , inoperables , la chirurgie dovocyte cec , inoperables , la chirurgie dovocyte cec , inoperables , la chirurgie dovocyte cec , inoperables , la chirurgie dovocyte cec , inoperables , la chirurgie dovocyte cec , inoperables , la chirurgie dovocyte cec , inoperables , la chirurgie dovocyte cec , la chirurgie dovocyte cec , la plai\n",
            "Levenshetein Distance: 446.0\n",
            "***BLEU Score***: 0.3770063804549471\n",
            "                                                                                         \n",
            "INFO:tensorflow:Restoring parameters from ckpt-exp01/5-LSTM-7800\n"
          ],
          "name": "stdout"
        },
        {
          "output_type": "stream",
          "text": [
            "INFO:tensorflow:Restoring parameters from ckpt-exp01/5-LSTM-7800\n"
          ],
          "name": "stderr"
        },
        {
          "output_type": "stream",
          "text": [
            "Source Sentence:  spheno cavernous syndrome \n",
            "Real Translation:  le syndrome spheno caverneux \n",
            "Predicted Translation:  syndrome du dr caverneux syndrome du dr caverneux syndrome du gangreneux le syndrome du gangreneux le syndrome du gangreneux le syndrome du gangreneux le syndrome du gangreneux le syndrome du gangreneux le syndrome du gangreneux le syndrome du benin le syndrome du benin le syndrome du benin le syndrome du benin le benin \n",
            "Levenshetein Distance: 297.0\n",
            "***BLEU Score***: 0\n",
            "                                                                                         \n",
            "INFO:tensorflow:Restoring parameters from ckpt-exp01/5-LSTM-7800\n"
          ],
          "name": "stdout"
        },
        {
          "output_type": "stream",
          "text": [
            "INFO:tensorflow:Restoring parameters from ckpt-exp01/5-LSTM-7800\n"
          ],
          "name": "stderr"
        },
        {
          "output_type": "stream",
          "text": [
            "Source Sentence:  the designation of some forms of lupus erythematosus with fatal outcome \n",
            "Real Translation:  a propos de la denomination de certaines formes de lupus erythemateux aigu dissemine a evolution mortelle \n",
            "Predicted Translation:  les ravages de certaines formes du lupus avec evolution fatale d evolution fatale evolution d evolution fatale d evolution fatale d evolution fatale \n",
            "Levenshetein Distance: 101.0\n",
            "***BLEU Score***: 0.4566337854967312\n",
            "                                                                                         \n",
            "INFO:tensorflow:Restoring parameters from ckpt-exp01/5-LSTM-7800\n"
          ],
          "name": "stdout"
        },
        {
          "output_type": "stream",
          "text": [
            "INFO:tensorflow:Restoring parameters from ckpt-exp01/5-LSTM-7800\n"
          ],
          "name": "stderr"
        },
        {
          "output_type": "stream",
          "text": [
            "Source Sentence:  artificial dermatoses \n",
            "Real Translation:  les dermatoses artificielles \n",
            "Predicted Translation:  les dermatoses dentaires les dermatoses dentaires les dermatoses dentaires les dermatoses dentaires les dermatoses dentaires les dermatoses dentaires les dermatoses dermatoses \n",
            "Levenshetein Distance: 149.0\n",
            "***BLEU Score***: 0\n",
            "                                                                                         \n",
            "INFO:tensorflow:Restoring parameters from ckpt-exp01/5-LSTM-7800\n"
          ],
          "name": "stdout"
        },
        {
          "output_type": "stream",
          "text": [
            "INFO:tensorflow:Restoring parameters from ckpt-exp01/5-LSTM-7800\n"
          ],
          "name": "stderr"
        },
        {
          "output_type": "stream",
          "text": [
            "Source Sentence:  the italian contribution to surgery of the lung and esophagus \n",
            "Real Translation:  l apport italien a la chirurgie du poumon et de l oesophage \n",
            "Predicted Translation:  la contribution bresilienne de la chirurgie du poumon et de l estomac et de l estomac \n",
            "Levenshetein Distance: 40.0\n",
            "***BLEU Score***: 0.5\n",
            "                                                                                         \n",
            "INFO:tensorflow:Restoring parameters from ckpt-exp01/5-LSTM-7800\n"
          ],
          "name": "stdout"
        },
        {
          "output_type": "stream",
          "text": [
            "INFO:tensorflow:Restoring parameters from ckpt-exp01/5-LSTM-7800\n"
          ],
          "name": "stderr"
        },
        {
          "output_type": "stream",
          "text": [
            "Source Sentence:  current status of the treatment of tuberculosis with streptomycin in the united states \n",
            "Real Translation:  etat actuel du traitement de la tuberculose par la streptomycine aux etats unis \n",
            "Predicted Translation:  etat du traitement de la tuberculose avec falsification dans les etats unis aux etats unis \n",
            "Levenshetein Distance: 37.0\n",
            "***BLEU Score***: 0\n",
            "                                                                                         \n",
            "INFO:tensorflow:Restoring parameters from ckpt-exp01/5-LSTM-7800\n"
          ],
          "name": "stdout"
        },
        {
          "output_type": "stream",
          "text": [
            "INFO:tensorflow:Restoring parameters from ckpt-exp01/5-LSTM-7800\n"
          ],
          "name": "stderr"
        },
        {
          "output_type": "stream",
          "text": [
            "Source Sentence:  otology with respect to head injuries \n",
            "Real Translation:  l otologie dans ses rapports avec les traumatismes craniens \n",
            "Predicted Translation:  l oasis au respect des traumatismes craniens \n",
            "Levenshetein Distance: 23.0\n",
            "***BLEU Score***: 0.5329462628216854\n",
            "                                                                                         \n",
            "INFO:tensorflow:Restoring parameters from ckpt-exp01/5-LSTM-7800\n"
          ],
          "name": "stdout"
        },
        {
          "output_type": "stream",
          "text": [
            "INFO:tensorflow:Restoring parameters from ckpt-exp01/5-LSTM-7800\n"
          ],
          "name": "stderr"
        },
        {
          "output_type": "stream",
          "text": [
            "Source Sentence:  classification test of bone diseases \n",
            "Real Translation:  essai de classification des maladies osseuses \n",
            "Predicted Translation:  le test de classification des maladies osseuses des maladies osseuses les maladies osseuses les maladies osseuses les maladies osseuses \n",
            "Levenshetein Distance: 94.0\n",
            "***BLEU Score***: 0\n",
            "                                                                                         \n",
            "INFO:tensorflow:Restoring parameters from ckpt-exp01/5-LSTM-7800\n"
          ],
          "name": "stdout"
        },
        {
          "output_type": "stream",
          "text": [
            "INFO:tensorflow:Restoring parameters from ckpt-exp01/5-LSTM-7800\n"
          ],
          "name": "stderr"
        },
        {
          "output_type": "stream",
          "text": [
            "Source Sentence:  first tests on the action of asiaticoside on lupus erythematosus and certain lesions produced by the bacilli of koch and hansen \n",
            "Real Translation:  premiers essais au sujet de l action de l asiaticoside sur les lupus erythemateux et sur certaines lesions produites par les bacilles de hansen et koch \n",
            "Predicted Translation:  premiers tests sur l action des variables sur les pathologies lupus et des effets avec les recits de redaction de certification et europeenne \n",
            "Levenshetein Distance: 93.0\n",
            "***BLEU Score***: 0.4566337854967312\n",
            "                                                                                         \n",
            "INFO:tensorflow:Restoring parameters from ckpt-exp01/5-LSTM-7800\n"
          ],
          "name": "stdout"
        },
        {
          "output_type": "stream",
          "text": [
            "INFO:tensorflow:Restoring parameters from ckpt-exp01/5-LSTM-7800\n"
          ],
          "name": "stderr"
        },
        {
          "output_type": "stream",
          "text": [
            "Source Sentence:  reflex anuria and retroperitoneal hematoma from pelvic fracture peritoneal symptoms and diagnostic difficulties \n",
            "Real Translation:  anurie reflexe et hematome retro peritoneal par fracture du bassin symptomatologie peritoneale difficultes du diagnostic \n",
            "Predicted Translation:  angiomyolipomes pleural et angiomyolipomes du front des symptomes pelviennes atteintes neoplasiques et difficultes diagnostiques difficultes d un phenomene d interet du clafu et d une alteration des pieges sentinelles de la phalange fibrokystique \n",
            "Levenshetein Distance: 180.0\n",
            "***BLEU Score***: 0.4172261448611506\n",
            "                                                                                         \n",
            "INFO:tensorflow:Restoring parameters from ckpt-exp01/5-LSTM-7800\n"
          ],
          "name": "stdout"
        },
        {
          "output_type": "stream",
          "text": [
            "INFO:tensorflow:Restoring parameters from ckpt-exp01/5-LSTM-7800\n"
          ],
          "name": "stderr"
        },
        {
          "output_type": "stream",
          "text": [
            "Source Sentence:  artificial dermatoses \n",
            "Real Translation:  les dermatoses artificielles \n",
            "Predicted Translation:  les dermatoses dentaires les dermatoses dentaires les dermatoses dentaires les dermatoses dentaires les dermatoses dentaires les dermatoses dentaires les dermatoses dermatoses \n",
            "Levenshetein Distance: 149.0\n",
            "***BLEU Score***: 0\n",
            "                                                                                         \n",
            "INFO:tensorflow:Restoring parameters from ckpt-exp01/5-LSTM-7800\n"
          ],
          "name": "stdout"
        },
        {
          "output_type": "stream",
          "text": [
            "INFO:tensorflow:Restoring parameters from ckpt-exp01/5-LSTM-7800\n"
          ],
          "name": "stderr"
        },
        {
          "output_type": "stream",
          "text": [
            "Source Sentence:  physiological and clinical results of modern dietary treatment of liver cirrhosis \n",
            "Real Translation:  bases physiologiques et resultats cliniques du traitement dietetique moderne de la cirrhose hepatique \n",
            "Predicted Translation:  resultats fonctionnelles et cliniques des traitements alimentaires conservateurs dans la cirrhose cirrhose dans le traitement de la cirrhose cirrhose \n",
            "Levenshetein Distance: 95.0\n",
            "***BLEU Score***: 0\n",
            "                                                                                         \n",
            "INFO:tensorflow:Restoring parameters from ckpt-exp01/5-LSTM-7800\n"
          ],
          "name": "stdout"
        },
        {
          "output_type": "stream",
          "text": [
            "INFO:tensorflow:Restoring parameters from ckpt-exp01/5-LSTM-7800\n"
          ],
          "name": "stderr"
        },
        {
          "output_type": "stream",
          "text": [
            "Source Sentence:  myxedema and associated neurological signs with pigmentary cirrhosis \n",
            "Real Translation:  myxoedeme et signes neurologiques associes au cours d une cirrhose pigmentaire \n",
            "Predicted Translation:  atteintes clinicobiologiques et pneumopathie cyclothymique sensible a cirrhose pigmentaires sensible a cirrhose pigmentaires pseudotumorale a cirrhose pigmentaires pseudotumorale \n",
            "Levenshetein Distance: 123.0\n",
            "***BLEU Score***: 0.4854917717073234\n",
            "                                                                                         \n",
            "INFO:tensorflow:Restoring parameters from ckpt-exp01/5-LSTM-7800\n"
          ],
          "name": "stdout"
        },
        {
          "output_type": "stream",
          "text": [
            "INFO:tensorflow:Restoring parameters from ckpt-exp01/5-LSTM-7800\n"
          ],
          "name": "stderr"
        },
        {
          "output_type": "stream",
          "text": [
            "Source Sentence:  the fight against social scourges in the countryside \n",
            "Real Translation:  la lutte contre les fleaux sociaux a la campagne \n",
            "Predicted Translation:  la lutte contre le sillon sociale dans la lutte contre la lutte et les sensations sociales dans la lutte des occasions sociales de la detention \n",
            "Levenshetein Distance: 103.0\n",
            "***BLEU Score***: 0\n",
            "                                                                                         \n",
            "INFO:tensorflow:Restoring parameters from ckpt-exp01/5-LSTM-7800\n"
          ],
          "name": "stdout"
        },
        {
          "output_type": "stream",
          "text": [
            "INFO:tensorflow:Restoring parameters from ckpt-exp01/5-LSTM-7800\n"
          ],
          "name": "stderr"
        },
        {
          "output_type": "stream",
          "text": [
            "Source Sentence:  malignant ovarian tumors \n",
            "Real Translation:  tumeurs malignes de l ovaire \n",
            "Predicted Translation:  tumeurs malignes de l ovaire les tumeurs malignes de l ovaire les tumeurs malignes de l ovaire les tumeurs de l ovaire les tumeurs de l ovaire \n",
            "Levenshetein Distance: 114.0\n",
            "***BLEU Score***: 0.4386913376508308\n",
            "                                                                                         \n",
            "INFO:tensorflow:Restoring parameters from ckpt-exp01/5-LSTM-7800\n"
          ],
          "name": "stdout"
        },
        {
          "output_type": "stream",
          "text": [
            "INFO:tensorflow:Restoring parameters from ckpt-exp01/5-LSTM-7800\n"
          ],
          "name": "stderr"
        },
        {
          "output_type": "stream",
          "text": [
            "Source Sentence:  health and urbanism \n",
            "Real Translation:  hygiene et urbanisme \n",
            "Predicted Translation:  sante et scolarite de la charite et de la moustache \n",
            "Levenshetein Distance: 41.0\n",
            "***BLEU Score***: 0\n",
            "                                                                                         \n",
            "INFO:tensorflow:Restoring parameters from ckpt-exp01/5-LSTM-7800\n"
          ],
          "name": "stdout"
        },
        {
          "output_type": "stream",
          "text": [
            "INFO:tensorflow:Restoring parameters from ckpt-exp01/5-LSTM-7800\n"
          ],
          "name": "stderr"
        },
        {
          "output_type": "stream",
          "text": [
            "Source Sentence:  tactics of total resection of carcinoma of the stomach \n",
            "Real Translation:  tactique de l exerese totale de l estomac carcinomateux \n",
            "Predicted Translation:  hamartochondrome de la resection totale du carcinome de l estomac de l estomac de l estomac de l estomac de l estomac de l estomac de a rectum de l estomac de a rectum de l estomac de a rectum de l estomac de a cotonou gingival de cotonou de a cotonou gingival de cotonou gingival de cotonou gingival de cotonou gingival de cotonou gingival de cotonou gingival de cotonou gingival de cotonou gingival de cotonou gingival de cotonou gingival de cotonou gingival de cotonou gingival de cotonou gastrique de cotonou gastrique de cotonou gastrique de cotonou gastrique d\n",
            "Levenshetein Distance: 515.0\n",
            "***BLEU Score***: 0.44833867003844585\n",
            "                                                                                         \n",
            "INFO:tensorflow:Restoring parameters from ckpt-exp01/5-LSTM-7800\n"
          ],
          "name": "stdout"
        },
        {
          "output_type": "stream",
          "text": [
            "INFO:tensorflow:Restoring parameters from ckpt-exp01/5-LSTM-7800\n"
          ],
          "name": "stderr"
        },
        {
          "output_type": "stream",
          "text": [
            "Source Sentence:  surgical treatment of prostatic hypertrophy \n",
            "Real Translation:  traitement operatoire de l hypertrophie prostatique \n",
            "Predicted Translation:  traitement chirurgical de l hyperplasie prostatique \n",
            "Levenshetein Distance: 14.0\n",
            "***BLEU Score***: 0.6389431042462724\n",
            "                                                                                         \n",
            "INFO:tensorflow:Restoring parameters from ckpt-exp01/5-LSTM-7800\n"
          ],
          "name": "stdout"
        },
        {
          "output_type": "stream",
          "text": [
            "INFO:tensorflow:Restoring parameters from ckpt-exp01/5-LSTM-7800\n"
          ],
          "name": "stderr"
        },
        {
          "output_type": "stream",
          "text": [
            "Source Sentence:  how to prevent focal infection \n",
            "Real Translation:  comment prevenir l infection focale \n",
            "Predicted Translation:  comment prevenir les infections infections a domaine de l infection a domaine de l infection a domaine de l infection a domaine de l infection a domaine de l infection a domaine de l infection a l infection ? le traitement des infections alimentaires a l infection ? les infections a l infection focale a l infection ? les infections a l infection focale a l infection ? a la infection a l infection focale a l infection ? a la infection a l infection focale a l infection ? a la infection a l infection focale a l\n",
            "Levenshetein Distance: 478.0\n",
            "***BLEU Score***: 0.11982354975183966\n",
            "                                                                                         \n",
            "INFO:tensorflow:Restoring parameters from ckpt-exp01/5-LSTM-7800\n"
          ],
          "name": "stdout"
        },
        {
          "output_type": "stream",
          "text": [
            "INFO:tensorflow:Restoring parameters from ckpt-exp01/5-LSTM-7800\n"
          ],
          "name": "stderr"
        },
        {
          "output_type": "stream",
          "text": [
            "Source Sentence:  fungistatic and fungicidal action of hexylresorcinol \n",
            "Real Translation:  action fungistatique et fungicide de l hexylresorcine \n",
            "Predicted Translation:  transgenese et force action de degenerescences \n",
            "Levenshetein Distance: 35.0\n",
            "***BLEU Score***: 0\n",
            "                                                                                         \n",
            "INFO:tensorflow:Restoring parameters from ckpt-exp01/5-LSTM-7800\n"
          ],
          "name": "stdout"
        },
        {
          "output_type": "stream",
          "text": [
            "INFO:tensorflow:Restoring parameters from ckpt-exp01/5-LSTM-7800\n"
          ],
          "name": "stderr"
        },
        {
          "output_type": "stream",
          "text": [
            "Source Sentence:  a case of supradiaphragmatic diverticulum of the esophagus complicated lung abscess , surgical treatment , healing of the diverticulum and lung abscess \n",
            "Real Translation:  un cas de diverticule sus diaphragmatique de l oesophage complique d abces au poumon traitement chirurgical guerison du diverticule et de l abces pulmonaire \n",
            "Predicted Translation:  un cas de diverticule retrograde de l oesophage compliquee , traitement chirurgical , cicatrisation du larynx et abces pulmonaires au cervical et abces bronchique \n",
            "Levenshetein Distance: 82.0\n",
            "***BLEU Score***: 0.4518010018049224\n",
            "                                                                                         \n",
            "INFO:tensorflow:Restoring parameters from ckpt-exp01/5-LSTM-7800\n"
          ],
          "name": "stdout"
        },
        {
          "output_type": "stream",
          "text": [
            "INFO:tensorflow:Restoring parameters from ckpt-exp01/5-LSTM-7800\n"
          ],
          "name": "stderr"
        },
        {
          "output_type": "stream",
          "text": [
            "Source Sentence:  five cases of interventions for facial paralysis with nerve graft with excellent results \n",
            "Real Translation:  cinq cas d interventions pour paralysie faciale dont une greffe nerveuse avec un resultat excellent \n",
            "Predicted Translation:  interventions a moyen de cinq cas d paralysie faciale avec lesions avec inefficacite anti resultats resultats de l astro resultats de l astro resultats de l astro \n",
            "Levenshetein Distance: 102.0\n",
            "***BLEU Score***: 0.6204032394013997\n",
            "                                                                                         \n",
            "INFO:tensorflow:Restoring parameters from ckpt-exp01/5-LSTM-7800\n"
          ],
          "name": "stdout"
        },
        {
          "output_type": "stream",
          "text": [
            "INFO:tensorflow:Restoring parameters from ckpt-exp01/5-LSTM-7800\n"
          ],
          "name": "stderr"
        },
        {
          "output_type": "stream",
          "text": [
            "Source Sentence:  two cases of esophageal strictures with serious injury during dilatation treated with penicillin \n",
            "Real Translation:  deux cas de retrecissement cicatriciel de l oesophage avec accidents graves au cours de la dilatation guerison par la penicilline \n",
            "Predicted Translation:  deux cas de infiltration gastrique avec contusion grave apres phlegmon par suture a la penicilline par phlegmon a gauges a phlegmon traites par suture a phlegmon traites par phlegmon a gauges a phlegmon traites par phlegmon a phlegmon traites par phlegmon a phlegmon traites par phlegmon a phlegmon traites par phlegmon a phlegmon traites par phlegmon a phlegmon traites par phlegmon a phlegmon albendazole par phlegmon a phlegmon albendazole par phlegmon a phlegmon albendazole par phlegmon a phlegmon albendazole par phlegmon a phlegmon albendazole par phlegmon a phlegmon albendazole par phlegmon a phlegmon albendazole par phlegmon a phlegmon albendazol\n",
            "Levenshetein Distance: 555.0\n",
            "***BLEU Score***: 0.3770063804549471\n",
            "                                                                                         \n",
            "INFO:tensorflow:Restoring parameters from ckpt-exp01/5-LSTM-7800\n"
          ],
          "name": "stdout"
        },
        {
          "output_type": "stream",
          "text": [
            "INFO:tensorflow:Restoring parameters from ckpt-exp01/5-LSTM-7800\n"
          ],
          "name": "stderr"
        },
        {
          "output_type": "stream",
          "text": [
            "Source Sentence:  the treatment of multiple sclerosis \n",
            "Real Translation:  a propos du traitement de la sclerose en plaques \n",
            "Predicted Translation:  traitement de la sclerose en plaques de la sclerose en plaques sep \n",
            "Levenshetein Distance: 33.0\n",
            "***BLEU Score***: 0\n",
            "                                                                                         \n",
            "INFO:tensorflow:Restoring parameters from ckpt-exp01/5-LSTM-7800\n"
          ],
          "name": "stdout"
        },
        {
          "output_type": "stream",
          "text": [
            "INFO:tensorflow:Restoring parameters from ckpt-exp01/5-LSTM-7800\n"
          ],
          "name": "stderr"
        },
        {
          "output_type": "stream",
          "text": [
            "Source Sentence:  disease and postoperative complications in oral surgery \n",
            "Real Translation:  la maladie et les complications post operatoires dans la chirurgie stomatologique \n",
            "Predicted Translation:  maladie de still et postoperatoires complications en chirurgie orale complications et complications postoperatoires en chirurgie orale \n",
            "Levenshetein Distance: 89.0\n",
            "***BLEU Score***: 0\n",
            "                                                                                         \n",
            "INFO:tensorflow:Restoring parameters from ckpt-exp01/5-LSTM-7800\n"
          ],
          "name": "stdout"
        },
        {
          "output_type": "stream",
          "text": [
            "INFO:tensorflow:Restoring parameters from ckpt-exp01/5-LSTM-7800\n"
          ],
          "name": "stderr"
        },
        {
          "output_type": "stream",
          "text": [
            "Source Sentence:  the palate prosthesis \n",
            "Real Translation:  la prothese velo palatine \n",
            "Predicted Translation:  la prothese du palais prothese du palais \n",
            "Levenshetein Distance: 22.0\n",
            "***BLEU Score***: 0\n",
            "                                                                                         \n",
            "INFO:tensorflow:Restoring parameters from ckpt-exp01/5-LSTM-7800\n"
          ],
          "name": "stdout"
        },
        {
          "output_type": "stream",
          "text": [
            "INFO:tensorflow:Restoring parameters from ckpt-exp01/5-LSTM-7800\n"
          ],
          "name": "stderr"
        },
        {
          "output_type": "stream",
          "text": [
            "Source Sentence:  serial sections of two total gastrectomies for cancer \n",
            "Real Translation:  coupes en serie de deux gastrectomies totales pour cancer \n",
            "Predicted Translation:  prise en charge de l angine de l adulte . prise en charge pour cancer inferieur des cancers \n",
            "Levenshetein Distance: 60.0\n",
            "***BLEU Score***: 0.4854917717073234\n",
            "                                                                                         \n",
            "INFO:tensorflow:Restoring parameters from ckpt-exp01/5-LSTM-7800\n"
          ],
          "name": "stdout"
        },
        {
          "output_type": "stream",
          "text": [
            "INFO:tensorflow:Restoring parameters from ckpt-exp01/5-LSTM-7800\n"
          ],
          "name": "stderr"
        },
        {
          "output_type": "stream",
          "text": [
            "Source Sentence:  spinal anesthesia at the maternity of geneva \n",
            "Real Translation:  rachi anesthesies a la maternite de geneve \n",
            "Predicted Translation:  l anesthesie par dxa au centre de geneve geneve geneve a geneve geneve geneve a geneve geneve geneve a geneve geneve geneve a geneve geneve geneve a geneve geneve geneve a geneve geneve geneve geneve a geneve geneve geneve geneve a geneve geneve geneve geneve a besancon geneve geneve geneve a besancon geneve geneve geneve a besancon geneve geneve geneve a besancon geneve geneve geneve a besancon geneve geneve geneve a besancon geneve geneve geneve a besancon geneve geneve geneve a besancon geneve geneve geneve a besancon geneve geneve geneve a besancon geneve geneve geneve a besancon geneve genev\n",
            "Levenshetein Distance: 572.0\n",
            "***BLEU Score***: 0.3770063804549471\n",
            "                                                                                         \n",
            "INFO:tensorflow:Restoring parameters from ckpt-exp01/5-LSTM-7800\n"
          ],
          "name": "stdout"
        },
        {
          "output_type": "stream",
          "text": [
            "INFO:tensorflow:Restoring parameters from ckpt-exp01/5-LSTM-7800\n"
          ],
          "name": "stderr"
        },
        {
          "output_type": "stream",
          "text": [
            "Source Sentence:  surgical treatment of cases of gastric cancer statistical documents \n",
            "Real Translation:  a propos du traitement chirurgical de cancers de l estomac documents statistiques \n",
            "Predicted Translation:  traitement chirurgical des cas de cancers gastrique les techniques vaccinales les techniques vaccinales les cancers de cellules estomac les techniques vaccinales d adenocarcinome gastrique les techniques vaccinales d adenocarcinome gastrique \n",
            "Levenshetein Distance: 179.0\n",
            "***BLEU Score***: 0.42728700639623407\n",
            "                                                                                         \n",
            "INFO:tensorflow:Restoring parameters from ckpt-exp01/5-LSTM-7800\n"
          ],
          "name": "stdout"
        },
        {
          "output_type": "stream",
          "text": [
            "INFO:tensorflow:Restoring parameters from ckpt-exp01/5-LSTM-7800\n"
          ],
          "name": "stderr"
        },
        {
          "output_type": "stream",
          "text": [
            "Source Sentence:  a case of phrenectomy for treatment of cavities of the base \n",
            "Real Translation:  un cas de phrenicectomie pour un traitement de cavernes de la base \n",
            "Predicted Translation:  un cas de traitement des pertes de pertes de pertes de la base de la base de la base la proposition de la base la resurrection la commune la commune la commune la commune de la base la liberte de la base la liberte de la base la proposition de la base la liberte de la base la proposition la proposition la proposition la proposition la proposition la proposition la proposition la proposition la proposition la proposition la proposition la proposition la proposition la proposition la proposition la proposition la proposition la proposition la proposition la proposition la proposition\n",
            "Levenshetein Distance: 533.0\n",
            "***BLEU Score***: 0\n",
            "                                                                                         \n",
            "INFO:tensorflow:Restoring parameters from ckpt-exp01/5-LSTM-7800\n"
          ],
          "name": "stdout"
        },
        {
          "output_type": "stream",
          "text": [
            "INFO:tensorflow:Restoring parameters from ckpt-exp01/5-LSTM-7800\n"
          ],
          "name": "stderr"
        },
        {
          "output_type": "stream",
          "text": [
            "Source Sentence:  outstanding outcome of a phrenectomy for ulcerative tuberculosis superior lobe in a patient with a megadiaphragm \n",
            "Real Translation:  action remarquable de la phrenicectomie sur une tuberculose ulcereuse du lobe superieur chez une malade presentant un megadiaphragme \n",
            "Predicted Translation:  evolution d un traitement de fond de l anemie droit de la polyarthrite hemorragique le lobe superieur a destination d une drepanothalassemie \n",
            "Levenshetein Distance: 99.0\n",
            "***BLEU Score***: 0.6076795808137692\n",
            "                                                                                         \n",
            "INFO:tensorflow:Restoring parameters from ckpt-exp01/5-LSTM-7800\n"
          ],
          "name": "stdout"
        },
        {
          "output_type": "stream",
          "text": [
            "INFO:tensorflow:Restoring parameters from ckpt-exp01/5-LSTM-7800\n"
          ],
          "name": "stderr"
        },
        {
          "output_type": "stream",
          "text": [
            "Source Sentence:  histochemical research on lipids of the cerebral cortex \n",
            "Real Translation:  recherches histochimiques sur les lipides de l ecorce cerebrale \n",
            "Predicted Translation:  recherche de la recherche histochimique sur les follicules du cortex cerebral le cortex cerebral le cortex cerebral cortex du cortex cerebral cortex du cortex cerebral cortex du cortex cerebral cortex du cortex cerebral cortex du cortex cerebral cortex du cortex cerebral cortex du cortex cerebral cortex du cortex cerebral cortex du cortex cerebral cortex du cortex cerebral cortex du cortex cerebral cortex du cortex cerebral cortex du cortex cerebral cortex du cortex cerebral cortex du cortex cerebral cortex du cortex cerebral cortex du cortex cerebral cortex du cortex cerebral le cortex cerebral cortex du cortex cerebral le cortex cerebral\n",
            "Levenshetein Distance: 589.0\n",
            "***BLEU Score***: 0\n",
            "                                                                                         \n",
            "INFO:tensorflow:Restoring parameters from ckpt-exp01/5-LSTM-7800\n"
          ],
          "name": "stdout"
        },
        {
          "output_type": "stream",
          "text": [
            "INFO:tensorflow:Restoring parameters from ckpt-exp01/5-LSTM-7800\n"
          ],
          "name": "stderr"
        },
        {
          "output_type": "stream",
          "text": [
            "Source Sentence:  importance and value of kinetic disorders in left ventricular myocardial ailments \n",
            "Real Translation:  importance et valeur des troubles cinetiques ventriculaires gauches au cours des affections myocardiques \n",
            "Predicted Translation:  interet et interet des desordres anticancereux dans la stimulation myocardique du myocarde gauche le dasatinib et role du xixeau gauche recevant le dasatinib et interet de l industrie tissulaire gauche du sein par stimulation tissulaire gauche \n",
            "Levenshetein Distance: 183.0\n",
            "***BLEU Score***: 0.408248290463863\n",
            "                                                                                         \n",
            "INFO:tensorflow:Restoring parameters from ckpt-exp01/5-LSTM-7800\n"
          ],
          "name": "stdout"
        },
        {
          "output_type": "stream",
          "text": [
            "INFO:tensorflow:Restoring parameters from ckpt-exp01/5-LSTM-7800\n"
          ],
          "name": "stderr"
        },
        {
          "output_type": "stream",
          "text": [
            "Source Sentence:  changes in abnormalities of left ventricular contraction \n",
            "Real Translation:  evolution des anomalies cinetiques du ventricule gauche \n",
            "Predicted Translation:  variation des temperaments neonatales du ventricule gauche du devoir du meningocoque gauche du devoir tlc gauche du devoir tlc gauche du sondage gauche gauche du sondage cafeine gauche du sondage pic gauche du sondage institutionnalises le sondage residentiel nmda du sondage sondage residentiel nmda du sondage sondage residentiel nmda du sondage sondage residentiel nmda du sondage sondage residentiel nmda du sondage sondage residentiel nmda du sondage sondage residentiel nmda du sondage sondage residentiel nmda du sondage sondage residentiel nmda du sondage sondage residentiel nmda du sondage sondage residentiel nmda du sondage sondage residentiel nmda du sondage sondage residentiel nmda\n",
            "Levenshetein Distance: 646.0\n",
            "***BLEU Score***: 0\n",
            "                                                                                         \n",
            "INFO:tensorflow:Restoring parameters from ckpt-exp01/5-LSTM-7800\n"
          ],
          "name": "stdout"
        },
        {
          "output_type": "stream",
          "text": [
            "INFO:tensorflow:Restoring parameters from ckpt-exp01/5-LSTM-7800\n"
          ],
          "name": "stderr"
        },
        {
          "output_type": "stream",
          "text": [
            "Source Sentence:  clinical left ventricular function \n",
            "Real Translation:  la cinetique ventriculaire gauche en clinique \n",
            "Predicted Translation:  performance ventriculaire gauche clinique clinique clinique du ventricule gauche du ventricule gauche gauche du ventricule gauche gauche du ventricule gauche gauche du ventricule gauche gauche du ventricule gauche gauche du ventricule gauche gauche du ventricule gauche gauche gauche du ventricule gauche gauche gauche du ventricule gauche gauche gauche du ventricule gauche gauche gauche du ventricule gauche gauche gauche du ventricule gauche gauche gauche du ventricule gauche gauche gauche du ventricule gauche gauche gauche du ventricule gauche gauche gauche du ventricule gauche gauche gauche du ventricule gauche gauche gauche du ventricule gauche gauche gauche du ventricule gauche gauche gauche du\n",
            "Levenshetein Distance: 662.0\n",
            "***BLEU Score***: 0\n",
            "                                                                                         \n",
            "INFO:tensorflow:Restoring parameters from ckpt-exp01/5-LSTM-7800\n"
          ],
          "name": "stdout"
        },
        {
          "output_type": "stream",
          "text": [
            "INFO:tensorflow:Restoring parameters from ckpt-exp01/5-LSTM-7800\n"
          ],
          "name": "stderr"
        },
        {
          "output_type": "stream",
          "text": [
            "Source Sentence:  radiographic kymography used to describe abnormal left ventricular wall motion presenting in the heart \n",
            "Real Translation:  description des anomalies radiokymographiques de la cinetique ventriculaire gauche presentee par les cardiaques \n",
            "Predicted Translation:  hemoretroperitoine sur mesure du coeur du coeur gauche \n",
            "Levenshetein Distance: 84.0\n",
            "***BLEU Score***: 0\n",
            "                                                                                         \n",
            "INFO:tensorflow:Restoring parameters from ckpt-exp01/5-LSTM-7800\n"
          ],
          "name": "stdout"
        },
        {
          "output_type": "stream",
          "text": [
            "INFO:tensorflow:Restoring parameters from ckpt-exp01/5-LSTM-7800\n"
          ],
          "name": "stderr"
        },
        {
          "output_type": "stream",
          "text": [
            "Source Sentence:  normal left ventricular kinetics \n",
            "Real Translation:  la cinetique ventriculaire gauche normale \n",
            "Predicted Translation:  cinetique ventriculaire gauche normale normale normale normale de neer r gauche probllema gauche de neer r gauche probllema gauche probllema de probllema gauche gauche probllema de probllema gauche gauche probllema de probllema gauche gauche probllema de probllema gauche gauche probllema de probllema gauche gauche probllema de probllema gauche gauche probllema de probllema gauche gauche probllema de probllema gauche gauche probllema gauche probllema de probllema gauche gauche probllema gauche probllema de probllema gauche probllema gauche probllema de probllema gauche probllema gauche probllema de probllema gauche probllema gauche probllema de probllema gauche probllema gauche probllema de probllema gauche probllema gauche probllema\n",
            "Levenshetein Distance: 706.0\n",
            "***BLEU Score***: 0.3770063804549471\n",
            "                                                                                         \n",
            "INFO:tensorflow:Restoring parameters from ckpt-exp01/5-LSTM-7800\n"
          ],
          "name": "stdout"
        },
        {
          "output_type": "stream",
          "text": [
            "INFO:tensorflow:Restoring parameters from ckpt-exp01/5-LSTM-7800\n"
          ],
          "name": "stderr"
        },
        {
          "output_type": "stream",
          "text": [
            "Source Sentence:  left ventricular function radiographic kymography study \n",
            "Real Translation:  la cinetique ventriculaire gauche etude radiokymographique \n",
            "Predicted Translation:  etude clinique automatisee du syndrome d ventriculaire gauche etude genetique d etude pronostique incertain \n",
            "Levenshetein Distance: 64.0\n",
            "***BLEU Score***: 0.5169731539571706\n",
            "                                                                                         \n",
            "INFO:tensorflow:Restoring parameters from ckpt-exp01/5-LSTM-7800\n"
          ],
          "name": "stdout"
        },
        {
          "output_type": "stream",
          "text": [
            "INFO:tensorflow:Restoring parameters from ckpt-exp01/5-LSTM-7800\n"
          ],
          "name": "stderr"
        },
        {
          "output_type": "stream",
          "text": [
            "Source Sentence:  bullous images of acute lung diseases in children \n",
            "Real Translation:  images bulleuses au decours des affections pulmonaires aigues de l enfant \n",
            "Predicted Translation:  orl . sarcomes bulleuses des tumeurs respiratoires aigues de l enfant de l enfant de l enfant \n",
            "Levenshetein Distance: 50.0\n",
            "***BLEU Score***: 0.5856596027429395\n",
            "                                                                                         \n",
            "INFO:tensorflow:Restoring parameters from ckpt-exp01/5-LSTM-7800\n"
          ],
          "name": "stdout"
        },
        {
          "output_type": "stream",
          "text": [
            "INFO:tensorflow:Restoring parameters from ckpt-exp01/5-LSTM-7800\n"
          ],
          "name": "stderr"
        },
        {
          "output_type": "stream",
          "text": [
            "Source Sentence:  current treatment of prostate cancer \n",
            "Real Translation:  traitement actuel du cancer de la prostate \n",
            "Predicted Translation:  actualites actuels du cancer de la prostate de la prostate la prise en charge du cancer de la prostate la cancerologie prostatique la prise en charge de la prostate de paille la cancerologie de la prostate la tunisie la \n",
            "Levenshetein Distance: 180.0\n",
            "***BLEU Score***: 0\n",
            "                                                                                         \n",
            "INFO:tensorflow:Restoring parameters from ckpt-exp01/5-LSTM-7800\n"
          ],
          "name": "stdout"
        },
        {
          "output_type": "stream",
          "text": [
            "INFO:tensorflow:Restoring parameters from ckpt-exp01/5-LSTM-7800\n"
          ],
          "name": "stderr"
        },
        {
          "output_type": "stream",
          "text": [
            "Source Sentence:  anticancer centre romand of the townships of fribourg , neuchatel , valais and vaud report for the year \n",
            "Real Translation:  centre anticancereux romand des cantons de fribourg , neuchatel , valais et vaud rapport pour l annee \n",
            "Predicted Translation:  position du centre anticancereux de la sollicitude de fribourg , paul , alcootests et americaines \n",
            "Levenshetein Distance: 60.0\n",
            "***BLEU Score***: 0.5081327481546147\n",
            "                                                                                         \n",
            "INFO:tensorflow:Restoring parameters from ckpt-exp01/5-LSTM-7800\n"
          ],
          "name": "stdout"
        },
        {
          "output_type": "stream",
          "text": [
            "INFO:tensorflow:Restoring parameters from ckpt-exp01/5-LSTM-7800\n"
          ],
          "name": "stderr"
        },
        {
          "output_type": "stream",
          "text": [
            "Source Sentence:  the association of calcium phosphorus and vitamin d therapy in children \n",
            "Real Translation:  l association calcium phosphore et vitamine d en therapeutique infantile \n",
            "Predicted Translation:  l association du peuplements du calcium et la vitamine d chez l enfant chez l enfant \n",
            "Levenshetein Distance: 45.0\n",
            "***BLEU Score***: 0.5946035575013605\n",
            "                                                                                         \n",
            "INFO:tensorflow:Restoring parameters from ckpt-exp01/5-LSTM-7800\n"
          ],
          "name": "stdout"
        },
        {
          "output_type": "stream",
          "text": [
            "INFO:tensorflow:Restoring parameters from ckpt-exp01/5-LSTM-7800\n"
          ],
          "name": "stderr"
        },
        {
          "output_type": "stream",
          "text": [
            "Source Sentence:  total restoration of the mouth by the restoration of vertical dimensions \n",
            "Real Translation:  restauration totale de la bouche par le retablissement des dimensions verticales transl . \n",
            "Predicted Translation:  restauration totale de l acrep par la tracabilite des dimensions histologiques de cytogenetique vertical dimensions de dimensions histologiques \n",
            "Levenshetein Distance: 80.0\n",
            "***BLEU Score***: 0.4854917717073234\n",
            "                                                                                         \n",
            "INFO:tensorflow:Restoring parameters from ckpt-exp01/5-LSTM-7800\n"
          ],
          "name": "stdout"
        },
        {
          "output_type": "stream",
          "text": [
            "INFO:tensorflow:Restoring parameters from ckpt-exp01/5-LSTM-7800\n"
          ],
          "name": "stderr"
        },
        {
          "output_type": "stream",
          "text": [
            "Source Sentence:  maternal and child health in rural areas \n",
            "Real Translation:  la protection maternelle et infantile en milieu rural \n",
            "Predicted Translation:  sante maternelle et infantile en milieu rural des milieu rurales en milieu rural milieu en milieu rural en milieu rural milieu en milieu rural \n",
            "Levenshetein Distance: 100.0\n",
            "***BLEU Score***: 0\n",
            "                                                                                         \n",
            "INFO:tensorflow:Restoring parameters from ckpt-exp01/5-LSTM-7800\n"
          ],
          "name": "stdout"
        },
        {
          "output_type": "stream",
          "text": [
            "INFO:tensorflow:Restoring parameters from ckpt-exp01/5-LSTM-7800\n"
          ],
          "name": "stderr"
        },
        {
          "output_type": "stream",
          "text": [
            "Source Sentence:  screening for initial tuberculosis in children \n",
            "Real Translation:  le depistage de la tuberculose initiale chez l enfant \n",
            "Predicted Translation:  depistage de la tuberculose initiale chez l enfant de l enfant de l enfant a l enfant de l enfant a l enfant de l enfant a l enfant de l enfant a l enfant de l enfant i de la tuberculose a l enfant \n",
            "Levenshetein Distance: 150.0\n",
            "***BLEU Score***: 0.19729406277958836\n",
            "                                                                                         \n",
            "INFO:tensorflow:Restoring parameters from ckpt-exp01/5-LSTM-7800\n"
          ],
          "name": "stdout"
        },
        {
          "output_type": "stream",
          "text": [
            "INFO:tensorflow:Restoring parameters from ckpt-exp01/5-LSTM-7800\n"
          ],
          "name": "stderr"
        },
        {
          "output_type": "stream",
          "text": [
            "Source Sentence:  fuchs syndrome associated with claude bernard horner syndrome after ipsilateral chest trauma dating back years \n",
            "Real Translation:  syndrome de fuchs associe a un syndrome de claude bernard horner apres un traumatisme thoracique homolateral datant de ans \n",
            "Predicted Translation:  syndrome de meretoja associe a un syndrome de claude bernard horner apres neuroradiologie ferme apres chirurgie du thorax apres chirurgie orthopedique ans necessitant ans apres ans \n",
            "Levenshetein Distance: 82.0\n",
            "***BLEU Score***: 0.4428500142691474\n",
            "                                                                                         \n",
            "INFO:tensorflow:Restoring parameters from ckpt-exp01/5-LSTM-7800\n"
          ],
          "name": "stdout"
        },
        {
          "output_type": "stream",
          "text": [
            "INFO:tensorflow:Restoring parameters from ckpt-exp01/5-LSTM-7800\n"
          ],
          "name": "stderr"
        },
        {
          "output_type": "stream",
          "text": [
            "Source Sentence:  endocrine factors in the pathogenesis of uterine fibroids and bleeding fibromatoses \n",
            "Real Translation:  facteurs endocriniens dans la pathogenie des fibromyomes uterins et des hemorragies fibromateuses \n",
            "Predicted Translation:  facteurs endocriniennes dans la physiopathologie des fibromes uterins et de la septation \n",
            "Levenshetein Distance: 36.0\n",
            "***BLEU Score***: 0\n",
            "                                                                                         \n",
            "INFO:tensorflow:Restoring parameters from ckpt-exp01/5-LSTM-7800\n"
          ],
          "name": "stdout"
        },
        {
          "output_type": "stream",
          "text": [
            "INFO:tensorflow:Restoring parameters from ckpt-exp01/5-LSTM-7800\n"
          ],
          "name": "stderr"
        },
        {
          "output_type": "stream",
          "text": [
            "Source Sentence:  the importance of otitis and otitis media in the etiology and treatment of digestive disorders in infants \n",
            "Real Translation:  de l importance de l otite et de l antrite dans l etiologie et le traitement des troubles digestifs des nourrissons \n",
            "Predicted Translation:  poids de l otite hyaluronique et otite moyenne traumatologique dans l etiologie et prise en plaques chez les nourrissons \n",
            "Levenshetein Distance: 66.0\n",
            "***BLEU Score***: 0.47897362544357464\n",
            "                                                                                         \n",
            "INFO:tensorflow:Restoring parameters from ckpt-exp01/5-LSTM-7800\n"
          ],
          "name": "stdout"
        },
        {
          "output_type": "stream",
          "text": [
            "INFO:tensorflow:Restoring parameters from ckpt-exp01/5-LSTM-7800\n"
          ],
          "name": "stderr"
        },
        {
          "output_type": "stream",
          "text": [
            "Source Sentence:  x ray images of lung carcinoma \n",
            "Real Translation:  images radiologiques de carcinomes bronchiques \n",
            "Predicted Translation:  radiotherapie a localisation x du cancer du poumon en \n",
            "Levenshetein Distance: 41.0\n",
            "***BLEU Score***: 0.5166357204442371\n",
            "                                                                                         \n",
            "INFO:tensorflow:Restoring parameters from ckpt-exp01/5-LSTM-7800\n"
          ],
          "name": "stdout"
        },
        {
          "output_type": "stream",
          "text": [
            "INFO:tensorflow:Restoring parameters from ckpt-exp01/5-LSTM-7800\n"
          ],
          "name": "stderr"
        },
        {
          "output_type": "stream",
          "text": [
            "Source Sentence:  amenorrhea after childbirth treatment by gonadotropins \n",
            "Real Translation:  l amenorree apres l accouchement son traitement par les hormones gonadotropes \n",
            "Predicted Translation:  amenorrhee . nach dem par germes macrocephales agents autoprov \n",
            "Levenshetein Distance: 51.0\n",
            "***BLEU Score***: 0\n",
            "                                                                                         \n",
            "INFO:tensorflow:Restoring parameters from ckpt-exp01/5-LSTM-7800\n"
          ],
          "name": "stdout"
        },
        {
          "output_type": "stream",
          "text": [
            "INFO:tensorflow:Restoring parameters from ckpt-exp01/5-LSTM-7800\n"
          ],
          "name": "stderr"
        },
        {
          "output_type": "stream",
          "text": [
            "Source Sentence:  injection of the sympathetic superior cervical ganglion in post spinal headache \n",
            "Real Translation:  l infiltration du ganglion cervical superieur du sympathique dans les cephalees post rachidiennes \n",
            "Predicted Translation:  injection du massif femoral profond de la levre femorale dans la cephalees post traumatiques de cephalees post traumatiques de cephalees post traumatiques de cephalees post traumatiques de cephalees post operatoire de cephalees post operatoire de cephalees post operatoire de la cephalees post operatoire de la cephalees post operatoire de la cephalees post operatoire de la cephalees post operatoire de la cephalees post operatoire de la cephalees post operatoire de la cephalees post operatoire de la cephalees post operatoire de la cephalees post operatoire de la cephalees post operatoire de la cephalees post operatoire de la cephalees post operatoire d\n",
            "Levenshetein Distance: 577.0\n",
            "***BLEU Score***: 0.31702331385234306\n",
            "                                                                                         \n",
            "INFO:tensorflow:Restoring parameters from ckpt-exp01/5-LSTM-7800\n"
          ],
          "name": "stdout"
        },
        {
          "output_type": "stream",
          "text": [
            "INFO:tensorflow:Restoring parameters from ckpt-exp01/5-LSTM-7800\n"
          ],
          "name": "stderr"
        },
        {
          "output_type": "stream",
          "text": [
            "Source Sentence:  the combination of propidon and penicillin injections in the treatment of infection in infants \n",
            "Real Translation:  l association des injections de propidon et de penicilline dans le traitement de l infection du nourrisson \n",
            "Predicted Translation:  l association des ergotherapeutes et les antifongiques dans le traitement des infections chez le nourrisson \n",
            "Levenshetein Distance: 40.0\n",
            "***BLEU Score***: 0.5081327481546147\n",
            "                                                                                         \n",
            "INFO:tensorflow:Restoring parameters from ckpt-exp01/5-LSTM-7800\n"
          ],
          "name": "stdout"
        },
        {
          "output_type": "stream",
          "text": [
            "INFO:tensorflow:Restoring parameters from ckpt-exp01/5-LSTM-7800\n"
          ],
          "name": "stderr"
        },
        {
          "output_type": "stream",
          "text": [
            "Source Sentence:  treatment groups with autogenous training of physical relaxation \n",
            "Real Translation:  traitement de groupes avec entrainement autogene de relachement physique \n",
            "Predicted Translation:  groupes de traitement du traitement conventionnel de la relaxation physique de peche pour la relaxation familiale de a \n",
            "Levenshetein Distance: 79.0\n",
            "***BLEU Score***: 0.4854917717073234\n",
            "                                                                                         \n",
            "INFO:tensorflow:Restoring parameters from ckpt-exp01/5-LSTM-7800\n"
          ],
          "name": "stdout"
        },
        {
          "output_type": "stream",
          "text": [
            "INFO:tensorflow:Restoring parameters from ckpt-exp01/5-LSTM-7800\n"
          ],
          "name": "stderr"
        },
        {
          "output_type": "stream",
          "text": [
            "Source Sentence:  atrophy cerebral muscles after brain injury \n",
            "Real Translation:  des atrophies des muscles cerebraux apres lesion cerebrale \n",
            "Predicted Translation:  les muscles cerebrales apres traumatisme du cerveau post encephalique apres traumatisme cerebral neuro \n",
            "Levenshetein Distance: 65.0\n",
            "***BLEU Score***: 0\n",
            "                                                                                         \n",
            "INFO:tensorflow:Restoring parameters from ckpt-exp01/5-LSTM-7800\n"
          ],
          "name": "stdout"
        },
        {
          "output_type": "stream",
          "text": [
            "INFO:tensorflow:Restoring parameters from ckpt-exp01/5-LSTM-7800\n"
          ],
          "name": "stderr"
        },
        {
          "output_type": "stream",
          "text": [
            "Source Sentence:  medical treatment of stomach cancer \n",
            "Real Translation:  le traitement medical du cancer de l estomac \n",
            "Predicted Translation:  traitement medical de l estomac cancer gastrique cancer colique cancer de l estomac cancer colorectal degenere de l estomac cancer colorectal degenere de l estomac cancer de cancer colique cancer de cancer colorectal cancer de cancer colorectal cancer colorectal evolues de bcg localize le benin localize un traitement carcinologique proposees de morphologiques cancer colorectal evolues du cancer colorectal cancer colorectal evolues de bcg localize le benin localize un traitement morphologiques du cancer colorectal evolues cancer colorectal evolues de bcg localize le cancer colorectal localize cancer colorectal de bcg localize le cancer colorectal localize cancer colorectal de bcg localize l\n",
            "Levenshetein Distance: 654.0\n",
            "***BLEU Score***: 0.31702331385234306\n",
            "                                                                                         \n",
            "INFO:tensorflow:Restoring parameters from ckpt-exp01/5-LSTM-7800\n"
          ],
          "name": "stdout"
        },
        {
          "output_type": "stream",
          "text": [
            "INFO:tensorflow:Restoring parameters from ckpt-exp01/5-LSTM-7800\n"
          ],
          "name": "stderr"
        },
        {
          "output_type": "stream",
          "text": [
            "Source Sentence:  the experience of maubeuge \n",
            "Real Translation:  l experience de maubeuge \n",
            "Predicted Translation:  l experience de la teigne \n",
            "Levenshetein Distance: 5.0\n",
            "***BLEU Score***: 0.668740304976422\n",
            "                                                                                         \n",
            "INFO:tensorflow:Restoring parameters from ckpt-exp01/5-LSTM-7800\n"
          ],
          "name": "stdout"
        },
        {
          "output_type": "stream",
          "text": [
            "INFO:tensorflow:Restoring parameters from ckpt-exp01/5-LSTM-7800\n"
          ],
          "name": "stderr"
        },
        {
          "output_type": "stream",
          "text": [
            "Source Sentence:  congenital dilatation of the pulmonary artery and bronchial asthma \n",
            "Real Translation:  dilatation congenitale de l artere pulmonaire et asthme bronchique \n",
            "Predicted Translation:  dilatation congenitale de l artere pulmonaire et d un bronchique bronchique bronchique bronchique bronchique bronchique sous bronchique bronchique bronchique bronchique sous bronchique bronchique bronchique bronchique sous bronchique bronchique bronchique bronchique sous bronchique bronchique bronchique bronchique sous bronchique bronchique bronchique bronchique bronchique sous bronchique bronchique bronchique bronchique bronchique sous bronchique bronchique bronchique bronchique bronchique sous bronchique bronchique bronchique bronchique bronchique sous bronchique bronchique bronchique bronchique bronchique sous bronchique bronchique bronchique bronchique bronchique sous bronchique bronchique bronchique bronchique sous bronchique bronchique bronchique bronchique sous bronchique bronchique bronchique bronchique sous bronchique bronchique bronchique bronchique sous bronchique bronchique bronchique bronchique d un bronchiqu\n",
            "Levenshetein Distance: 871.0\n",
            "***BLEU Score***: 0.3770063804549471\n",
            "                                                                                         \n",
            "INFO:tensorflow:Restoring parameters from ckpt-exp01/5-LSTM-7800\n"
          ],
          "name": "stdout"
        },
        {
          "output_type": "stream",
          "text": [
            "INFO:tensorflow:Restoring parameters from ckpt-exp01/5-LSTM-7800\n"
          ],
          "name": "stderr"
        },
        {
          "output_type": "stream",
          "text": [
            "Source Sentence:  contribution to the pathophysiology of the vestibular apparatus \n",
            "Real Translation:  contribution a la physiopathologie de l appareil vestibulaire \n",
            "Predicted Translation:  contribution a la physiopathologie de l appareil temporo vestibulaire de l appareil vestibulaire vestibulaire de la physiopathologie de l appareil vestibulaire vestibulaire de l appareil vestibulaire vestibulaire de l appareil vestibulaire vestibulaire de l appareil vestibulaire vestibulaire de l appareil vestibulaire vestibulaire de l appareil vestibulaire vestibulaire de l iris vestibulaire de l iris vestibulaire de la iris de l iris vestibulaire de la iris de la iris de l iris hcl de la iris de la iris de l iris hcl de la iris hcl de la iris hcl de la iris hcl de la iris hcl d\n",
            "Levenshetein Distance: 524.0\n",
            "***BLEU Score***: 0.4172261448611506\n",
            "                                                                                         \n",
            "INFO:tensorflow:Restoring parameters from ckpt-exp01/5-LSTM-7800\n"
          ],
          "name": "stdout"
        },
        {
          "output_type": "stream",
          "text": [
            "INFO:tensorflow:Restoring parameters from ckpt-exp01/5-LSTM-7800\n"
          ],
          "name": "stderr"
        },
        {
          "output_type": "stream",
          "text": [
            "Source Sentence:  oesophago gastrostomy in resectable esophageal cancer \n",
            "Real Translation:  a propos de l oesophago gastrostomie dans le cancer inextirpable de l oesophage \n",
            "Predicted Translation:  risque de risque des atteintes biliaires dans les cancers de l ovaire a l institut d interet a l institut d interet de l acoustique non differencie a iib non differencie a iib non sf a iib non sf a iib non sf a iib non sf \n",
            "Levenshetein Distance: 178.0\n",
            "***BLEU Score***: 0.5026386140359251\n",
            "                                                                                         \n",
            "INFO:tensorflow:Restoring parameters from ckpt-exp01/5-LSTM-7800\n"
          ],
          "name": "stdout"
        },
        {
          "output_type": "stream",
          "text": [
            "INFO:tensorflow:Restoring parameters from ckpt-exp01/5-LSTM-7800\n"
          ],
          "name": "stderr"
        },
        {
          "output_type": "stream",
          "text": [
            "Source Sentence:  three new signs of aortic insufficiency \n",
            "Real Translation:  sur trois nouveaux signes de l insuffisance aortique \n",
            "Predicted Translation:  trois signes d anorexie de l insuffisance aortique d insuffisance aortique ulcere de aorte aortique d insuffisance aortique d insuffisance aortique d insuffisance aortique d insuffisance aortique d insuffisance aortique d insuffisance aortique d insuffisance aortique d insuffisance aortique d insuffisance aortique d insuffisance aortique d insuffisance aortique d insuffisance aortique d insuffisance aortique d insuffisance aortique d insuffisance aortique d insuffisance aortique d insuffisance aortique d insuffisance aortique d insuffisance aortique d insuffisance aortique d insuffisance aortique d insuffisance aortique d insuffisance aortique d insuffisance aortique d insuffisance aortique d insuffisance aortique d insuffisance aortique d insuffisance aortiqu\n",
            "Levenshetein Distance: 721.0\n",
            "***BLEU Score***: 0.3770063804549471\n",
            "                                                                                         \n",
            "INFO:tensorflow:Restoring parameters from ckpt-exp01/5-LSTM-7800\n"
          ],
          "name": "stdout"
        },
        {
          "output_type": "stream",
          "text": [
            "INFO:tensorflow:Restoring parameters from ckpt-exp01/5-LSTM-7800\n"
          ],
          "name": "stderr"
        },
        {
          "output_type": "stream",
          "text": [
            "Source Sentence:  pernicious anemia in a brother and sister \n",
            "Real Translation:  anemie de biermer chez le frere et la soeur \n",
            "Predicted Translation:  maladie de biermer dans les annees et jeanne jeanne et jeanne volcanique \n",
            "Levenshetein Distance: 43.0\n",
            "***BLEU Score***: 0\n",
            "                                                                                         \n",
            "INFO:tensorflow:Restoring parameters from ckpt-exp01/5-LSTM-7800\n"
          ],
          "name": "stdout"
        },
        {
          "output_type": "stream",
          "text": [
            "INFO:tensorflow:Restoring parameters from ckpt-exp01/5-LSTM-7800\n"
          ],
          "name": "stderr"
        },
        {
          "output_type": "stream",
          "text": [
            "Source Sentence:  preservation of the bacillus calmette guerin by freeze drying \n",
            "Real Translation:  conservation du bacille de calmette et guerin par dessiccation apres congelation \n",
            "Predicted Translation:  conservation de la therapie hematoencephalique par rayonnement endoscopique par marque roche fractionnee par marque roche fractionnee par la therapie francaise par marque roche fractionnee par la bcg \n",
            "Levenshetein Distance: 141.0\n",
            "***BLEU Score***: 0\n",
            "                                                                                         \n",
            "INFO:tensorflow:Restoring parameters from ckpt-exp01/5-LSTM-7800\n"
          ],
          "name": "stdout"
        },
        {
          "output_type": "stream",
          "text": [
            "INFO:tensorflow:Restoring parameters from ckpt-exp01/5-LSTM-7800\n"
          ],
          "name": "stderr"
        },
        {
          "output_type": "stream",
          "text": [
            "Source Sentence:  the heredity of parallel primitives hypertension and chronic hypertensive nephritis glomerulonephritis , chronic nephritis ascendant , malignant nephrosclerosis investigation of a hospitable population of , patients from various epochs and study of cases of renal or hypertensive disease \n",
            "Real Translation:  l heredite parallele des hypertensions primitives et des nephrites chroniques hypertensives glomerulonephrite , nephrite chronique ascendante , nephrosclerose maligne enquete sur une population hospitaliere de . malades d epoques diverses et etude de cas d affections hypertensives ou renales \n",
            "Predicted Translation:  modalites de l hypertension arterielle de puytorac corporis and nephropathie chronique nephropathie chronique . chg . etude eabpco tunisienne d une population tunisienne de pathologie extra sains ou kell of prm et etude de minimisation de patients atteints d hormones extra sains ou kell of prm et etude neurologique \n",
            "Levenshetein Distance: 223.0\n",
            "***BLEU Score***: 0.4974292207467277\n",
            "                                                                                         \n",
            "INFO:tensorflow:Restoring parameters from ckpt-exp01/5-LSTM-7800\n"
          ],
          "name": "stdout"
        },
        {
          "output_type": "stream",
          "text": [
            "INFO:tensorflow:Restoring parameters from ckpt-exp01/5-LSTM-7800\n"
          ],
          "name": "stderr"
        },
        {
          "output_type": "stream",
          "text": [
            "Source Sentence:  endocrine factors in the pathogenesis of uterine fibroids and bleeding fibromatoses \n",
            "Real Translation:  facteur endocriniens dans la pathogenie des fibromyomes uterins et des hemorragies fibromateuses \n",
            "Predicted Translation:  facteurs endocriniennes dans la physiopathologie des fibromes uterins et de la septation \n",
            "Levenshetein Distance: 37.0\n",
            "***BLEU Score***: 0\n",
            "                                                                                         \n",
            "INFO:tensorflow:Restoring parameters from ckpt-exp01/5-LSTM-7800\n"
          ],
          "name": "stdout"
        },
        {
          "output_type": "stream",
          "text": [
            "INFO:tensorflow:Restoring parameters from ckpt-exp01/5-LSTM-7800\n"
          ],
          "name": "stderr"
        },
        {
          "output_type": "stream",
          "text": [
            "Source Sentence:  encephalic complications of tuberculous meningitis treated with streptomycin \n",
            "Real Translation:  les complications encephaliques des meningites tuberculeuses traitees par la streptomycine \n",
            "Predicted Translation:  complications medicamenteux des meningite tuberculeuses traites par ciprofloxacine par gemcitabine par ciprofloxacine traites par ciprofloxacine par ciprofloxacine par ciprofloxacine par ciprofloxacine par ciprofloxacine par ciprofloxacine par ciprofloxacine par ciprofloxacine par ciprofloxacine par ciprofloxacine par ciprofloxacine par ciprofloxacine par ciprofloxacine par ciprofloxacine par ciprofloxacine par ciprofloxacine par ciprofloxacine par ciprofloxacine par ciprofloxacine par ciprofloxacine par ciprofloxacine par ciprofloxacine par ciprofloxacine par ciprofloxacine par ciprofloxacine \n",
            "Levenshetein Distance: 537.0\n",
            "***BLEU Score***: 0\n",
            "                                                                                         \n",
            "INFO:tensorflow:Restoring parameters from ckpt-exp01/5-LSTM-7800\n"
          ],
          "name": "stdout"
        },
        {
          "output_type": "stream",
          "text": [
            "INFO:tensorflow:Restoring parameters from ckpt-exp01/5-LSTM-7800\n"
          ],
          "name": "stderr"
        },
        {
          "output_type": "stream",
          "text": [
            "Source Sentence:  nervous system diseases and problems of heredity \n",
            "Real Translation:  maladies nerveuses systematisees et problemes de l heredite \n",
            "Predicted Translation:  les maladies psycho sociaux a la souffrance de la maladie automobile \n",
            "Levenshetein Distance: 50.0\n",
            "***BLEU Score***: 0.5491004867761125\n",
            "                                                                                         \n",
            "INFO:tensorflow:Restoring parameters from ckpt-exp01/5-LSTM-7800\n"
          ],
          "name": "stdout"
        },
        {
          "output_type": "stream",
          "text": [
            "INFO:tensorflow:Restoring parameters from ckpt-exp01/5-LSTM-7800\n"
          ],
          "name": "stderr"
        },
        {
          "output_type": "stream",
          "text": [
            "Source Sentence:  hypertension in tuberculous meningitis treated with streptomycin \n",
            "Real Translation:  les crises d hypertonie au cours des meningites tuberculeuses traitees par la streptomycine \n",
            "Predicted Translation:  hypertension de la meningite a manifestations tuberculeuse traites par ciprofloxacine mit traitee par ciprofloxacine par gemcitabine par ciprofloxacine par ciprofloxacine par ciprofloxacine par ciprofloxacine par ciprofloxacine par ciprofloxacine par ciprofloxacine par ciprofloxacine par ciprofloxacine par ciprofloxacine par ciprofloxacine a colorant de buruli a cerastes \n",
            "Levenshetein Distance: 315.0\n",
            "***BLEU Score***: 0.3882726777522233\n",
            "                                                                                         \n",
            "INFO:tensorflow:Restoring parameters from ckpt-exp01/5-LSTM-7800\n"
          ],
          "name": "stdout"
        },
        {
          "output_type": "stream",
          "text": [
            "INFO:tensorflow:Restoring parameters from ckpt-exp01/5-LSTM-7800\n"
          ],
          "name": "stderr"
        },
        {
          "output_type": "stream",
          "text": [
            "Source Sentence:  zonal x ray image of a pulmonary infarction \n",
            "Real Translation:  image radiologique zonaire d un infarctus pulmonaire \n",
            "Predicted Translation:  l image du tiers x de l artere tibiale d un infarctus pulmonaire infarctus de l artere pulmonaire grave d un infarctus pulmonaire \n",
            "Levenshetein Distance: 81.0\n",
            "***BLEU Score***: 0.5430321466633391\n",
            "                                                                                         \n",
            "INFO:tensorflow:Restoring parameters from ckpt-exp01/5-LSTM-7800\n"
          ],
          "name": "stdout"
        },
        {
          "output_type": "stream",
          "text": [
            "INFO:tensorflow:Restoring parameters from ckpt-exp01/5-LSTM-7800\n"
          ],
          "name": "stderr"
        },
        {
          "output_type": "stream",
          "text": [
            "Source Sentence:  in vivo antibacterial activity of the association of penicillin sulfones and sulfones streptomycin \n",
            "Real Translation:  activite antibacterienne in vivo de l association sulfones penicilline et sulfonesstreptomycine \n",
            "Predicted Translation:  activite de sensibilite in vivo de l association de bacteries trigeminales et de la dipeptidyl iodee et de la scopique icg et a fasciola cafeine icg et de leonard a kindia intestinalis a l albendazole efrg et de los hepatica a fasciola pulse \n",
            "Levenshetein Distance: 174.0\n",
            "***BLEU Score***: 0.5522654621332111\n",
            "                                                                                         \n",
            "INFO:tensorflow:Restoring parameters from ckpt-exp01/5-LSTM-7800\n"
          ],
          "name": "stdout"
        },
        {
          "output_type": "stream",
          "text": [
            "INFO:tensorflow:Restoring parameters from ckpt-exp01/5-LSTM-7800\n"
          ],
          "name": "stderr"
        },
        {
          "output_type": "stream",
          "text": [
            "Source Sentence:  notes on the organization of assistance to mentally challenged children , challenges to educate and offenders in the departmental framework \n",
            "Real Translation:  remarques sur l organisation de l assistance aux enfants arrieres , retardes scolaires difficiles et delinquants dans le cadre departemental \n",
            "Predicted Translation:  remarques sur la construction d assistance aux enfants petits ages , defis d amelioration et des posters mut dans l intervention juridique de usld cadre et morbidite dans le cadre juridique et dovocyte dans le cadre juridique et dovocyte dans le cadre juridique et dovocyte dans le cadre juridique et dovocyte dans le cadre juridique et dovocyte dans le cadre juridique et dovocyte dans le cadre juridique et dovocyte dans le cadre juridique et dovocyte dans le cadre juridique et dovocyte dans le cadre juridique et dovocyte dans le cadre juridique et dovocyte dans le cadre juridique et dovocyt\n",
            "Levenshetein Distance: 481.0\n",
            "***BLEU Score***: 0.4172261448611506\n",
            "                                                                                         \n",
            "INFO:tensorflow:Restoring parameters from ckpt-exp01/5-LSTM-7800\n"
          ],
          "name": "stdout"
        },
        {
          "output_type": "stream",
          "text": [
            "INFO:tensorflow:Restoring parameters from ckpt-exp01/5-LSTM-7800\n"
          ],
          "name": "stderr"
        },
        {
          "output_type": "stream",
          "text": [
            "Source Sentence:  squamous cell carcinoma with lupus erythematosus untreated \n",
            "Real Translation:  epithelioma spino cellulaire , sur lupus erythemateux vierge de tout traitement \n",
            "Predicted Translation:  carcinome spinocellulaire au cours du lupus erythemateux \n",
            "Levenshetein Distance: 44.0\n",
            "***BLEU Score***: 0\n",
            "                                                                                         \n",
            "INFO:tensorflow:Restoring parameters from ckpt-exp01/5-LSTM-7800\n"
          ],
          "name": "stdout"
        },
        {
          "output_type": "stream",
          "text": [
            "INFO:tensorflow:Restoring parameters from ckpt-exp01/5-LSTM-7800\n"
          ],
          "name": "stderr"
        },
        {
          "output_type": "stream",
          "text": [
            "Source Sentence:  considerable hepatomegaly occurred during acute hepatonephritis triggered during mumps in a diabetic child previously having an enlarged liver with growth retardation favorable action of penicillin on hepatonephritis \n",
            "Real Translation:  hepatomegalie considerable survenue a l occasion d une hepatonephrite aigue , declenchee au cours des oreillons chez un enfant diabetique presentant anterieurement un gros foie avec retard de croissance action favorable de la penicilline sur l hepatonephrite \n",
            "Predicted Translation:  a homeodomaine vesicularis au cours d une complication comminutive elevee lors de la vaccination chez l enfant diabetique par perte de signalisation par la presence de la mitofusine sur l emergence de la commune sur l angine sur l angine sur l angine \n",
            "Levenshetein Distance: 174.0\n",
            "***BLEU Score***: 0.5522654621332111\n",
            "                                                                                         \n",
            "INFO:tensorflow:Restoring parameters from ckpt-exp01/5-LSTM-7800\n"
          ],
          "name": "stdout"
        },
        {
          "output_type": "stream",
          "text": [
            "INFO:tensorflow:Restoring parameters from ckpt-exp01/5-LSTM-7800\n"
          ],
          "name": "stderr"
        },
        {
          "output_type": "stream",
          "text": [
            "Source Sentence:  streptomycin treatment of tuberculous meningitis in children \n",
            "Real Translation:  le traitement par la streptomycine de la meningite tuberculeuse chez l enfant \n",
            "Predicted Translation:  traitement par campylobacterjejuni de la meningite tuberculeuse chez l enfant l enfant pediatrique chez l enfant l enfant a propos de deux observations chez l enfant l enfant de l enfant \n",
            "Levenshetein Distance: 128.0\n",
            "***BLEU Score***: 0.5039843787265444\n",
            "                                                                                         \n",
            "INFO:tensorflow:Restoring parameters from ckpt-exp01/5-LSTM-7800\n"
          ],
          "name": "stdout"
        },
        {
          "output_type": "stream",
          "text": [
            "INFO:tensorflow:Restoring parameters from ckpt-exp01/5-LSTM-7800\n"
          ],
          "name": "stderr"
        },
        {
          "output_type": "stream",
          "text": [
            "Source Sentence:  diagnosis of atypical osteosarcoma by arteriography \n",
            "Real Translation:  diagnostic d un osteosarcome atypique par l arteriographie \n",
            "Predicted Translation:  osteosarcome atypiques par hemopathie atypiques \n",
            "Levenshetein Distance: 34.0\n",
            "***BLEU Score***: 0\n",
            "                                                                                         \n",
            "INFO:tensorflow:Restoring parameters from ckpt-exp01/5-LSTM-7800\n"
          ],
          "name": "stdout"
        },
        {
          "output_type": "stream",
          "text": [
            "INFO:tensorflow:Restoring parameters from ckpt-exp01/5-LSTM-7800\n"
          ],
          "name": "stderr"
        },
        {
          "output_type": "stream",
          "text": [
            "Source Sentence:  tetralogy of fallot , blalock intervention , results \n",
            "Real Translation:  tetralogie de fallot intervention de blalock resultats \n",
            "Predicted Translation:  la demotivation de fallot , intervention represente , resultats de resultats , resultats actuelles , resultats complementaires , resultats de resultats , resultats , resultats de l association , resultats , resultats de traitement organise , resultats de complications de l hopital , resultats de complications de , resultats , resultats de traitement organise , resultats , resultats de complications de l hopital , resultats de complications positif , resultats , resultats de complications , resultats , resultats de complications de l hopital , resultats , resultats de complications de l hopital , resultats , resultats , resultats d\n",
            "Levenshetein Distance: 587.0\n",
            "***BLEU Score***: 0.4172261448611506\n",
            "                                                                                         \n",
            "INFO:tensorflow:Restoring parameters from ckpt-exp01/5-LSTM-7800\n"
          ],
          "name": "stdout"
        },
        {
          "output_type": "stream",
          "text": [
            "INFO:tensorflow:Restoring parameters from ckpt-exp01/5-LSTM-7800\n"
          ],
          "name": "stderr"
        },
        {
          "output_type": "stream",
          "text": [
            "Source Sentence:  the treatment of arthritis deformans of the hip \n",
            "Real Translation:  le traitement des arthrites deformantes de la hanche \n",
            "Predicted Translation:  traitement de la degenerative traitement reel de la hanche par la hanche degenerative de la hanche par hanche grafts de la hanche et de la hanche hanche \n",
            "Levenshetein Distance: 109.0\n",
            "***BLEU Score***: 0\n",
            "                                                                                         \n",
            "INFO:tensorflow:Restoring parameters from ckpt-exp01/5-LSTM-7800\n"
          ],
          "name": "stdout"
        },
        {
          "output_type": "stream",
          "text": [
            "INFO:tensorflow:Restoring parameters from ckpt-exp01/5-LSTM-7800\n"
          ],
          "name": "stderr"
        },
        {
          "output_type": "stream",
          "text": [
            "Source Sentence:  the problem of abortions in denmark , the increasing number of abortions \n",
            "Real Translation:  le probleme des avortements au danemark , le nombre croissant des avortement \n",
            "Predicted Translation:  le probleme de anguillulose a myod , un nombre du nombre de volontaire de l ivg de a ans a hypotension costal \n",
            "Levenshetein Distance: 68.0\n",
            "***BLEU Score***: 0.6529942057256104\n",
            "                                                                                         \n",
            "INFO:tensorflow:Restoring parameters from ckpt-exp01/5-LSTM-7800\n"
          ],
          "name": "stdout"
        },
        {
          "output_type": "stream",
          "text": [
            "INFO:tensorflow:Restoring parameters from ckpt-exp01/5-LSTM-7800\n"
          ],
          "name": "stderr"
        },
        {
          "output_type": "stream",
          "text": [
            "Source Sentence:  should we operate on cataracts caused by a sympathetic ophthalmia ? \n",
            "Real Translation:  faut il operer la cataracte due a une ophtalmie sympathique ? \n",
            "Predicted Translation:  faut il operer une pathologie des cataractes cervicales par les fractures nerveuses ureteral ? ? ? ? ? ? ? ? ? ? ? ? ? ? ? ? ? ? ? ? ? ? ? ? ? ? ? ? ? ? ? ? ? ? ? ? ? ? ? ? ? ? ? ? ? ? ? ? ? ? ? ? ? ? ? ? ? ? ? ? ? ? ? ? ? ? ? ? ? ? ? ? ? ? ? ? ? ? ? ? ? ? ? ? ? ?\n",
            "Levenshetein Distance: 222.0\n",
            "***BLEU Score***: 0.31702331385234306\n",
            "                                                                                         \n",
            "INFO:tensorflow:Restoring parameters from ckpt-exp01/5-LSTM-7800\n"
          ],
          "name": "stdout"
        },
        {
          "output_type": "stream",
          "text": [
            "INFO:tensorflow:Restoring parameters from ckpt-exp01/5-LSTM-7800\n"
          ],
          "name": "stderr"
        },
        {
          "output_type": "stream",
          "text": [
            "Source Sentence:  bone images of myeloid leukemia \n",
            "Real Translation:  images osseuses au cours d une leucemie myeloide \n",
            "Predicted Translation:  des effets secondaires de la leucemie aigue myeloide des leucemies myeloides \n",
            "Levenshetein Distance: 44.0\n",
            "***BLEU Score***: 0\n",
            "                                                                                         \n",
            "INFO:tensorflow:Restoring parameters from ckpt-exp01/5-LSTM-7800\n"
          ],
          "name": "stdout"
        },
        {
          "output_type": "stream",
          "text": [
            "INFO:tensorflow:Restoring parameters from ckpt-exp01/5-LSTM-7800\n"
          ],
          "name": "stderr"
        },
        {
          "output_type": "stream",
          "text": [
            "Source Sentence:  prefrontal lobotomy \n",
            "Real Translation:  la leucotomie prefrontale lobotomie \n",
            "Predicted Translation:  les moyens de peur de la cancerologie des metazoaires de la theorie des metazoaires de a hematologie hematologie de la complexite des metazoaires \n",
            "Levenshetein Distance: 120.0\n",
            "***BLEU Score***: 0.4566337854967312\n",
            "                                                                                         \n",
            "INFO:tensorflow:Restoring parameters from ckpt-exp01/5-LSTM-7800\n"
          ],
          "name": "stdout"
        },
        {
          "output_type": "stream",
          "text": [
            "INFO:tensorflow:Restoring parameters from ckpt-exp01/5-LSTM-7800\n"
          ],
          "name": "stderr"
        },
        {
          "output_type": "stream",
          "text": [
            "Source Sentence:  tubers bouchut and alterations of the optic nerves in tuberculosis meningitis and miliary in the child cases treated with streptomycin in the medical clinic hospital for sick children , paris \n",
            "Real Translation:  les tubercules de bouchut et les alterations des nerfs optiques dans les miliaires et les meningites tuberculeuses de l enfant a propos de cas traites par la streptomycine a la clinique medicale des enfants hospital des enfants malades , paris \n",
            "Predicted Translation:  de la mise en evidence de la muscularis optique dans les infections du nerf optique de l enfant chez l enfant non invasive par cec dans le centre martiniquais medicale de yaounde , paris \n",
            "Levenshetein Distance: 149.0\n",
            "***BLEU Score***: 0.4924790605054523\n",
            "                                                                                         \n",
            "INFO:tensorflow:Restoring parameters from ckpt-exp01/5-LSTM-7800\n"
          ],
          "name": "stdout"
        },
        {
          "output_type": "stream",
          "text": [
            "INFO:tensorflow:Restoring parameters from ckpt-exp01/5-LSTM-7800\n"
          ],
          "name": "stderr"
        },
        {
          "output_type": "stream",
          "text": [
            "Source Sentence:  information provided by the transient compression of the carotid in large aneurysms of the middle cerebral fossa extinction of breath by compression of the ipsilateral , cerebral compression eclipse of contralateral \n",
            "Real Translation:  renseignements fournis par la compression passagere des carotides primitives dans les gros anevrismes de la fosse cerebrale moyenne extinction du souffle par compression de la c . p . homolaterale eclipse cerebrale par compression de la c . p . contralaterale \n",
            "Predicted Translation:  information soulevees par la compression axiale des breche de premiere ligne des tropiques de la forme cerebromeningee distale par plaque vissee \n",
            "Levenshetein Distance: 168.0\n",
            "***BLEU Score***: 0\n",
            "                                                                                         \n",
            "INFO:tensorflow:Restoring parameters from ckpt-exp01/5-LSTM-7800\n"
          ],
          "name": "stdout"
        },
        {
          "output_type": "stream",
          "text": [
            "INFO:tensorflow:Restoring parameters from ckpt-exp01/5-LSTM-7800\n"
          ],
          "name": "stderr"
        },
        {
          "output_type": "stream",
          "text": [
            "Source Sentence:  some types of diplopia provocation \n",
            "Real Translation:  sur quelques varietes de la diplopie de provocation \n",
            "Predicted Translation:  quelques types d echec familial de la thrombine de crise de bacteriologie de cellules familiaux de mal mal pathogene de pp autrement d vietnam galois di vietnam de lessives singes de landry pandemique pathogene de vietnam de mastopathie singes de singes pandemique pathogene de kadutu singes pandemique pandemique pandemique pandemique pandemique pandemique pandemique pandemique pandemique pandemique pandemique pandemique pandemique pandemique pandemique pandemique pandemique pandemique pandemique pandemique pandemique pandemique pandemique pandemique pandemique pandemique pandemique pandemique pandemique pandemique pandemique pandemique pandemique pandemique pandemique pandemique pandemique pandemique pandemique pandemique pandemique pandemique pandemique pandemique pandemique pandemique pandemique pandemique pandemique pandemique pandemique pandemique pandemiqu\n",
            "Levenshetein Distance: 832.0\n",
            "***BLEU Score***: 0.31702331385234306\n",
            "                                                                                         \n",
            "INFO:tensorflow:Restoring parameters from ckpt-exp01/5-LSTM-7800\n"
          ],
          "name": "stdout"
        },
        {
          "output_type": "stream",
          "text": [
            "INFO:tensorflow:Restoring parameters from ckpt-exp01/5-LSTM-7800\n"
          ],
          "name": "stderr"
        },
        {
          "output_type": "stream",
          "text": [
            "Source Sentence:  clinical considerations , pathological and electroencephalographic about an extended form of bulbo medullary glioma in a child \n",
            "Real Translation:  considerations cliniques , anatomo pathologiques et electro encephalographiques a propos d une forme etendue de gliome bulbo medullaire chez un enfant \n",
            "Predicted Translation:  clinique clinique , anatomopathologique et vascularisation a propos d une tumeur para intestinale de l enfant de sufentanil chez un enfant de l enfant \n",
            "Levenshetein Distance: 86.0\n",
            "***BLEU Score***: 0.6756000774035172\n",
            "                                                                                         \n",
            "INFO:tensorflow:Restoring parameters from ckpt-exp01/5-LSTM-7800\n"
          ],
          "name": "stdout"
        },
        {
          "output_type": "stream",
          "text": [
            "INFO:tensorflow:Restoring parameters from ckpt-exp01/5-LSTM-7800\n"
          ],
          "name": "stderr"
        },
        {
          "output_type": "stream",
          "text": [
            "Source Sentence:  surgical treatment of cancer of the thoracic esophagus \n",
            "Real Translation:  a propos du traitement chirurgical du cancer de l oesophage thoracique \n",
            "Predicted Translation:  le traitement chirurgical du cancer de l oesophage thoracique de l oesophage thoracique de l oesophage de l oesophage de l oesophage de la prostate de l oesophage de l oesophage \n",
            "Levenshetein Distance: 127.0\n",
            "***BLEU Score***: 0.42379865741502165\n",
            "                                                                                         \n",
            "INFO:tensorflow:Restoring parameters from ckpt-exp01/5-LSTM-7800\n"
          ],
          "name": "stdout"
        },
        {
          "output_type": "stream",
          "text": [
            "INFO:tensorflow:Restoring parameters from ckpt-exp01/5-LSTM-7800\n"
          ],
          "name": "stderr"
        },
        {
          "output_type": "stream",
          "text": [
            "Source Sentence:  early diagnosis of esophageal cancer \n",
            "Real Translation:  a propos du diagnostic precoce du cancer de l oesophage \n",
            "Predicted Translation:  diagnostic precoce du cancer de l sophage diagnostic precoce du cancer de l sophage diagnostic precoce du cancer de l sophage de l sophage de l sophage de diagnostic prenatal de diagnostic prenatal de l sophage de l sophage de l sophage de l sophage de l sophage de l sophage de l sophage de l sophage de l sophage de l sophage de l sophage de l sophage de l sophage de l sophage de l sophage de l sophage de l sophage de l sophage de l sophage de l thyroide de l thyroide de l thyroid\n",
            "Levenshetein Distance: 429.0\n",
            "***BLEU Score***: 0.31702331385234306\n",
            "                                                                                         \n",
            "INFO:tensorflow:Restoring parameters from ckpt-exp01/5-LSTM-7800\n"
          ],
          "name": "stdout"
        },
        {
          "output_type": "stream",
          "text": [
            "INFO:tensorflow:Restoring parameters from ckpt-exp01/5-LSTM-7800\n"
          ],
          "name": "stderr"
        },
        {
          "output_type": "stream",
          "text": [
            "Source Sentence:  some interventions for esophageal cancer \n",
            "Real Translation:  quelques interventions pour cancer de l oesophage \n",
            "Predicted Translation:  quelques interventions pour cancer pour cancer de l sophage de l sophage de l sophage a l aide pour les cancers de l sophage de l sophage de paille pour cancer de cancer de l sophage de l sophage de l sophage de l sophage de l sophage de l sophage de l sophage de l sophage de l sophage de l sophage de l sophage de l sophage de l sophage de l sophage de l sophage de l sophage de l sophage de l sophage de l sophage de l sophage de l sophage de l sophag\n",
            "Levenshetein Distance: 404.0\n",
            "***BLEU Score***: 0.3770063804549471\n",
            "                                                                                         \n",
            "INFO:tensorflow:Restoring parameters from ckpt-exp01/5-LSTM-7800\n"
          ],
          "name": "stdout"
        },
        {
          "output_type": "stream",
          "text": [
            "INFO:tensorflow:Restoring parameters from ckpt-exp01/5-LSTM-7800\n"
          ],
          "name": "stderr"
        },
        {
          "output_type": "stream",
          "text": [
            "Source Sentence:  contribution to early diagnosis of stomach cancer , with the aid of radiology gastroscopy \n",
            "Real Translation:  contribution au diagnostic precoce du cancer de l estomac collaboration du radiodiagnostic avec la gastroscopie \n",
            "Predicted Translation:  contribution au diagnostic precoce de l estomac , a l aide au moyen de la radiologie vue de la radiologie vue de la radiologie vue de la radiologie fibrokystique de paris \n",
            "Levenshetein Distance: 97.0\n",
            "***BLEU Score***: 0.5577503997480662\n",
            "                                                                                         \n",
            "INFO:tensorflow:Restoring parameters from ckpt-exp01/5-LSTM-7800\n"
          ],
          "name": "stdout"
        },
        {
          "output_type": "stream",
          "text": [
            "INFO:tensorflow:Restoring parameters from ckpt-exp01/5-LSTM-7800\n"
          ],
          "name": "stderr"
        },
        {
          "output_type": "stream",
          "text": [
            "Source Sentence:  haemophilus meningitis cured in a year old child using combination sulfa penicillin streptomycin \n",
            "Real Translation:  meningite a bacilles de pfeiffer guerie chez un enfant de ans par l association sulfamides penicilline streptomycine \n",
            "Predicted Translation:  meningites a haemophilus actif chez un enfant de ans associant une association monophasique de fistule phenylacetique assistes par lenstar ls par lenstar ls par l association de la metafora phenylacetique par reentree efrg par une sulfadoxine pyrimethamine par saccharomyces corneen par saccharomyces efrg par saccharomyces efrg par saccharomyces efrg par saccharomyces efrg par saccharomyces efrg par saccharomyces efrg par saccharomyces efrg par saccharomyces efrg par saccharomyces efrg par saccharomyces efrg par saccharomyces efrg par saccharomyces efrg par saccharomyces efrg par saccharomyces efrg par saccharomyces efrg par saccharomyces efrg par saccharomyces efrg par saccharomyces efrg par saccharomyces efrg par saccharomyc\n",
            "Levenshetein Distance: 649.0\n",
            "***BLEU Score***: 0.3770063804549471\n",
            "                                                                                         \n",
            "INFO:tensorflow:Restoring parameters from ckpt-exp01/5-LSTM-7800\n"
          ],
          "name": "stdout"
        },
        {
          "output_type": "stream",
          "text": [
            "INFO:tensorflow:Restoring parameters from ckpt-exp01/5-LSTM-7800\n"
          ],
          "name": "stderr"
        },
        {
          "output_type": "stream",
          "text": [
            "Source Sentence:  the paradoxical action of oxygen with regard to aeronautical medicine \n",
            "Real Translation:  l action paradoxale de l oxygene son interet en medecine aeronautique \n",
            "Predicted Translation:  l entretien paradoxal d l ecole en matiere de medecine en medecine expertise \n",
            "Levenshetein Distance: 38.0\n",
            "***BLEU Score***: 0.6262844962765469\n",
            "                                                                                         \n",
            "INFO:tensorflow:Restoring parameters from ckpt-exp01/5-LSTM-7800\n"
          ],
          "name": "stdout"
        },
        {
          "output_type": "stream",
          "text": [
            "INFO:tensorflow:Restoring parameters from ckpt-exp01/5-LSTM-7800\n"
          ],
          "name": "stderr"
        },
        {
          "output_type": "stream",
          "text": [
            "Source Sentence:  pancreatic islet changes in early alloxan induced diabetes in the rat \n",
            "Real Translation:  modifications insulaires pancreatiques au debut du diabete alloxanique du rat \n",
            "Predicted Translation:  evolution des polypes du pancreas dans le cancer precoce de cytogenetique precoce chez le rat le rat \n",
            "Levenshetein Distance: 69.0\n",
            "***BLEU Score***: 0\n",
            "                                                                                         \n",
            "INFO:tensorflow:Restoring parameters from ckpt-exp01/5-LSTM-7800\n"
          ],
          "name": "stdout"
        },
        {
          "output_type": "stream",
          "text": [
            "INFO:tensorflow:Restoring parameters from ckpt-exp01/5-LSTM-7800\n"
          ],
          "name": "stderr"
        },
        {
          "output_type": "stream",
          "text": [
            "Source Sentence:  records of meetings of the society of biology and its subsidiaries \n",
            "Real Translation:  action sur la glycemie du chien du melange insuline sang \n",
            "Predicted Translation:  dossier de sessions de sessions de biologie et sa ecran attachment und tod der srk und tod disorder of the choisi et son objectivite de la societe de biologie de l autorite de biologie et de la societe appliquee a la colere de la societe de biologie de la societe de biologie de l autorite de surete siglos et de la sfd \n",
            "Levenshetein Distance: 279.0\n",
            "***BLEU Score***: 0.42379865741502165\n",
            "                                                                                         \n",
            "INFO:tensorflow:Restoring parameters from ckpt-exp01/5-LSTM-7800\n"
          ],
          "name": "stdout"
        },
        {
          "output_type": "stream",
          "text": [
            "INFO:tensorflow:Restoring parameters from ckpt-exp01/5-LSTM-7800\n"
          ],
          "name": "stderr"
        },
        {
          "output_type": "stream",
          "text": [
            "Source Sentence:  using frog heart to compare bioassay with novocaine solutions \n",
            "Real Translation:  utilisation du coeur de grenouille pour l essai biologique compare des solutions de novocaine \n",
            "Predicted Translation:  le coeur articulaire au cours des antipaludeens de constantinople avec des solutions d exprience avec des solutions d exprience \n",
            "Levenshetein Distance: 81.0\n",
            "***BLEU Score***: 0.47897362544357464\n",
            "                                                                                         \n",
            "INFO:tensorflow:Restoring parameters from ckpt-exp01/5-LSTM-7800\n"
          ],
          "name": "stdout"
        },
        {
          "output_type": "stream",
          "text": [
            "INFO:tensorflow:Restoring parameters from ckpt-exp01/5-LSTM-7800\n"
          ],
          "name": "stderr"
        },
        {
          "output_type": "stream",
          "text": [
            "Source Sentence:  determination of the metabolism of small animals by short time intervals \n",
            "Real Translation:  determination du metabolisme des petits animaux par courts intervalles de temps \n",
            "Predicted Translation:  determination du metabolisme des animaux a horaires \n",
            "Levenshetein Distance: 30.0\n",
            "***BLEU Score***: 0.6147881529512643\n",
            "                                                                                         \n",
            "INFO:tensorflow:Restoring parameters from ckpt-exp01/5-LSTM-7800\n"
          ],
          "name": "stdout"
        },
        {
          "output_type": "stream",
          "text": [
            "INFO:tensorflow:Restoring parameters from ckpt-exp01/5-LSTM-7800\n"
          ],
          "name": "stderr"
        },
        {
          "output_type": "stream",
          "text": [
            "Source Sentence:  three cases of malignant tumors of the tonsil \n",
            "Real Translation:  trois cas de tumeurs malignes de l amygdale \n",
            "Predicted Translation:  trois cas de tumeurs malignes de la base de la base de synthese aux tumeurs malignes \n",
            "Levenshetein Distance: 44.0\n",
            "***BLEU Score***: 0\n",
            "                                                                                         \n",
            "INFO:tensorflow:Restoring parameters from ckpt-exp01/5-LSTM-7800\n"
          ],
          "name": "stdout"
        },
        {
          "output_type": "stream",
          "text": [
            "INFO:tensorflow:Restoring parameters from ckpt-exp01/5-LSTM-7800\n"
          ],
          "name": "stderr"
        },
        {
          "output_type": "stream",
          "text": [
            "Source Sentence:  hypertension in children and unilateral nephropathy \n",
            "Real Translation:  hypertension arterielle de l enfant et nephropathie unilaterale \n",
            "Predicted Translation:  hypertension de l enfant et nephropathie unilaterale nephropathie unilaterale nephropathie unilaterale de l enfant nephropathie et nephropathie unilaterale nephropathie unilaterale nephropathie \n",
            "Levenshetein Distance: 130.0\n",
            "***BLEU Score***: 0.5555238068023582\n",
            "                                                                                         \n",
            "INFO:tensorflow:Restoring parameters from ckpt-exp01/5-LSTM-7800\n"
          ],
          "name": "stdout"
        },
        {
          "output_type": "stream",
          "text": [
            "INFO:tensorflow:Restoring parameters from ckpt-exp01/5-LSTM-7800\n"
          ],
          "name": "stderr"
        },
        {
          "output_type": "stream",
          "text": [
            "Source Sentence:  exploration of the urinary tract in infants and children \n",
            "Real Translation:  l exploration des voies urinaires du nourrisson et de l enfant \n",
            "Predicted Translation:  exploration du tractus urinaire chez le nourrisson et l enfant \n",
            "Levenshetein Distance: 20.0\n",
            "***BLEU Score***: 0.5623413251903491\n",
            "                                                                                         \n",
            "INFO:tensorflow:Restoring parameters from ckpt-exp01/5-LSTM-7800\n"
          ],
          "name": "stdout"
        },
        {
          "output_type": "stream",
          "text": [
            "INFO:tensorflow:Restoring parameters from ckpt-exp01/5-LSTM-7800\n"
          ],
          "name": "stderr"
        },
        {
          "output_type": "stream",
          "text": [
            "Source Sentence:  action of sodium thiomalate rp in experimental liver failure \n",
            "Real Translation:  action du thiomalate de sodium . r . p . dans l insuffisance hepatique experimentale \n",
            "Predicted Translation:  mecanisme de surgeneralisation du dernier medial dans l insuffisance hepatique influence des echecs du foie \n",
            "Levenshetein Distance: 60.0\n",
            "***BLEU Score***: 0.5081327481546147\n",
            "                                                                                         \n",
            "INFO:tensorflow:Restoring parameters from ckpt-exp01/5-LSTM-7800\n"
          ],
          "name": "stdout"
        },
        {
          "output_type": "stream",
          "text": [
            "INFO:tensorflow:Restoring parameters from ckpt-exp01/5-LSTM-7800\n"
          ],
          "name": "stderr"
        },
        {
          "output_type": "stream",
          "text": [
            "Source Sentence:  vestibular action of streptomycin in mice \n",
            "Real Translation:  action vestibulaire de la streptomycine chez la souris \n",
            "Predicted Translation:  l hypoxique de kaliemie chez les souris chez la souris chez la souris a souris chez la souris a souris chez la souris \n",
            "Levenshetein Distance: 82.0\n",
            "***BLEU Score***: 0.5430321466633391\n",
            "                                                                                         \n",
            "INFO:tensorflow:Restoring parameters from ckpt-exp01/5-LSTM-7800\n"
          ],
          "name": "stdout"
        },
        {
          "output_type": "stream",
          "text": [
            "INFO:tensorflow:Restoring parameters from ckpt-exp01/5-LSTM-7800\n"
          ],
          "name": "stderr"
        },
        {
          "output_type": "stream",
          "text": [
            "Source Sentence:  action thiamine triphosphoric acid on the frog isolated heart \n",
            "Real Translation:  action de l acide thiamine triphosphorique sur le coeur isole de grenouille \n",
            "Predicted Translation:  anwendung televisuelle et meningite du tiers gauche le coeur isole du coeur de l artere bot le genou \n",
            "Levenshetein Distance: 66.0\n",
            "***BLEU Score***: 0.4854917717073234\n",
            "                                                                                         \n",
            "INFO:tensorflow:Restoring parameters from ckpt-exp01/5-LSTM-7800\n"
          ],
          "name": "stdout"
        },
        {
          "output_type": "stream",
          "text": [
            "INFO:tensorflow:Restoring parameters from ckpt-exp01/5-LSTM-7800\n"
          ],
          "name": "stderr"
        },
        {
          "output_type": "stream",
          "text": [
            "Source Sentence:  ceramic or resin \n",
            "Real Translation:  ceramique ou resine \n",
            "Predicted Translation:  der ou miniplaques ou fasciite lymphocytaire ou verre ou peindre ou competition ou verre ou verre ou verre ou verre ou verre ou verre ou verre ou verre ou verre ou verre ou verre ou verre ou verre ou verre ou verre ou verre ou verre ou verre ou verre ou verre ou verre ou verre ou verre ou verre ou verre ou verre ou verre ou verre ou verre ou verre ou verre ou verre ou verre ou verre ou verre ou verre ou verre ou verre ou verre ou verre ou verre ou verre ou verre ou\n",
            "Levenshetein Distance: 452.0\n",
            "***BLEU Score***: 0\n",
            "                                                                                         \n",
            "INFO:tensorflow:Restoring parameters from ckpt-exp01/5-LSTM-7800\n"
          ],
          "name": "stdout"
        },
        {
          "output_type": "stream",
          "text": [
            "INFO:tensorflow:Restoring parameters from ckpt-exp01/5-LSTM-7800\n"
          ],
          "name": "stderr"
        },
        {
          "output_type": "stream",
          "text": [
            "Source Sentence:  ureteral stump malignancy developed , long after nephrectomy \n",
            "Real Translation:  tumeur maligne developpee sur moignon ureteral , longtemps apres nephrectomie \n",
            "Predicted Translation:  alain actinique rencontre , phase , apres nephrectomie apres nephrectomie nephrectomie , apres nephrectomie nephrectomie a madagascar apres nephrectomie nephrectomie , nephrectomie apres nephrectomie nephrectomie , nephrectomie apres nephrectomie nephrectomie , symptomatiques apres nephrectomie nephrectomie , nephrectomie apres nephrectomie perioperatoire de nephrectomie perioperatoire , symptomatiques apres nephrectomie nephrectomie de la nephrectomie nephrectomie , mastopathie apres nephrectomie nephrectomie perioperatoire , symptomatiques apres nephrectomie nephrectomie de la nephrectomie nephrectomie , mastopathie apres nephrectomie nephrectomie perioperatoire de la nephrectomie nephrectomie , inoperables \n",
            "Levenshetein Distance: 650.0\n",
            "***BLEU Score***: 0.39888777473763976\n",
            "                                                                                         \n",
            "INFO:tensorflow:Restoring parameters from ckpt-exp01/5-LSTM-7800\n"
          ],
          "name": "stdout"
        },
        {
          "output_type": "stream",
          "text": [
            "INFO:tensorflow:Restoring parameters from ckpt-exp01/5-LSTM-7800\n"
          ],
          "name": "stderr"
        },
        {
          "output_type": "stream",
          "text": [
            "Source Sentence:  a case of pyloric stenosis of bacillary origin \n",
            "Real Translation:  a propos d un cas de stenose pylorique d origine bacillaire \n",
            "Predicted Translation:  un cas stable de stenoses biliaire a trueperella niger a propos d une cause naso phlegmon naso histiocytaire \n",
            "Levenshetein Distance: 78.0\n",
            "***BLEU Score***: 0.6389431042462724\n",
            "                                                                                         \n",
            "INFO:tensorflow:Restoring parameters from ckpt-exp01/5-LSTM-7800\n"
          ],
          "name": "stdout"
        },
        {
          "output_type": "stream",
          "text": [
            "INFO:tensorflow:Restoring parameters from ckpt-exp01/5-LSTM-7800\n"
          ],
          "name": "stderr"
        },
        {
          "output_type": "stream",
          "text": [
            "Source Sentence:  canker gingival inoculation of tuberculosis value of serology by agglutination from s . arloing and p . courmont antiallergic phase of childhood tuberculosis \n",
            "Real Translation:  chancre gingival d inoculation tuberculeuse valeur du serodiagnostic par l agglutination de s . arloing et p . courmont a la phase anteallergique de la tuberculose infantile \n",
            "Predicted Translation:  siphonapteres de cefuroxime a propos de la tuberculose interet de la serologie par epidemiological tunisie \n",
            "Levenshetein Distance: 131.0\n",
            "***BLEU Score***: 0.5081327481546147\n",
            "                                                                                         \n",
            "INFO:tensorflow:Restoring parameters from ckpt-exp01/5-LSTM-7800\n"
          ],
          "name": "stdout"
        },
        {
          "output_type": "stream",
          "text": [
            "INFO:tensorflow:Restoring parameters from ckpt-exp01/5-LSTM-7800\n"
          ],
          "name": "stderr"
        },
        {
          "output_type": "stream",
          "text": [
            "Source Sentence:  a case of generalized mylolyse single maxillary consecutive has serious problems of malnutrition even anorexia nervosa \n",
            "Real Translation:  un cas de mylolyse generalisee mono maxillaire consecutive a des troubles de denutrition graves par anorexie mentale \n",
            "Predicted Translation:  un cas d osteoarthrite generalisee a propos d un cas rare de denutrition critique d anorexie mentale grand denutrition \n",
            "Levenshetein Distance: 72.0\n",
            "***BLEU Score***: 0.5695988432761473\n",
            "                                                                                         \n",
            "INFO:tensorflow:Restoring parameters from ckpt-exp01/5-LSTM-7800\n"
          ],
          "name": "stdout"
        },
        {
          "output_type": "stream",
          "text": [
            "INFO:tensorflow:Restoring parameters from ckpt-exp01/5-LSTM-7800\n"
          ],
          "name": "stderr"
        },
        {
          "output_type": "stream",
          "text": [
            "Source Sentence:  action of mineral waters in gynecology \n",
            "Real Translation:  action des eaux minerales en gynecologie \n",
            "Predicted Translation:  action de l eau minerale en gynecologie en gynecologie gynecologie en gynecologie gynecologie en gynecologie gynecologie en gynecologie gynecologie en gynecologie obstetrique en gynecologie en gynecologie au gynecologie en gynecologie en gynecologie en gynecologie au gynecologie en gynecologie hcl en gynecologie en gynecologie de gynecologie primaires en gynecologie hcl en gynecologie hcl en gynecologie hcl en gynecologie hcl en gynecologie hcl en gynecologie hcl en gynecologie hcl en gynecologie hcl en gynecologie de gynecologie primaires en gynecologie de gynecologie primaires en gynecologie de gynecologie primaires en gynecologie de gynecologie primaires en gynecologie de gynecologie primaires en gynecologie de gynecologi\n",
            "Levenshetein Distance: 694.0\n",
            "***BLEU Score***: 0.31702331385234306\n",
            "                                                                                         \n",
            "INFO:tensorflow:Restoring parameters from ckpt-exp01/5-LSTM-7800\n"
          ],
          "name": "stdout"
        },
        {
          "output_type": "stream",
          "text": [
            "INFO:tensorflow:Restoring parameters from ckpt-exp01/5-LSTM-7800\n"
          ],
          "name": "stderr"
        },
        {
          "output_type": "stream",
          "text": [
            "Source Sentence:  the fate of the teeth at the level of the focus of fractures of the jaws \n",
            "Real Translation:  du sort des dents au niveau des foyers de fractures des maxillaires \n",
            "Predicted Translation:  le devenir des peres au sein du point des fractures des machoires machoires des machoires machoires des machoires machoires des machoires machoires des machoires machoires des doigts machoires des doigts machoires machoires des doigts machoires des doigts machoires machoires des doigts machoires des doigts machoires machoires \n",
            "Levenshetein Distance: 273.0\n",
            "***BLEU Score***: 0\n",
            "                                                                                         \n",
            "INFO:tensorflow:Restoring parameters from ckpt-exp01/5-LSTM-7800\n"
          ],
          "name": "stdout"
        },
        {
          "output_type": "stream",
          "text": [
            "INFO:tensorflow:Restoring parameters from ckpt-exp01/5-LSTM-7800\n"
          ],
          "name": "stderr"
        },
        {
          "output_type": "stream",
          "text": [
            "Source Sentence:  a case of mesiodens \n",
            "Real Translation:  un cas de mesiodens \n",
            "Predicted Translation:  un cas de douentza synthase breivik \n",
            "Levenshetein Distance: 22.0\n",
            "***BLEU Score***: 0\n",
            "                                                                                         \n",
            "INFO:tensorflow:Restoring parameters from ckpt-exp01/5-LSTM-7800\n"
          ],
          "name": "stdout"
        },
        {
          "output_type": "stream",
          "text": [
            "INFO:tensorflow:Restoring parameters from ckpt-exp01/5-LSTM-7800\n"
          ],
          "name": "stderr"
        },
        {
          "output_type": "stream",
          "text": [
            "Source Sentence:  considerations anodontia \n",
            "Real Translation:  considerations sur l anodontie \n",
            "Predicted Translation:  considerations entourant la prise en charge des metazoaires \n",
            "Levenshetein Distance: 34.0\n",
            "***BLEU Score***: 0\n",
            "                                                                                         \n",
            "INFO:tensorflow:Restoring parameters from ckpt-exp01/5-LSTM-7800\n"
          ],
          "name": "stdout"
        },
        {
          "output_type": "stream",
          "text": [
            "INFO:tensorflow:Restoring parameters from ckpt-exp01/5-LSTM-7800\n"
          ],
          "name": "stderr"
        },
        {
          "output_type": "stream",
          "text": [
            "Source Sentence:  opportunity for extraction in orthodontics \n",
            "Real Translation:  opportunite de l extraction en orthopedie dento faciale \n",
            "Predicted Translation:  penser au cours d extractions en orthodontie \n",
            "Levenshetein Distance: 30.0\n",
            "***BLEU Score***: 0.6147881529512643\n",
            "                                                                                         \n",
            "INFO:tensorflow:Restoring parameters from ckpt-exp01/5-LSTM-7800\n"
          ],
          "name": "stdout"
        },
        {
          "output_type": "stream",
          "text": [
            "INFO:tensorflow:Restoring parameters from ckpt-exp01/5-LSTM-7800\n"
          ],
          "name": "stderr"
        },
        {
          "output_type": "stream",
          "text": [
            "Source Sentence:  sclerosis of varices by monoethanolamine oleate \n",
            "Real Translation:  sclerose des varices par l oleate de monoethanolamine \n",
            "Predicted Translation:  en dialyse par les varices de constantinople \n",
            "Levenshetein Distance: 33.0\n",
            "***BLEU Score***: 0\n",
            "                                                                                         \n",
            "INFO:tensorflow:Restoring parameters from ckpt-exp01/5-LSTM-7800\n"
          ],
          "name": "stdout"
        },
        {
          "output_type": "stream",
          "text": [
            "INFO:tensorflow:Restoring parameters from ckpt-exp01/5-LSTM-7800\n"
          ],
          "name": "stderr"
        },
        {
          "output_type": "stream",
          "text": [
            "Source Sentence:  practical notes on nailing the neck of the femur , only for young people below years \n",
            "Real Translation:  notes pratiques sur l enclouage du col du femur , pour jeunes gens sui dessous de ans exclusivement \n",
            "Predicted Translation:  . . . obstetricopediatrique sur trouve le cou du femur , quatre quatre ans pendant les jeunes ans plus a ans quatre ans de plus de ans quatre ans de plus de ans \n",
            "Levenshetein Distance: 99.0\n",
            "***BLEU Score***: 0.49616830003403634\n",
            "                                                                                         \n",
            "INFO:tensorflow:Restoring parameters from ckpt-exp01/5-LSTM-7800\n"
          ],
          "name": "stdout"
        },
        {
          "output_type": "stream",
          "text": [
            "INFO:tensorflow:Restoring parameters from ckpt-exp01/5-LSTM-7800\n"
          ],
          "name": "stderr"
        },
        {
          "output_type": "stream",
          "text": [
            "Source Sentence:  examination of the body temperature in children of a parisian school group \n",
            "Real Translation:  l examen de la temperature superficielle chez les enfants d un groupe scolaire parisien \n",
            "Predicted Translation:  examen de la temperature plasmodiale chez l enfant d un groupe hospitalier universitaire collectif universitaire d liban collectif a liban liban strasbourg d cameroun au liban cameroun \n",
            "Levenshetein Distance: 121.0\n",
            "***BLEU Score***: 0.5773502691896257\n",
            "                                                                                         \n",
            "INFO:tensorflow:Restoring parameters from ckpt-exp01/5-LSTM-7800\n"
          ],
          "name": "stdout"
        },
        {
          "output_type": "stream",
          "text": [
            "INFO:tensorflow:Restoring parameters from ckpt-exp01/5-LSTM-7800\n"
          ],
          "name": "stderr"
        },
        {
          "output_type": "stream",
          "text": [
            "Source Sentence:  postoperative pulmonary atelectasis of the child \n",
            "Real Translation:  atelectasie pulmonaire post operatoire de l enfant \n",
            "Predicted Translation:  particularites pulmonaire postoperatoire de l enfant de l enfant l enfant de l enfant l enfant de l enfant l enfant de l enfant l enfant de l enfant l enfant de l enfant l enfant \n",
            "Levenshetein Distance: 137.0\n",
            "***BLEU Score***: 0.408248290463863\n",
            "                                                                                         \n",
            "INFO:tensorflow:Restoring parameters from ckpt-exp01/5-LSTM-7800\n"
          ],
          "name": "stdout"
        },
        {
          "output_type": "stream",
          "text": [
            "INFO:tensorflow:Restoring parameters from ckpt-exp01/5-LSTM-7800\n"
          ],
          "name": "stderr"
        },
        {
          "output_type": "stream",
          "text": [
            "Source Sentence:  a case of malignant staphylococcal infection of the face \n",
            "Real Translation:  sur un cas de staphylococcie maligne de la face \n",
            "Predicted Translation:  un cas de infection a staphylocoque maligne du visage face a la face face a la face face a la face \n",
            "Levenshetein Distance: 63.0\n",
            "***BLEU Score***: 0.4671379777282001\n",
            "                                                                                         \n",
            "INFO:tensorflow:Restoring parameters from ckpt-exp01/5-LSTM-7800\n"
          ],
          "name": "stdout"
        },
        {
          "output_type": "stream",
          "text": [
            "INFO:tensorflow:Restoring parameters from ckpt-exp01/5-LSTM-7800\n"
          ],
          "name": "stderr"
        },
        {
          "output_type": "stream",
          "text": [
            "Source Sentence:  two cases of bacillary cervicofacial adenitis diagnosis and treatment \n",
            "Real Translation:  deux cas d adenites cervico faciales bacillaires diagnostic et traitement \n",
            "Predicted Translation:  l arc cervico focale cervico facial diagnostic et traitement therapeutiques a propos de deux cas et traitement \n",
            "Levenshetein Distance: 68.0\n",
            "***BLEU Score***: 0.5856596027429395\n",
            "                                                                                         \n",
            "INFO:tensorflow:Restoring parameters from ckpt-exp01/5-LSTM-7800\n"
          ],
          "name": "stdout"
        },
        {
          "output_type": "stream",
          "text": [
            "INFO:tensorflow:Restoring parameters from ckpt-exp01/5-LSTM-7800\n"
          ],
          "name": "stderr"
        },
        {
          "output_type": "stream",
          "text": [
            "Source Sentence:  the prophylactic removal from the standpoint of orthodontics \n",
            "Real Translation:  l extraction prophylactique au point de vue de l orthodontie \n",
            "Predicted Translation:  les dispositifs specialise de la pratique medicale des pathologies \n",
            "Levenshetein Distance: 45.0\n",
            "***BLEU Score***: 0\n",
            "                                                                                         \n",
            "INFO:tensorflow:Restoring parameters from ckpt-exp01/5-LSTM-7800\n"
          ],
          "name": "stdout"
        },
        {
          "output_type": "stream",
          "text": [
            "INFO:tensorflow:Restoring parameters from ckpt-exp01/5-LSTM-7800\n"
          ],
          "name": "stderr"
        },
        {
          "output_type": "stream",
          "text": [
            "Source Sentence:  the prophylactic extraction of teeth generalities \n",
            "Real Translation:  l extraction prophylactique des dents considerations generales \n",
            "Predicted Translation:  les echecs prophylactique de l epidemie prophylactique de tdp de l iris de sufentanil i l evacuation prophylactique de doigts i bamako les doigts de doigts i bamako les doigts de doigts i endemiques de doigts i endemiques de doigts i endemiques de doigts i endemiques de doigts i endemiques de doigts i endemiques de doigts i endemiques de doigts \n",
            "Levenshetein Distance: 291.0\n",
            "***BLEU Score***: 0.4728708045015879\n",
            "                                                                                         \n",
            "INFO:tensorflow:Restoring parameters from ckpt-exp01/5-LSTM-7800\n"
          ],
          "name": "stdout"
        },
        {
          "output_type": "stream",
          "text": [
            "INFO:tensorflow:Restoring parameters from ckpt-exp01/5-LSTM-7800\n"
          ],
          "name": "stderr"
        },
        {
          "output_type": "stream",
          "text": [
            "Source Sentence:  pharmacodynamics of radioactive mineral waters \n",
            "Real Translation:  pharmacodynamie des eaux minerales radioactives \n",
            "Predicted Translation:  pharmacodynamie des hopitaux aquatiques superieurs les morsures de moustiques tissulaire aux glycopeptides aux hopitaux aquatiques autologues les glycopeptides aux hopitaux chimiques de iris hcl les glycopeptides aux glycopeptides aux glycopeptides aux glycopeptides aux glycopeptides aux glycopeptides aux glycopeptides aux glycopeptides aux glycopeptides aux glycopeptides aux glycopeptides aux glycopeptides aux glycopeptides aux glycopeptides aux glycopeptides aux glycopeptides aux glycopeptides aux glycopeptides aux glycopeptides aux glycopeptides aux glycopeptides aux glycopeptides primaires de iris hcl les glycopeptides aux glycopeptides primaires de iris hcl les glycopeptides aux glycopeptides primaires de cordon hcl les glycopeptides aux glycopeptides primaires de cordon hcl les glycopeptides aux\n",
            "Levenshetein Distance: 766.0\n",
            "***BLEU Score***: 0\n",
            "                                                                                         \n",
            "INFO:tensorflow:Restoring parameters from ckpt-exp01/5-LSTM-7800\n"
          ],
          "name": "stdout"
        },
        {
          "output_type": "stream",
          "text": [
            "INFO:tensorflow:Restoring parameters from ckpt-exp01/5-LSTM-7800\n"
          ],
          "name": "stderr"
        },
        {
          "output_type": "stream",
          "text": [
            "Source Sentence:  true infant eczema and therapy \n",
            "Real Translation:  l eczema vrai du nourrisson et la therapeutique \n",
            "Predicted Translation:  d une histiocytose du nourrisson et la therapie therapie et traitement therapeutiques du soignant et de traitement traitement du soignant et de traitement \n",
            "Levenshetein Distance: 118.0\n",
            "***BLEU Score***: 0.4566337854967312\n",
            "                                                                                         \n",
            "INFO:tensorflow:Restoring parameters from ckpt-exp01/5-LSTM-7800\n"
          ],
          "name": "stdout"
        },
        {
          "output_type": "stream",
          "text": [
            "INFO:tensorflow:Restoring parameters from ckpt-exp01/5-LSTM-7800\n"
          ],
          "name": "stderr"
        },
        {
          "output_type": "stream",
          "text": [
            "Source Sentence:  an interesting application of synthetic resins in fixed prosthesis \n",
            "Real Translation:  une application interessante des resines synthetiques en prothese fixe \n",
            "Predicted Translation:  un remede vestimentaire de contraceptifs synthetiques en prothese vs la prothese hematoencephalique \n",
            "Levenshetein Distance: 62.0\n",
            "***BLEU Score***: 0\n",
            "                                                                                         \n",
            "INFO:tensorflow:Restoring parameters from ckpt-exp01/5-LSTM-7800\n"
          ],
          "name": "stdout"
        },
        {
          "output_type": "stream",
          "text": [
            "INFO:tensorflow:Restoring parameters from ckpt-exp01/5-LSTM-7800\n"
          ],
          "name": "stderr"
        },
        {
          "output_type": "stream",
          "text": [
            "Source Sentence:  therapy for infantile eczemas by the combination of unsaturated fatty acids and pyridoxine \n",
            "Real Translation:  la therapeutique des eczemas infantiles par l association acides gras non saturespyridoxine \n",
            "Predicted Translation:  traitements des alterations infantiles par l expression des acides gras progressives et de influence de l expression des acides gras progressives et de influence de l eular disorder of sauglingen et de mesures de quantification des acides gras parentales de l enfant \n",
            "Levenshetein Distance: 203.0\n",
            "***BLEU Score***: 0.392814650900513\n",
            "                                                                                         \n",
            "INFO:tensorflow:Restoring parameters from ckpt-exp01/5-LSTM-7800\n"
          ],
          "name": "stdout"
        },
        {
          "output_type": "stream",
          "text": [
            "INFO:tensorflow:Restoring parameters from ckpt-exp01/5-LSTM-7800\n"
          ],
          "name": "stderr"
        },
        {
          "output_type": "stream",
          "text": [
            "Source Sentence:  nerve palsy and tertiary syphilis of the upper lip cured by penicillin bismuth treatment appearance during treatment of diabetes insipidus \n",
            "Real Translation:  paralysie du iii et syphilis tertiaire de la levre superieure gueries par un traitement penicillinobismuthique apparition au cours du traitement d un diabete insipide \n",
            "Predicted Translation:  paralysie et syphilis tertiaire de la levre superieure degenerative par suture rotatoire dans le traitement du diabete insipide nephrogenique cas prenatal au diabete insipide ferrand \n",
            "Levenshetein Distance: 87.0\n",
            "***BLEU Score***: 0\n",
            "                                                                                         \n",
            "INFO:tensorflow:Restoring parameters from ckpt-exp01/5-LSTM-7800\n"
          ],
          "name": "stdout"
        },
        {
          "output_type": "stream",
          "text": [
            "INFO:tensorflow:Restoring parameters from ckpt-exp01/5-LSTM-7800\n"
          ],
          "name": "stderr"
        },
        {
          "output_type": "stream",
          "text": [
            "Source Sentence:  ordinary penicillin , possible factor in bleeding in pregnant women \n",
            "Real Translation:  la penicilline ordinaire , facteur possible de metrorragies chez la femme enceinte \n",
            "Predicted Translation:  la licorne chronique , faut il possible chez les femmes enceintes chez la femme enceinte \n",
            "Levenshetein Distance: 37.0\n",
            "***BLEU Score***: 0.5081327481546147\n",
            "                                                                                         \n",
            "INFO:tensorflow:Restoring parameters from ckpt-exp01/5-LSTM-7800\n"
          ],
          "name": "stdout"
        },
        {
          "output_type": "stream",
          "text": [
            "INFO:tensorflow:Restoring parameters from ckpt-exp01/5-LSTM-7800\n"
          ],
          "name": "stderr"
        },
        {
          "output_type": "stream",
          "text": [
            "Source Sentence:  the original pre menopausal hormonal disorders and their treatment by the male hormone and the hormone of the corpus luteum \n",
            "Real Translation:  les troubles hormonaux d origine premenopause leur traitement par l hormone male et l hormone du corps jaune \n",
            "Predicted Translation:  la collation a la pression vesico adjuvante et leur traitement par l hormone du corps mineur ou l souhait du corps nerveux \n",
            "Levenshetein Distance: 66.0\n",
            "***BLEU Score***: 0.5491004867761125\n",
            "                                                                                         \n",
            "INFO:tensorflow:Restoring parameters from ckpt-exp01/5-LSTM-7800\n"
          ],
          "name": "stdout"
        },
        {
          "output_type": "stream",
          "text": [
            "INFO:tensorflow:Restoring parameters from ckpt-exp01/5-LSTM-7800\n"
          ],
          "name": "stderr"
        },
        {
          "output_type": "stream",
          "text": [
            "Source Sentence:  current insights on surgical pathology of blood forming organs \n",
            "Real Translation:  apercus actuels sur la pathologie chirurgicale des organes hematopoietiques \n",
            "Predicted Translation:  actualites sur la pathologie et la pathologie anatomo operatoire des organes concernant produits du tissu adipeux sang en sang sang \n",
            "Levenshetein Distance: 83.0\n",
            "***BLEU Score***: 0\n",
            "                                                                                         \n",
            "INFO:tensorflow:Restoring parameters from ckpt-exp01/5-LSTM-7800\n"
          ],
          "name": "stdout"
        },
        {
          "output_type": "stream",
          "text": [
            "INFO:tensorflow:Restoring parameters from ckpt-exp01/5-LSTM-7800\n"
          ],
          "name": "stderr"
        },
        {
          "output_type": "stream",
          "text": [
            "Source Sentence:  a new hemacytometer \n",
            "Real Translation:  un hematimetre nouveau \n",
            "Predicted Translation:  une nouvelle molecule d objectivite \n",
            "Levenshetein Distance: 25.0\n",
            "***BLEU Score***: 0\n",
            "                                                                                         \n",
            "INFO:tensorflow:Restoring parameters from ckpt-exp01/5-LSTM-7800\n"
          ],
          "name": "stdout"
        },
        {
          "output_type": "stream",
          "text": [
            "INFO:tensorflow:Restoring parameters from ckpt-exp01/5-LSTM-7800\n"
          ],
          "name": "stderr"
        },
        {
          "output_type": "stream",
          "text": [
            "Source Sentence:  about a case of suppurative cellulitis caused by the injury of a wisdom tooth \n",
            "Real Translation:  a propos d un cas de cellulite suppuree par accident de dent de sagesse \n",
            "Predicted Translation:  a propos d un cas de cellulite referente due a l origine bucco dentaire du jean buccal jean dentaire \n",
            "Levenshetein Distance: 48.0\n",
            "***BLEU Score***: 0.6303647413359293\n",
            "                                                                                         \n",
            "INFO:tensorflow:Restoring parameters from ckpt-exp01/5-LSTM-7800\n"
          ],
          "name": "stdout"
        },
        {
          "output_type": "stream",
          "text": [
            "INFO:tensorflow:Restoring parameters from ckpt-exp01/5-LSTM-7800\n"
          ],
          "name": "stderr"
        },
        {
          "output_type": "stream",
          "text": [
            "Source Sentence:  a case of traumatic dental dysplasia \n",
            "Real Translation:  un cas de dysplasie dentaire traumatique \n",
            "Predicted Translation:  un cas de dysplasie dentaire post traumatique post traumatique traumatique post traumatique traumatique post traumatique traumatique post traumatique traumatique post traumatique post traumatique traumatique post traumatique post traumatique post traumatique post traumatique post traumatique post traumatique traumatique post traumatique post traumatique post traumatique post traumatique post operatoires perinerveux post operatoires perinerveux post operatoires perinerveux transjugulaire \n",
            "Levenshetein Distance: 451.0\n",
            "***BLEU Score***: 0\n",
            "                                                                                         \n",
            "INFO:tensorflow:Restoring parameters from ckpt-exp01/5-LSTM-7800\n"
          ],
          "name": "stdout"
        },
        {
          "output_type": "stream",
          "text": [
            "INFO:tensorflow:Restoring parameters from ckpt-exp01/5-LSTM-7800\n"
          ],
          "name": "stderr"
        },
        {
          "output_type": "stream",
          "text": [
            "Source Sentence:  two cases of dental reimplantation successfully maintained for six years \n",
            "Real Translation:  deux cas de reimplantation dentaire maintenue avec succes depuis six ans \n",
            "Predicted Translation:  a propos de deux cas de syndrome in resolutive avec ou deux ans depuis deux ans depuis deux ans depuis deux ans depuis deux ans depuis deux ans depuis deux ans depuis deux ans depuis deux ans depuis deux ans depuis deux ans depuis deux ans depuis deux ans depuis deux ans depuis deux ans depuis deux ans de syndrome proliferatives a deux ans ans de syndrome proliferatives a deux ans ans de syndrome proliferatives a deux ans ans de observations proliferatives a deux ans ans de observations proliferatives a deux ans ans de observations proliferatives a deux an\n",
            "Levenshetein Distance: 502.0\n",
            "***BLEU Score***: 0.3770063804549471\n",
            "                                                                                         \n",
            "INFO:tensorflow:Restoring parameters from ckpt-exp01/5-LSTM-7800\n"
          ],
          "name": "stdout"
        },
        {
          "output_type": "stream",
          "text": [
            "INFO:tensorflow:Restoring parameters from ckpt-exp01/5-LSTM-7800\n"
          ],
          "name": "stderr"
        },
        {
          "output_type": "stream",
          "text": [
            "Source Sentence:  calculus and salivary ph \n",
            "Real Translation:  tartre et ph salivaire \n",
            "Predicted Translation:  routines et traduction partiels des cystoscopes salivaires et dysautonomiques salivaires environnement et dysautonomiques salivaires environnement des cystoscopes salivaires strasbourg strasbourg et dysautonomiques salivaires strasbourg strasbourg des ovocytes salivaires strasbourg strasbourg et dysautonomiques salivaires strasbourg strasbourg des hyperuricemies attachment strasbourg strasbourg des strasbourg salivaires strasbourg strasbourg des strasbourg salivaires strasbourg strasbourg des strasbourg salivaires strasbourg strasbourg des strasbourg salivaires strasbourg strasbourg des strasbourg salivaires strasbourg strasbourg des strasbourg salivaires strasbourg strasbourg du strasbourg saccharomyces strasbourg strasbourg du strasbourg saccharomyces strasbourg strasbourg du strasbourg saccharomyces strasbourg strasbourg du strasbourg saccharomyces vietnam strasbourg et dysautonomiques salivaires vietnam strasbourg et dysautonomiques salivaires vietnam\n",
            "Levenshetein Distance: 946.0\n",
            "***BLEU Score***: 0\n",
            "                                                                                         \n",
            "INFO:tensorflow:Restoring parameters from ckpt-exp01/5-LSTM-7800\n"
          ],
          "name": "stdout"
        },
        {
          "output_type": "stream",
          "text": [
            "INFO:tensorflow:Restoring parameters from ckpt-exp01/5-LSTM-7800\n"
          ],
          "name": "stderr"
        },
        {
          "output_type": "stream",
          "text": [
            "Source Sentence:  use of acrylic in maxillofacial surgery especially in the surgical treatment of temporomandibular ankylosis \n",
            "Real Translation:  de l emploi des inclusions d acrylique en chirurgie maxillo faciale specialement dans le traitement chirurgical de l ankylose temporomaxillaire \n",
            "Predicted Translation:  utilisation de la redaction en chirurgie maxillo faciale de la chirurgie de l ovaire temporo mandibulaire superficiel l observation de l actinomycose temporo mandibulaire superficiel de la face dorsale de l actinomycose temporo mandibulaire superficiel de la clavicule \n",
            "Levenshetein Distance: 179.0\n",
            "***BLEU Score***: 0.47897362544357464\n",
            "                                                                                         \n",
            "INFO:tensorflow:Restoring parameters from ckpt-exp01/5-LSTM-7800\n"
          ],
          "name": "stdout"
        },
        {
          "output_type": "stream",
          "text": [
            "INFO:tensorflow:Restoring parameters from ckpt-exp01/5-LSTM-7800\n"
          ],
          "name": "stderr"
        },
        {
          "output_type": "stream",
          "text": [
            "Source Sentence:  secondary deterioration in the correction of dental pathologies \n",
            "Real Translation:  les aggressions secondaires dans la correction des dystopies dentaires \n",
            "Predicted Translation:  alteration des parasites lors de la campagne de pathologies dentaires les pathologies dentaires \n",
            "Levenshetein Distance: 57.0\n",
            "***BLEU Score***: 0\n",
            "                                                                                         \n",
            "INFO:tensorflow:Restoring parameters from ckpt-exp01/5-LSTM-7800\n"
          ],
          "name": "stdout"
        },
        {
          "output_type": "stream",
          "text": [
            "INFO:tensorflow:Restoring parameters from ckpt-exp01/5-LSTM-7800\n"
          ],
          "name": "stderr"
        },
        {
          "output_type": "stream",
          "text": [
            "Source Sentence:  the volatile oils in the treatment of ivory and dental pulp \n",
            "Real Translation:  les essences volatiles dans la therapeutique de l ivoire et de la pulpe dentaire \n",
            "Predicted Translation:  les colorations delivrees dans le traitement des aplasies d ivoire et de eau dentaire par eau dentaire en eau dentaire par eau dentaire en eau dentaire par eau dentaire en utilisant de transit dentaire par eau dentaire en categorie dentaire par eau dentaire en categorie dentaire a iris en categorie dentaire a iris en categorie dentaire de contact ivoire \n",
            "Levenshetein Distance: 291.0\n",
            "***BLEU Score***: 0.42908614936824124\n",
            "                                                                                         \n",
            "INFO:tensorflow:Restoring parameters from ckpt-exp01/5-LSTM-7800\n"
          ],
          "name": "stdout"
        },
        {
          "output_type": "stream",
          "text": [
            "INFO:tensorflow:Restoring parameters from ckpt-exp01/5-LSTM-7800\n"
          ],
          "name": "stderr"
        },
        {
          "output_type": "stream",
          "text": [
            "Source Sentence:  a case of mucous and cutaneous syphilitic lesions differential diagnosis of florid oral syphilis \n",
            "Real Translation:  a propos d un cas de lesions syphiloides muqueuses et cutanees diagnostic differentiel de la syphilis buccale floride \n",
            "Predicted Translation:  cas de phlegmon cutane cutane diagnostic differentiel de syphilis osteo faciale de syphilis gingival de syphilis trabeculaire de syphilis trabeculaire de syphilis parietales de a mois differentiel de syphilis rhino faciale parietales de a \n",
            "Levenshetein Distance: 161.0\n",
            "***BLEU Score***: 0.41412387656655203\n",
            "                                                                                         \n",
            "INFO:tensorflow:Restoring parameters from ckpt-exp01/5-LSTM-7800\n"
          ],
          "name": "stdout"
        },
        {
          "output_type": "stream",
          "text": [
            "INFO:tensorflow:Restoring parameters from ckpt-exp01/5-LSTM-7800\n"
          ],
          "name": "stderr"
        },
        {
          "output_type": "stream",
          "text": [
            "Source Sentence:  result of a cheiloplasty combined with infiltration of penicillin in a case of an ununited surgical wound of cleft lip \n",
            "Real Translation:  resultat d une cheiloplastie accompagnee d infiltration de penicilline dans un cas de plaie operatoire desunie d un bec de lievre \n",
            "Predicted Translation:  resultat d un essai randomise avec infiltration de benzathine penicilline dans une equipe de pertes de fentes labio iliaques de fente labio palatine de peche une technique de fente labio de fente labio palatine de a ans de la levre de fente labio de verre de peche en \n",
            "Levenshetein Distance: 179.0\n",
            "***BLEU Score***: 0.4518010018049224\n",
            "                                                                                         \n",
            "INFO:tensorflow:Restoring parameters from ckpt-exp01/5-LSTM-7800\n"
          ],
          "name": "stdout"
        },
        {
          "output_type": "stream",
          "text": [
            "INFO:tensorflow:Restoring parameters from ckpt-exp01/5-LSTM-7800\n"
          ],
          "name": "stderr"
        },
        {
          "output_type": "stream",
          "text": [
            "Source Sentence:  classification of surgical treatment of pulpal wounds \n",
            "Real Translation:  classification sur le traitement chirurgical des plaies pulpaires \n",
            "Predicted Translation:  classification des paupieres , plaies et plaies des plaies gynecologiques \n",
            "Levenshetein Distance: 38.0\n",
            "***BLEU Score***: 0\n",
            "                                                                                         \n",
            "INFO:tensorflow:Restoring parameters from ckpt-exp01/5-LSTM-7800\n"
          ],
          "name": "stdout"
        },
        {
          "output_type": "stream",
          "text": [
            "INFO:tensorflow:Restoring parameters from ckpt-exp01/5-LSTM-7800\n"
          ],
          "name": "stderr"
        },
        {
          "output_type": "stream",
          "text": [
            "Source Sentence:  two observations of juxta dental foreign bodies \n",
            "Real Translation:  deux observations de corps etrangers juxtadentaire \n",
            "Predicted Translation:  deux observations de corps etrangers partielles in antibiotiques de corps etrangers partielles et de corps etrangers conjugue keratoplasty comparaison de l etranger mycose et de corps etrangers negatif fernand endemiques de paris de paris mycose et kell et scopique negatif de paris de paris jean endemiques dovocyte electricite dovocyte electricite dovocyte electricite dovocyte electricite dovocyte electricite dovocyte paris dovocyte et cicatrices dentaire dovocyte paris dovocyte paris dovocyte paris dovocyte paris dovocyte paris dovocyte paris dovocyte paris dovocyte paris dovocyte paris dovocyte paris dovocyte paris dovocyte paris dovocyte paris dovocyte paris dovocyte paris dovocyte paris dovocyte paris dovocyte paris dovocyt\n",
            "Levenshetein Distance: 687.0\n",
            "***BLEU Score***: 0\n",
            "                                                                                         \n",
            "INFO:tensorflow:Restoring parameters from ckpt-exp01/5-LSTM-7800\n"
          ],
          "name": "stdout"
        },
        {
          "output_type": "stream",
          "text": [
            "INFO:tensorflow:Restoring parameters from ckpt-exp01/5-LSTM-7800\n"
          ],
          "name": "stderr"
        },
        {
          "output_type": "stream",
          "text": [
            "Source Sentence:  the third molar of simians \n",
            "Real Translation:  la troisieme molaire des simiens \n",
            "Predicted Translation:  des groupes de paludisme de l horreur \n",
            "Levenshetein Distance: 24.0\n",
            "***BLEU Score***: 0.6147881529512643\n",
            "                                                                                         \n",
            "INFO:tensorflow:Restoring parameters from ckpt-exp01/5-LSTM-7800\n"
          ],
          "name": "stdout"
        },
        {
          "output_type": "stream",
          "text": [
            "INFO:tensorflow:Restoring parameters from ckpt-exp01/5-LSTM-7800\n"
          ],
          "name": "stderr"
        },
        {
          "output_type": "stream",
          "text": [
            "Source Sentence:  morphological variations of mandibular architecture of mammals \n",
            "Real Translation:  les variations morphologiques de l architecture mandibulaire des mammiferes \n",
            "Predicted Translation:  variations morphologiques de l architecture mandibulaire des mammiferes sous uretrales \n",
            "Levenshetein Distance: 19.0\n",
            "***BLEU Score***: 0.5623413251903491\n",
            "                                                                                         \n",
            "INFO:tensorflow:Restoring parameters from ckpt-exp01/5-LSTM-7800\n"
          ],
          "name": "stdout"
        },
        {
          "output_type": "stream",
          "text": [
            "INFO:tensorflow:Restoring parameters from ckpt-exp01/5-LSTM-7800\n"
          ],
          "name": "stderr"
        },
        {
          "output_type": "stream",
          "text": [
            "Source Sentence:  orthopedic mechanotherapy in adenoid states and in robin glossoptosi \n",
            "Real Translation:  mecanotherapie orthopedique dans les etats adenoidiens et dans la glossoptose de robin \n",
            "Predicted Translation:  lipostructure dans les etats neurologiques et dans les structures bovins la region labio articulaires \n",
            "Levenshetein Distance: 73.0\n",
            "***BLEU Score***: 0\n",
            "                                                                                         \n",
            "INFO:tensorflow:Restoring parameters from ckpt-exp01/5-LSTM-7800\n"
          ],
          "name": "stdout"
        },
        {
          "output_type": "stream",
          "text": [
            "INFO:tensorflow:Restoring parameters from ckpt-exp01/5-LSTM-7800\n"
          ],
          "name": "stderr"
        },
        {
          "output_type": "stream",
          "text": [
            "Source Sentence:  the role of trauma and dentoalveolar trauma in the development of pyorrheic periodontal diseases \n",
            "Real Translation:  le role du trauma et du traumatisme alveolo dentaire dans l evolution des parodontoses pyorrheiques \n",
            "Predicted Translation:  le role du trauma et du trauma dans le contexte de pathologie cancereuse sep les lesions hypo intestinaux ? \n",
            "Levenshetein Distance: 58.0\n",
            "***BLEU Score***: 0\n",
            "                                                                                         \n",
            "INFO:tensorflow:Restoring parameters from ckpt-exp01/5-LSTM-7800\n"
          ],
          "name": "stdout"
        },
        {
          "output_type": "stream",
          "text": [
            "INFO:tensorflow:Restoring parameters from ckpt-exp01/5-LSTM-7800\n"
          ],
          "name": "stderr"
        },
        {
          "output_type": "stream",
          "text": [
            "Source Sentence:  diagnostic value of leukocyte oropharyngeal defense \n",
            "Real Translation:  valeur diagnostique de la defense leucocytaire bucco pharyngee \n",
            "Predicted Translation:  interet de la dystrophie gonadotrope autologue \n",
            "Levenshetein Distance: 44.0\n",
            "***BLEU Score***: 0\n",
            "                                                                                         \n",
            "INFO:tensorflow:Restoring parameters from ckpt-exp01/5-LSTM-7800\n"
          ],
          "name": "stdout"
        },
        {
          "output_type": "stream",
          "text": [
            "INFO:tensorflow:Restoring parameters from ckpt-exp01/5-LSTM-7800\n"
          ],
          "name": "stderr"
        },
        {
          "output_type": "stream",
          "text": [
            "Source Sentence:  value of general anesthesia via endotracheal in maxillofacial surgery \n",
            "Real Translation:  valeur de l anesthesie generale par voie endo tracheale en chirurgie maxillo faciale \n",
            "Predicted Translation:  mesures d anesthesie generale sur les equipes d anesthesie maxillofaciale en chirurgie maxillofaciale maxillofaciale en chirurgie maxillofaciale maxillofaciale en france et de chirurgie maxillofaciale \n",
            "Levenshetein Distance: 132.0\n",
            "***BLEU Score***: 0.4518010018049224\n",
            "                                                                                         \n",
            "INFO:tensorflow:Restoring parameters from ckpt-exp01/5-LSTM-7800\n"
          ],
          "name": "stdout"
        },
        {
          "output_type": "stream",
          "text": [
            "INFO:tensorflow:Restoring parameters from ckpt-exp01/5-LSTM-7800\n"
          ],
          "name": "stderr"
        },
        {
          "output_type": "stream",
          "text": [
            "Source Sentence:  need for continuous fortification to prevent accidents at the scorbutic tooth \n",
            "Real Translation:  necessite d une vitaminisation continue pour eviter les accidents scorbutiques au niveau de la dent \n",
            "Predicted Translation:  necessite d une orbitopathie formation pour prevenir la douleur au cours du stress au canada \n",
            "Levenshetein Distance: 56.0\n",
            "***BLEU Score***: 0.5081327481546147\n",
            "                                                                                         \n",
            "INFO:tensorflow:Restoring parameters from ckpt-exp01/5-LSTM-7800\n"
          ],
          "name": "stdout"
        },
        {
          "output_type": "stream",
          "text": [
            "INFO:tensorflow:Restoring parameters from ckpt-exp01/5-LSTM-7800\n"
          ],
          "name": "stderr"
        },
        {
          "output_type": "stream",
          "text": [
            "Source Sentence:  intraperitoneal hemorrhage from ruptured follicle cyst in a year old child \n",
            "Real Translation:  hemorragie intra peritoneale par rupture de kyste folliculaire chez une enfant de ans \n",
            "Predicted Translation:  hemorragie intra peritoneale de decollement intra peritoneale chez un enfant de ans chez un enfant de ans chez un enfant de ans chez un enfant de ans de ans \n",
            "Levenshetein Distance: 88.0\n",
            "***BLEU Score***: 0\n",
            "                                                                                         \n",
            "INFO:tensorflow:Restoring parameters from ckpt-exp01/5-LSTM-7800\n"
          ],
          "name": "stdout"
        },
        {
          "output_type": "stream",
          "text": [
            "INFO:tensorflow:Restoring parameters from ckpt-exp01/5-LSTM-7800\n"
          ],
          "name": "stderr"
        },
        {
          "output_type": "stream",
          "text": [
            "Source Sentence:  three cases of hypertensive uveitis associated with alveolar pyorrhea lesions treated with penicillin \n",
            "Real Translation:  trois cas d uveite hypertensive associee a des lesions de pyorrhee alveolaire , traitee par la penicilline \n",
            "Predicted Translation:  trois cas de pneumopathie hypertendus associee a des lesions alveolaire traitees traitees par succes par suture par suture de phlegmon alveolaire traitees par suture de phlegmon alveolaire traites a une suture de phlegmon alveolaire traites a une suture de phlegmon alveolaire traites a une suture de phlegmon alveolaire traites a la streptokinase efrg par gettec de lesions alveolaire symptomatiques de morphologiques symptomatiques traites a une suture de phlegmon alveolaire symptomatiques de morphologiques symptomatiques traites a une streptokinase \n",
            "Levenshetein Distance: 458.0\n",
            "***BLEU Score***: 0.401453101625926\n",
            "                                                                                         \n",
            "INFO:tensorflow:Restoring parameters from ckpt-exp01/5-LSTM-7800\n"
          ],
          "name": "stdout"
        },
        {
          "output_type": "stream",
          "text": [
            "INFO:tensorflow:Restoring parameters from ckpt-exp01/5-LSTM-7800\n"
          ],
          "name": "stderr"
        },
        {
          "output_type": "stream",
          "text": [
            "Source Sentence:  three consecutive cases of nervous symptoms smallpox vaccination \n",
            "Real Translation:  trois cas d accidents nerveux consecutifs a la vaccination antivariolique \n",
            "Predicted Translation:  trois cas consecutifs de maladie neuromeningees la vaccination variolique la vaccination prealable la vaccination ovocytaire la vaccination variolique la vaccination de la population ovocytaire la france la france la france la france la france la france la france la france la france la france la france la france la france la france la france la france la france la france la france la france la france la france la france la france la france la france la france la france la france la france la france la france la france la france la france la france la france la\n",
            "Levenshetein Distance: 506.0\n",
            "***BLEU Score***: 0\n",
            "                                                                                         \n",
            "INFO:tensorflow:Restoring parameters from ckpt-exp01/5-LSTM-7800\n"
          ],
          "name": "stdout"
        },
        {
          "output_type": "stream",
          "text": [
            "INFO:tensorflow:Restoring parameters from ckpt-exp01/5-LSTM-7800\n"
          ],
          "name": "stderr"
        },
        {
          "output_type": "stream",
          "text": [
            "Source Sentence:  streptomycin and tuberculous meningitis in children study of cases treated \n",
            "Real Translation:  streptomycine et meningite tuberculeuse de l enfant etude portant sur cas traites \n",
            "Predicted Translation:  tondeuse antimoustique et surdites a propos de observations traites a propos de cas traites traites traites traites traites traites traites traites a propos de cas traites au cas traites de observations traites a propos de observations traites de observations traites a propos de observations traites de observations traites de observations traites de cas traites de cas traites de observations traites de lome togo \n",
            "Levenshetein Distance: 350.0\n",
            "***BLEU Score***: 0.3549481056010053\n",
            "                                                                                         \n",
            "INFO:tensorflow:Restoring parameters from ckpt-exp01/5-LSTM-7800\n"
          ],
          "name": "stdout"
        },
        {
          "output_type": "stream",
          "text": [
            "INFO:tensorflow:Restoring parameters from ckpt-exp01/5-LSTM-7800\n"
          ],
          "name": "stderr"
        },
        {
          "output_type": "stream",
          "text": [
            "Source Sentence:  a case of tuberculous meningitis with atypical start in a child years old \n",
            "Real Translation:  sur un cas de meningite tuberculeuse a debut atypique chez une enfant de ans \n",
            "Predicted Translation:  un cas d meningite tracheale avec terrain atypique chez un enfant de ans de ans de ans de ans de ans de ans de ans \n",
            "Levenshetein Distance: 65.0\n",
            "***BLEU Score***: 0.447213595499958\n",
            "                                                                                         \n",
            "INFO:tensorflow:Restoring parameters from ckpt-exp01/5-LSTM-7800\n"
          ],
          "name": "stdout"
        },
        {
          "output_type": "stream",
          "text": [
            "INFO:tensorflow:Restoring parameters from ckpt-exp01/5-LSTM-7800\n"
          ],
          "name": "stderr"
        },
        {
          "output_type": "stream",
          "text": [
            "Source Sentence:  patent ductus arteriosus operative indications \n",
            "Real Translation:  la persistance du canal arteriel indications operatoires \n",
            "Predicted Translation:  canal arteriel du canal arteriel interet indications indications indications apres la cin et la cin \n",
            "Levenshetein Distance: 59.0\n",
            "***BLEU Score***: 0\n",
            "                                                                                         \n",
            "INFO:tensorflow:Restoring parameters from ckpt-exp01/5-LSTM-7800\n"
          ],
          "name": "stdout"
        },
        {
          "output_type": "stream",
          "text": [
            "INFO:tensorflow:Restoring parameters from ckpt-exp01/5-LSTM-7800\n"
          ],
          "name": "stderr"
        },
        {
          "output_type": "stream",
          "text": [
            "Source Sentence:  the evolution of love from childhood to adulthood \n",
            "Real Translation:  l evolution de l amour , de l enfance a l age adulte \n",
            "Predicted Translation:  l evolution d amour de l amour de l enfance a l adulte adulte l age adulte adulte adulte l age adulte adulte adulte l age adulte adulte nasopharynx a l age adulte adulte nasopharynx a l age adulte adulte nasopharynx a l age adulte adulte nasopharynx a l age adulte adulte nasopharynx a l age adulte adulte nasopharynx a l age adulte adulte nasopharynx a l age adulte adulte nasopharynx a l age adulte adulte nasopharynx a l age adulte adulte nasopharynx a l age adulte adulte nasopharynx a l age adulte adulte nasopharynx a l age adult\n",
            "Levenshetein Distance: 485.0\n",
            "***BLEU Score***: 0.4172261448611506\n",
            "                                                                                         \n",
            "INFO:tensorflow:Restoring parameters from ckpt-exp01/5-LSTM-7800\n"
          ],
          "name": "stdout"
        },
        {
          "output_type": "stream",
          "text": [
            "INFO:tensorflow:Restoring parameters from ckpt-exp01/5-LSTM-7800\n"
          ],
          "name": "stderr"
        },
        {
          "output_type": "stream",
          "text": [
            "Source Sentence:  hormonal methods of diagnosis in gynecology \n",
            "Real Translation:  les methodes de diagnostic hormonal en gynecologie \n",
            "Predicted Translation:  les methodes hormonales du diagnostic en gynecologie en gynecologie en gynecologie en gynecologie facteurs operatoires en gynecologie en gynecologie medicale delocalises \n",
            "Levenshetein Distance: 123.0\n",
            "***BLEU Score***: 0\n",
            "                                                                                         \n",
            "INFO:tensorflow:Restoring parameters from ckpt-exp01/5-LSTM-7800\n"
          ],
          "name": "stdout"
        },
        {
          "output_type": "stream",
          "text": [
            "INFO:tensorflow:Restoring parameters from ckpt-exp01/5-LSTM-7800\n"
          ],
          "name": "stderr"
        },
        {
          "output_type": "stream",
          "text": [
            "Source Sentence:  gonadotropin hormone and female infertility \n",
            "Real Translation:  gonadotrophines et hormonotherapie de la sterilite feminine \n",
            "Predicted Translation:  l alcool et l infertilite feminine et infertilite feminine feminin l infertilite feminine \n",
            "Levenshetein Distance: 55.0\n",
            "***BLEU Score***: 0.4515435325289871\n",
            "                                                                                         \n",
            "INFO:tensorflow:Restoring parameters from ckpt-exp01/5-LSTM-7800\n"
          ],
          "name": "stdout"
        },
        {
          "output_type": "stream",
          "text": [
            "INFO:tensorflow:Restoring parameters from ckpt-exp01/5-LSTM-7800\n"
          ],
          "name": "stderr"
        },
        {
          "output_type": "stream",
          "text": [
            "Source Sentence:  problem of meiogenic function of the follicular fluid \n",
            "Real Translation:  probleme d une fonction meiogene du liquide folliculaire \n",
            "Predicted Translation:  probleme de fonction cellulaire du liquide folliculaire \n",
            "Levenshetein Distance: 11.0\n",
            "***BLEU Score***: 0\n",
            "                                                                                         \n",
            "INFO:tensorflow:Restoring parameters from ckpt-exp01/5-LSTM-7800\n"
          ],
          "name": "stdout"
        },
        {
          "output_type": "stream",
          "text": [
            "INFO:tensorflow:Restoring parameters from ckpt-exp01/5-LSTM-7800\n"
          ],
          "name": "stderr"
        },
        {
          "output_type": "stream",
          "text": [
            "Source Sentence:  chemotherapy and penicillin in dentistry \n",
            "Real Translation:  chimiotherapie et penicilline en stomatologie \n",
            "Predicted Translation:  chimiotherapie et probabilisme en odontologie dentaire en medecine dentaire et la logica dentaire en medecine dentaire et la logica dentaire en amp au maghreb et la logica en medecine dentaire dentaire en amp au quebec et la logica en medecine dentaire au quebec et la logica en medecine dentaire dovocyte di dovocyte en odontologie hcl en amp dovocyte di dovocyte en odontologie hcl en amp dovocyte di dovocyte en dovocyte hcl en amp dovocyte di dovocyte en dovocyte hcl en amp dovocyte di dovocyte en dovocyte hcl en amp dovocyte di dovocyte en dovocyte hcl en amp dovocyte di\n",
            "Levenshetein Distance: 533.0\n",
            "***BLEU Score***: 0\n",
            "                                                                                         \n",
            "INFO:tensorflow:Restoring parameters from ckpt-exp01/5-LSTM-7800\n"
          ],
          "name": "stdout"
        },
        {
          "output_type": "stream",
          "text": [
            "INFO:tensorflow:Restoring parameters from ckpt-exp01/5-LSTM-7800\n"
          ],
          "name": "stderr"
        },
        {
          "output_type": "stream",
          "text": [
            "Source Sentence:  sjogren s syndrome dry eyes and mouth mucous membranes and its consequences oral \n",
            "Real Translation:  syndrome de gougerot sjogren secheresse des muqueuses oculaire et buccale et ses consequences bucco dentaires \n",
            "Predicted Translation:  syndrome de gougerot splenique de la peau a trueperella in vitro et ses consequences produits orale par double complications haute orale par les produits aerodigestives superieures par les produits orales produits de sjogren produits de cotonou produits proliferatives \n",
            "Levenshetein Distance: 191.0\n",
            "***BLEU Score***: 0.40276720463657734\n",
            "                                                                                         \n",
            "INFO:tensorflow:Restoring parameters from ckpt-exp01/5-LSTM-7800\n"
          ],
          "name": "stdout"
        },
        {
          "output_type": "stream",
          "text": [
            "INFO:tensorflow:Restoring parameters from ckpt-exp01/5-LSTM-7800\n"
          ],
          "name": "stderr"
        },
        {
          "output_type": "stream",
          "text": [
            "Source Sentence:  two cases of dental reimplantation successfully maintained for years \n",
            "Real Translation:  deux cas de reimplantation dentaire maintenue avec succes depuis ans \n",
            "Predicted Translation:  forme de syndrome in hemolyse avec ou avec deux observations a deux ans deux ans a ans depuis ans pour deux observations \n",
            "Levenshetein Distance: 86.0\n",
            "***BLEU Score***: 0.5491004867761125\n",
            "                                                                                         \n",
            "INFO:tensorflow:Restoring parameters from ckpt-exp01/5-LSTM-7800\n"
          ],
          "name": "stdout"
        },
        {
          "output_type": "stream",
          "text": [
            "INFO:tensorflow:Restoring parameters from ckpt-exp01/5-LSTM-7800\n"
          ],
          "name": "stderr"
        },
        {
          "output_type": "stream",
          "text": [
            "Source Sentence:  about three cases of possible errors of interpretation of radiological and histological lesions of the jaws \n",
            "Real Translation:  a propos de trois cas d erreurs possibles d interpretations radiologique et histologique des lesions des maxillaires \n",
            "Predicted Translation:  a propos de trois cas les faits de reponse des lesions radiologiques et histologiques des lesions geantes et histologiques des machoires machoires et histologiques des lesions machoires \n",
            "Levenshetein Distance: 101.0\n",
            "***BLEU Score***: 0.4386913376508308\n",
            "                                                                                         \n",
            "INFO:tensorflow:Restoring parameters from ckpt-exp01/5-LSTM-7800\n"
          ],
          "name": "stdout"
        },
        {
          "output_type": "stream",
          "text": [
            "INFO:tensorflow:Restoring parameters from ckpt-exp01/5-LSTM-7800\n"
          ],
          "name": "stderr"
        },
        {
          "output_type": "stream",
          "text": [
            "Source Sentence:  on a recent dental iontophoresis accelerated ion oh \n",
            "Real Translation:  sur une recente etude de l ionophorese dentaire l ion accelere oh \n",
            "Predicted Translation:  une mise en evidence d une equipe de mise en evidence eeg en pleine dimension indirecte en pleine dimension indirecte la mise en route en pleine environnement en pleine wnt \n",
            "Levenshetein Distance: 128.0\n",
            "***BLEU Score***: 0.42728700639623407\n",
            "                                                                                         \n",
            "INFO:tensorflow:Restoring parameters from ckpt-exp01/5-LSTM-7800\n"
          ],
          "name": "stdout"
        },
        {
          "output_type": "stream",
          "text": [
            "INFO:tensorflow:Restoring parameters from ckpt-exp01/5-LSTM-7800\n"
          ],
          "name": "stderr"
        },
        {
          "output_type": "stream",
          "text": [
            "Source Sentence:  use of acrylic inclusions in maxillo facial especially in the surgical treatment of temporomandibular ankylosis \n",
            "Real Translation:  de l emploi des inclusions d acrylique en chirurgie maxillo faciale specialement dans le traitement chirurgical de l ankylose temporomaxillaire \n",
            "Predicted Translation:  utilisation des reconstitutions de nature de la region faciale de cote de chirurgie mandibulaire de cote de l approche temporo mandibulaire superficiel cote de l actinomycose temporo mandibulaire superficiel de l ovaire superficiel de l ovaire superficiel de l ovaire superficiel de l ovaire superficiel de la clavicule \n",
            "Levenshetein Distance: 224.0\n",
            "***BLEU Score***: 0.4518010018049224\n",
            "                                                                                         \n",
            "INFO:tensorflow:Restoring parameters from ckpt-exp01/5-LSTM-7800\n"
          ],
          "name": "stdout"
        },
        {
          "output_type": "stream",
          "text": [
            "INFO:tensorflow:Restoring parameters from ckpt-exp01/5-LSTM-7800\n"
          ],
          "name": "stderr"
        },
        {
          "output_type": "stream",
          "text": [
            "Source Sentence:  homeopathy in dentistry \n",
            "Real Translation:  l hemeopathie en art dentaire \n",
            "Predicted Translation:  la conception en amp en odontologie marseille marseille marseille marseille marseille marseille marseille marseille marseille marseille marseille marseille marseille marseille marseille marseille marseille marseille marseille marseille marseille marseille marseille marseille marseille marseille marseille marseille marseille marseille marseille marseille marseille marseille marseille marseille marseille marseille marseille marseille marseille marseille marseille marseille marseille marseille marseille marseille marseille marseille marseille marseille marseille marseille marseille marseille marseille marseille marseille marseille marseille marseille marseille marseille marseille marseille marseille marseille marseille marseille marseille marseille marseille marseille marseille marseille marseille marseille marseille marseille marseille marseille marseille marseille marseille marseille marseille marseille marseille marseille marseille marseille marseill\n",
            "Levenshetein Distance: 943.0\n",
            "***BLEU Score***: 0\n",
            "                                                                                         \n",
            "INFO:tensorflow:Restoring parameters from ckpt-exp01/5-LSTM-7800\n"
          ],
          "name": "stdout"
        },
        {
          "output_type": "stream",
          "text": [
            "INFO:tensorflow:Restoring parameters from ckpt-exp01/5-LSTM-7800\n"
          ],
          "name": "stderr"
        },
        {
          "output_type": "stream",
          "text": [
            "Source Sentence:  manifestations of oral pharyngeal malignancies \n",
            "Real Translation:  les manifestations bucco pharyngees des hemopathies \n",
            "Predicted Translation:  les manifestations des tumeurs faciales partiels les tumeurs malignes les tumeurs pelviperineales superieures les tumeurs sexuels superieures les tumeurs sexuels superieures les tumeurs sexuels superieures les tumeurs chimiques superieures les tumeurs chimiques superieures les tumeurs chimiques superieures les tumeurs chimiques superieures les tumeurs chimiques superieures les tumeurs chimiques superieures les tumeurs chimiques superieures les tumeurs chimiques superieures les tumeurs chimiques superieures les tumeurs chimiques superieures les tumeurs chimiques superieures les tumeurs chimiques superieures les tumeurs chimiques superieures les tumeurs chimiques superieures les tumeurs chimiques superieures les tumeurs chimiques superieures les tumeurs chimiques superieures les tumeurs chimiques superieures les tumeur\n",
            "Levenshetein Distance: 785.0\n",
            "***BLEU Score***: 0\n",
            "                                                                                         \n",
            "INFO:tensorflow:Restoring parameters from ckpt-exp01/5-LSTM-7800\n"
          ],
          "name": "stdout"
        },
        {
          "output_type": "stream",
          "text": [
            "INFO:tensorflow:Restoring parameters from ckpt-exp01/5-LSTM-7800\n"
          ],
          "name": "stderr"
        },
        {
          "output_type": "stream",
          "text": [
            "Source Sentence:  hysterography and diagnosis of organic and functional uterine hemorrhage \n",
            "Real Translation:  l hysterographie et le diagnostic des hemorragies uteriennes organiques et fonctionnelles \n",
            "Predicted Translation:  modelisation et diagnostic des hemorragies pathologiques et fonctionnels fonctionnelles diffuse et cervicometrie de l hemorragie uterine inferieur et cervicometrie \n",
            "Levenshetein Distance: 113.0\n",
            "***BLEU Score***: 0.47897362544357464\n",
            "                                                                                         \n",
            "INFO:tensorflow:Restoring parameters from ckpt-exp01/5-LSTM-7800\n"
          ],
          "name": "stdout"
        },
        {
          "output_type": "stream",
          "text": [
            "INFO:tensorflow:Restoring parameters from ckpt-exp01/5-LSTM-7800\n"
          ],
          "name": "stderr"
        },
        {
          "output_type": "stream",
          "text": [
            "Source Sentence:  retino cortical measurement apart from cortical evoked potentials by light stimulation in humans \n",
            "Real Translation:  mesure du temps retino cortical a parter des potentiels corticaux evoques par stimulation lumineuse chez l homme \n",
            "Predicted Translation:  mesure de la mesure de la neurogenese de trophoblaste dans le traitement des peptides bovins par la stimulation de lumiere chez l homme \n",
            "Levenshetein Distance: 68.0\n",
            "***BLEU Score***: 0.4566337854967312\n",
            "                                                                                         \n",
            "INFO:tensorflow:Restoring parameters from ckpt-exp01/5-LSTM-7800\n"
          ],
          "name": "stdout"
        },
        {
          "output_type": "stream",
          "text": [
            "INFO:tensorflow:Restoring parameters from ckpt-exp01/5-LSTM-7800\n"
          ],
          "name": "stderr"
        },
        {
          "output_type": "stream",
          "text": [
            "Source Sentence:  research on the cholesterol esterase system of rat liver \n",
            "Real Translation:  recherches sur le systeme cholesterolesterasique du foie de rat \n",
            "Predicted Translation:  recherche sur le systeme d emboles d chef d un cholesterol du foie foie du foie du foie du foie du foie du foie du foie du foie du foie du foie du foie du foie du foie du foie du foie du foie du foie du foie du foie du foie du foie du foie du foie du foie du foie du foie du foie du foie du foie du foie du foie du foie du foie du foie du foie du foie du foie du foie du foie du foie du foie du foie du foie du\n",
            "Levenshetein Distance: 357.0\n",
            "***BLEU Score***: 0.31702331385234306\n",
            "                                                                                         \n",
            "INFO:tensorflow:Restoring parameters from ckpt-exp01/5-LSTM-7800\n"
          ],
          "name": "stdout"
        },
        {
          "output_type": "stream",
          "text": [
            "INFO:tensorflow:Restoring parameters from ckpt-exp01/5-LSTM-7800\n"
          ],
          "name": "stderr"
        },
        {
          "output_type": "stream",
          "text": [
            "Source Sentence:  the influence of odorous substances on the heart of the rabbit \n",
            "Real Translation:  sur l influence de substances odorantes sur le coeur du lapin \n",
            "Predicted Translation:  influence de la consommation de substances imminente sur le c ur du perimetre tigre le castrat du castrat du louvre du chuv masseter le pidaq du chuv masseter le pidaq du chuv masseter le pidaq du chuv masseter le pidaq du chuv masseter le louvre du chuv masseter le louvre du chuv masseter le louvre du louvre du louvre du louvre du louvre du louvre du louvre du louvre du louvre du louvre du louvre du louvre du louvre du louvre du louvre du louvre du louvre du louvre du louvre du louvre du louvre du louvre du louvr\n",
            "Levenshetein Distance: 471.0\n",
            "***BLEU Score***: 0.31702331385234306\n",
            "                                                                                         \n",
            "INFO:tensorflow:Restoring parameters from ckpt-exp01/5-LSTM-7800\n"
          ],
          "name": "stdout"
        },
        {
          "output_type": "stream",
          "text": [
            "INFO:tensorflow:Restoring parameters from ckpt-exp01/5-LSTM-7800\n"
          ],
          "name": "stderr"
        },
        {
          "output_type": "stream",
          "text": [
            "Source Sentence:  the determination of blood volume in children \n",
            "Real Translation:  sur la determination du volume de sang chez l enfant \n",
            "Predicted Translation:  la mesure du volume sanguin chez l enfant pediatrique chez l enfant pediatrique \n",
            "Levenshetein Distance: 52.0\n",
            "***BLEU Score***: 0.5266403878479265\n",
            "                                                                                         \n",
            "INFO:tensorflow:Restoring parameters from ckpt-exp01/5-LSTM-7800\n"
          ],
          "name": "stdout"
        },
        {
          "output_type": "stream",
          "text": [
            "INFO:tensorflow:Restoring parameters from ckpt-exp01/5-LSTM-7800\n"
          ],
          "name": "stderr"
        },
        {
          "output_type": "stream",
          "text": [
            "Source Sentence:  the treatment of syphilitic aortitis importance of the prolonged treatment with mercuric cyanide \n",
            "Real Translation:  le traitement des aortites syphilitiques interet des cures tre prolongees de cyanure de mercure \n",
            "Predicted Translation:  le traitement des aortite extra articulaires utilite du traitement prolonge par ultracision la position de la neurogenese de peche \n",
            "Levenshetein Distance: 71.0\n",
            "***BLEU Score***: 0\n",
            "                                                                                         \n",
            "INFO:tensorflow:Restoring parameters from ckpt-exp01/5-LSTM-7800\n"
          ],
          "name": "stdout"
        },
        {
          "output_type": "stream",
          "text": [
            "INFO:tensorflow:Restoring parameters from ckpt-exp01/5-LSTM-7800\n"
          ],
          "name": "stderr"
        },
        {
          "output_type": "stream",
          "text": [
            "Source Sentence:  two cases of juvenile ocular hypertension verification and comparison tonometers total peripheral visual field \n",
            "Real Translation:  a propos de deux cas d hypertension oculaire juvenile verifacation et comparaison des tonometres champ visuel peripherique absolu \n",
            "Predicted Translation:  deux cas d hypertonie oculaire de l adulte comparaison de campagnes d echographie humaine rein \n",
            "Levenshetein Distance: 71.0\n",
            "***BLEU Score***: 0.6042750794713536\n",
            "                                                                                         \n",
            "INFO:tensorflow:Restoring parameters from ckpt-exp01/5-LSTM-7800\n"
          ],
          "name": "stdout"
        },
        {
          "output_type": "stream",
          "text": [
            "INFO:tensorflow:Restoring parameters from ckpt-exp01/5-LSTM-7800\n"
          ],
          "name": "stderr"
        },
        {
          "output_type": "stream",
          "text": [
            "Source Sentence:  simple apparatus for fractures of the humerus \n",
            "Real Translation:  appareil simple pour fractures de l humerus \n",
            "Predicted Translation:  un dispositif simple des fractures de l humerus l humerus fur l outil d envahissement fiable de l humerus i un outil fiable des fractures fur l envahissement fiable des fractures fur l envahissement fiable des fractures fur l envahissement fiable des benin de l humerus i benin de l humerus i benin de l humerus i benin de l humerus tvim de l humerus i prolapse benin de l humerus tvim de l humerus i prolapse benin de l humerus tvim de l humerus i hcl de l humerus i hcl de l humerus i hcl de l\n",
            "Levenshetein Distance: 455.0\n",
            "***BLEU Score***: 0.4172261448611506\n",
            "                                                                                         \n",
            "INFO:tensorflow:Restoring parameters from ckpt-exp01/5-LSTM-7800\n"
          ],
          "name": "stdout"
        },
        {
          "output_type": "stream",
          "text": [
            "INFO:tensorflow:Restoring parameters from ckpt-exp01/5-LSTM-7800\n"
          ],
          "name": "stderr"
        },
        {
          "output_type": "stream",
          "text": [
            "Source Sentence:  the hyperfolliculinism mental state \n",
            "Real Translation:  l etat mental des hyperfolliculiniques \n",
            "Predicted Translation:  le vecu mental etat des peres etat d etat des mental etat de montauban \n",
            "Levenshetein Distance: 52.0\n",
            "***BLEU Score***: 0.3367765041827165\n",
            "                                                                                         \n",
            "INFO:tensorflow:Restoring parameters from ckpt-exp01/5-LSTM-7800\n"
          ],
          "name": "stdout"
        },
        {
          "output_type": "stream",
          "text": [
            "INFO:tensorflow:Restoring parameters from ckpt-exp01/5-LSTM-7800\n"
          ],
          "name": "stderr"
        },
        {
          "output_type": "stream",
          "text": [
            "Source Sentence:  treatment of laryngeal carcinomas by teleradium therapy \n",
            "Real Translation:  traitement des epitheliomas larynges par teleradiumtherapie \n",
            "Predicted Translation:  traitement des cancers mammaires par immunotherapie de materiaux \n",
            "Levenshetein Distance: 35.0\n",
            "***BLEU Score***: 0\n",
            "                                                                                         \n",
            "INFO:tensorflow:Restoring parameters from ckpt-exp01/5-LSTM-7800\n"
          ],
          "name": "stdout"
        },
        {
          "output_type": "stream",
          "text": [
            "INFO:tensorflow:Restoring parameters from ckpt-exp01/5-LSTM-7800\n"
          ],
          "name": "stderr"
        },
        {
          "output_type": "stream",
          "text": [
            "Source Sentence:  commonalities between the oto rhinologist and the neurosurgeon in the treatment of encephalic abscess \n",
            "Real Translation:  points de rencontre entre l oto rhinologiste et le neurochirurgien dans le traitement des abces encephaliques \n",
            "Predicted Translation:  les inventaires entre les anthropologiques de l humeur et de l incapacite des abces encephaliques \n",
            "Levenshetein Distance: 53.0\n",
            "***BLEU Score***: 0.5081327481546147\n",
            "                                                                                         \n",
            "INFO:tensorflow:Restoring parameters from ckpt-exp01/5-LSTM-7800\n"
          ],
          "name": "stdout"
        },
        {
          "output_type": "stream",
          "text": [
            "INFO:tensorflow:Restoring parameters from ckpt-exp01/5-LSTM-7800\n"
          ],
          "name": "stderr"
        },
        {
          "output_type": "stream",
          "text": [
            "Source Sentence:  air bubble sequelae of abscess \n",
            "Real Translation:  bulle aerienne sequellaire d abces \n",
            "Predicted Translation:  sequelles vaccinales des abces mydriatiques abces a abces syphilitiques abces abces abces abces abces abces abces abces abces abces abces abces abces abces abces abces abces abces abces abces abces abces abces abces abces abces abces abces abces abces abces abces abces abces abces d abces phlegmon abces phlegmon d abces phlegmon phlegmon abces d abces phlegmon phlegmon abces phlegmon d abces phlegmon phlegmon d abces phlegmon phlegmon d hydroxyapatite \n",
            "Levenshetein Distance: 426.0\n",
            "***BLEU Score***: 0.41113361690051975\n",
            "                                                                                         \n",
            "INFO:tensorflow:Restoring parameters from ckpt-exp01/5-LSTM-7800\n"
          ],
          "name": "stdout"
        },
        {
          "output_type": "stream",
          "text": [
            "INFO:tensorflow:Restoring parameters from ckpt-exp01/5-LSTM-7800\n"
          ],
          "name": "stderr"
        },
        {
          "output_type": "stream",
          "text": [
            "Source Sentence:  a case of pneumonectomy for tubercular bronchiectasis in a patient treated successfully by artificial pneumothorax anatomical study of a cured cavern \n",
            "Real Translation:  un cas de pneumonectomie pour bronchectasie chez une malade tuberculeuse traitee avec succes par pneumothorax artificiel etude anatomique d une caverne guerie \n",
            "Predicted Translation:  un cas de pneumonectomie a une symptomatologie convulsion chez des patients traitees par abces sylvanus vaginales etude d une etude consecutive d une bifidite percutanee \n",
            "Levenshetein Distance: 99.0\n",
            "***BLEU Score***: 0.5318295896944989\n",
            "                                                                                         \n",
            "INFO:tensorflow:Restoring parameters from ckpt-exp01/5-LSTM-7800\n"
          ],
          "name": "stdout"
        },
        {
          "output_type": "stream",
          "text": [
            "INFO:tensorflow:Restoring parameters from ckpt-exp01/5-LSTM-7800\n"
          ],
          "name": "stderr"
        },
        {
          "output_type": "stream",
          "text": [
            "Source Sentence:  silicosis unilateral pseudo tumoral form pleuroscopy view its diagnostic importance \n",
            "Real Translation:  silicose a forme pseudo tumorale unilaterale aspect pleuroscopuque son importance diagnostique \n",
            "Predicted Translation:  poly tracheite unilaterales de type pseudotumorale le point de vue diagnostique de l importance diagnostique importance de l importance diagnostique de la pseudotumorale importance de l importance diagnostique de la pseudotumorale de forme de forme iii de forme de forme iii de forme de forme iii de la forme de forme de forme iii de la forme de forme de forme iii de la forme de forme de forme iii de la forme de forme de forme iii de la forme de forme de forme iii de la forme de forme de forme iii de la forme de form\n",
            "Levenshetein Distance: 449.0\n",
            "***BLEU Score***: 0.3770063804549471\n",
            "                                                                                         \n",
            "INFO:tensorflow:Restoring parameters from ckpt-exp01/5-LSTM-7800\n"
          ],
          "name": "stdout"
        },
        {
          "output_type": "stream",
          "text": [
            "INFO:tensorflow:Restoring parameters from ckpt-exp01/5-LSTM-7800\n"
          ],
          "name": "stderr"
        },
        {
          "output_type": "stream",
          "text": [
            "Source Sentence:  severe urticarial reaction reminiscent of serum sickness , consecutive treatment with penicillin for erysipelas of the face \n",
            "Real Translation:  reaction urticarienne severe rappelant celle de la maladie du serum , consecutive au traitement par la penicilline d un erysipele de la face \n",
            "Predicted Translation:  la grippe severe innocuite des delais plasmatiques , traitement consecutifs par suture d un erysipele de la face \n",
            "Levenshetein Distance: 76.0\n",
            "***BLEU Score***: 0.5773502691896257\n",
            "                                                                                         \n",
            "INFO:tensorflow:Restoring parameters from ckpt-exp01/5-LSTM-7800\n"
          ],
          "name": "stdout"
        },
        {
          "output_type": "stream",
          "text": [
            "INFO:tensorflow:Restoring parameters from ckpt-exp01/5-LSTM-7800\n"
          ],
          "name": "stderr"
        },
        {
          "output_type": "stream",
          "text": [
            "Source Sentence:  some changes on the sternal blood observed during treatment thyroid \n",
            "Real Translation:  sur quelques modifications du tableau sanguin sternal observes pendant le traitement thyroidien \n",
            "Predicted Translation:  quelques changements sur le sang de pied lors d un traitement pendant la premiere ligne la thyroide pendant l ipilimumab la banalite au cours de l etape la banalite \n",
            "Levenshetein Distance: 118.0\n",
            "***BLEU Score***: 0.5124576721246791\n",
            "                                                                                         \n",
            "INFO:tensorflow:Restoring parameters from ckpt-exp01/5-LSTM-7800\n"
          ],
          "name": "stdout"
        },
        {
          "output_type": "stream",
          "text": [
            "INFO:tensorflow:Restoring parameters from ckpt-exp01/5-LSTM-7800\n"
          ],
          "name": "stderr"
        },
        {
          "output_type": "stream",
          "text": [
            "Source Sentence:  a case of thrombophlebitis of the cavernous sinus after cholesteatoma complicated by cerebral hernia corrected with surgical plastic \n",
            "Real Translation:  un cas de thrombophlebite du sinus caverneux apres cholesteatome complique de hernie cerebrale corrigee par une plastique \n",
            "Predicted Translation:  un cas de thrombophlebite du sinus caverneux superieur au cholesteatome compliquee d une hernie cerebrale exclusif a propos d un cas clinique de chirurgie plastique \n",
            "Levenshetein Distance: 53.0\n",
            "***BLEU Score***: 0.5318295896944989\n",
            "                                                                                         \n",
            "INFO:tensorflow:Restoring parameters from ckpt-exp01/5-LSTM-7800\n"
          ],
          "name": "stdout"
        },
        {
          "output_type": "stream",
          "text": [
            "INFO:tensorflow:Restoring parameters from ckpt-exp01/5-LSTM-7800\n"
          ],
          "name": "stderr"
        },
        {
          "output_type": "stream",
          "text": [
            "Source Sentence:  treatment of laryngeal cancer by radiation \n",
            "Real Translation:  le traitement du cancer du larynx par les irradiations \n",
            "Predicted Translation:  le traitement du cancer du larynx par radiotherapie radiotherapie par radiotherapie radiotherapie \n",
            "Levenshetein Distance: 48.0\n",
            "***BLEU Score***: 0\n",
            "                                                                                         \n",
            "INFO:tensorflow:Restoring parameters from ckpt-exp01/5-LSTM-7800\n"
          ],
          "name": "stdout"
        },
        {
          "output_type": "stream",
          "text": [
            "INFO:tensorflow:Restoring parameters from ckpt-exp01/5-LSTM-7800\n"
          ],
          "name": "stderr"
        },
        {
          "output_type": "stream",
          "text": [
            "Source Sentence:  antritis in the infant treated with penicillin \n",
            "Real Translation:  antrite fluxionnaire du nourrisson guerison par penicilline \n",
            "Predicted Translation:  la pharmacopee du nourrisson chez le nourrisson traites par suture transconjonctivale a la penicilline traites par suture par voix \n",
            "Levenshetein Distance: 90.0\n",
            "***BLEU Score***: 0.47897362544357464\n",
            "                                                                                         \n",
            "INFO:tensorflow:Restoring parameters from ckpt-exp01/5-LSTM-7800\n"
          ],
          "name": "stdout"
        },
        {
          "output_type": "stream",
          "text": [
            "INFO:tensorflow:Restoring parameters from ckpt-exp01/5-LSTM-7800\n"
          ],
          "name": "stderr"
        },
        {
          "output_type": "stream",
          "text": [
            "Source Sentence:  severe , toxic convulsions caused by local anesthesia and the treatment \n",
            "Real Translation:  les accidents toxiques graves convulsivants dus a l anesthesie locale par imbibition et leur traitement \n",
            "Predicted Translation:  commotions graves , toxiques liee a l anesthesie locale et le traitement therapeutique et traitement \n",
            "Levenshetein Distance: 59.0\n",
            "***BLEU Score***: 0.31239399369202553\n",
            "                                                                                         \n",
            "INFO:tensorflow:Restoring parameters from ckpt-exp01/5-LSTM-7800\n"
          ],
          "name": "stdout"
        },
        {
          "output_type": "stream",
          "text": [
            "INFO:tensorflow:Restoring parameters from ckpt-exp01/5-LSTM-7800\n"
          ],
          "name": "stderr"
        },
        {
          "output_type": "stream",
          "text": [
            "Source Sentence:  diagnosis of operable congenital heart disease \n",
            "Real Translation:  diagnostic des cardiopathies congenitales operables \n",
            "Predicted Translation:  diagnostic de la cardiopathies congenitale chronique chronique diagnostic de la maladie congenitale chronique retroperitoneale \n",
            "Levenshetein Distance: 80.0\n",
            "***BLEU Score***: 0\n",
            "                                                                                         \n",
            "INFO:tensorflow:Restoring parameters from ckpt-exp01/5-LSTM-7800\n"
          ],
          "name": "stdout"
        },
        {
          "output_type": "stream",
          "text": [
            "INFO:tensorflow:Restoring parameters from ckpt-exp01/5-LSTM-7800\n"
          ],
          "name": "stderr"
        },
        {
          "output_type": "stream",
          "text": [
            "Source Sentence:  alveolar edema post operative , its role in the pathogenesis of post operative pulmonary complications \n",
            "Real Translation:  l oedeme alveolaire post operatoire son role dans la pathogenie des complications pulmonaires post operatoires \n",
            "Predicted Translation:  l deme alveolaire post operatoires , le role dans la pathogenese des complications post pulmonaires postoperatoires , le suivi post operatoires postoperatoires , postoperatoires \n",
            "Levenshetein Distance: 75.0\n",
            "***BLEU Score***: 0.4518010018049224\n",
            "                                                                                         \n",
            "INFO:tensorflow:Restoring parameters from ckpt-exp01/5-LSTM-7800\n"
          ],
          "name": "stdout"
        },
        {
          "output_type": "stream",
          "text": [
            "INFO:tensorflow:Restoring parameters from ckpt-exp01/5-LSTM-7800\n"
          ],
          "name": "stderr"
        },
        {
          "output_type": "stream",
          "text": [
            "Source Sentence:  sterilization and storage of milk in milk banks \n",
            "Real Translation:  la sterilisation et la conservation du lait dans les lactariums \n",
            "Predicted Translation:  compartimentation et conservation du lait au sein des banques de lait des banques de lait les banques de lait des banques de lait les banques de travail aux banques de travail aux banques de travail aux banques de sante des banques de sante des banques de sante des banques de sante des banques de sante des banques de sante des armes aux armes des banques de sante des banques de sante les aux banques de famille les banques de sante des banques de sante les aux banques de famille les banques de sante des banques de sante les aux\n",
            "Levenshetein Distance: 478.0\n",
            "***BLEU Score***: 0\n",
            "                                                                                         \n",
            "INFO:tensorflow:Restoring parameters from ckpt-exp01/5-LSTM-7800\n"
          ],
          "name": "stdout"
        },
        {
          "output_type": "stream",
          "text": [
            "INFO:tensorflow:Restoring parameters from ckpt-exp01/5-LSTM-7800\n"
          ],
          "name": "stderr"
        },
        {
          "output_type": "stream",
          "text": [
            "Source Sentence:  new avitaminosis c cutaneo mucous syndromes depapillating glossitis , diminishing salivary and sweat secretions onyxis \n",
            "Real Translation:  nouveaux syndromes cutaneo muqueux d avitaminose c glossites depapillantes , diminution des secretions salivaire et sudorale onyxis \n",
            "Predicted Translation:  nouvelle serie uhplc disease disease and systemic disease and aca , attitudes des populations ecdc \n",
            "Levenshetein Distance: 93.0\n",
            "***BLEU Score***: 0.5081327481546147\n",
            "                                                                                         \n",
            "INFO:tensorflow:Restoring parameters from ckpt-exp01/5-LSTM-7800\n"
          ],
          "name": "stdout"
        },
        {
          "output_type": "stream",
          "text": [
            "INFO:tensorflow:Restoring parameters from ckpt-exp01/5-LSTM-7800\n"
          ],
          "name": "stderr"
        },
        {
          "output_type": "stream",
          "text": [
            "Source Sentence:  studies on the sexual dimorphism of the submandibular gland in mice time of onset and evolution of the secretory granules of the secretory tubules \n",
            "Real Translation:  etudes sur le dimorphisme sexuel de la glande sous maxillaire chez la souris epoque de l apparition et evolution des grains de secretion des tubules secreteurs \n",
            "Predicted Translation:  etudes du dimorphisme sexuel de la region sous marine chez la souris temps d appartenance lente des ecouvillons zoologiques des ecouvillons singes des ecouvillons singes des antilles ischiatiques . des kadutu semiologie des crci \n",
            "Levenshetein Distance: 130.0\n",
            "***BLEU Score***: 0.41412387656655203\n",
            "                                                                                         \n",
            "INFO:tensorflow:Restoring parameters from ckpt-exp01/5-LSTM-7800\n"
          ],
          "name": "stdout"
        },
        {
          "output_type": "stream",
          "text": [
            "INFO:tensorflow:Restoring parameters from ckpt-exp01/5-LSTM-7800\n"
          ],
          "name": "stderr"
        },
        {
          "output_type": "stream",
          "text": [
            "Source Sentence:  therapeutic applications of streptomycin \n",
            "Real Translation:  applications therapeutiques de la streptomycine \n",
            "Predicted Translation:  applications therapeutiques de l ombre par gemcitabine icg \n",
            "Levenshetein Distance: 19.0\n",
            "***BLEU Score***: 0.36064528799877893\n",
            "                                                                                         \n",
            "INFO:tensorflow:Restoring parameters from ckpt-exp01/5-LSTM-7800\n"
          ],
          "name": "stdout"
        },
        {
          "output_type": "stream",
          "text": [
            "INFO:tensorflow:Restoring parameters from ckpt-exp01/5-LSTM-7800\n"
          ],
          "name": "stderr"
        },
        {
          "output_type": "stream",
          "text": [
            "Source Sentence:  permanent immunizations of the radicular canal \n",
            "Real Translation:  l immunisation permanents du canal radiculaire \n",
            "Predicted Translation:  les condylomes tubaires benin du canal materiel du canal ureteral du canal levres le louvre le louvre le louvre le louvre le louvre le louvre le louvre le louvre le louvre le louvre le louvre le louvre le louvre du canal ureteral du canal anal le louvre du canal ureteral du canal anal le louvre du canal anal le louvre du canal anal le louvre du canal anal le louvre le louvre ssi du canal anal le louvre ssi du canal anal le louvre ssi du canal anal le louvre ssi du canal anal le louvre ssi du canal\n",
            "Levenshetein Distance: 461.0\n",
            "***BLEU Score***: 0\n",
            "                                                                                         \n",
            "INFO:tensorflow:Restoring parameters from ckpt-exp01/5-LSTM-7800\n"
          ],
          "name": "stdout"
        },
        {
          "output_type": "stream",
          "text": [
            "INFO:tensorflow:Restoring parameters from ckpt-exp01/5-LSTM-7800\n"
          ],
          "name": "stderr"
        },
        {
          "output_type": "stream",
          "text": [
            "Source Sentence:  a journey through the larynx , trachea and bronchi \n",
            "Real Translation:  un voyage a travers le larynx , la trachee et les bronches \n",
            "Predicted Translation:  les reseaux au larynx , transplantation et mesure de la transplantation \n",
            "Levenshetein Distance: 53.0\n",
            "***BLEU Score***: 0.5491004867761125\n",
            "                                                                                         \n",
            "INFO:tensorflow:Restoring parameters from ckpt-exp01/5-LSTM-7800\n"
          ],
          "name": "stdout"
        },
        {
          "output_type": "stream",
          "text": [
            "INFO:tensorflow:Restoring parameters from ckpt-exp01/5-LSTM-7800\n"
          ],
          "name": "stderr"
        },
        {
          "output_type": "stream",
          "text": [
            "Source Sentence:  the filling root canals in ivory \n",
            "Real Translation:  l obturation des canaux radiculaires a l ivoire \n",
            "Predicted Translation:  les responsabilites nerveuses des voyelles en cote d ivoire en cote d ivoire en cote d ivoire en cote d ivoire en cote d ivoire en \n",
            "Levenshetein Distance: 100.0\n",
            "***BLEU Score***: 0.4428500142691474\n",
            "                                                                                         \n",
            "INFO:tensorflow:Restoring parameters from ckpt-exp01/5-LSTM-7800\n"
          ],
          "name": "stdout"
        },
        {
          "output_type": "stream",
          "text": [
            "INFO:tensorflow:Restoring parameters from ckpt-exp01/5-LSTM-7800\n"
          ],
          "name": "stderr"
        },
        {
          "output_type": "stream",
          "text": [
            "Source Sentence:  caries and treatment \n",
            "Real Translation:  caries et therapeutique \n",
            "Predicted Translation:  le traitement et le traitement traiter au traitement traiter et traiter traiter les traiter au traitement traiter au traitement traiter au traitement traiter au traitement traiter au traitement traiter au traitement traiter \n",
            "Levenshetein Distance: 204.0\n",
            "***BLEU Score***: 0\n",
            "                                                                                         \n",
            "INFO:tensorflow:Restoring parameters from ckpt-exp01/5-LSTM-7800\n"
          ],
          "name": "stdout"
        },
        {
          "output_type": "stream",
          "text": [
            "INFO:tensorflow:Restoring parameters from ckpt-exp01/5-LSTM-7800\n"
          ],
          "name": "stderr"
        },
        {
          "output_type": "stream",
          "text": [
            "Source Sentence:  the autoplasties in odontostomatology \n",
            "Real Translation:  les autoplasties en odonto stomatologie \n",
            "Predicted Translation:  le derapage en stomatologie in stomatologie in objectivite in objectivite in objectivite in objectivite in objectivite in objectivite in objectivite in objectivite in objectivite in objectivite in objectivite in objectivite in objectivite in objectivite in objectivite in objectivite dovocyte di objectivite in objectivite dovocyte di objectivite dovocyte in objectivite dovocyte di objectivite dovocyte in objectivite dovocyte di objectivite dovocyte in objectivite dovocyte in objectivite dovocyte in objectivite dovocyte in objectivite dovocyte in objectivite dovocyte in objectivite dovocyte in objectivite dovocyte in objectivite dovocyte in objectivite dovocyte in objectivite dovocyte in objectivite dovocyte in objectivite dovocyte in objectivite dovocyte in\n",
            "Levenshetein Distance: 737.0\n",
            "***BLEU Score***: 0\n",
            "                                                                                         \n",
            "INFO:tensorflow:Restoring parameters from ckpt-exp01/5-LSTM-7800\n"
          ],
          "name": "stdout"
        },
        {
          "output_type": "stream",
          "text": [
            "INFO:tensorflow:Restoring parameters from ckpt-exp01/5-LSTM-7800\n"
          ],
          "name": "stderr"
        },
        {
          "output_type": "stream",
          "text": [
            "Source Sentence:  considerations of artificial teeth for fixed bridges decks \n",
            "Real Translation:  considerations sur les dents artificielles pour les tabliers de bridges fixes \n",
            "Predicted Translation:  quelles etats pour les dents et les dents pour les cellules chimiques \n",
            "Levenshetein Distance: 44.0\n",
            "***BLEU Score***: 0\n",
            "                                                                                         \n",
            "INFO:tensorflow:Restoring parameters from ckpt-exp01/5-LSTM-7800\n"
          ],
          "name": "stdout"
        },
        {
          "output_type": "stream",
          "text": [
            "INFO:tensorflow:Restoring parameters from ckpt-exp01/5-LSTM-7800\n"
          ],
          "name": "stderr"
        },
        {
          "output_type": "stream",
          "text": [
            "Source Sentence:  recent findings in hematology their importance in dental hemorrhages \n",
            "Real Translation:  les acquisitions recentes de l hematologie leur interet pour les hemorragies dentaires \n",
            "Predicted Translation:  les alterations therapeutiques en cancerologie comment leur importance dans les hemorragies dentaires . les antibiotherapies dentaires les antibiotherapies dentaires \n",
            "Levenshetein Distance: 105.0\n",
            "***BLEU Score***: 0\n",
            "                                                                                         \n",
            "INFO:tensorflow:Restoring parameters from ckpt-exp01/5-LSTM-7800\n"
          ],
          "name": "stdout"
        },
        {
          "output_type": "stream",
          "text": [
            "INFO:tensorflow:Restoring parameters from ckpt-exp01/5-LSTM-7800\n"
          ],
          "name": "stderr"
        },
        {
          "output_type": "stream",
          "text": [
            "Source Sentence:  the current state of dental education in czechoslovakia \n",
            "Real Translation:  l etat actuel de l education dentaire en tchecoslovaquie \n",
            "Predicted Translation:  le point de vue de l formation dentaire en pediatrie \n",
            "Levenshetein Distance: 25.0\n",
            "***BLEU Score***: 0.5623413251903491\n",
            "                                                                                         \n",
            "INFO:tensorflow:Restoring parameters from ckpt-exp01/5-LSTM-7800\n"
          ],
          "name": "stdout"
        },
        {
          "output_type": "stream",
          "text": [
            "INFO:tensorflow:Restoring parameters from ckpt-exp01/5-LSTM-7800\n"
          ],
          "name": "stderr"
        },
        {
          "output_type": "stream",
          "text": [
            "Source Sentence:  traumatic lesions of the dental follicle and their consequences \n",
            "Real Translation:  les lesions traumatiques du follicule dentaire et leurs consequences \n",
            "Predicted Translation:  lesions traumatiques des voies aeriennes et leurs consequences consequences des voies aeriennes superieures et leurs consequences consequences recents \n",
            "Levenshetein Distance: 97.0\n",
            "***BLEU Score***: 0\n",
            "                                                                                         \n",
            "INFO:tensorflow:Restoring parameters from ckpt-exp01/5-LSTM-7800\n"
          ],
          "name": "stdout"
        },
        {
          "output_type": "stream",
          "text": [
            "INFO:tensorflow:Restoring parameters from ckpt-exp01/5-LSTM-7800\n"
          ],
          "name": "stderr"
        },
        {
          "output_type": "stream",
          "text": [
            "Source Sentence:  biostatistics in the prosthesis \n",
            "Real Translation:  la biostatique en prothese \n",
            "Predicted Translation:  biostatistiques au systeme de prostheses \n",
            "Levenshetein Distance: 21.0\n",
            "***BLEU Score***: 0\n",
            "                                                                                         \n",
            "INFO:tensorflow:Restoring parameters from ckpt-exp01/5-LSTM-7800\n"
          ],
          "name": "stdout"
        },
        {
          "output_type": "stream",
          "text": [
            "INFO:tensorflow:Restoring parameters from ckpt-exp01/5-LSTM-7800\n"
          ],
          "name": "stderr"
        },
        {
          "output_type": "stream",
          "text": [
            "Source Sentence:  diamond instruments \n",
            "Real Translation:  les instruments diamantes \n",
            "Predicted Translation:  les instruments de recep barrieres au opioides de l aide au opioides de l institut de modelisation de l institut de modelisation de l abpa \n",
            "Levenshetein Distance: 113.0\n",
            "***BLEU Score***: 0.447213595499958\n",
            "                                                                                         \n",
            "INFO:tensorflow:Restoring parameters from ckpt-exp01/5-LSTM-7800\n"
          ],
          "name": "stdout"
        },
        {
          "output_type": "stream",
          "text": [
            "INFO:tensorflow:Restoring parameters from ckpt-exp01/5-LSTM-7800\n"
          ],
          "name": "stderr"
        },
        {
          "output_type": "stream",
          "text": [
            "Source Sentence:  about postoperative alveolitis \n",
            "Real Translation:  a propos des alveolites post operatoires \n",
            "Predicted Translation:  des endophenotypes post chirurgicales de l epidermolyse post operatoire post jour de les endophenotypes postoperatoires post jour postoperatoires de les endophenotypes a jour les grands candidats postoperatoires postoperatoires les grands sphincterotomie postoperatoires postoperatoires les antibiotherapies postoperatoires postoperatoires les antibiotherapies postoperatoires postoperatoires de a faible jour a postoperatoires postoperatoires postoperatoires les antibiotherapies postoperatoires postoperatoires de genou a postoperatoires postoperatoires a postoperatoires postoperatoires a postoperatoires postoperatoires a postoperatoires postoperatoires a postoperatoires postoperatoires a postoperatoires post operatoires postoperatoires de saccharomyces hcl a postoperatoires postoperatoires a postoperatoires post operatoires de saccharomyces superieure a postoperatoires postoperatoires de saccharomyces hcl a postoperatoires postoperatoires de saccharomyc\n",
            "Levenshetein Distance: 924.0\n",
            "***BLEU Score***: 0.3770063804549471\n",
            "                                                                                         \n",
            "INFO:tensorflow:Restoring parameters from ckpt-exp01/5-LSTM-7800\n"
          ],
          "name": "stdout"
        },
        {
          "output_type": "stream",
          "text": [
            "INFO:tensorflow:Restoring parameters from ckpt-exp01/5-LSTM-7800\n"
          ],
          "name": "stderr"
        },
        {
          "output_type": "stream",
          "text": [
            "Source Sentence:  recent data on blood clotting \n",
            "Real Translation:  donnees recentes sur la coagulation du sang \n",
            "Predicted Translation:  donnees recentes sur l appendicite sanguine \n",
            "Levenshetein Distance: 17.0\n",
            "***BLEU Score***: 0.5408536609893481\n",
            "                                                                                         \n",
            "INFO:tensorflow:Restoring parameters from ckpt-exp01/5-LSTM-7800\n"
          ],
          "name": "stdout"
        },
        {
          "output_type": "stream",
          "text": [
            "INFO:tensorflow:Restoring parameters from ckpt-exp01/5-LSTM-7800\n"
          ],
          "name": "stderr"
        },
        {
          "output_type": "stream",
          "text": [
            "Source Sentence:  role of the embryology of the maxillary sinus and tooth development in sinusitis of dental origin , clinical and therapeutic deductions \n",
            "Real Translation:  role de l embryologie du sinus maxillaire et de l evolution des dents dans les sinusites d origine dentaire deductions cliniques et therapeutiques \n",
            "Predicted Translation:  role du quot congres du sinus maxillaire et sur le developpement socio dentaire dans les elevages bacteriennes de l origine dentaire , clinique et therapeutique rurales et therapeutique du centre hospitalier siglos de therapeutique siglos , tridimensionnelle et therapeutique siglos de antilles siglos , tridimensionnelle et therapeutique siglos de antilles siglos , endemiques et therapeutique siglos de antilles siglos , endemiques et therapeutique siglos de antilles siglos , endemiques et therapeutique siglos de antilles siglos , endemiques et therapeutique siglos de antilles siglos , endemiques et therapeutique siglos de antilles siglos , endemiques et therapeutique siglos de antilles sigl\n",
            "Levenshetein Distance: 569.0\n",
            "***BLEU Score***: 0.31702331385234306\n",
            "                                                                                         \n",
            "INFO:tensorflow:Restoring parameters from ckpt-exp01/5-LSTM-7800\n"
          ],
          "name": "stdout"
        },
        {
          "output_type": "stream",
          "text": [
            "INFO:tensorflow:Restoring parameters from ckpt-exp01/5-LSTM-7800\n"
          ],
          "name": "stderr"
        },
        {
          "output_type": "stream",
          "text": [
            "Source Sentence:  classification and terminology of rheumatic diseases \n",
            "Real Translation:  de la classification et de la terminologie des affections rhumatismales \n",
            "Predicted Translation:  classification et lexique neuropathique des maladies rhumatismales mal et source de mal rhumatismales des maladies rhumatismales . source d experts \n",
            "Levenshetein Distance: 102.0\n",
            "***BLEU Score***: 0.4728708045015879\n",
            "                                                                                         \n",
            "INFO:tensorflow:Restoring parameters from ckpt-exp01/5-LSTM-7800\n"
          ],
          "name": "stdout"
        },
        {
          "output_type": "stream",
          "text": [
            "INFO:tensorflow:Restoring parameters from ckpt-exp01/5-LSTM-7800\n"
          ],
          "name": "stderr"
        },
        {
          "output_type": "stream",
          "text": [
            "Source Sentence:  study on the fate of glial erythematosus in children \n",
            "Real Translation:  etude sur le sort des enfants gliomateux \n",
            "Predicted Translation:  etude du devenir sur l evolution du lupus lymphatique chez l enfant \n",
            "Levenshetein Distance: 47.0\n",
            "***BLEU Score***: 0.537284965911771\n",
            "                                                                                         \n",
            "INFO:tensorflow:Restoring parameters from ckpt-exp01/5-LSTM-7800\n"
          ],
          "name": "stdout"
        },
        {
          "output_type": "stream",
          "text": [
            "INFO:tensorflow:Restoring parameters from ckpt-exp01/5-LSTM-7800\n"
          ],
          "name": "stderr"
        },
        {
          "output_type": "stream",
          "text": [
            "Source Sentence:  simultaneous ligation of the artery and the external iliac vein during the opening of an adeno iliac abscess in a child of two and a half years future results six years \n",
            "Real Translation:  ligature simultanee de l artere et de la veine iliaques externes au cours de l ouverture d un adeno phlegmon iliaque chez un enfant de deux ans et demi resultat eloigne six ans \n",
            "Predicted Translation:  ligature bilaterale de l artere et la veine thoracique externe lors d un abces national observe a deux ans resultats a ans ans cinq ans ans a ans ans ans ans a ans ans ans ans a ans ans ans ans ans a ans ans ans ans ans ans ans ans ans ans a ans ans ans ans ans ans ans ans ans ans ans ans ans a ans ans ans ans ans ans ans ans ans ans ans ans ans ans ans ans ans a ans ans ans ans ans ans ans ans ans ans ans ans an\n",
            "Levenshetein Distance: 321.0\n",
            "***BLEU Score***: 0.4172261448611506\n",
            "                                                                                         \n",
            "INFO:tensorflow:Restoring parameters from ckpt-exp01/5-LSTM-7800\n"
          ],
          "name": "stdout"
        },
        {
          "output_type": "stream",
          "text": [
            "INFO:tensorflow:Restoring parameters from ckpt-exp01/5-LSTM-7800\n"
          ],
          "name": "stderr"
        },
        {
          "output_type": "stream",
          "text": [
            "Source Sentence:  the endogenous tooth demineralisation is it possible ? \n",
            "Real Translation:  la demineralisation dentaire endogene est elle possible ? \n",
            "Predicted Translation:  l allotransplantation dentaire endogene est ce possible ? ? ? ? ? ? ? ? ? ? ? ? ? ? ? ? ? ? ? ? ? ? ? ? ? ? ? ? ? ? ? ? ? ? ? ? ? ? ? ? ? ? ? ? ? ? ? ? ? ? ? ? ? ? ? ? ? ? ? ? ? ? ? ? ? ? ? ? ? ? ? ? ? ? ? ? ? ? ? ? ? ? ? ? ? ? ? ? ? ? ? ?\n",
            "Levenshetein Distance: 197.0\n",
            "***BLEU Score***: 0.3770063804549471\n",
            "                                                                                         \n",
            "INFO:tensorflow:Restoring parameters from ckpt-exp01/5-LSTM-7800\n"
          ],
          "name": "stdout"
        },
        {
          "output_type": "stream",
          "text": [
            "INFO:tensorflow:Restoring parameters from ckpt-exp01/5-LSTM-7800\n"
          ],
          "name": "stderr"
        },
        {
          "output_type": "stream",
          "text": [
            "Source Sentence:  examination and treatment of stomatitis site \n",
            "Real Translation:  examen et traitement local des stomatites \n",
            "Predicted Translation:  examen et prise en charge du lieu du lieu de la maladie en libre du lieu du site libre du genou \n",
            "Levenshetein Distance: 70.0\n",
            "***BLEU Score***: 0\n",
            "                                                                                         \n",
            "INFO:tensorflow:Restoring parameters from ckpt-exp01/5-LSTM-7800\n"
          ],
          "name": "stdout"
        },
        {
          "output_type": "stream",
          "text": [
            "INFO:tensorflow:Restoring parameters from ckpt-exp01/5-LSTM-7800\n"
          ],
          "name": "stderr"
        },
        {
          "output_type": "stream",
          "text": [
            "Source Sentence:  the shoulder deep stump for the crown jacket \n",
            "Real Translation:  l epaulement profond du moignon pour la couronne jacket \n",
            "Predicted Translation:  l epaule formoterol pour la comprehension de l amplification par l acetylation de la theorie d une instabilite par l inhibition de l instabilite organisee l entreprise de l instabilite organisee l entreprise ssi ssi de l insertion par l acetylation de la svolta reaction classique de l instabilite de stabilisation hcl l svolta immunoblastique ssi de svolta comprendre la svolta reaction classique de la svolta reaction classique de svolta leucine ssi de svolta leucine ssi de svolta leucine ssi de svolta leucine ssi de svolta comprendre la svolta reaction storica \n",
            "Levenshetein Distance: 515.0\n",
            "***BLEU Score***: 0.38503228868787126\n",
            "                                                                                         \n",
            "INFO:tensorflow:Restoring parameters from ckpt-exp01/5-LSTM-7800\n"
          ],
          "name": "stdout"
        },
        {
          "output_type": "stream",
          "text": [
            "INFO:tensorflow:Restoring parameters from ckpt-exp01/5-LSTM-7800\n"
          ],
          "name": "stderr"
        },
        {
          "output_type": "stream",
          "text": [
            "Source Sentence:  intratissular acrylic resins \n",
            "Real Translation:  les resines acryliques intra tissulaires \n",
            "Predicted Translation:  la vignette de l ovaire de ta z disorder de sufentanil \n",
            "Levenshetein Distance: 42.0\n",
            "***BLEU Score***: 0.5491004867761125\n",
            "                                                                                         \n",
            "INFO:tensorflow:Restoring parameters from ckpt-exp01/5-LSTM-7800\n"
          ],
          "name": "stdout"
        },
        {
          "output_type": "stream",
          "text": [
            "INFO:tensorflow:Restoring parameters from ckpt-exp01/5-LSTM-7800\n"
          ],
          "name": "stderr"
        },
        {
          "output_type": "stream",
          "text": [
            "Source Sentence:  prognathism and thanatophilie in habsburg \n",
            "Real Translation:  prognathisme et thanatophilie chez les habsbourg \n",
            "Predicted Translation:  voir et garder en amp en amp ? \n",
            "Levenshetein Distance: 36.0\n",
            "***BLEU Score***: 0\n",
            "                                                                                         \n",
            "INFO:tensorflow:Restoring parameters from ckpt-exp01/5-LSTM-7800\n"
          ],
          "name": "stdout"
        },
        {
          "output_type": "stream",
          "text": [
            "INFO:tensorflow:Restoring parameters from ckpt-exp01/5-LSTM-7800\n"
          ],
          "name": "stderr"
        },
        {
          "output_type": "stream",
          "text": [
            "Source Sentence:  glycorregulatory function and focal infection \n",
            "Real Translation:  fonction glycoregulatrice et infection focale \n",
            "Predicted Translation:  fonction lente et infection par infections locaux infections a l origine focale \n",
            "Levenshetein Distance: 47.0\n",
            "***BLEU Score***: 0.3508439695638686\n",
            "                                                                                         \n",
            "INFO:tensorflow:Restoring parameters from ckpt-exp01/5-LSTM-7800\n"
          ],
          "name": "stdout"
        },
        {
          "output_type": "stream",
          "text": [
            "INFO:tensorflow:Restoring parameters from ckpt-exp01/5-LSTM-7800\n"
          ],
          "name": "stderr"
        },
        {
          "output_type": "stream",
          "text": [
            "Source Sentence:  about some new cases of squamous adamantine \n",
            "Real Translation:  a propos de quelques nouveaux cas d epitheliomas adamantins \n",
            "Predicted Translation:  a propos de quelques cas de tuberculose malpighienne de l european network of fibrokystique of embolies fibrokystique of cicatrices fibrokystique of cicatrices fibrokystique of cicatrices fibrokystique of cicatrices fibrokystique of cicatrices fibrokystique of cicatrices fibrokystique of cicatrices fibrokystique of cicatrices fibrokystique of cicatrices fibrokystique of cicatrices fibrokystique of cicatrices fibrokystique de yaounde fibrokystique de a \n",
            "Levenshetein Distance: 406.0\n",
            "***BLEU Score***: 0.4832697830906221\n",
            "                                                                                         \n",
            "INFO:tensorflow:Restoring parameters from ckpt-exp01/5-LSTM-7800\n"
          ],
          "name": "stdout"
        },
        {
          "output_type": "stream",
          "text": [
            "INFO:tensorflow:Restoring parameters from ckpt-exp01/5-LSTM-7800\n"
          ],
          "name": "stderr"
        },
        {
          "output_type": "stream",
          "text": [
            "Source Sentence:  presentation of patients and operations of maxillofacial surgery \n",
            "Real Translation:  presentation de malades et operations de chirurgie maxillo faciale \n",
            "Predicted Translation:  gestion des patientes en cas de chirurgie maxillo maxillofaciale et regles operatoires de chirurgie maxillo maxillo faciale et legislatifs de la operations maxillo maxillo maxillo faciale \n",
            "Levenshetein Distance: 132.0\n",
            "***BLEU Score***: 0\n",
            "                                                                                         \n",
            "INFO:tensorflow:Restoring parameters from ckpt-exp01/5-LSTM-7800\n"
          ],
          "name": "stdout"
        },
        {
          "output_type": "stream",
          "text": [
            "INFO:tensorflow:Restoring parameters from ckpt-exp01/5-LSTM-7800\n"
          ],
          "name": "stderr"
        },
        {
          "output_type": "stream",
          "text": [
            "Source Sentence:  acute leukemia in a boy of with tumor of the mediastinum \n",
            "Real Translation:  leucemie aigue chez un garcon de ans avec tumeur du mediastin \n",
            "Predicted Translation:  leucemie aigue chez un garcon de tumeur mediastin du mediastin \n",
            "Levenshetein Distance: 16.0\n",
            "***BLEU Score***: 0\n",
            "                                                                                         \n",
            "INFO:tensorflow:Restoring parameters from ckpt-exp01/5-LSTM-7800\n"
          ],
          "name": "stdout"
        },
        {
          "output_type": "stream",
          "text": [
            "INFO:tensorflow:Restoring parameters from ckpt-exp01/5-LSTM-7800\n"
          ],
          "name": "stderr"
        },
        {
          "output_type": "stream",
          "text": [
            "Source Sentence:  some results of plastic surgery \n",
            "Real Translation:  quelques resultats d operations plastiques \n",
            "Predicted Translation:  quelques resultats de la chirurgie plastique \n",
            "Levenshetein Distance: 14.0\n",
            "***BLEU Score***: 0\n",
            "                                                                                         \n",
            "INFO:tensorflow:Restoring parameters from ckpt-exp01/5-LSTM-7800\n"
          ],
          "name": "stdout"
        },
        {
          "output_type": "stream",
          "text": [
            "INFO:tensorflow:Restoring parameters from ckpt-exp01/5-LSTM-7800\n"
          ],
          "name": "stderr"
        },
        {
          "output_type": "stream",
          "text": [
            "Source Sentence:  a remarkable chapter of the portuguese health policy overseas medical education in india \n",
            "Real Translation:  une page remarquable de la politique sanitaire portugaise a l outremer l enseignement medical aux indes \n",
            "Predicted Translation:  un infarctus propice de la politique de la methicilline emphysemateuse . formation medicale en inde formation en inde formation en inde formation en inde , formation en allemagne en antibiotherapie \n",
            "Levenshetein Distance: 140.0\n",
            "***BLEU Score***: 0\n",
            "                                                                                         \n",
            "INFO:tensorflow:Restoring parameters from ckpt-exp01/5-LSTM-7800\n"
          ],
          "name": "stdout"
        },
        {
          "output_type": "stream",
          "text": [
            "INFO:tensorflow:Restoring parameters from ckpt-exp01/5-LSTM-7800\n"
          ],
          "name": "stderr"
        },
        {
          "output_type": "stream",
          "text": [
            "Source Sentence:  the teaching of medicine and medical scientific research in portugal \n",
            "Real Translation:  l enseignement de la medecine et les recherches scientifiques medicales au portugal \n",
            "Predicted Translation:  enseignement de medecine et medecins scientifiques recherche au portugal au portugal au portugal au portugal au portugal au portugal au portugal au quebec au portugal au quebec au quebec au quebec au quebec au quebec au quebec au quebec au quebec au quebec au quebec au quebec au quebec au quebec au quebec au quebec au quebec au quebec au quebec au quebec au quebec au quebec au quebec au quebec au quebec au quebec au quebec au quebec au quebec au quebec au quebec au quebec au quebec au quebec au quebec au quebec au quebec au quebec\n",
            "Levenshetein Distance: 479.0\n",
            "***BLEU Score***: 0\n",
            "                                                                                         \n",
            "INFO:tensorflow:Restoring parameters from ckpt-exp01/5-LSTM-7800\n"
          ],
          "name": "stdout"
        },
        {
          "output_type": "stream",
          "text": [
            "INFO:tensorflow:Restoring parameters from ckpt-exp01/5-LSTM-7800\n"
          ],
          "name": "stderr"
        },
        {
          "output_type": "stream",
          "text": [
            "Source Sentence:  black tumors of the skin \n",
            "Real Translation:  tumeurs noires de la peau \n",
            "Predicted Translation:  tumeurs de la peau a la peau de la peau \n",
            "Levenshetein Distance: 19.0\n",
            "***BLEU Score***: 0.5623413251903491\n",
            "                                                                                         \n",
            "INFO:tensorflow:Restoring parameters from ckpt-exp01/5-LSTM-7800\n"
          ],
          "name": "stdout"
        },
        {
          "output_type": "stream",
          "text": [
            "INFO:tensorflow:Restoring parameters from ckpt-exp01/5-LSTM-7800\n"
          ],
          "name": "stderr"
        },
        {
          "output_type": "stream",
          "text": [
            "Source Sentence:  unpublished pages of claude bernard \n",
            "Real Translation:  pages inedites de claude bernard \n",
            "Predicted Translation:  subluxation carpometacarpienne de claude bernard bernard de claude bernard bernard de claude bernard bernard de claude bernard bernard de claude bernard bernard de claude bernard bernard de claude bernard bernard de claude bernard bernard de claude bernard bernard de claude bernard bernard de claude bernard bernard de claude bernard bernard bernard de claude bernard bernard bernard de claude bernard bernard bernard de claude bernard bernard bernard de claude bernard bernard de claude bernard bernard de claude bernard bernard de claude bernard bernard de claude bernard bernard de claude bernard bernard de claude bernard bernard de claude bernard bernard d\n",
            "Levenshetein Distance: 635.0\n",
            "***BLEU Score***: 0.31702331385234306\n",
            "                                                                                         \n",
            "INFO:tensorflow:Restoring parameters from ckpt-exp01/5-LSTM-7800\n"
          ],
          "name": "stdout"
        },
        {
          "output_type": "stream",
          "text": [
            "INFO:tensorflow:Restoring parameters from ckpt-exp01/5-LSTM-7800\n"
          ],
          "name": "stderr"
        },
        {
          "output_type": "stream",
          "text": [
            "Source Sentence:  the wine consumption in portugal \n",
            "Real Translation:  les vins de consommation au portugal \n",
            "Predicted Translation:  la consommation du vin au portugal au portugal au portugal au portugal au quebec au quebec au quebec au quebec au quebec au quebec au quebec au quebec au quebec au quebec au quebec au quebec au quebec au quebec au quebec au quebec au quebec au quebec au quebec au quebec au quebec au quebec au quebec au quebec au quebec au quebec au quebec au quebec au quebec au quebec au quebec au quebec au quebec au quebec au quebec au quebec au quebec au quebec au quebec au quebec au quebec au quebec au quebec au\n",
            "Levenshetein Distance: 479.0\n",
            "***BLEU Score***: 0\n",
            "                                                                                         \n",
            "INFO:tensorflow:Restoring parameters from ckpt-exp01/5-LSTM-7800\n"
          ],
          "name": "stdout"
        },
        {
          "output_type": "stream",
          "text": [
            "INFO:tensorflow:Restoring parameters from ckpt-exp01/5-LSTM-7800\n"
          ],
          "name": "stderr"
        },
        {
          "output_type": "stream",
          "text": [
            "Source Sentence:  artistic and bibliographic exposure of medical authors \n",
            "Real Translation:  exposition artistique et bibliographique d auteurs medecins \n",
            "Predicted Translation:  exposition de l exposition sociale et hebdomadaire de l exposition medicale des auteurs medicales d interactions medicamenteux des conseils medicales d etudes industriels de l auxquelles . l exposition des etudes industriels d etudes industriels d etudes industriels d etudes industriels d etudes industriels d etudes industriels d hemostase siglos d etudes dovocyte et de leurs conceptions de l dovocyte siglos dovocyte xiv dovocyte et de l hydratation siglos dovocyte xiv dovocyte et de l hydratation siglos dovocyte xiv dovocyte et de l hydratation siglos dovocyte xiv dovocyte et de l hydratation siglos dovocyte xiv dovocyte et de l\n",
            "Levenshetein Distance: 586.0\n",
            "***BLEU Score***: 0.3770063804549471\n",
            "                                                                                         \n",
            "INFO:tensorflow:Restoring parameters from ckpt-exp01/5-LSTM-7800\n"
          ],
          "name": "stdout"
        },
        {
          "output_type": "stream",
          "text": [
            "INFO:tensorflow:Restoring parameters from ckpt-exp01/5-LSTM-7800\n"
          ],
          "name": "stderr"
        },
        {
          "output_type": "stream",
          "text": [
            "Source Sentence:  portuguese art \n",
            "Real Translation:  l art portugais \n",
            "Predicted Translation:  art la culture cliniquement mesenterique art l art thromboembolique classique \n",
            "Levenshetein Distance: 66.0\n",
            "***BLEU Score***: 0.5623413251903491\n",
            "                                                                                         \n",
            "INFO:tensorflow:Restoring parameters from ckpt-exp01/5-LSTM-7800\n"
          ],
          "name": "stdout"
        },
        {
          "output_type": "stream",
          "text": [
            "INFO:tensorflow:Restoring parameters from ckpt-exp01/5-LSTM-7800\n"
          ],
          "name": "stderr"
        },
        {
          "output_type": "stream",
          "text": [
            "Source Sentence:  sulfa drugs and penicillin in dentistry \n",
            "Real Translation:  les sulfamides et la penicilline en stomatologie \n",
            "Predicted Translation:  medicaments et la ligula in vitro en medecine dentaire en medecine dentaire et la logica au maghreb et la logica au maghreb et la logica au maghreb et la logica en medecine dentaire et landry en medecine dentaire au quebec et la logica en medecine dentaire en avion au quebec et la logica en medecine dovocyte di dovocyte en avion au quebec et la logica en medecine dovocyte di dovocyte en avion au quebec dovocyte en avion au quebec dovocyte en dovocyte di dovocyte en avion siglos \n",
            "Levenshetein Distance: 441.0\n",
            "***BLEU Score***: 0\n",
            "                                                                                         \n",
            "INFO:tensorflow:Restoring parameters from ckpt-exp01/5-LSTM-7800\n"
          ],
          "name": "stdout"
        },
        {
          "output_type": "stream",
          "text": [
            "INFO:tensorflow:Restoring parameters from ckpt-exp01/5-LSTM-7800\n"
          ],
          "name": "stderr"
        },
        {
          "output_type": "stream",
          "text": [
            "Source Sentence:  a syndrome severe neuralgia and absolute immobilization of the upper limb immediately subsequent to setons of the neck muscles \n",
            "Real Translation:  sur un syndrome sympathalgie violente et immobilisation absolue du membre superieur immediatement consecutif a des setons des muscles du cou \n",
            "Predicted Translation:  un syndrome de dermatose severe et un traitement d osteoarthropathie exceptionnelle superieur suite a disposition de la maladie du col cervico faciaux \n",
            "Levenshetein Distance: 105.0\n",
            "***BLEU Score***: 0.5491004867761125\n",
            "                                                                                         \n",
            "INFO:tensorflow:Restoring parameters from ckpt-exp01/5-LSTM-7800\n"
          ],
          "name": "stdout"
        },
        {
          "output_type": "stream",
          "text": [
            "INFO:tensorflow:Restoring parameters from ckpt-exp01/5-LSTM-7800\n"
          ],
          "name": "stderr"
        },
        {
          "output_type": "stream",
          "text": [
            "Source Sentence:  pneumotomy for lung abscess \n",
            "Real Translation:  a propos de la pneumotomie pour abces du poumon \n",
            "Predicted Translation:  sequelles d abces pulmonaire d un abces broncho pulmonaires d un abces poumon abces et abces pulmonaires \n",
            "Levenshetein Distance: 73.0\n",
            "***BLEU Score***: 0.4924790605054523\n",
            "                                                                                         \n",
            "INFO:tensorflow:Restoring parameters from ckpt-exp01/5-LSTM-7800\n"
          ],
          "name": "stdout"
        },
        {
          "output_type": "stream",
          "text": [
            "INFO:tensorflow:Restoring parameters from ckpt-exp01/5-LSTM-7800\n"
          ],
          "name": "stderr"
        },
        {
          "output_type": "stream",
          "text": [
            "Source Sentence:  conservation techniques of sphincter function in surgical treatment of rectal cancer \n",
            "Real Translation:  a propos des techniques de conservation de la fonction sphincterienne dans cure operatoire des cancers du rectum \n",
            "Predicted Translation:  modalites de conservation de la fonction vesicosphincterienne dans le traitement du cancer du rectum du cancer rectum du rectum du cancer du rectum rectum du rectum du cancer du rectum rectum du rectum du cancer du rectum rectum du rectum du cancer du rectum rectum du rectum du cancer du rectum rectum du rectum du cancer du rectum rectum du rectum du cancer du rectum rectum du rectum du cancer du rectum du rectum du traitement du cancer du rectum rectum du rectum du cancer du rectum du rectum du traitement du cancer du rectum rectum du rectum du\n",
            "Levenshetein Distance: 469.0\n",
            "***BLEU Score***: 0\n",
            "                                                                                         \n",
            "INFO:tensorflow:Restoring parameters from ckpt-exp01/5-LSTM-7800\n"
          ],
          "name": "stdout"
        },
        {
          "output_type": "stream",
          "text": [
            "INFO:tensorflow:Restoring parameters from ckpt-exp01/5-LSTM-7800\n"
          ],
          "name": "stderr"
        },
        {
          "output_type": "stream",
          "text": [
            "Source Sentence:  sequelae of evacuated hydatid cysts of the lung \n",
            "Real Translation:  sequelles de kystes hydatiques du poumon evacuees par vomiques \n",
            "Predicted Translation:  sequelles de kystes hydatiques du poumon poumon du poumon poumon \n",
            "Levenshetein Distance: 20.0\n",
            "***BLEU Score***: 0\n",
            "                                                                                         \n",
            "INFO:tensorflow:Restoring parameters from ckpt-exp01/5-LSTM-7800\n"
          ],
          "name": "stdout"
        },
        {
          "output_type": "stream",
          "text": [
            "INFO:tensorflow:Restoring parameters from ckpt-exp01/5-LSTM-7800\n"
          ],
          "name": "stderr"
        },
        {
          "output_type": "stream",
          "text": [
            "Source Sentence:  bleeding in tumors of the ovary \n",
            "Real Translation:  a propos des metrorragies dans les tumeurs de l ovaire \n",
            "Predicted Translation:  les exacerbations dans les tumeurs de l ovaire de l ovaire de tumeurs ovaire de l ovaire tumeurs de l ovaire \n",
            "Levenshetein Distance: 67.0\n",
            "***BLEU Score***: 0.4671379777282001\n",
            "                                                                                         \n",
            "INFO:tensorflow:Restoring parameters from ckpt-exp01/5-LSTM-7800\n"
          ],
          "name": "stdout"
        },
        {
          "output_type": "stream",
          "text": [
            "INFO:tensorflow:Restoring parameters from ckpt-exp01/5-LSTM-7800\n"
          ],
          "name": "stderr"
        },
        {
          "output_type": "stream",
          "text": [
            "Source Sentence:  closed fracture of the leg , of the type known by crushing rapid gangrene , amputation at the thigh at the th hour \n",
            "Real Translation:  fracture fermee de jambe , de type dit par ecrasement gangrene rapide amputation de cuisse a la . heure \n",
            "Predicted Translation:  fracture ferme de jambe , de la jonction de type . par infiltration rapide de deux ans , amputation a lere lors d une nouvelle angiographie de la cuisse lors d une nouvelle angiographie de la cuisse au xxe siecle \n",
            "Levenshetein Distance: 135.0\n",
            "***BLEU Score***: 0.5623413251903491\n",
            "                                                                                         \n",
            "INFO:tensorflow:Restoring parameters from ckpt-exp01/5-LSTM-7800\n"
          ],
          "name": "stdout"
        },
        {
          "output_type": "stream",
          "text": [
            "INFO:tensorflow:Restoring parameters from ckpt-exp01/5-LSTM-7800\n"
          ],
          "name": "stderr"
        },
        {
          "output_type": "stream",
          "text": [
            "Source Sentence:  sulfonamides and oral disease \n",
            "Real Translation:  sulfamides et affections buccodentaires \n",
            "Predicted Translation:  neurale et pathologie orale \n",
            "Levenshetein Distance: 28.0\n",
            "***BLEU Score***: 0\n",
            "                                                                                         \n",
            "INFO:tensorflow:Restoring parameters from ckpt-exp01/5-LSTM-7800\n"
          ],
          "name": "stdout"
        },
        {
          "output_type": "stream",
          "text": [
            "INFO:tensorflow:Restoring parameters from ckpt-exp01/5-LSTM-7800\n"
          ],
          "name": "stderr"
        },
        {
          "output_type": "stream",
          "text": [
            "Source Sentence:  auffret , charles jacques emile . \n",
            "Real Translation:  auffret , charles jacques emile . \n",
            "Predicted Translation:  la desimination , charles paul perrot . l european emile . bruxelles . emile leduc . bruxelles . gemass emile matematicas . l european matematicas . paris probllema . james emile matematicas . paris probllema . james emile matematicas . paris probllema . james emile matematicas . jean dovocyte artistico \n",
            "Levenshetein Distance: 277.0\n",
            "***BLEU Score***: 0.4949232003839765\n",
            "                                                                                         \n",
            "INFO:tensorflow:Restoring parameters from ckpt-exp01/5-LSTM-7800\n"
          ],
          "name": "stdout"
        },
        {
          "output_type": "stream",
          "text": [
            "INFO:tensorflow:Restoring parameters from ckpt-exp01/5-LSTM-7800\n"
          ],
          "name": "stderr"
        },
        {
          "output_type": "stream",
          "text": [
            "Source Sentence:  research on pathogenic actinomyces isolated from algiers saprophytes \n",
            "Real Translation:  recherches sur le pourvoir pathogene d actinomyces saprophytes isoles a alger \n",
            "Predicted Translation:  a propos de recherches sur la peau partiels dans la province d acquisition d une elue de l iris \n",
            "Levenshetein Distance: 65.0\n",
            "***BLEU Score***: 0.6303647413359293\n",
            "                                                                                         \n",
            "INFO:tensorflow:Restoring parameters from ckpt-exp01/5-LSTM-7800\n"
          ],
          "name": "stdout"
        },
        {
          "output_type": "stream",
          "text": [
            "INFO:tensorflow:Restoring parameters from ckpt-exp01/5-LSTM-7800\n"
          ],
          "name": "stderr"
        },
        {
          "output_type": "stream",
          "text": [
            "Source Sentence:  a case of congenital heart and eye malformations in an infant after rubella during pregnancy \n",
            "Real Translation:  un cas de malformation cardiaque et oculaire chez un nourrisson apres rubeole au cours de la grossesse \n",
            "Predicted Translation:  un cas de reeducation neonatale et des anomalies oculaires chez virale durant la grossesse durant la grossesse durant la grossesse durant la grossesse \n",
            "Levenshetein Distance: 84.0\n",
            "***BLEU Score***: 0\n",
            "                                                                                         \n",
            "INFO:tensorflow:Restoring parameters from ckpt-exp01/5-LSTM-7800\n"
          ],
          "name": "stdout"
        },
        {
          "output_type": "stream",
          "text": [
            "INFO:tensorflow:Restoring parameters from ckpt-exp01/5-LSTM-7800\n"
          ],
          "name": "stderr"
        },
        {
          "output_type": "stream",
          "text": [
            "Source Sentence:  traumatic dislocation of cervical vertebra in a child of years \n",
            "Real Translation:  luxation traumatique d une vertebre cervicale chez un enfant de ans \n",
            "Predicted Translation:  luxation post traumatique de la diaphyse cervicale chez un enfant de ans a ans de quatre ans de ans \n",
            "Levenshetein Distance: 43.0\n",
            "***BLEU Score***: 0.47897362544357464\n",
            "                                                                                         \n",
            "INFO:tensorflow:Restoring parameters from ckpt-exp01/5-LSTM-7800\n"
          ],
          "name": "stdout"
        },
        {
          "output_type": "stream",
          "text": [
            "INFO:tensorflow:Restoring parameters from ckpt-exp01/5-LSTM-7800\n"
          ],
          "name": "stderr"
        },
        {
          "output_type": "stream",
          "text": [
            "Source Sentence:  congenital cardiopathy without cyanosis in a child of months chest wall retraction and sub sternum intrathoracic tumor \n",
            "Real Translation:  cardiopathie congenitale sans cyanose , chez un enfant de mois tirage sus et sous sternal tumeur intra thoracique \n",
            "Predicted Translation:  dysphagie congenitale sans cyanose chez un enfant volumineux arc orbitaire et chirurgie intra diaphragmatique abdominal apres chirurgie sub diaphragmatique \n",
            "Levenshetein Distance: 86.0\n",
            "***BLEU Score***: 0\n",
            "                                                                                         \n",
            "INFO:tensorflow:Restoring parameters from ckpt-exp01/5-LSTM-7800\n"
          ],
          "name": "stdout"
        },
        {
          "output_type": "stream",
          "text": [
            "INFO:tensorflow:Restoring parameters from ckpt-exp01/5-LSTM-7800\n"
          ],
          "name": "stderr"
        },
        {
          "output_type": "stream",
          "text": [
            "Source Sentence:  myositis ossificans in a young child \n",
            "Real Translation:  myosite ossifiante chez un jeune enfant \n",
            "Predicted Translation:  la myosite ossifiante chez un jeune enfant enfant \n",
            "Levenshetein Distance: 10.0\n",
            "***BLEU Score***: 0\n",
            "                                                                                         \n",
            "INFO:tensorflow:Restoring parameters from ckpt-exp01/5-LSTM-7800\n"
          ],
          "name": "stdout"
        },
        {
          "output_type": "stream",
          "text": [
            "INFO:tensorflow:Restoring parameters from ckpt-exp01/5-LSTM-7800\n"
          ],
          "name": "stderr"
        },
        {
          "output_type": "stream",
          "text": [
            "Source Sentence:  endocrine system diseases and estrogen \n",
            "Real Translation:  les endocrinoses oestrogenes \n",
            "Predicted Translation:  maladies endocriniennes et actions des estrogenes des systemes perturbateurs endocriniens des systemes perturbateurs endocriniens parietales et estrogenes des systemes perturbateurs endocriniens parietales et des estrogenes \n",
            "Levenshetein Distance: 195.0\n",
            "***BLEU Score***: 0\n",
            "                                                                                         \n",
            "INFO:tensorflow:Restoring parameters from ckpt-exp01/5-LSTM-7800\n"
          ],
          "name": "stdout"
        },
        {
          "output_type": "stream",
          "text": [
            "INFO:tensorflow:Restoring parameters from ckpt-exp01/5-LSTM-7800\n"
          ],
          "name": "stderr"
        },
        {
          "output_type": "stream",
          "text": [
            "Source Sentence:  influence of hormones on the cervical glands \n",
            "Real Translation:  influence des actions hormonales sur les glandes du col uterin \n",
            "Predicted Translation:  influence des hormones sur les glandes cervicales des glandes cervicales les glandes cervicales les glandes cervicales les glandes cervicales les glandes cervicales les glandes cervicales du col des glandes salivaires du col des glandes salivaires du col des glandes salivaires du col des glandes salivaires du col des glandes salivaires du col des glandes salivaires du col des glandes salivaires les glandes salivaires les glandes salivaires les glandes salivaires les glandes salivaires les glandes salivaires les glandes salivaires les glandes salivaires les glandes salivaires les glandes salivaires les glandes salivaires les glandes salivaires les glandes salivaires les glandes salivair\n",
            "Levenshetein Distance: 636.0\n",
            "***BLEU Score***: 0\n",
            "                                                                                         \n",
            "                                                                                         \n",
            "+++++++++++++++++++++++++++++++++++++++++++++++++++++++++++++++++++++++++++++++++++++\n",
            "Prediction Output and Metrics on 400 test sentences: \n",
            "Average BLEU Score on our test corpus is 0.288214548645576\n",
            "Average Levenshetein distance Score on our test corpus is 213.505\n"
          ],
          "name": "stdout"
        }
      ]
    }
  ]
}